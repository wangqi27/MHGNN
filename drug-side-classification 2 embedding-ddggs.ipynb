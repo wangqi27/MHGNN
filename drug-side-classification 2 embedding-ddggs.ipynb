{
 "cells": [
  {
   "cell_type": "code",
   "execution_count": 1,
   "id": "a011b5a6",
   "metadata": {
    "ExecuteTime": {
     "end_time": "2023-04-30T01:52:51.360545Z",
     "start_time": "2023-04-30T01:52:49.813336Z"
    }
   },
   "outputs": [],
   "source": [
    "import scipy.sparse as sp\n",
    "import numpy as np\n",
    "import torch\n",
    "import pandas as pd\n",
    "import pickle\n",
    "import dgl\n",
    "import dgl.nn as dglnn\n",
    "import numpy as np\n",
    "from dgl.nn.pytorch import GATConv\n",
    "import dgl.function as fn\n",
    "import torch.nn as nn\n",
    "import torch.nn.functional as F\n",
    "from tqdm import tqdm_notebook\n",
    "import pickle as pkl\n",
    "import matplotlib.pyplot as plt"
   ]
  },
  {
   "cell_type": "code",
   "execution_count": 2,
   "id": "4614f2dd",
   "metadata": {
    "ExecuteTime": {
     "end_time": "2023-04-30T01:52:51.363203Z",
     "start_time": "2023-04-30T01:52:51.361691Z"
    }
   },
   "outputs": [],
   "source": [
    "import warnings\n",
    "warnings.filterwarnings('ignore')"
   ]
  },
  {
   "cell_type": "markdown",
   "id": "8e1e10d3",
   "metadata": {},
   "source": [
    "## Data"
   ]
  },
  {
   "cell_type": "markdown",
   "id": "2f6a37e0",
   "metadata": {},
   "source": [
    "### Load graph"
   ]
  },
  {
   "cell_type": "code",
   "execution_count": 3,
   "id": "d200ccd6",
   "metadata": {
    "ExecuteTime": {
     "end_time": "2023-04-30T01:52:51.392801Z",
     "start_time": "2023-04-30T01:52:51.363926Z"
    }
   },
   "outputs": [
    {
     "data": {
      "text/plain": [
       "Graph(num_nodes={'comb': 207689, 'side': 9968},\n",
       "      num_edges={('comb', 'effect', 'side'): 4576287, ('side', 'effected_by', 'comb'): 4576287},\n",
       "      metagraph=[('comb', 'side', 'effect'), ('side', 'comb', 'effected_by')])"
      ]
     },
     "execution_count": 3,
     "metadata": {},
     "output_type": "execute_result"
    }
   ],
   "source": [
    "g = dgl.load_graphs('tlx-data/graph_cs_1')[0][0]\n",
    "g"
   ]
  },
  {
   "cell_type": "markdown",
   "id": "f044919a",
   "metadata": {},
   "source": [
    "### Load CSV data"
   ]
  },
  {
   "cell_type": "code",
   "execution_count": 4,
   "id": "79f40fd2",
   "metadata": {
    "ExecuteTime": {
     "end_time": "2023-04-30T01:52:55.140672Z",
     "start_time": "2023-04-30T01:52:51.990677Z"
    }
   },
   "outputs": [
    {
     "data": {
      "text/html": [
       "<div>\n",
       "<style scoped>\n",
       "    .dataframe tbody tr th:only-of-type {\n",
       "        vertical-align: middle;\n",
       "    }\n",
       "\n",
       "    .dataframe tbody tr th {\n",
       "        vertical-align: top;\n",
       "    }\n",
       "\n",
       "    .dataframe thead th {\n",
       "        text-align: right;\n",
       "    }\n",
       "</style>\n",
       "<table border=\"1\" class=\"dataframe\">\n",
       "  <thead>\n",
       "    <tr style=\"text-align: right;\">\n",
       "      <th></th>\n",
       "      <th>STITCH 1</th>\n",
       "      <th>STITCH 2</th>\n",
       "      <th>Polypharmacy Side Effect</th>\n",
       "      <th>Side Effect Name</th>\n",
       "      <th>combo</th>\n",
       "      <th>No_comb</th>\n",
       "      <th>No_side</th>\n",
       "      <th>S1_No</th>\n",
       "      <th>S2_No</th>\n",
       "    </tr>\n",
       "  </thead>\n",
       "  <tbody>\n",
       "    <tr>\n",
       "      <th>0</th>\n",
       "      <td>CID000002173</td>\n",
       "      <td>CID000003345</td>\n",
       "      <td>C0004144</td>\n",
       "      <td>atelectasis</td>\n",
       "      <td>CID000002173,CID000003345</td>\n",
       "      <td>27274.0</td>\n",
       "      <td>1793.0</td>\n",
       "      <td>234.0</td>\n",
       "      <td>13.0</td>\n",
       "    </tr>\n",
       "    <tr>\n",
       "      <th>1</th>\n",
       "      <td>CID000002173</td>\n",
       "      <td>CID000003345</td>\n",
       "      <td>C0004604</td>\n",
       "      <td>back ache</td>\n",
       "      <td>CID000002173,CID000003345</td>\n",
       "      <td>27274.0</td>\n",
       "      <td>7809.0</td>\n",
       "      <td>234.0</td>\n",
       "      <td>13.0</td>\n",
       "    </tr>\n",
       "    <tr>\n",
       "      <th>2</th>\n",
       "      <td>CID000002173</td>\n",
       "      <td>CID000003345</td>\n",
       "      <td>C0034063</td>\n",
       "      <td>lung edema</td>\n",
       "      <td>CID000002173,CID000003345</td>\n",
       "      <td>27274.0</td>\n",
       "      <td>6239.0</td>\n",
       "      <td>234.0</td>\n",
       "      <td>13.0</td>\n",
       "    </tr>\n",
       "    <tr>\n",
       "      <th>3</th>\n",
       "      <td>CID000002173</td>\n",
       "      <td>CID000003345</td>\n",
       "      <td>C0085631</td>\n",
       "      <td>agitated</td>\n",
       "      <td>CID000002173,CID000003345</td>\n",
       "      <td>27274.0</td>\n",
       "      <td>4469.0</td>\n",
       "      <td>234.0</td>\n",
       "      <td>13.0</td>\n",
       "    </tr>\n",
       "    <tr>\n",
       "      <th>4</th>\n",
       "      <td>CID000002173</td>\n",
       "      <td>CID000003345</td>\n",
       "      <td>C0013384</td>\n",
       "      <td>abnormal movements</td>\n",
       "      <td>CID000002173,CID000003345</td>\n",
       "      <td>27274.0</td>\n",
       "      <td>7480.0</td>\n",
       "      <td>234.0</td>\n",
       "      <td>13.0</td>\n",
       "    </tr>\n",
       "  </tbody>\n",
       "</table>\n",
       "</div>"
      ],
      "text/plain": [
       "       STITCH 1      STITCH 2 Polypharmacy Side Effect    Side Effect Name   \n",
       "0  CID000002173  CID000003345                 C0004144         atelectasis  \\\n",
       "1  CID000002173  CID000003345                 C0004604           back ache   \n",
       "2  CID000002173  CID000003345                 C0034063          lung edema   \n",
       "3  CID000002173  CID000003345                 C0085631            agitated   \n",
       "4  CID000002173  CID000003345                 C0013384  abnormal movements   \n",
       "\n",
       "                       combo  No_comb  No_side  S1_No  S2_No  \n",
       "0  CID000002173,CID000003345  27274.0   1793.0  234.0   13.0  \n",
       "1  CID000002173,CID000003345  27274.0   7809.0  234.0   13.0  \n",
       "2  CID000002173,CID000003345  27274.0   6239.0  234.0   13.0  \n",
       "3  CID000002173,CID000003345  27274.0   4469.0  234.0   13.0  \n",
       "4  CID000002173,CID000003345  27274.0   7480.0  234.0   13.0  "
      ]
     },
     "execution_count": 4,
     "metadata": {},
     "output_type": "execute_result"
    }
   ],
   "source": [
    "net_comb_side = pd.read_csv('tlx-data/net_comb_side_1.csv')\n",
    "net_comb_side.head()"
   ]
  },
  {
   "cell_type": "code",
   "execution_count": 5,
   "id": "da673051",
   "metadata": {
    "ExecuteTime": {
     "end_time": "2023-04-30T01:52:55.478704Z",
     "start_time": "2023-04-30T01:52:55.141782Z"
    }
   },
   "outputs": [
    {
     "data": {
      "text/plain": [
       "963"
      ]
     },
     "execution_count": 5,
     "metadata": {},
     "output_type": "execute_result"
    }
   ],
   "source": [
    "all_sides = list(set(net_comb_side['No_side']))\n",
    "len(all_sides)"
   ]
  },
  {
   "cell_type": "code",
   "execution_count": 6,
   "id": "eb681503",
   "metadata": {
    "ExecuteTime": {
     "end_time": "2023-04-30T01:52:56.576713Z",
     "start_time": "2023-04-30T01:52:55.479617Z"
    }
   },
   "outputs": [
    {
     "data": {
      "text/plain": [
       "(0.0, 207688.0, 13.0, 9967.0)"
      ]
     },
     "execution_count": 6,
     "metadata": {},
     "output_type": "execute_result"
    }
   ],
   "source": [
    "min(net_comb_side.No_comb), max(net_comb_side.No_comb), min(net_comb_side.No_side), max(net_comb_side.No_side)"
   ]
  },
  {
   "cell_type": "code",
   "execution_count": 7,
   "id": "9de2bcd0",
   "metadata": {
    "ExecuteTime": {
     "end_time": "2023-04-30T01:52:56.692739Z",
     "start_time": "2023-04-30T01:52:56.578273Z"
    }
   },
   "outputs": [
    {
     "data": {
      "text/html": [
       "<div>\n",
       "<style scoped>\n",
       "    .dataframe tbody tr th:only-of-type {\n",
       "        vertical-align: middle;\n",
       "    }\n",
       "\n",
       "    .dataframe tbody tr th {\n",
       "        vertical-align: top;\n",
       "    }\n",
       "\n",
       "    .dataframe thead th {\n",
       "        text-align: right;\n",
       "    }\n",
       "</style>\n",
       "<table border=\"1\" class=\"dataframe\">\n",
       "  <thead>\n",
       "    <tr style=\"text-align: right;\">\n",
       "      <th></th>\n",
       "      <th>Unnamed: 0</th>\n",
       "      <th>No</th>\n",
       "    </tr>\n",
       "  </thead>\n",
       "  <tbody>\n",
       "    <tr>\n",
       "      <th>0</th>\n",
       "      <td>CID000003793,CID000004543</td>\n",
       "      <td>0</td>\n",
       "    </tr>\n",
       "    <tr>\n",
       "      <th>1</th>\n",
       "      <td>CID000002405,CID000004543</td>\n",
       "      <td>1</td>\n",
       "    </tr>\n",
       "    <tr>\n",
       "      <th>2</th>\n",
       "      <td>CID000002405,CID000003793</td>\n",
       "      <td>2</td>\n",
       "    </tr>\n",
       "    <tr>\n",
       "      <th>3</th>\n",
       "      <td>CID000003403,CID000004543</td>\n",
       "      <td>3</td>\n",
       "    </tr>\n",
       "    <tr>\n",
       "      <th>4</th>\n",
       "      <td>CID000003403,CID000003793</td>\n",
       "      <td>4</td>\n",
       "    </tr>\n",
       "  </tbody>\n",
       "</table>\n",
       "</div>"
      ],
      "text/plain": [
       "                  Unnamed: 0  No\n",
       "0  CID000003793,CID000004543   0\n",
       "1  CID000002405,CID000004543   1\n",
       "2  CID000002405,CID000003793   2\n",
       "3  CID000003403,CID000004543   3\n",
       "4  CID000003403,CID000003793   4"
      ]
     },
     "execution_count": 7,
     "metadata": {},
     "output_type": "execute_result"
    }
   ],
   "source": [
    "node_mapping = pd.read_csv('tlx-data/all_comb_no.csv')\n",
    "node_mapping.head()"
   ]
  },
  {
   "cell_type": "markdown",
   "id": "0ab81be5",
   "metadata": {},
   "source": [
    "### Load embeddings"
   ]
  },
  {
   "cell_type": "code",
   "execution_count": 8,
   "id": "8567a57a",
   "metadata": {
    "ExecuteTime": {
     "end_time": "2023-04-30T01:52:56.704212Z",
     "start_time": "2023-04-30T01:52:56.693843Z"
    }
   },
   "outputs": [
    {
     "data": {
      "text/plain": [
       "{'drug': array([[-0.36998725, -0.5173515 ,  1.1651148 , ..., -0.5398607 ,\n",
       "         -1.7846273 , -0.6467879 ],\n",
       "        [-1.4972149 , -0.48955277,  1.139802  , ...,  0.82100755,\n",
       "          0.44990215, -1.1496515 ],\n",
       "        [-0.50894064, -2.0078094 ,  0.59796005, ...,  1.2548794 ,\n",
       "         -0.37101254, -0.62582314],\n",
       "        ...,\n",
       "        [ 0.052891  , -0.32411927, -0.8345813 , ...,  0.02072144,\n",
       "         -1.1171842 , -1.5496027 ],\n",
       "        [-1.1898991 ,  0.5039022 , -1.2395205 , ..., -0.4846142 ,\n",
       "          0.4863882 , -0.897248  ],\n",
       "        [-0.86853784, -1.4442959 , -1.0452226 , ...,  0.74759537,\n",
       "         -0.57994866,  1.5941488 ]], dtype=float32),\n",
       " 'gene': array([[-0.10191067,  0.55739   , -0.91867495, ...,  0.1090597 ,\n",
       "          0.7077946 ,  1.8194321 ],\n",
       "        [-0.33868337, -1.5361496 ,  0.10764695, ..., -1.0677509 ,\n",
       "          0.74651146,  0.27533394],\n",
       "        [-1.1279132 , -0.77477705, -1.3293167 , ..., -0.2704512 ,\n",
       "         -0.21833676,  0.4653895 ],\n",
       "        ...,\n",
       "        [ 0.65394497,  0.41833654, -0.09246599, ...,  1.1366915 ,\n",
       "         -0.52922565,  0.56096053],\n",
       "        [-1.991569  ,  1.2325528 , -0.21601214, ...,  0.13406922,\n",
       "         -0.46448082,  0.1818595 ],\n",
       "        [-0.5281734 ,  0.69627345,  0.367807  , ..., -2.6873193 ,\n",
       "         -0.9299317 ,  0.5710055 ]], dtype=float32),\n",
       " 'side': array([[ 0.00524208, -0.5983267 ,  2.1929297 , ..., -0.5787879 ,\n",
       "          0.23776673,  1.8865346 ],\n",
       "        [-0.10792615, -1.6503173 , -0.8424925 , ...,  0.25899872,\n",
       "         -0.7470513 ,  1.4778441 ],\n",
       "        [-0.65858614, -0.79776883, -1.968208  , ..., -2.0646198 ,\n",
       "         -0.16159965,  1.6577988 ],\n",
       "        ...,\n",
       "        [-1.0917076 ,  0.9323211 ,  1.3916544 , ..., -1.0281614 ,\n",
       "          0.05822493, -0.22823794],\n",
       "        [-0.8855419 , -1.4326634 ,  0.012677  , ...,  1.0344855 ,\n",
       "         -1.1529876 , -1.2538123 ],\n",
       "        [ 0.38744327, -0.38309556,  0.2829611 , ..., -1.5675038 ,\n",
       "          0.3097808 ,  1.8247801 ]], dtype=float32)}"
      ]
     },
     "execution_count": 8,
     "metadata": {},
     "output_type": "execute_result"
    }
   ],
   "source": [
    "with open('embeddings_ddggs.pkl', 'rb') as fin:\n",
    "    embeddings = pkl.load(fin)\n",
    "    \n",
    "embeddings = {k: v.detach().numpy() for k, v in embeddings.items()}\n",
    "embeddings"
   ]
  },
  {
   "cell_type": "code",
   "execution_count": 9,
   "id": "861ab1f3",
   "metadata": {
    "ExecuteTime": {
     "end_time": "2023-04-30T01:52:56.707615Z",
     "start_time": "2023-04-30T01:52:56.705027Z"
    }
   },
   "outputs": [
    {
     "data": {
      "text/plain": [
       "(46.62273, -37.770714)"
      ]
     },
     "execution_count": 9,
     "metadata": {},
     "output_type": "execute_result"
    }
   ],
   "source": [
    "embeddings['drug'].sum(axis=1).max(), embeddings['drug'].sum(axis=1).min()"
   ]
  },
  {
   "cell_type": "markdown",
   "id": "3c236409",
   "metadata": {},
   "source": [
    "### comb-nodes mapping"
   ]
  },
  {
   "cell_type": "code",
   "execution_count": 10,
   "id": "69c4adcd",
   "metadata": {
    "ExecuteTime": {
     "end_time": "2023-04-30T01:52:56.709792Z",
     "start_time": "2023-04-30T01:52:56.708281Z"
    }
   },
   "outputs": [],
   "source": [
    "# data_mapping = {row['No_comb']: f\"{row['S1_No']},{row['S2_No']}\" for idx, row in tqdm_notebook(net_comb_side.iterrows(), total=len(net_comb_side))}\n"
   ]
  },
  {
   "cell_type": "code",
   "execution_count": 11,
   "id": "1d5328db",
   "metadata": {
    "ExecuteTime": {
     "end_time": "2023-04-30T01:52:56.711955Z",
     "start_time": "2023-04-30T01:52:56.710579Z"
    }
   },
   "outputs": [],
   "source": [
    "# with open('node_mapping.pkl', 'wb') as fout:\n",
    "#     pkl.dump(data_mapping, fout)"
   ]
  },
  {
   "cell_type": "code",
   "execution_count": 12,
   "id": "02e09e06",
   "metadata": {
    "ExecuteTime": {
     "end_time": "2023-04-30T01:52:57.261949Z",
     "start_time": "2023-04-30T01:52:56.712784Z"
    }
   },
   "outputs": [
    {
     "data": {
      "text/plain": [
       "((207689, 128), (9968, 128))"
      ]
     },
     "execution_count": 12,
     "metadata": {},
     "output_type": "execute_result"
    }
   ],
   "source": [
    "feature_dim = 128\n",
    "h_dim = 128\n",
    "comb_features = np.random.randn(207689, feature_dim)\n",
    "side_features = np.random.randn(9968, feature_dim)\n",
    "comb_features.shape, side_features.shape"
   ]
  },
  {
   "cell_type": "code",
   "execution_count": 13,
   "id": "1d30dd83",
   "metadata": {
    "ExecuteTime": {
     "end_time": "2023-04-30T01:52:57.483778Z",
     "start_time": "2023-04-30T01:52:57.264150Z"
    }
   },
   "outputs": [
    {
     "data": {
      "application/vnd.jupyter.widget-view+json": {
       "model_id": "a697beda87f84f199826058a0b54a7e7",
       "version_major": 2,
       "version_minor": 0
      },
      "text/plain": [
       "  0%|          | 0/63472 [00:00<?, ?it/s]"
      ]
     },
     "metadata": {},
     "output_type": "display_data"
    }
   ],
   "source": [
    "with open('node_mapping.pkl', 'rb') as fin:\n",
    "    data_mapping = pkl.load(fin)\n",
    "\n",
    "side_features = embeddings['side'][:-1]\n",
    "\n",
    "for k, v in tqdm_notebook(data_mapping.items(), total=len(data_mapping)):\n",
    "    v0, v1 = [int(float(i)) for i in v.split(',')]\n",
    "    comb_features[int(k)] = embeddings['drug'][v0] + embeddings['drug'][v1]\n"
   ]
  },
  {
   "cell_type": "code",
   "execution_count": 14,
   "id": "5734c496",
   "metadata": {
    "ExecuteTime": {
     "end_time": "2023-04-30T01:52:57.499822Z",
     "start_time": "2023-04-30T01:52:57.485088Z"
    }
   },
   "outputs": [],
   "source": [
    "g.nodes['comb'].data['h'] = torch.FloatTensor(comb_features)\n",
    "g.nodes['side'].data['h'] = torch.FloatTensor(side_features)"
   ]
  },
  {
   "cell_type": "code",
   "execution_count": 15,
   "id": "4a559d0e",
   "metadata": {
    "ExecuteTime": {
     "end_time": "2023-04-30T01:52:57.503946Z",
     "start_time": "2023-04-30T01:52:57.500865Z"
    }
   },
   "outputs": [],
   "source": [
    "# train_sample = torch.zeros(len(comb_features), dtype=torch.bool).bernoulli(0.8)\n",
    "# g.nodes['comb'].data['train_mask'] = train_sample\n",
    "# g.nodes['comb'].data['test_mask'] = ~train_sample"
   ]
  },
  {
   "cell_type": "markdown",
   "id": "05154305",
   "metadata": {},
   "source": [
    "## Training and evaluation"
   ]
  },
  {
   "cell_type": "markdown",
   "id": "236d3b77",
   "metadata": {},
   "source": [
    "### Build model"
   ]
  },
  {
   "cell_type": "code",
   "execution_count": 16,
   "id": "e18d1519",
   "metadata": {
    "ExecuteTime": {
     "end_time": "2023-04-30T01:52:57.511542Z",
     "start_time": "2023-04-30T01:52:57.505124Z"
    }
   },
   "outputs": [],
   "source": [
    "class StochasticTwoLayerRGCN(nn.Module):\n",
    "    def __init__(self, in_feat, hidden_feat, out_feat, rel_names, dropout=0.):\n",
    "        super().__init__()\n",
    "        self.dropout1 = nn.Dropout(dropout)\n",
    "        self.dropout2 = nn.Dropout(dropout)\n",
    "        self.conv1 = dglnn.HeteroGraphConv({\n",
    "                rel : dglnn.GraphConv(in_feat, hidden_feat, norm='right', weight=True)\n",
    "                for rel in rel_names\n",
    "            })\n",
    "        self.conv2 = dglnn.HeteroGraphConv({\n",
    "                rel : dglnn.GraphConv(hidden_feat, out_feat, norm='right', weight=True)\n",
    "                for rel in rel_names\n",
    "            })\n",
    "\n",
    "    def forward(self, blocks, x):\n",
    "        x = self.conv1(blocks[0], x)\n",
    "        x = {k: self.dropout1(v) for k, v in x.items()}\n",
    "        x = self.conv2(blocks[1], x)\n",
    "        x = {k: self.dropout2(v) for k, v in x.items()}\n",
    "        return x\n",
    "       \n",
    "        \n",
    "class ScorePredictor(nn.Module):\n",
    "    \n",
    "    def forward(self, edge_subgraph, h):\n",
    "        with edge_subgraph.local_scope():\n",
    "            edge_subgraph.ndata['h'] = h\n",
    "            \n",
    "            for etype in edge_subgraph.canonical_etypes:\n",
    "                edge_subgraph.apply_edges(\n",
    "                    dgl.function.u_dot_v('h', 'h', 'score'), \n",
    "#                     self.apply_edges, \n",
    "                    etype=etype\n",
    "                )\n",
    "            return edge_subgraph.edata['score']\n",
    "\n",
    "        \n",
    "class Model(nn.Module):\n",
    "    def __init__(self, in_features, hidden_features, out_features, etypes, dropout=0.):\n",
    "        super().__init__()\n",
    "#         self.embed = torch.nn.Parameter(torch.Tensor(source_dim, embed_dim))\n",
    "        self.rgcn = StochasticTwoLayerRGCN(\n",
    "            in_features, hidden_features, out_features, etypes, dropout=dropout)\n",
    "        self.pred = ScorePredictor()\n",
    "\n",
    "    def forward(self, graph, blocks, x):\n",
    "        x = self.rgcn(blocks, x)\n",
    "        score = self.pred(graph, x)\n",
    "        score = {etype: torch.sigmoid(value) for etype, value in score.items()}\n",
    "        return score\n"
   ]
  },
  {
   "cell_type": "code",
   "execution_count": 29,
   "id": "63f48e15",
   "metadata": {
    "ExecuteTime": {
     "end_time": "2023-04-30T02:15:34.479283Z",
     "start_time": "2023-04-30T02:15:34.462488Z"
    }
   },
   "outputs": [],
   "source": [
    "def compute_loss(pos_score, neg_score, margin=0):\n",
    "    # 损失\n",
    "    loss = []\n",
    "    for etype, d in pos_score.items():\n",
    "        n_edges_pos = pos_score[etype].shape[0]\n",
    "        n_edges_neg = neg_score[etype].shape[0]\n",
    "        if n_edges_pos == 0 or n_edges_neg == 0: continue\n",
    "        loss.append((1 - (pos_score[etype].unsqueeze(1) + margin) + (neg_score[etype].view(n_edges_neg, -1) - margin)).clamp(min=0).mean())\n",
    "#         loss.append((torch.sigmoid(- pos_score[etype].unsqueeze(1)) + torch.sigmoid(neg_score[etype].view(n_edges_neg, -1))).mean())\n",
    "    \n",
    "    if len(loss) == 0:\n",
    "        raise ValueError('error value')\n",
    "        \n",
    "    loss = torch.hstack(loss).sum()\n",
    "    return loss\n",
    "\n",
    "\n",
    "def auprc_auroc(target_tensor, score_tensor):\n",
    "    y = target_tensor.detach().cpu().numpy()\n",
    "    pred = score_tensor.detach().cpu().numpy()\n",
    "    auroc, auprc = metrics.roc_auc_score(y, pred), metrics.average_precision_score(y, pred)\n",
    "#     y, xx, _ = metrics.precision_recall_curve(y, pred)\n",
    "#     auprc = metrics.auc(xx, y)\n",
    "\n",
    "    return auprc, auroc\n",
    "\n",
    "\n",
    "from sklearn import metrics\n",
    "def compute_auprc_auroc(pos_score, neg_score):\n",
    "    pos_label = torch.ones(pos_score.shape[0])\n",
    "    neg_label = torch.zeros(neg_score.shape[0])\n",
    "    \n",
    "    pred = torch.cat([pos_score, neg_score])\n",
    "    label = torch.cat([pos_label, neg_label])\n",
    "    \n",
    "    metric = auprc_auroc(label, pred)\n",
    "    auprc, auroc = metric\n",
    "\n",
    "    return auprc, auroc\n",
    "\n",
    "\n",
    "from operator import itemgetter\n",
    "def apk(actual, predicted, k=10):\n",
    "    if len(predicted)>k:\n",
    "        predicted = predicted[:k]\n",
    "\n",
    "    score = 0.0\n",
    "    num_hits = 0.0\n",
    "\n",
    "    for i, p in enumerate(predicted):\n",
    "        if p in actual and p not in predicted[:i]:\n",
    "            num_hits += 1.0\n",
    "            score += num_hits / (i + 1.0)\n",
    "\n",
    "    if not actual:\n",
    "        return 0.0\n",
    "\n",
    "    return score / min(len(actual), k)"
   ]
  },
  {
   "cell_type": "markdown",
   "id": "7ac622c8",
   "metadata": {},
   "source": [
    "### Build dataloader"
   ]
  },
  {
   "cell_type": "code",
   "execution_count": 18,
   "id": "c58013dc",
   "metadata": {
    "ExecuteTime": {
     "end_time": "2023-04-30T01:52:59.262614Z",
     "start_time": "2023-04-30T01:52:59.256467Z"
    }
   },
   "outputs": [],
   "source": [
    "batch_size = 2048\n",
    "test_batch_size = 4096"
   ]
  },
  {
   "cell_type": "code",
   "execution_count": 19,
   "id": "a6acc2e6",
   "metadata": {
    "ExecuteTime": {
     "end_time": "2023-04-30T01:52:59.780197Z",
     "start_time": "2023-04-30T01:52:59.723981Z"
    }
   },
   "outputs": [],
   "source": [
    "eid_dict = {etype: g.edges(etype=etype, form='eid') for etype in ['effect']}\n",
    "\n",
    "train_mask = torch.zeros(len(eid_dict['effect']), dtype=torch.bool).bernoulli(0.8)\n",
    "test_mask = ~train_mask\n",
    "\n",
    "train_eid_dict = {'effect': eid_dict['effect'][train_mask]}\n",
    "\n",
    "test_eid_dict = {'effect': eid_dict['effect'][test_mask]}\n",
    "\n",
    "sampler = dgl.dataloading.MultiLayerFullNeighborSampler(2)"
   ]
  },
  {
   "cell_type": "code",
   "execution_count": 20,
   "id": "0a717498",
   "metadata": {
    "ExecuteTime": {
     "end_time": "2023-04-30T01:53:00.164071Z",
     "start_time": "2023-04-30T01:53:00.160065Z"
    }
   },
   "outputs": [],
   "source": [
    "# for eid in test_eid_dict['effect']:\n",
    "#     src, dst = g.find_edges(eid, etype='effect')\n",
    "#     if dst in all_sides:\n",
    "#         print(eid, src, dst)\n",
    "#     break"
   ]
  },
  {
   "cell_type": "code",
   "execution_count": 21,
   "id": "fab3c31a",
   "metadata": {
    "ExecuteTime": {
     "end_time": "2023-04-30T01:53:30.612167Z",
     "start_time": "2023-04-30T01:53:00.767729Z"
    }
   },
   "outputs": [
    {
     "data": {
      "application/vnd.jupyter.widget-view+json": {
       "model_id": "e27807c0db3b4076a5047e08cc16a29e",
       "version_major": 2,
       "version_minor": 0
      },
      "text/plain": [
       "  0%|          | 0/963 [00:00<?, ?it/s]"
      ]
     },
     "metadata": {},
     "output_type": "display_data"
    }
   ],
   "source": [
    "# 用于存放每个side相关的边，key为side id，value为边集合\n",
    "test_eid_by_side = {}\n",
    "for s in tqdm_notebook(all_sides):\n",
    "    s = int(s)\n",
    "    part_eids = dgl.in_subgraph(g, {'side':[s]}).edges['effect'].data['_ID']\n",
    "    part_eids = set(part_eids.tolist()).intersection(test_eid_dict['effect'].tolist())\n",
    "    test_eid_by_side[s] = list(part_eids)"
   ]
  },
  {
   "cell_type": "code",
   "execution_count": 22,
   "id": "3839bef5",
   "metadata": {
    "ExecuteTime": {
     "end_time": "2023-04-30T01:53:30.923787Z",
     "start_time": "2023-04-30T01:53:30.613474Z"
    }
   },
   "outputs": [
    {
     "data": {
      "application/vnd.jupyter.widget-view+json": {
       "model_id": "7280181ea91e44dfa8bb5defa02544ac",
       "version_major": 2,
       "version_minor": 0
      },
      "text/plain": [
       "  0%|          | 0/963 [00:00<?, ?it/s]"
      ]
     },
     "metadata": {},
     "output_type": "display_data"
    }
   ],
   "source": [
    "test_dataloader_by_side = {}\n",
    "for s, eids in tqdm_notebook(test_eid_by_side.items()):\n",
    "    test_dataloader = dgl.dataloading.DistEdgeDataLoader(\n",
    "        g, {'effect': eids}, sampler,\n",
    "        negative_sampler=dgl.dataloading.negative_sampler.Uniform(1),\n",
    "        batch_size=test_batch_size,\n",
    "        shuffle=False,\n",
    "        drop_last=False,\n",
    "#         num_workers=args.num_workers\n",
    "    )\n",
    "    \n",
    "    test_dataloader_by_side[s] = test_dataloader"
   ]
  },
  {
   "cell_type": "markdown",
   "id": "4879a3aa",
   "metadata": {},
   "source": [
    "* Remove isolated nodes"
   ]
  },
  {
   "cell_type": "code",
   "execution_count": 23,
   "id": "f7f3c20c",
   "metadata": {
    "ExecuteTime": {
     "end_time": "2023-04-30T01:53:31.182844Z",
     "start_time": "2023-04-30T01:53:30.924646Z"
    }
   },
   "outputs": [
    {
     "data": {
      "text/plain": [
       "Graph(num_nodes={'comb': 207689, 'side': 4279},\n",
       "      num_edges={('comb', 'effect', 'side'): 4576287, ('side', 'effected_by', 'comb'): 4576287},\n",
       "      metagraph=[('comb', 'side', 'effect'), ('side', 'comb', 'effected_by')])"
      ]
     },
     "execution_count": 23,
     "metadata": {},
     "output_type": "execute_result"
    }
   ],
   "source": [
    "need_remove = list(set(range(9968)).difference(list(map(int, all_sides))))\n",
    "need_remove = np.random.choice(need_remove, 9968 - 963 * 1)\n",
    "g.remove_nodes(torch.tensor(need_remove), ntype='side')\n",
    "g"
   ]
  },
  {
   "cell_type": "code",
   "execution_count": 24,
   "id": "72bab240",
   "metadata": {
    "ExecuteTime": {
     "end_time": "2023-04-30T01:53:31.186360Z",
     "start_time": "2023-04-30T01:53:31.184858Z"
    }
   },
   "outputs": [],
   "source": [
    "# new_g = dgl.metapath_reachable_graph(g, ['similar'])\n",
    "# ('drug', 'effect', 'side'): 169906, ('drug', 'has', 'gene'): 18632, ('drug', 'similar', 'drug'): 52557\n",
    "\n",
    "# test_dataloader = dgl.dataloading.DistEdgeDataLoader(\n",
    "#     g, test_eid_dict, sampler,\n",
    "#     negative_sampler=dgl.dataloading.negative_sampler.Uniform(1),\n",
    "#     batch_size=test_batch_size,\n",
    "#     shuffle=False,\n",
    "#     drop_last=False,\n",
    "# #     num_workers=args.num_workers\n",
    "# )"
   ]
  },
  {
   "cell_type": "markdown",
   "id": "3f52e3eb",
   "metadata": {
    "ExecuteTime": {
     "end_time": "2023-04-25T09:07:00.443242Z",
     "start_time": "2023-04-25T09:07:00.437218Z"
    }
   },
   "source": [
    "### Training"
   ]
  },
  {
   "cell_type": "code",
   "execution_count": 30,
   "id": "1f5f9958",
   "metadata": {
    "ExecuteTime": {
     "end_time": "2023-04-30T04:35:49.438561Z",
     "start_time": "2023-04-30T02:15:40.319221Z"
    }
   },
   "outputs": [
    {
     "name": "stdout",
     "output_type": "stream",
     "text": [
      "######## fold 1/5 ########\n",
      "#### epoch 1/3 ####\n"
     ]
    },
    {
     "data": {
      "application/vnd.jupyter.widget-view+json": {
       "model_id": "af7eecf31151402980c511e61095d7bc",
       "version_major": 2,
       "version_minor": 0
      },
      "text/plain": [
       "  0%|          | 0/357 [00:00<?, ?it/s]"
      ]
     },
     "metadata": {},
     "output_type": "display_data"
    },
    {
     "name": "stdout",
     "output_type": "stream",
     "text": [
      "[0.99882704 0.98998296 0.9974533  ... 0.99265975 0.997821   0.999193  ] 0.8853118 0.99998105\n",
      "[0.44558263 0.4320513  0.43734512 ... 0.43817556 0.43860444 0.43571323] 0.38974565 0.9999635\n",
      "train loss:0.2785, auprc:0.8597, auroc:0.9082, ap@50:0.8612\n",
      "================================================================================\n",
      "[1. 1. 1. ... 1. 1. 1.] 0.99984133 1.0\n",
      "[0.18931751 0.22248712 0.22461393 ... 0.99999964 0.22103335 0.18441582] 0.093644105 1.0\n",
      "train loss:0.1599, auprc:0.8357, auroc:0.9009, ap@50:1.0\n",
      "================================================================================\n",
      "[1. 1. 1. ... 1. 1. 1.] 0.99999857 1.0\n",
      "[0.08516694 0.06405666 0.051587   ... 0.08481565 0.11367358 1.        ] 0.020042239 1.0\n",
      "train loss:0.158, auprc:0.8167, auroc:0.8878, ap@50:1.0\n",
      "================================================================================\n",
      "[1. 1. 1. ... 1. 1. 1.] 0.9999999 1.0\n",
      "[0.05051127 1.         0.08636585 ... 0.05458018 1.         1.        ] 0.0119412225 1.0\n",
      "train loss:0.1619, auprc:0.8169, auroc:0.8879, ap@50:1.0\n",
      "================================================================================\n",
      "[1. 1. 1. ... 1. 1. 1.] 0.99999976 1.0\n",
      "[0.02027635 0.03339294 0.01956942 ... 0.05587348 0.02850492 0.04129013] 0.0060645915 1.0\n",
      "train loss:0.1522, auprc:0.8164, auroc:0.8875, ap@50:1.0\n",
      "================================================================================\n",
      "[1. 1. 1. ... 1. 1. 1.] 1.0 1.0\n",
      "[0.01298302 1.         0.01816768 ... 1.         1.         0.03264499] 0.006447556 1.0\n",
      "train loss:0.1592, auprc:0.812, auroc:0.8842, ap@50:1.0\n",
      "================================================================================\n",
      "[1. 1. 1. ... 1. 1. 1.] 1.0 1.0\n",
      "[0.03379725 1.         0.07842718 ... 0.02296907 0.02459595 0.04273424] 0.0052516526 1.0\n",
      "train loss:0.1546, auprc:0.8172, auroc:0.8882, ap@50:1.0\n",
      "================================================================================\n",
      "[1. 1. 1. ... 1. 1. 1.] 1.0 1.0\n",
      "[0.03788691 0.01826118 0.02874643 ... 0.04203488 0.01977942 1.        ] 0.0064827823 1.0\n",
      "train loss:0.1546, auprc:0.811, auroc:0.8835, ap@50:1.0\n",
      "================================================================================\n",
      "[1. 1. 1. ... 1. 1. 1.] 0.99999964 1.0\n",
      "[0.02520006 0.01771145 0.03821712 ... 0.03796607 0.02455394 0.01987646] 0.006474765 1.0\n",
      "train loss:0.1526, auprc:0.8177, auroc:0.8885, ap@50:1.0\n",
      "================================================================================\n",
      "[1. 1. 1. ... 1. 1. 1.] 0.9999995 1.0\n",
      "[1.         0.03687216 0.03104483 ... 0.03970474 1.         0.03136167] 0.006885906 1.0\n",
      "train loss:0.1662, auprc:0.8154, auroc:0.8868, ap@50:1.0\n",
      "================================================================================\n",
      "[1. 1. 1. ... 1. 1. 1.] 1.0 1.0\n",
      "[0.03477617 1.         0.03721758 ... 0.02757622 0.05048704 0.03791183] 0.0053624595 1.0\n",
      "train loss:0.1577, auprc:0.8213, auroc:0.8912, ap@50:1.0\n",
      "================================================================================\n",
      "[1. 1. 1. ... 1. 1. 1.] 1.0 1.0\n",
      "[0.01545087 0.03217134 0.03462134 ... 0.0619707  0.06875249 1.        ] 0.0055390904 1.0\n",
      "train loss:0.1583, auprc:0.8138, auroc:0.8856, ap@50:1.0\n",
      "================================================================================\n",
      "[1. 1. 1. ... 1. 1. 1.] 0.9999999 1.0\n",
      "[0.02833839 0.04067937 0.01649118 ... 0.02203737 0.04530399 0.05955397] 0.0063285683 1.0\n",
      "train loss:0.1553, auprc:0.8201, auroc:0.8903, ap@50:1.0\n",
      "================================================================================\n",
      "[1. 1. 1. ... 1. 1. 1.] 1.0 1.0\n",
      "[0.05334061 0.04777874 0.02290759 ... 0.03547591 0.01698086 0.02500721] 0.0068503246 1.0\n",
      "train loss:0.1604, auprc:0.8172, auroc:0.8882, ap@50:1.0\n",
      "================================================================================\n",
      "[1. 1. 1. ... 1. 1. 1.] 1.0 1.0\n",
      "[0.02300776 0.04137807 1.         ... 0.02435988 0.03116876 1.        ] 0.0041695316 1.0\n",
      "train loss:0.157, auprc:0.82, auroc:0.8903, ap@50:1.0\n",
      "================================================================================\n",
      "[1. 1. 1. ... 1. 1. 1.] 0.9999999 1.0\n",
      "[0.01734061 1.         1.         ... 0.0325799  0.02846449 0.07374872] 0.006117665 1.0\n",
      "train loss:0.1572, auprc:0.8194, auroc:0.8898, ap@50:1.0\n",
      "================================================================================\n",
      "[1. 1. 1. ... 1. 1. 1.] 1.0 1.0\n",
      "[1.         0.02429181 0.01348741 ... 0.01776937 1.         0.04478349] 0.0045935516 1.0\n",
      "train loss:0.1598, auprc:0.8154, auroc:0.8868, ap@50:1.0\n",
      "================================================================================\n",
      "[1. 1. 1. ... 1. 1. 1.] 1.0 1.0\n",
      "[1.         0.0482561  1.         ... 0.03219882 0.05460296 0.02318839] 0.0058465977 1.0\n",
      "train loss:0.158, auprc:0.8183, auroc:0.889, ap@50:1.0\n",
      "================================================================================\n",
      "[1. 1. 1. ... 1. 1. 1.] 1.0 1.0\n",
      "[0.06555866 1.         1.         ... 0.03653777 1.         0.02578198] 0.0064770477 1.0\n",
      "train loss:0.1578, auprc:0.8156, auroc:0.887, ap@50:1.0\n",
      "================================================================================\n",
      "[1. 1. 1. ... 1. 1. 1.] 1.0 1.0\n",
      "[0.08068498 0.08834565 0.07161669 ... 1.         0.04183499 0.04386553] 0.0042803152 1.0\n",
      "train loss:0.1561, auprc:0.8229, auroc:0.8924, ap@50:1.0\n",
      "================================================================================\n",
      "[1. 1. 1. ... 1. 1. 1.] 1.0 1.0\n",
      "[0.03952911 0.05464212 0.03254758 ... 0.02804266 1.         0.03425454] 0.0058469414 1.0\n",
      "train loss:0.1602, auprc:0.8154, auroc:0.8868, ap@50:1.0\n",
      "================================================================================\n",
      "[1. 1. 1. ... 1. 1. 1.] 1.0 1.0\n",
      "[0.05524614 0.03810461 1.         ... 0.06489729 0.07506289 0.03614123] 0.00609877 1.0\n",
      "train loss:0.1582, auprc:0.8146, auroc:0.8862, ap@50:1.0\n",
      "================================================================================\n",
      "[1. 1. 1. ... 1. 1. 1.] 1.0 1.0\n",
      "[0.05977374 0.04391547 0.01956434 ... 0.0436333  0.04738682 0.02822388] 0.0049051004 1.0\n",
      "train loss:0.1575, auprc:0.8171, auroc:0.8881, ap@50:1.0\n",
      "================================================================================\n",
      "[1. 1. 1. ... 1. 1. 1.] 1.0 1.0\n",
      "[0.02753921 0.02638774 0.04397458 ... 0.03792375 1.         0.04449019] 0.0052298834 1.0\n",
      "train loss:0.1567, auprc:0.8156, auroc:0.8869, ap@50:1.0\n",
      "================================================================================\n",
      "[1. 1. 1. ... 1. 1. 1.] 1.0 1.0\n",
      "[0.06057776 0.01909411 0.0138402  ... 0.01795382 1.         1.        ] 0.0052613365 1.0\n",
      "train loss:0.1561, auprc:0.8176, auroc:0.8885, ap@50:1.0\n",
      "================================================================================\n",
      "[1. 1. 1. ... 1. 1. 1.] 1.0 1.0\n",
      "[0.02951064 0.04806467 0.03185574 ... 1.         1.         0.02505534] 0.0062764185 1.0\n",
      "train loss:0.1562, auprc:0.8152, auroc:0.8866, ap@50:1.0\n",
      "================================================================================\n",
      "[1. 1. 1. ... 1. 1. 1.] 1.0 1.0\n",
      "[0.02414209 0.03219879 0.044873   ... 0.03769375 0.03193208 1.        ] 0.004093478 1.0\n",
      "train loss:0.1578, auprc:0.8145, auroc:0.8861, ap@50:1.0\n",
      "================================================================================\n",
      "[1. 1. 1. ... 1. 1. 1.] 1.0 1.0\n",
      "[0.03989978 0.06336141 1.         ... 0.0366193  0.05601239 0.04942219] 0.00655484 1.0\n",
      "train loss:0.1587, auprc:0.8171, auroc:0.8881, ap@50:1.0\n",
      "================================================================================\n",
      "[1. 1. 1. ... 1. 1. 1.] 1.0 1.0\n",
      "[0.05761631 0.02890336 1.         ... 0.02857501 0.02703429 1.        ] 0.0067082746 1.0\n",
      "train loss:0.1585, auprc:0.8138, auroc:0.8856, ap@50:1.0\n",
      "================================================================================\n",
      "[1. 1. 1. ... 1. 1. 1.] 1.0 1.0\n",
      "[0.04834856 0.03669553 1.         ... 0.05447128 0.02471107 0.04105833] 0.0065531638 1.0\n",
      "train loss:0.1549, auprc:0.8176, auroc:0.8885, ap@50:1.0\n",
      "================================================================================\n",
      "[1. 1. 1. ... 1. 1. 1.] 1.0 1.0\n",
      "[0.02497836 1.         1.         ... 0.0372077  0.02674672 0.0326021 ] 0.0073616263 1.0\n",
      "train loss:0.1531, auprc:0.8202, auroc:0.8904, ap@50:1.0\n",
      "================================================================================\n",
      "[1. 1. 1. ... 1. 1. 1.] 1.0 1.0\n",
      "[0.01700108 0.0184964  0.05772771 ... 1.         0.08023319 1.        ] 0.0061237593 1.0\n",
      "train loss:0.1555, auprc:0.8158, auroc:0.8871, ap@50:1.0\n",
      "================================================================================\n",
      "[1. 1. 1. ... 1. 1. 1.] 0.9999999 1.0\n",
      "[0.0428068  0.03014411 1.         ... 0.09435511 0.04361604 0.06184573] 0.0063008373 1.0\n",
      "train loss:0.1565, auprc:0.8172, auroc:0.8881, ap@50:1.0\n",
      "================================================================================\n",
      "[1. 1. 1. ... 1. 1. 1.] 1.0 1.0\n",
      "[1.         1.         0.0304691  ... 0.05887518 0.06141305 0.01901698] 0.006552285 1.0\n",
      "train loss:0.1529, auprc:0.817, auroc:0.888, ap@50:1.0\n",
      "================================================================================\n",
      "[1. 1. 1. ... 1. 1. 1.] 1.0 1.0\n",
      "[0.04973002 0.0427934  0.09563119 ... 0.02145789 1.         1.        ] 0.0063772923 1.0\n",
      "train loss:0.1554, auprc:0.8155, auroc:0.8869, ap@50:1.0\n",
      "================================================================================\n",
      "######## fold 2/5 ########\n",
      "#### epoch 1/3 ####\n"
     ]
    },
    {
     "data": {
      "application/vnd.jupyter.widget-view+json": {
       "model_id": "271fd67425f443fa887f93c398687c48",
       "version_major": 2,
       "version_minor": 0
      },
      "text/plain": [
       "  0%|          | 0/357 [00:00<?, ?it/s]"
      ]
     },
     "metadata": {},
     "output_type": "display_data"
    },
    {
     "name": "stdout",
     "output_type": "stream",
     "text": [
      "[0.96703446 0.9925659  0.99832505 ... 0.98408186 0.9929804  0.98608834] 0.89645046 0.9999511\n",
      "[0.43742174 0.42664376 0.9946213  ... 0.44665062 0.99057966 0.97393143] 0.413033 0.9999474\n",
      "train loss:0.2944, auprc:0.8514, auroc:0.9076, ap@50:0.5473\n",
      "================================================================================\n",
      "[1. 1. 1. ... 1. 1. 1.] 0.9993228 1.0\n",
      "[0.17051794 0.25554603 0.20370074 ... 1.         0.9999994  0.20472004] 0.114023075 1.0\n",
      "train loss:0.1607, auprc:0.8422, auroc:0.905, ap@50:1.0\n",
      "================================================================================\n",
      "[1. 1. 1. ... 1. 1. 1.] 0.99999595 1.0\n",
      "[1.         0.05916295 1.         ... 0.18419708 0.0606341  0.14164275] 0.02122132 1.0\n",
      "train loss:0.1587, auprc:0.8154, auroc:0.8868, ap@50:1.0\n",
      "================================================================================\n",
      "[1. 1. 1. ... 1. 1. 1.] 0.9999999 1.0\n",
      "[0.03867513 0.02820361 0.04320493 ... 0.04216545 0.02641368 1.        ] 0.010848556 1.0\n",
      "train loss:0.157, auprc:0.8164, auroc:0.8875, ap@50:1.0\n",
      "================================================================================\n",
      "[1. 1. 1. ... 1. 1. 1.] 1.0 1.0\n",
      "[1.         0.06655947 0.03504047 ... 0.0465028  0.02321497 0.03949908] 0.00528198 1.0\n",
      "train loss:0.1545, auprc:0.816, auroc:0.8873, ap@50:1.0\n",
      "================================================================================\n",
      "[1. 1. 1. ... 1. 1. 1.] 1.0 1.0\n",
      "[0.05010314 0.01961715 0.02003469 ... 0.03178489 1.         0.03668682] 0.005086215 1.0\n",
      "train loss:0.1579, auprc:0.8146, auroc:0.8862, ap@50:1.0\n",
      "================================================================================\n",
      "[1. 1. 1. ... 1. 1. 1.] 1.0 1.0\n",
      "[1.         1.         0.02285838 ... 1.         0.028078   0.02333863] 0.005398114 1.0\n",
      "train loss:0.1587, auprc:0.817, auroc:0.888, ap@50:1.0\n",
      "================================================================================\n",
      "[1. 1. 1. ... 1. 1. 1.] 1.0 1.0\n",
      "[0.03053213 0.02998485 0.02988069 ... 0.03094781 0.02834254 0.04573841] 0.0050979676 1.0\n",
      "train loss:0.1519, auprc:0.815, auroc:0.8865, ap@50:1.0\n",
      "================================================================================\n",
      "[1. 1. 1. ... 1. 1. 1.] 1.0 1.0\n",
      "[0.03303897 0.0262477  0.08284277 ... 0.03303524 1.         0.02064182] 0.0053927917 1.0\n",
      "train loss:0.1583, auprc:0.8151, auroc:0.8866, ap@50:1.0\n",
      "================================================================================\n",
      "[1. 1. 1. ... 1. 1. 1.] 0.9999999 1.0\n",
      "[0.01646099 0.03960925 0.0450118  ... 1.         0.03199439 0.04083949] 0.0057388647 1.0\n",
      "train loss:0.1603, auprc:0.8175, auroc:0.8884, ap@50:1.0\n",
      "================================================================================\n",
      "[1. 1. 1. ... 1. 1. 1.] 0.9999999 1.0\n",
      "[1.         1.         0.04323725 ... 1.         0.05779638 1.        ] 0.0052164523 1.0\n",
      "train loss:0.1563, auprc:0.8163, auroc:0.8875, ap@50:1.0\n",
      "================================================================================\n",
      "[1. 1. 1. ... 1. 1. 1.] 1.0 1.0\n",
      "[0.03247714 0.05544887 0.02689658 ... 1.         0.02457955 0.06045003] 0.0049806624 1.0\n",
      "train loss:0.1584, auprc:0.8166, auroc:0.8877, ap@50:1.0\n",
      "================================================================================\n",
      "[1. 1. 1. ... 1. 1. 1.] 1.0 1.0\n",
      "[0.05189034 0.05659138 0.03416346 ... 0.09433293 0.01525783 0.03544709] 0.003963917 1.0\n",
      "train loss:0.1603, auprc:0.8185, auroc:0.8891, ap@50:1.0\n",
      "================================================================================\n",
      "[1. 1. 1. ... 1. 1. 1.] 1.0 1.0\n",
      "[0.03442776 0.03579226 0.02758883 ... 0.02170682 0.03259895 0.02154756] 0.0051182704 1.0\n",
      "train loss:0.1546, auprc:0.8185, auroc:0.8891, ap@50:1.0\n",
      "================================================================================\n",
      "[1. 1. 1. ... 1. 1. 1.] 1.0 1.0\n",
      "[1.         1.         1.         ... 0.02419814 0.03192035 0.03284121] 0.005191042 1.0\n",
      "train loss:0.1545, auprc:0.8181, auroc:0.8889, ap@50:1.0\n",
      "================================================================================\n",
      "[1. 1. 1. ... 1. 1. 1.] 1.0 1.0\n",
      "[0.03496446 0.04368458 1.         ... 0.02203818 0.03287755 1.        ] 0.0035384358 1.0\n",
      "train loss:0.1552, auprc:0.8172, auroc:0.8882, ap@50:1.0\n",
      "================================================================================\n",
      "[1. 1. 1. ... 1. 1. 1.] 1.0 1.0\n",
      "[0.03120806 0.04183953 1.         ... 1.         0.02256342 1.        ] 0.0049274648 1.0\n",
      "train loss:0.1537, auprc:0.8165, auroc:0.8877, ap@50:1.0\n",
      "================================================================================\n",
      "[1. 1. 1. ... 1. 1. 1.] 1.0 1.0\n",
      "[1.         0.02715549 1.         ... 0.02736656 0.02868361 1.        ] 0.0055374983 1.0\n",
      "train loss:0.1574, auprc:0.816, auroc:0.8872, ap@50:1.0\n",
      "================================================================================\n",
      "[1. 1. 1. ... 1. 1. 1.] 0.9999999 1.0\n",
      "[0.01549086 1.         0.04002057 ... 0.02143666 0.02374823 0.02590906] 0.0054798177 1.0\n",
      "train loss:0.162, auprc:0.8159, auroc:0.8872, ap@50:1.0\n",
      "================================================================================\n",
      "[1. 1. 1. ... 1. 1. 1.] 1.0 1.0\n",
      "[1.         1.         0.05516662 ... 0.04553887 0.01698091 0.02449549] 0.005122752 1.0\n",
      "train loss:0.1572, auprc:0.814, auroc:0.8857, ap@50:1.0\n",
      "================================================================================\n",
      "[1. 1. 1. ... 1. 1. 1.] 0.9999999 1.0\n",
      "[1.         0.0172459  0.02637058 ... 0.02464955 0.02801842 0.01145398] 0.0039887284 1.0\n",
      "train loss:0.1609, auprc:0.8129, auroc:0.8849, ap@50:1.0\n",
      "================================================================================\n",
      "[1. 1. 1. ... 1. 1. 1.] 1.0 1.0\n",
      "[1.         0.03945509 0.02770896 ... 1.         1.         0.01314859] 0.0053906897 1.0\n",
      "train loss:0.1637, auprc:0.815, auroc:0.8865, ap@50:1.0\n",
      "================================================================================\n",
      "[1. 1. 1. ... 1. 1. 1.] 1.0 1.0\n",
      "[0.04758876 0.03394919 0.05880034 ... 0.01517936 0.02697125 0.04900599] 0.0054085106 1.0\n",
      "train loss:0.1627, auprc:0.8146, auroc:0.8862, ap@50:1.0\n",
      "================================================================================\n",
      "[1. 1. 1. ... 1. 1. 1.] 1.0 1.0\n",
      "[0.03436154 0.03093085 0.05539409 ... 1.         0.012342   0.02833516] 0.0045551863 1.0\n",
      "train loss:0.156, auprc:0.8169, auroc:0.8879, ap@50:1.0\n",
      "================================================================================\n",
      "[1. 1. 1. ... 1. 1. 1.] 0.9999999 1.0\n",
      "[1.         0.0596476  0.04875692 ... 1.         0.02382884 1.        ] 0.0049204137 1.0\n",
      "train loss:0.1572, auprc:0.8146, auroc:0.8862, ap@50:1.0\n",
      "================================================================================\n",
      "[1. 1. 1. ... 1. 1. 1.] 1.0 1.0\n",
      "[0.02133297 0.03939513 0.02065015 ... 0.06852641 0.04880146 0.01372792] 0.0043116123 1.0\n",
      "train loss:0.1592, auprc:0.8192, auroc:0.8896, ap@50:1.0\n",
      "================================================================================\n",
      "[1. 1. 1. ... 1. 1. 1.] 1.0 1.0\n",
      "[0.03870857 0.01087915 0.01832115 ... 1.         0.03576874 1.        ] 0.0041678725 1.0\n",
      "train loss:0.1612, auprc:0.8157, auroc:0.8871, ap@50:1.0\n",
      "================================================================================\n",
      "[1. 1. 1. ... 1. 1. 1.] 1.0 1.0\n",
      "[0.02970682 0.02139736 1.         ... 0.01802516 0.01714934 0.04357779] 0.0052486914 1.0\n",
      "train loss:0.1585, auprc:0.815, auroc:0.8865, ap@50:1.0\n",
      "================================================================================\n",
      "[1. 1. 1. ... 1. 1. 1.] 0.9999989 1.0\n",
      "[1.         0.03985942 1.         ... 0.03330805 0.03312999 0.06298407] 0.005972064 1.0\n",
      "train loss:0.1559, auprc:0.8157, auroc:0.887, ap@50:1.0\n",
      "================================================================================\n",
      "[1. 1. 1. ... 1. 1. 1.] 0.9999999 1.0\n",
      "[1.         0.01563929 0.06035704 ... 0.04048971 0.02011504 0.03213456] 0.005350062 1.0\n",
      "train loss:0.1581, auprc:0.8195, auroc:0.8899, ap@50:1.0\n",
      "================================================================================\n",
      "[1. 1. 1. ... 1. 1. 1.] 1.0 1.0\n",
      "[0.01923054 0.04128154 0.02180479 ... 0.02854192 1.         0.01379669] 0.005397999 1.0\n",
      "train loss:0.1537, auprc:0.8159, auroc:0.8871, ap@50:1.0\n",
      "================================================================================\n",
      "[1. 1. 1. ... 1. 1. 1.] 1.0 1.0\n",
      "[0.02286953 0.03512092 1.         ... 0.04371979 1.         0.01533522] 0.004759503 1.0\n",
      "train loss:0.1598, auprc:0.8152, auroc:0.8867, ap@50:1.0\n",
      "================================================================================\n",
      "[1. 1. 1. ... 1. 1. 1.] 1.0 1.0\n",
      "[0.01871275 0.03315951 0.01409739 ... 0.0356215  1.         1.        ] 0.0047626053 1.0\n",
      "train loss:0.1561, auprc:0.8131, auroc:0.8851, ap@50:1.0\n",
      "================================================================================\n",
      "[1. 1. 1. ... 1. 1. 1.] 1.0 1.0\n",
      "[1.         0.03482931 0.03635417 ... 1.         0.03710479 0.0848034 ] 0.00527764 1.0\n",
      "train loss:0.1574, auprc:0.8161, auroc:0.8874, ap@50:1.0\n",
      "================================================================================\n",
      "[1. 1. 1. ... 1. 1. 1.] 1.0 1.0\n",
      "[0.02173853 1.         0.0315326  ... 0.02976628 0.01744833 0.03915209] 0.006716751 1.0\n",
      "train loss:0.1552, auprc:0.8145, auroc:0.8861, ap@50:1.0\n",
      "================================================================================\n",
      "######## fold 3/5 ########\n",
      "#### epoch 1/3 ####\n"
     ]
    },
    {
     "data": {
      "application/vnd.jupyter.widget-view+json": {
       "model_id": "c180e345e03a49109a3fdcdca359b0df",
       "version_major": 2,
       "version_minor": 0
      },
      "text/plain": [
       "  0%|          | 0/357 [00:00<?, ?it/s]"
      ]
     },
     "metadata": {},
     "output_type": "display_data"
    },
    {
     "name": "stdout",
     "output_type": "stream",
     "text": [
      "[0.9963973  0.9949439  0.99860865 ... 0.9996836  0.99991286 0.9991283 ] 0.91310054 0.99999595\n",
      "[0.44983706 0.43650255 0.45576802 ... 0.44231954 0.4171219  0.41865823] 0.39827946 0.9999809\n",
      "train loss:0.2812, auprc:0.8531, auroc:0.9061, ap@50:0.8213\n",
      "================================================================================\n",
      "[1.        1.        1.        ... 1.        1.        0.9999969] 0.9995425 1.0\n",
      "[0.19857682 0.18950109 0.18603715 ... 0.1972437  1.         0.18857515] 0.0928508 1.0\n",
      "train loss:0.1564, auprc:0.8361, auroc:0.901, ap@50:1.0\n",
      "================================================================================\n",
      "[1. 1. 1. ... 1. 1. 1.] 0.9999963 1.0\n",
      "[0.10360716 0.0512226  1.         ... 0.12327977 0.10581658 0.07929481] 0.019509418 1.0\n",
      "train loss:0.1584, auprc:0.816, auroc:0.8873, ap@50:1.0\n",
      "================================================================================\n",
      "[1. 1. 1. ... 1. 1. 1.] 1.0 1.0\n",
      "[0.06384592 0.07476044 1.         ... 0.109712   0.025711   0.05052844] 0.009515527 1.0\n",
      "train loss:0.1533, auprc:0.8149, auroc:0.8864, ap@50:1.0\n",
      "================================================================================\n",
      "[1. 1. 1. ... 1. 1. 1.] 0.9999999 1.0\n",
      "[0.050951   0.04629261 0.06331304 ... 0.03259858 0.03595217 0.01353893] 0.007476638 1.0\n",
      "train loss:0.1535, auprc:0.8187, auroc:0.8893, ap@50:1.0\n",
      "================================================================================\n",
      "[1. 1. 1. ... 1. 1. 1.] 1.0 1.0\n",
      "[1.         0.03230837 0.0338052  ... 0.04194754 0.01832452 0.04716843] 0.006567916 1.0\n",
      "train loss:0.1565, auprc:0.8164, auroc:0.8875, ap@50:1.0\n",
      "================================================================================\n",
      "[1. 1. 1. ... 1. 1. 1.] 0.9999999 1.0\n",
      "[0.06220206 0.04754052 1.         ... 1.         0.02084597 0.03023119] 0.0045656846 1.0\n",
      "train loss:0.1633, auprc:0.8163, auroc:0.8875, ap@50:1.0\n",
      "================================================================================\n",
      "[1. 1. 1. ... 1. 1. 1.] 0.99999964 1.0\n",
      "[0.04423264 0.03839642 0.03266048 ... 0.02751225 0.02483268 0.0347641 ] 0.0052682715 1.0\n",
      "train loss:0.1557, auprc:0.8181, auroc:0.8888, ap@50:1.0\n",
      "================================================================================\n",
      "[1. 1. 1. ... 1. 1. 1.] 0.9999995 1.0\n",
      "[0.01325389 0.040721   1.         ... 0.01505214 1.         0.04339905] 0.005918114 1.0\n",
      "train loss:0.1589, auprc:0.8154, auroc:0.8868, ap@50:1.0\n",
      "================================================================================\n",
      "[1. 1. 1. ... 1. 1. 1.] 0.9999999 1.0\n",
      "[0.05141263 0.05314362 0.02496686 ... 0.01551428 0.0591802  0.03895761] 0.0053651305 1.0\n",
      "train loss:0.1594, auprc:0.8221, auroc:0.8918, ap@50:1.0\n",
      "================================================================================\n",
      "[1. 1. 1. ... 1. 1. 1.] 1.0 1.0\n",
      "[0.07822733 0.02746156 0.01620461 ... 0.03785161 0.02919788 0.01907052] 0.0043704007 1.0\n",
      "train loss:0.1617, auprc:0.8189, auroc:0.8894, ap@50:1.0\n",
      "================================================================================\n",
      "[1. 1. 1. ... 1. 1. 1.] 0.9999995 1.0\n",
      "[0.03993358 0.03481948 0.04317521 ... 0.01968749 0.05075032 0.02773199] 0.0055611366 1.0\n",
      "train loss:0.1608, auprc:0.815, auroc:0.8865, ap@50:1.0\n",
      "================================================================================\n",
      "[1. 1. 1. ... 1. 1. 1.] 1.0 1.0\n",
      "[0.0307276  0.02072255 0.02771972 ... 0.01860845 1.         1.        ] 0.006522836 1.0\n",
      "train loss:0.1585, auprc:0.8151, auroc:0.8866, ap@50:1.0\n",
      "================================================================================\n",
      "[1. 1. 1. ... 1. 1. 1.] 1.0 1.0\n",
      "[1.         1.         0.03106741 ... 1.         0.03825775 0.02698863] 0.0041876114 1.0\n",
      "train loss:0.158, auprc:0.8176, auroc:0.8884, ap@50:1.0\n",
      "================================================================================\n",
      "[1. 1. 1. ... 1. 1. 1.] 0.9999999 1.0\n",
      "[0.00870086 1.         0.03366559 ... 1.         0.03469239 0.01889505] 0.0052303 1.0\n",
      "train loss:0.1541, auprc:0.8135, auroc:0.8854, ap@50:1.0\n",
      "================================================================================\n",
      "[1. 1. 1. ... 1. 1. 1.] 0.9999999 1.0\n",
      "[1.         0.05145236 1.         ... 0.03112113 1.         1.        ] 0.00555018 1.0\n",
      "train loss:0.1593, auprc:0.8171, auroc:0.8881, ap@50:1.0\n",
      "================================================================================\n",
      "[1. 1. 1. ... 1. 1. 1.] 0.9999999 1.0\n",
      "[0.02569168 0.03889844 1.         ... 0.01741503 0.02797114 0.01785721] 0.008345228 1.0\n",
      "train loss:0.155, auprc:0.8143, auroc:0.886, ap@50:1.0\n",
      "================================================================================\n",
      "[1. 1. 1. ... 1. 1. 1.] 0.9999999 1.0\n",
      "[0.02554172 0.02160569 0.02602581 ... 0.04835169 0.01969491 0.04099996] 0.005172909 1.0\n",
      "train loss:0.1573, auprc:0.8147, auroc:0.8863, ap@50:1.0\n",
      "================================================================================\n",
      "[1. 1. 1. ... 1. 1. 1.] 1.0 1.0\n",
      "[0.0589605  0.02022456 1.         ... 1.         1.         0.01068736] 0.0066792457 1.0\n",
      "train loss:0.1584, auprc:0.816, auroc:0.8873, ap@50:1.0\n",
      "================================================================================\n",
      "[1. 1. 1. ... 1. 1. 1.] 1.0 1.0\n",
      "[0.01771635 0.05052589 1.         ... 0.04325023 0.06369245 1.        ] 0.0061675655 1.0\n",
      "train loss:0.1566, auprc:0.8143, auroc:0.886, ap@50:1.0\n",
      "================================================================================\n",
      "[1. 1. 1. ... 1. 1. 1.] 1.0 1.0\n",
      "[0.09173699 0.03480009 0.04253775 ... 0.02954658 0.02762333 0.01289232] 0.005896248 1.0\n",
      "train loss:0.1552, auprc:0.8195, auroc:0.8899, ap@50:1.0\n",
      "================================================================================\n",
      "[1. 1. 1. ... 1. 1. 1.] 0.9999999 1.0\n",
      "[0.08858434 0.03847354 0.03554854 ... 0.04416129 0.02451947 0.04286347] 0.0065822406 1.0\n",
      "train loss:0.1581, auprc:0.8144, auroc:0.8861, ap@50:1.0\n",
      "================================================================================\n",
      "[1. 1. 1. ... 1. 1. 1.] 1.0 1.0\n",
      "[0.07262715 1.         0.03352624 ... 0.0456234  0.07809354 0.02343183] 0.006384841 1.0\n",
      "train loss:0.1595, auprc:0.8149, auroc:0.8864, ap@50:1.0\n",
      "================================================================================\n",
      "[1. 1. 1. ... 1. 1. 1.] 0.9999999 1.0\n",
      "[0.03639705 1.         1.         ... 1.         0.0417656  0.0307119 ] 0.0062371437 1.0\n",
      "train loss:0.157, auprc:0.816, auroc:0.8873, ap@50:1.0\n",
      "================================================================================\n",
      "[1. 1. 1. ... 1. 1. 1.] 1.0 1.0\n",
      "[1.         0.05417443 1.         ... 0.07078755 0.04542525 0.0151104 ] 0.0056962254 1.0\n",
      "train loss:0.1604, auprc:0.814, auroc:0.8858, ap@50:1.0\n",
      "================================================================================\n",
      "[1. 1. 1. ... 1. 1. 1.] 1.0 1.0\n",
      "[0.04237826 0.02087137 0.01127083 ... 0.04274135 0.02916879 0.02450832] 0.0061890353 1.0\n",
      "train loss:0.1548, auprc:0.8168, auroc:0.8879, ap@50:1.0\n",
      "================================================================================\n",
      "[1. 1. 1. ... 1. 1. 1.] 0.9999999 1.0\n",
      "[0.04431276 0.01386487 0.02253913 ... 0.03002068 0.01579858 0.06235553] 0.005950815 1.0\n",
      "train loss:0.1579, auprc:0.8168, auroc:0.8878, ap@50:1.0\n",
      "================================================================================\n",
      "[1. 1. 1. ... 1. 1. 1.] 0.99999964 1.0\n",
      "[1.         1.         0.04541572 ... 0.02471312 1.         1.        ] 0.004097971 1.0\n",
      "train loss:0.1546, auprc:0.8145, auroc:0.8861, ap@50:1.0\n",
      "================================================================================\n",
      "[1. 1. 1. ... 1. 1. 1.] 1.0 1.0\n",
      "[0.02480299 0.03307299 1.         ... 1.         0.04628068 0.03485273] 0.005791245 1.0\n",
      "train loss:0.1648, auprc:0.8161, auroc:0.8874, ap@50:1.0\n",
      "================================================================================\n",
      "[1. 1. 1. ... 1. 1. 1.] 1.0 1.0\n",
      "[0.04640258 0.03881578 0.06151062 ... 0.03355365 0.03321525 0.0234657 ] 0.006375005 1.0\n",
      "train loss:0.1507, auprc:0.816, auroc:0.8872, ap@50:1.0\n",
      "================================================================================\n",
      "[1. 1. 1. ... 1. 1. 1.] 0.9999999 1.0\n",
      "[0.0379364  0.06098856 0.03044222 ... 0.03725108 1.         0.03909867] 0.0072615365 1.0\n",
      "train loss:0.1524, auprc:0.8153, auroc:0.8867, ap@50:1.0\n",
      "================================================================================\n",
      "[1. 1. 1. ... 1. 1. 1.] 0.9999999 1.0\n",
      "[0.02433353 0.045301   0.05713816 ... 0.0281953  0.07683414 1.        ] 0.005434013 1.0\n",
      "train loss:0.1544, auprc:0.8173, auroc:0.8882, ap@50:1.0\n",
      "================================================================================\n",
      "[1. 1. 1. ... 1. 1. 1.] 0.9999999 1.0\n",
      "[1.         0.02751367 1.         ... 0.02686414 0.02922054 0.0254179 ] 0.006768199 1.0\n",
      "train loss:0.1544, auprc:0.8175, auroc:0.8884, ap@50:1.0\n",
      "================================================================================\n",
      "[1. 1. 1. ... 1. 1. 1.] 1.0 1.0\n",
      "[0.03012706 0.03664316 0.02945423 ... 1.         1.         0.03201494] 0.005355668 1.0\n",
      "train loss:0.157, auprc:0.8185, auroc:0.8891, ap@50:1.0\n",
      "================================================================================\n",
      "[1. 1. 1. ... 1. 1. 1.] 0.9999999 1.0\n",
      "[1.         1.         0.03084427 ... 0.02864533 0.03483531 0.04559192] 0.007415386 1.0\n",
      "train loss:0.1623, auprc:0.8157, auroc:0.887, ap@50:1.0\n",
      "================================================================================\n",
      "######## fold 4/5 ########\n",
      "#### epoch 1/3 ####\n"
     ]
    },
    {
     "data": {
      "application/vnd.jupyter.widget-view+json": {
       "model_id": "f1144b24fe2a4c2ca204e2a02a1cac71",
       "version_major": 2,
       "version_minor": 0
      },
      "text/plain": [
       "  0%|          | 0/357 [00:00<?, ?it/s]"
      ]
     },
     "metadata": {},
     "output_type": "display_data"
    },
    {
     "name": "stdout",
     "output_type": "stream",
     "text": [
      "[0.99784696 0.9959468  0.9967237  ... 0.99722373 0.9995034  0.99899226] 0.9511068 0.9999871\n",
      "[0.4321373  0.99627256 0.42156076 ... 0.42910984 0.42124343 0.44735307] 0.38926372 0.9999871\n",
      "train loss:0.275, auprc:0.8518, auroc:0.9051, ap@50:0.7588\n",
      "================================================================================\n",
      "[1. 1. 1. ... 1. 1. 1.] 0.99992 1.0\n",
      "[1.         0.18133372 1.         ... 1.         0.9999999  1.        ] 0.09232221 1.0\n",
      "train loss:0.1563, auprc:0.8287, auroc:0.8962, ap@50:1.0\n",
      "================================================================================\n",
      "[1. 1. 1. ... 1. 1. 1.] 0.99999917 1.0\n",
      "[0.07445122 1.         0.0869287  ... 1.         0.10538402 0.07238764] 0.017544627 1.0\n",
      "train loss:0.1538, auprc:0.8127, auroc:0.8848, ap@50:1.0\n",
      "================================================================================\n",
      "[1. 1. 1. ... 1. 1. 1.] 0.9999993 1.0\n",
      "[0.06173688 0.05569831 0.03019636 ... 0.02392548 0.02465589 1.        ] 0.008243443 1.0\n",
      "train loss:0.1637, auprc:0.8175, auroc:0.8884, ap@50:1.0\n",
      "================================================================================\n",
      "[1. 1. 1. ... 1. 1. 1.] 1.0 1.0\n",
      "[0.02702203 0.06275009 0.0970744  ... 0.041433   0.04619627 0.04003453] 0.006302904 1.0\n",
      "train loss:0.1596, auprc:0.8127, auroc:0.8848, ap@50:1.0\n",
      "================================================================================\n",
      "[1. 1. 1. ... 1. 1. 1.] 1.0 1.0\n",
      "[0.03641948 0.04204878 0.03238754 ... 0.0131559  0.02220185 0.03019185] 0.00619238 1.0\n",
      "train loss:0.1617, auprc:0.8145, auroc:0.8861, ap@50:1.0\n",
      "================================================================================\n",
      "[1. 1. 1. ... 1. 1. 1.] 1.0 1.0\n",
      "[0.03776375 0.03326666 0.04192824 ... 0.0316296  1.         1.        ] 0.0050500673 1.0\n",
      "train loss:0.1578, auprc:0.8135, auroc:0.8854, ap@50:1.0\n",
      "================================================================================\n",
      "[1. 1. 1. ... 1. 1. 1.] 1.0 1.0\n",
      "[0.04813306 0.03574666 0.02703587 ... 0.05122132 0.03613135 1.        ] 0.0056591514 1.0\n",
      "train loss:0.1523, auprc:0.8197, auroc:0.89, ap@50:1.0\n",
      "================================================================================\n",
      "[1. 1. 1. ... 1. 1. 1.] 1.0 1.0\n",
      "[0.03881465 0.02816122 0.02041722 ... 0.02005619 0.0511548  0.04689688] 0.0047811745 1.0\n",
      "train loss:0.1573, auprc:0.8186, auroc:0.8892, ap@50:1.0\n",
      "================================================================================\n",
      "[1. 1. 1. ... 1. 1. 1.] 1.0 1.0\n",
      "[0.03827286 0.03962097 0.04093243 ... 1.         1.         0.04986443] 0.0047428063 1.0\n",
      "train loss:0.1488, auprc:0.8171, auroc:0.8881, ap@50:1.0\n",
      "================================================================================\n",
      "[1. 1. 1. ... 1. 1. 1.] 1.0 1.0\n",
      "[0.01844781 0.04054166 0.03522769 ... 0.02883822 0.06840858 0.07122223] 0.0054903235 1.0\n",
      "train loss:0.1603, auprc:0.8179, auroc:0.8887, ap@50:1.0\n",
      "================================================================================\n",
      "[1. 1. 1. ... 1. 1. 1.] 1.0 1.0\n",
      "[0.05207092 0.02623234 0.02421516 ... 0.01729853 1.         1.        ] 0.004984372 1.0\n",
      "train loss:0.1632, auprc:0.8185, auroc:0.8891, ap@50:1.0\n",
      "================================================================================\n",
      "[1. 1. 1. ... 1. 1. 1.] 1.0 1.0\n",
      "[0.06368071 0.02105267 0.04195646 ... 0.0227419  0.02536123 0.04547753] 0.0051669027 1.0\n",
      "train loss:0.1555, auprc:0.818, auroc:0.8887, ap@50:1.0\n",
      "================================================================================\n",
      "[1. 1. 1. ... 1. 1. 1.] 1.0 1.0\n",
      "[0.029914   0.11895947 1.         ... 0.04452426 1.         1.        ] 0.0049017295 1.0\n",
      "train loss:0.1533, auprc:0.8152, auroc:0.8867, ap@50:1.0\n",
      "================================================================================\n",
      "[1. 1. 1. ... 1. 1. 1.] 1.0 1.0\n",
      "[1.         1.         0.03141646 ... 0.01791608 1.         0.04531855] 0.0055865673 1.0\n",
      "train loss:0.1574, auprc:0.815, auroc:0.8865, ap@50:1.0\n",
      "================================================================================\n",
      "[1. 1. 1. ... 1. 1. 1.] 1.0 1.0\n",
      "[1.         1.         0.02226092 ... 0.01758859 0.01719212 0.03263843] 0.005522855 1.0\n",
      "train loss:0.1542, auprc:0.815, auroc:0.8865, ap@50:1.0\n",
      "================================================================================\n",
      "[1. 1. 1. ... 1. 1. 1.] 1.0 1.0\n",
      "[0.02578889 0.01678056 0.07253356 ... 1.         1.         1.        ] 0.0050186063 1.0\n",
      "train loss:0.1557, auprc:0.8151, auroc:0.8866, ap@50:1.0\n",
      "================================================================================\n",
      "[1. 1. 1. ... 1. 1. 1.] 0.9999999 1.0\n",
      "[0.07228626 0.02606659 1.         ... 0.02691009 0.039094   0.02593768] 0.0044462495 1.0\n",
      "train loss:0.1568, auprc:0.8174, auroc:0.8883, ap@50:1.0\n",
      "================================================================================\n",
      "[1. 1. 1. ... 1. 1. 1.] 1.0 1.0\n",
      "[1.         0.03797968 0.02051805 ... 0.01845923 0.01958483 0.02191678] 0.004376087 1.0\n",
      "train loss:0.1529, auprc:0.8157, auroc:0.887, ap@50:1.0\n",
      "================================================================================\n",
      "[1. 1. 1. ... 1. 1. 1.] 1.0 1.0\n",
      "[0.05855013 0.0548425  0.0329995  ... 1.         0.04009375 1.        ] 0.0048044925 1.0\n",
      "train loss:0.1596, auprc:0.819, auroc:0.8895, ap@50:1.0\n",
      "================================================================================\n",
      "[1. 1. 1. ... 1. 1. 1.] 1.0 1.0\n",
      "[0.0274152  1.         0.02674713 ... 0.02768718 0.0211379  0.02804128] 0.004855028 1.0\n",
      "train loss:0.1595, auprc:0.8129, auroc:0.8849, ap@50:1.0\n",
      "================================================================================\n",
      "[1. 1. 1. ... 1. 1. 1.] 1.0 1.0\n",
      "[1.         0.02387862 0.0187426  ... 1.         0.02517046 0.0334118 ] 0.004941651 1.0\n",
      "train loss:0.1573, auprc:0.821, auroc:0.891, ap@50:1.0\n",
      "================================================================================\n",
      "[1. 1. 1. ... 1. 1. 1.] 1.0 1.0\n",
      "[0.05028925 0.02734136 0.04051946 ... 1.         0.0553343  0.04751076] 0.004219445 1.0\n",
      "train loss:0.1608, auprc:0.8135, auroc:0.8854, ap@50:1.0\n",
      "================================================================================\n",
      "[1. 1. 1. ... 1. 1. 1.] 1.0 1.0\n",
      "[0.03101697 0.03816567 1.         ... 0.03854268 0.02033255 1.        ] 0.0048228856 1.0\n",
      "train loss:0.156, auprc:0.8197, auroc:0.89, ap@50:1.0\n",
      "================================================================================\n",
      "[1. 1. 1. ... 1. 1. 1.] 1.0 1.0\n",
      "[1.         0.04524176 1.         ... 0.03866347 0.02517579 0.01561544] 0.005800582 1.0\n",
      "train loss:0.1524, auprc:0.8113, auroc:0.8837, ap@50:1.0\n",
      "================================================================================\n",
      "[1. 1. 1. ... 1. 1. 1.] 1.0 1.0\n",
      "[0.05039804 0.02292683 1.         ... 1.         0.02120688 1.        ] 0.0060563907 1.0\n",
      "train loss:0.1522, auprc:0.8135, auroc:0.8854, ap@50:1.0\n",
      "================================================================================\n",
      "[1. 1. 1. ... 1. 1. 1.] 1.0 1.0\n",
      "[0.02665685 0.02943204 0.02096297 ... 0.04596025 0.03162939 0.0408919 ] 0.0049302317 1.0\n",
      "train loss:0.1599, auprc:0.8137, auroc:0.8855, ap@50:1.0\n",
      "================================================================================\n",
      "[1. 1. 1. ... 1. 1. 1.] 1.0 1.0\n",
      "[0.02434355 1.         0.02771667 ... 0.03632421 0.0165235  1.        ] 0.0044691944 1.0\n",
      "train loss:0.1574, auprc:0.8142, auroc:0.8859, ap@50:1.0\n",
      "================================================================================\n",
      "[1. 1. 1. ... 1. 1. 1.] 1.0 1.0\n",
      "[0.02249841 0.01846437 0.02228629 ... 0.01990409 0.03873685 0.02765663] 0.0042921635 1.0\n",
      "train loss:0.1606, auprc:0.8124, auroc:0.8846, ap@50:1.0\n",
      "================================================================================\n",
      "[1. 1. 1. ... 1. 1. 1.] 1.0 1.0\n",
      "[1.         0.04406093 1.         ... 1.         1.         0.02682464] 0.0046645934 1.0\n",
      "train loss:0.1537, auprc:0.8132, auroc:0.8852, ap@50:1.0\n",
      "================================================================================\n",
      "[1. 1. 1. ... 1. 1. 1.] 1.0 1.0\n",
      "[0.01643337 1.         0.02860997 ... 0.03533361 0.01917977 0.02159003] 0.0058405367 1.0\n",
      "train loss:0.1578, auprc:0.8145, auroc:0.8861, ap@50:1.0\n",
      "================================================================================\n",
      "[1. 1. 1. ... 1. 1. 1.] 1.0 1.0\n",
      "[0.01485305 0.03480851 0.03756127 ... 0.05202991 0.02288019 0.03926128] 0.0042923205 1.0\n",
      "train loss:0.1489, auprc:0.8164, auroc:0.8875, ap@50:1.0\n",
      "================================================================================\n",
      "[1. 1. 1. ... 1. 1. 1.] 0.9999999 1.0\n",
      "[0.01713856 0.03694955 1.         ... 1.         0.02472739 0.02944348] 0.005732412 1.0\n",
      "train loss:0.1588, auprc:0.8168, auroc:0.8878, ap@50:1.0\n",
      "================================================================================\n",
      "[1. 1. 1. ... 1. 1. 1.] 1.0 1.0\n",
      "[0.03206358 1.         1.         ... 0.03562064 0.02984504 0.0311508 ] 0.005680057 1.0\n",
      "train loss:0.1579, auprc:0.8139, auroc:0.8857, ap@50:1.0\n",
      "================================================================================\n",
      "[1. 1. 1. ... 1. 1. 1.] 1.0 1.0\n",
      "[0.03106296 0.02365723 0.01211249 ... 1.         1.         0.03008033] 0.0050555975 1.0\n",
      "train loss:0.1621, auprc:0.8181, auroc:0.8889, ap@50:1.0\n",
      "================================================================================\n",
      "######## fold 5/5 ########\n",
      "#### epoch 1/3 ####\n"
     ]
    },
    {
     "data": {
      "application/vnd.jupyter.widget-view+json": {
       "model_id": "b5d3d3b1f09342b4ae60676e7143e169",
       "version_major": 2,
       "version_minor": 0
      },
      "text/plain": [
       "  0%|          | 0/357 [00:00<?, ?it/s]"
      ]
     },
     "metadata": {},
     "output_type": "display_data"
    },
    {
     "name": "stdout",
     "output_type": "stream",
     "text": [
      "[0.9917995  0.99881434 0.9959182  ... 0.99786216 0.9927602  0.99614906] 0.91516936 0.9999616\n",
      "[0.4438991  0.99136    0.44838995 ... 0.44057742 0.45126438 0.44970644] 0.4122095 0.9999472\n",
      "train loss:0.2909, auprc:0.8577, auroc:0.9096, ap@50:0.7066\n",
      "================================================================================\n",
      "[1. 1. 1. ... 1. 1. 1.] 0.9998311 1.0\n",
      "[0.20791985 0.2038671  0.19699122 ... 0.18544324 1.         0.22989748] 0.11957052 1.0\n",
      "train loss:0.157, auprc:0.8345, auroc:0.9001, ap@50:1.0\n",
      "================================================================================\n",
      "[1. 1. 1. ... 1. 1. 1.] 0.99999917 1.0\n",
      "[0.10450613 0.10418595 0.04298866 ... 1.         0.07429606 1.        ] 0.019758558 1.0\n",
      "train loss:0.1567, auprc:0.8158, auroc:0.8871, ap@50:1.0\n",
      "================================================================================\n",
      "[1. 1. 1. ... 1. 1. 1.] 1.0 1.0\n",
      "[0.0502843  0.0271534  0.04016702 ... 0.06806607 0.05482598 0.05283819] 0.010632955 1.0\n",
      "train loss:0.159, auprc:0.8167, auroc:0.8878, ap@50:1.0\n",
      "================================================================================\n",
      "[1. 1. 1. ... 1. 1. 1.] 1.0 1.0\n",
      "[0.0412328  0.02662941 0.03638174 ... 0.02354144 1.         0.06309039] 0.006330935 1.0\n",
      "train loss:0.1537, auprc:0.8175, auroc:0.8884, ap@50:1.0\n",
      "================================================================================\n",
      "[1. 1. 1. ... 1. 1. 1.] 1.0 1.0\n",
      "[0.02943747 0.03247378 0.02234456 ... 1.         0.01721922 0.01717947] 0.0071543907 1.0\n",
      "train loss:0.1553, auprc:0.814, auroc:0.8857, ap@50:1.0\n",
      "================================================================================\n",
      "[1. 1. 1. ... 1. 1. 1.] 1.0 1.0\n",
      "[0.0491618  0.02649311 0.01698113 ... 0.02326355 0.02358442 1.        ] 0.006087603 1.0\n",
      "train loss:0.1574, auprc:0.814, auroc:0.8858, ap@50:1.0\n",
      "================================================================================\n",
      "[1. 1. 1. ... 1. 1. 1.] 1.0 1.0\n",
      "[0.0319978  1.         0.03264323 ... 0.02606606 0.03432577 0.04189607] 0.006256103 1.0\n",
      "train loss:0.1584, auprc:0.8159, auroc:0.8872, ap@50:1.0\n",
      "================================================================================\n",
      "[1. 1. 1. ... 1. 1. 1.] 1.0 1.0\n",
      "[0.03345902 1.         0.01702829 ... 1.         0.04350993 0.02865124] 0.0059493203 1.0\n",
      "train loss:0.1577, auprc:0.8176, auroc:0.8885, ap@50:1.0\n",
      "================================================================================\n",
      "[1. 1. 1. ... 1. 1. 1.] 1.0 1.0\n",
      "[0.03023183 0.01444731 1.         ... 0.01509043 0.03486921 0.0316505 ] 0.0044351737 1.0\n",
      "train loss:0.1589, auprc:0.8147, auroc:0.8863, ap@50:1.0\n",
      "================================================================================\n",
      "[1. 1. 1. ... 1. 1. 1.] 1.0 1.0\n",
      "[0.03817565 0.01641054 0.05619083 ... 0.02004794 1.         0.05454022] 0.00602006 1.0\n",
      "train loss:0.1585, auprc:0.8152, auroc:0.8867, ap@50:1.0\n",
      "================================================================================\n",
      "[1. 1. 1. ... 1. 1. 1.] 1.0 1.0\n",
      "[0.01445853 0.05095642 1.         ... 0.02409727 0.02481171 1.        ] 0.005756209 1.0\n",
      "train loss:0.1518, auprc:0.8171, auroc:0.8881, ap@50:1.0\n",
      "================================================================================\n",
      "[1. 1. 1. ... 1. 1. 1.] 1.0 1.0\n",
      "[1.         0.0371144  1.         ... 1.         0.01747193 0.05070269] 0.004863673 1.0\n",
      "train loss:0.156, auprc:0.8164, auroc:0.8875, ap@50:1.0\n",
      "================================================================================\n",
      "[1. 1. 1. ... 1. 1. 1.] 1.0 1.0\n",
      "[0.03028833 0.02386629 0.02700512 ... 0.1236709  0.0113482  1.        ] 0.0059940307 1.0\n",
      "train loss:0.1553, auprc:0.8182, auroc:0.8889, ap@50:1.0\n",
      "================================================================================\n",
      "[1. 1. 1. ... 1. 1. 1.] 0.9999999 1.0\n",
      "[1.         0.02722998 0.05589781 ... 0.04142981 0.03866476 1.        ] 0.004370023 1.0\n",
      "train loss:0.1577, auprc:0.8184, auroc:0.8891, ap@50:1.0\n",
      "================================================================================\n",
      "[1. 1. 1. ... 1. 1. 1.] 0.99999976 1.0\n",
      "[0.01893439 0.05481017 0.02609353 ... 0.05964012 1.         0.05045269] 0.0053512347 1.0\n",
      "train loss:0.1554, auprc:0.8169, auroc:0.8879, ap@50:1.0\n",
      "================================================================================\n",
      "[1. 1. 1. ... 1. 1. 1.] 0.9999999 1.0\n",
      "[1.         0.022205   0.03314868 ... 0.0420562  0.04723646 0.03412167] 0.0065633846 1.0\n",
      "train loss:0.1607, auprc:0.8164, auroc:0.8876, ap@50:1.0\n",
      "================================================================================\n",
      "[1. 1. 1. ... 1. 1. 1.] 1.0 1.0\n",
      "[1.         0.0243822  0.03507296 ... 1.         1.         0.02376276] 0.0051047853 1.0\n",
      "train loss:0.1609, auprc:0.8138, auroc:0.8856, ap@50:1.0\n",
      "================================================================================\n",
      "[1. 1. 1. ... 1. 1. 1.] 1.0 1.0\n",
      "[0.01644023 0.03545121 0.03235511 ... 1.         0.02920155 0.02249557] 0.00551926 1.0\n",
      "train loss:0.1606, auprc:0.8149, auroc:0.8864, ap@50:1.0\n",
      "================================================================================\n",
      "[1. 1. 1. ... 1. 1. 1.] 1.0 1.0\n",
      "[0.02770017 0.04666942 0.0238302  ... 1.         0.06653828 0.04702355] 0.00551453 1.0\n",
      "train loss:0.1561, auprc:0.818, auroc:0.8888, ap@50:1.0\n",
      "================================================================================\n",
      "[1. 1. 1. ... 1. 1. 1.] 0.99999964 1.0\n",
      "[0.0502192  0.03563277 0.03350043 ... 0.05015739 0.02192853 0.02614555] 0.0055598263 1.0\n",
      "train loss:0.1563, auprc:0.8206, auroc:0.8907, ap@50:1.0\n",
      "================================================================================\n",
      "[1. 1. 1. ... 1. 1. 1.] 1.0 1.0\n",
      "[0.01076694 0.02421111 0.01321416 ... 0.02112544 1.         0.03443231] 0.003082048 1.0\n",
      "train loss:0.1636, auprc:0.8126, auroc:0.8847, ap@50:1.0\n",
      "================================================================================\n",
      "[1. 1. 1. ... 1. 1. 1.] 1.0 1.0\n",
      "[0.03091805 1.         0.05177957 ... 0.05141258 0.04493277 0.03698971] 0.004880181 1.0\n",
      "train loss:0.1603, auprc:0.8172, auroc:0.8882, ap@50:1.0\n",
      "================================================================================\n",
      "[1. 1. 1. ... 1. 1. 1.] 1.0 1.0\n",
      "[0.04733115 1.         1.         ... 0.02755739 0.04219846 1.        ] 0.0056576543 1.0\n",
      "train loss:0.1589, auprc:0.8173, auroc:0.8882, ap@50:1.0\n",
      "================================================================================\n",
      "[1. 1. 1. ... 1. 1. 1.] 1.0 1.0\n",
      "[0.03621399 0.02387411 0.02927813 ... 1.         0.04976678 0.03963277] 0.005399515 1.0\n",
      "train loss:0.1582, auprc:0.8163, auroc:0.8875, ap@50:1.0\n",
      "================================================================================\n",
      "[1. 1. 1. ... 1. 1. 1.] 1.0 1.0\n",
      "[0.01895775 0.02074076 0.04268762 ... 1.         1.         0.04930305] 0.0049499795 1.0\n",
      "train loss:0.1535, auprc:0.816, auroc:0.8873, ap@50:1.0\n",
      "================================================================================\n",
      "[1. 1. 1. ... 1. 1. 1.] 1.0 1.0\n",
      "[1.         0.03834406 0.03026496 ... 0.03432857 0.02425501 1.        ] 0.0046019843 1.0\n",
      "train loss:0.1572, auprc:0.8163, auroc:0.8875, ap@50:1.0\n",
      "================================================================================\n",
      "[1. 1. 1. ... 1. 1. 1.] 1.0 1.0\n",
      "[0.02178219 1.         0.01706042 ... 0.01585357 0.04234716 0.01554011] 0.004766422 1.0\n",
      "train loss:0.1595, auprc:0.8176, auroc:0.8885, ap@50:1.0\n",
      "================================================================================\n",
      "[1. 1. 1. ... 1. 1. 1.] 1.0 1.0\n",
      "[1.         0.04767666 1.         ... 0.04540028 0.01730153 0.02840919] 0.0055467966 1.0\n",
      "train loss:0.1526, auprc:0.8158, auroc:0.8871, ap@50:1.0\n",
      "================================================================================\n",
      "[1. 1. 1. ... 1. 1. 1.] 1.0 1.0\n",
      "[1.         0.03218211 1.         ... 0.05143052 0.04899797 0.02266196] 0.0047284723 1.0\n",
      "train loss:0.1605, auprc:0.8162, auroc:0.8874, ap@50:1.0\n",
      "================================================================================\n",
      "[1. 1. 1. ... 1. 1. 1.] 1.0 1.0\n",
      "[0.02701376 0.03242676 0.01917925 ... 0.03190536 0.02895057 1.        ] 0.004460833 1.0\n",
      "train loss:0.1584, auprc:0.818, auroc:0.8887, ap@50:1.0\n",
      "================================================================================\n",
      "[1. 1. 1. ... 1. 1. 1.] 0.99999964 1.0\n",
      "[0.03295667 0.02214657 1.         ... 0.03663302 1.         0.02629919] 0.006033977 1.0\n",
      "train loss:0.1616, auprc:0.8159, auroc:0.8872, ap@50:1.0\n",
      "================================================================================\n",
      "[1. 1. 1. ... 1. 1. 1.] 1.0 1.0\n",
      "[0.03524451 1.         0.02506817 ... 0.02922317 0.0256903  1.        ] 0.0055329576 1.0\n",
      "train loss:0.1599, auprc:0.8171, auroc:0.8881, ap@50:1.0\n",
      "================================================================================\n",
      "[1. 1. 1. ... 1. 1. 1.] 1.0 1.0\n",
      "[0.03640491 0.03331254 0.02714691 ... 0.04096406 0.02508514 0.06081339] 0.0044487347 1.0\n",
      "train loss:0.1592, auprc:0.8159, auroc:0.8871, ap@50:1.0\n",
      "================================================================================\n",
      "[1. 1. 1. ... 1. 1. 1.] 1.0 1.0\n",
      "[0.03223234 0.04645921 0.02100524 ... 0.03729079 0.047008   0.03626679] 0.0045993878 1.0\n",
      "train loss:0.1581, auprc:0.8159, auroc:0.8872, ap@50:1.0\n",
      "================================================================================\n"
     ]
    }
   ],
   "source": [
    "from sklearn.model_selection import KFold\n",
    "\n",
    "dropout=0.4\n",
    "\n",
    "ids = test_eid_dict['effect'].tolist()\n",
    "kf = KFold(n_splits=5)\n",
    "margin = 0.15\n",
    "models = []\n",
    "\n",
    "for fold, (train_ids, val_ids) in enumerate(kf.split(ids)):\n",
    "    print(f'######## fold {fold + 1}/5 ########')\n",
    "    \n",
    "    ### Define dataset ###\n",
    "    train_eid_dict = {'effect': torch.tensor(train_ids)}\n",
    "    val_eid_dict = {'effect': torch.tensor(val_ids)}\n",
    "    \n",
    "    dataloader = dgl.dataloading.DistEdgeDataLoader(\n",
    "    g, train_eid_dict, sampler,\n",
    "        negative_sampler=dgl.dataloading.negative_sampler.Uniform(5),\n",
    "        batch_size=batch_size,\n",
    "        shuffle=True,\n",
    "        drop_last=False,\n",
    "#     num_workers=args.num_workers\n",
    "    )\n",
    "    \n",
    "    val_dataloader = dgl.dataloading.DistEdgeDataLoader(\n",
    "    g, val_eid_dict, sampler,\n",
    "        negative_sampler=dgl.dataloading.negative_sampler.Uniform(1),\n",
    "        batch_size=test_batch_size * 4,\n",
    "        shuffle=True,\n",
    "        drop_last=False,\n",
    "#     num_workers=args.num_workers\n",
    "    )\n",
    "    \n",
    "    ### Define model and optimizer ###\n",
    "    model = Model(feature_dim, h_dim, h_dim, g.etypes, dropout=dropout)\n",
    "    opt = torch.optim.Adam(model.parameters(), lr=1e-3)\n",
    "    lr = 1e-3\n",
    "    #### Start training ###\n",
    "    step = 0\n",
    "    for i in range(1):\n",
    "        print(f'#### epoch {i + 1}/1 ####')\n",
    "        bar = tqdm_notebook(dataloader, total=len(train_eid_dict['effect']) // batch_size)\n",
    "\n",
    "        for input_nodes, positive_graph, negative_graph, blocks in bar:\n",
    "            step += 1\n",
    "        #     blocks = [b.to(torch.device('cuda')) for b in blocks]\n",
    "        #     positive_graph = positive_graph.to(torch.device('cuda'))\n",
    "        #     negative_graph = negative_graph.to(torch.device('cuda'))\n",
    "            input_features = blocks[0].srcdata['h']\n",
    "            pos_score = model(positive_graph, blocks, input_features)\n",
    "            neg_score = model(negative_graph, blocks, input_features)\n",
    "\n",
    "            loss = compute_loss(pos_score, neg_score, margin=margin)\n",
    "            opt.zero_grad()\n",
    "            loss.backward()\n",
    "            opt.step()\n",
    "\n",
    "            if step % 100 == 0:   \n",
    "                for params in opt.param_groups:   \n",
    "                    params['lr'] *= 0.95   \n",
    "                    lr = params['lr']\n",
    "            loss_val = loss.detach().item()\n",
    "            \n",
    "            ### Validation ###\n",
    "            if step % 10 == 0:\n",
    "                input_nodes, positive_graph, negative_graph, blocks = next(iter(val_dataloader))\n",
    "                input_features = blocks[0].srcdata['h']\n",
    "                pos_score = model(positive_graph, blocks, input_features)\n",
    "                neg_score = model(negative_graph, blocks, input_features)\n",
    "                pos_score_ = pos_score[('comb','effect','side')].detach().numpy().reshape(-1)\n",
    "                neg_score_ = neg_score[('comb','effect','side')].detach().numpy().reshape(-1)\n",
    "\n",
    "                eid = 0\n",
    "                predicted = []\n",
    "                actual = []\n",
    "                for x in pos_score_:\n",
    "                    predicted.append((x, eid))\n",
    "                    actual.append(eid)\n",
    "                    eid += 1\n",
    "\n",
    "                for x in neg_score_:\n",
    "                    predicted.append((x, eid))\n",
    "                    eid += 1\n",
    "\n",
    "                labels_all = np.hstack([np.ones(len(pos_score_)), np.zeros(len(neg_score_))])\n",
    "                predicted = list(zip(*sorted(predicted, reverse=True, key=itemgetter(0))))[1]\n",
    "\n",
    "                auprc, auroc = compute_auprc_auroc(pos_score[('comb','effect','side')], neg_score[('comb','effect','side')])\n",
    "                ap = apk(actual, predicted, k=50)\n",
    "                \n",
    "                print(pos_score_, np.min(pos_score_), np.max(pos_score_))\n",
    "                print(neg_score_, np.min(neg_score_), np.max(neg_score_))\n",
    "                print(f'train loss:{round(loss_val, 4)}, auprc:{round(np.mean(auprc), 4)}, auroc:{round(np.mean(auroc), 4)}, ap@50:{round(np.mean(ap), 4)}')\n",
    "                print('=' * 80)\n",
    "            bar.set_description(f'loss:{round(loss_val, 4)}, lr:{round(lr, 4)}')\n",
    "    models.append(model)\n"
   ]
  },
  {
   "cell_type": "code",
   "execution_count": 32,
   "id": "9c169488",
   "metadata": {
    "ExecuteTime": {
     "end_time": "2023-04-30T14:40:43.954953Z",
     "start_time": "2023-04-30T14:40:43.943026Z"
    }
   },
   "outputs": [],
   "source": [
    "torch.save(model, 'cls_model_ddggs.pt')"
   ]
  },
  {
   "cell_type": "markdown",
   "id": "2d48a210",
   "metadata": {},
   "source": [
    "### Evaluation"
   ]
  },
  {
   "cell_type": "code",
   "execution_count": 33,
   "id": "65009795",
   "metadata": {
    "ExecuteTime": {
     "end_time": "2023-04-30T14:40:49.243593Z",
     "start_time": "2023-04-30T14:40:49.231831Z"
    }
   },
   "outputs": [],
   "source": [
    "def cv_predict(models, pos_graph, neg_graph, blocks, input_features):\n",
    "    folds = len(models)\n",
    "    assert folds >= 1, ValueError('models cannot be empty')\n",
    "    pos_score = None\n",
    "    neg_score = None\n",
    "    for m in models:\n",
    "        pos = m(pos_graph, blocks, input_features)\n",
    "        neg = m(neg_graph, blocks, input_features)\n",
    "        \n",
    "        pos = pos[('comb','effect','side')].detach().numpy().reshape(-1)\n",
    "        neg = neg[('comb','effect','side')].detach().numpy().reshape(-1)\n",
    "        \n",
    "        if pos_score is None:\n",
    "            pos_score = pos\n",
    "            neg_score = neg\n",
    "        else:\n",
    "            pos_score += pos\n",
    "            neg_score += neg\n",
    "    return pos_score / folds, neg_score / folds"
   ]
  },
  {
   "cell_type": "markdown",
   "id": "26786733",
   "metadata": {},
   "source": [
    "#### For type"
   ]
  },
  {
   "cell_type": "code",
   "execution_count": 34,
   "id": "31173918",
   "metadata": {
    "ExecuteTime": {
     "end_time": "2023-04-30T17:40:32.076189Z",
     "start_time": "2023-04-30T14:45:07.645252Z"
    }
   },
   "outputs": [
    {
     "name": "stdout",
     "output_type": "stream",
     "text": [
      "current: 4096\n"
     ]
    },
    {
     "data": {
      "application/vnd.jupyter.widget-view+json": {
       "model_id": "1734ad2ea2454a89b30c94751c7dc03b",
       "version_major": 2,
       "version_minor": 0
      },
      "text/plain": [
       "0it [00:00, ?it/s]"
      ]
     },
     "metadata": {},
     "output_type": "display_data"
    },
    {
     "name": "stdout",
     "output_type": "stream",
     "text": [
      "For type 4096, metrics:: auprc:0.8098, auroc:0.8826, ap@50:1.0\n",
      "current: 4097\n"
     ]
    },
    {
     "data": {
      "application/vnd.jupyter.widget-view+json": {
       "model_id": "fad8f8a983c64eefa01e40df0c6c18cc",
       "version_major": 2,
       "version_minor": 0
      },
      "text/plain": [
       "0it [00:00, ?it/s]"
      ]
     },
     "metadata": {},
     "output_type": "display_data"
    },
    {
     "name": "stdout",
     "output_type": "stream",
     "text": [
      "For type 4097, metrics:: auprc:0.838, auroc:0.9034, ap@50:1.0\n",
      "current: 6146\n"
     ]
    },
    {
     "data": {
      "application/vnd.jupyter.widget-view+json": {
       "model_id": "1e77f86e0ed249cc8ccb84519715494a",
       "version_major": 2,
       "version_minor": 0
      },
      "text/plain": [
       "0it [00:00, ?it/s]"
      ]
     },
     "metadata": {},
     "output_type": "display_data"
    },
    {
     "name": "stdout",
     "output_type": "stream",
     "text": [
      "For type 6146, metrics:: auprc:0.8108, auroc:0.8833, ap@50:1.0\n",
      "current: 6148\n"
     ]
    },
    {
     "data": {
      "application/vnd.jupyter.widget-view+json": {
       "model_id": "d21081240f934e5eb09f8b3aff07c505",
       "version_major": 2,
       "version_minor": 0
      },
      "text/plain": [
       "0it [00:00, ?it/s]"
      ]
     },
     "metadata": {},
     "output_type": "display_data"
    },
    {
     "name": "stdout",
     "output_type": "stream",
     "text": [
      "For type 6148, metrics:: auprc:0.8317, auroc:0.8988, ap@50:1.0\n",
      "current: 6152\n"
     ]
    },
    {
     "data": {
      "application/vnd.jupyter.widget-view+json": {
       "model_id": "aa5517020b22463ca226bf38172da131",
       "version_major": 2,
       "version_minor": 0
      },
      "text/plain": [
       "0it [00:00, ?it/s]"
      ]
     },
     "metadata": {},
     "output_type": "display_data"
    },
    {
     "name": "stdout",
     "output_type": "stream",
     "text": [
      "For type 6152, metrics:: auprc:0.8601, auroc:0.9187, ap@50:1.0\n",
      "current: 8201\n"
     ]
    },
    {
     "data": {
      "application/vnd.jupyter.widget-view+json": {
       "model_id": "be57a537343847e3901a8b47b2be65a9",
       "version_major": 2,
       "version_minor": 0
      },
      "text/plain": [
       "0it [00:00, ?it/s]"
      ]
     },
     "metadata": {},
     "output_type": "display_data"
    },
    {
     "name": "stdout",
     "output_type": "stream",
     "text": [
      "For type 8201, metrics:: auprc:0.8115, auroc:0.8838, ap@50:1.0\n",
      "current: 6153\n"
     ]
    },
    {
     "data": {
      "application/vnd.jupyter.widget-view+json": {
       "model_id": "41840deed46c46f3b0b5b4e05028fee9",
       "version_major": 2,
       "version_minor": 0
      },
      "text/plain": [
       "0it [00:00, ?it/s]"
      ]
     },
     "metadata": {},
     "output_type": "display_data"
    },
    {
     "name": "stdout",
     "output_type": "stream",
     "text": [
      "For type 6153, metrics:: auprc:0.8068, auroc:0.8803, ap@50:1.0\n",
      "current: 13\n"
     ]
    },
    {
     "data": {
      "application/vnd.jupyter.widget-view+json": {
       "model_id": "8ca5e80bb0e74583b93f99e4526579da",
       "version_major": 2,
       "version_minor": 0
      },
      "text/plain": [
       "0it [00:00, ?it/s]"
      ]
     },
     "metadata": {},
     "output_type": "display_data"
    },
    {
     "name": "stdout",
     "output_type": "stream",
     "text": [
      "For type 13, metrics:: auprc:0.8301, auroc:0.8976, ap@50:1.0\n",
      "current: 6157\n"
     ]
    },
    {
     "data": {
      "application/vnd.jupyter.widget-view+json": {
       "model_id": "05bddf36227645fb94af7766fb162618",
       "version_major": 2,
       "version_minor": 0
      },
      "text/plain": [
       "0it [00:00, ?it/s]"
      ]
     },
     "metadata": {},
     "output_type": "display_data"
    },
    {
     "name": "stdout",
     "output_type": "stream",
     "text": [
      "For type 6157, metrics:: auprc:0.8297, auroc:0.8973, ap@50:1.0\n",
      "current: 4112\n"
     ]
    },
    {
     "data": {
      "application/vnd.jupyter.widget-view+json": {
       "model_id": "49cfba0d343b44d8af2fc45983ba52d0",
       "version_major": 2,
       "version_minor": 0
      },
      "text/plain": [
       "0it [00:00, ?it/s]"
      ]
     },
     "metadata": {},
     "output_type": "display_data"
    },
    {
     "name": "stdout",
     "output_type": "stream",
     "text": [
      "For type 4112, metrics:: auprc:0.81, auroc:0.8827, ap@50:1.0\n",
      "current: 2065\n"
     ]
    },
    {
     "data": {
      "application/vnd.jupyter.widget-view+json": {
       "model_id": "1278759acaed4937bb83ee25e0bfb303",
       "version_major": 2,
       "version_minor": 0
      },
      "text/plain": [
       "0it [00:00, ?it/s]"
      ]
     },
     "metadata": {},
     "output_type": "display_data"
    },
    {
     "name": "stdout",
     "output_type": "stream",
     "text": [
      "For type 2065, metrics:: auprc:0.8107, auroc:0.8832, ap@50:1.0\n",
      "current: 2067\n"
     ]
    },
    {
     "data": {
      "application/vnd.jupyter.widget-view+json": {
       "model_id": "0dd1507408aa484380797378b7f5e01e",
       "version_major": 2,
       "version_minor": 0
      },
      "text/plain": [
       "0it [00:00, ?it/s]"
      ]
     },
     "metadata": {},
     "output_type": "display_data"
    },
    {
     "name": "stdout",
     "output_type": "stream",
     "text": [
      "For type 2067, metrics:: auprc:0.8237, auroc:0.893, ap@50:1.0\n",
      "current: 6163\n"
     ]
    },
    {
     "data": {
      "application/vnd.jupyter.widget-view+json": {
       "model_id": "0c86443023884651b3c56597ef9c5fec",
       "version_major": 2,
       "version_minor": 0
      },
      "text/plain": [
       "0it [00:00, ?it/s]"
      ]
     },
     "metadata": {},
     "output_type": "display_data"
    },
    {
     "name": "stdout",
     "output_type": "stream",
     "text": [
      "For type 6163, metrics:: auprc:0.8269, auroc:0.8953, ap@50:1.0\n",
      "current: 6165\n"
     ]
    },
    {
     "data": {
      "application/vnd.jupyter.widget-view+json": {
       "model_id": "0311b81dc7654c958e527966959553b3",
       "version_major": 2,
       "version_minor": 0
      },
      "text/plain": [
       "0it [00:00, ?it/s]"
      ]
     },
     "metadata": {},
     "output_type": "display_data"
    },
    {
     "name": "stdout",
     "output_type": "stream",
     "text": [
      "For type 6165, metrics:: auprc:0.8208, auroc:0.8909, ap@50:1.0\n",
      "current: 20\n"
     ]
    },
    {
     "data": {
      "application/vnd.jupyter.widget-view+json": {
       "model_id": "f0008da4337848829f4ad6442b500753",
       "version_major": 2,
       "version_minor": 0
      },
      "text/plain": [
       "0it [00:00, ?it/s]"
      ]
     },
     "metadata": {},
     "output_type": "display_data"
    },
    {
     "name": "stdout",
     "output_type": "stream",
     "text": [
      "For type 20, metrics:: auprc:0.8282, auroc:0.8963, ap@50:1.0\n",
      "current: 2075\n"
     ]
    },
    {
     "data": {
      "application/vnd.jupyter.widget-view+json": {
       "model_id": "706918c04ff84c35adf11754e83e423b",
       "version_major": 2,
       "version_minor": 0
      },
      "text/plain": [
       "0it [00:00, ?it/s]"
      ]
     },
     "metadata": {},
     "output_type": "display_data"
    },
    {
     "name": "stdout",
     "output_type": "stream",
     "text": [
      "For type 2075, metrics:: auprc:0.8149, auroc:0.8864, ap@50:1.0\n",
      "current: 32\n"
     ]
    },
    {
     "data": {
      "application/vnd.jupyter.widget-view+json": {
       "model_id": "c7dfe2371b53430ca247c575170e8b60",
       "version_major": 2,
       "version_minor": 0
      },
      "text/plain": [
       "0it [00:00, ?it/s]"
      ]
     },
     "metadata": {},
     "output_type": "display_data"
    },
    {
     "name": "stdout",
     "output_type": "stream",
     "text": [
      "For type 32, metrics:: auprc:0.8127, auroc:0.8848, ap@50:1.0\n",
      "current: 6179\n"
     ]
    },
    {
     "data": {
      "application/vnd.jupyter.widget-view+json": {
       "model_id": "8276a0cbcab3420a8f19194e0a834a48",
       "version_major": 2,
       "version_minor": 0
      },
      "text/plain": [
       "0it [00:00, ?it/s]"
      ]
     },
     "metadata": {},
     "output_type": "display_data"
    },
    {
     "name": "stdout",
     "output_type": "stream",
     "text": [
      "For type 6179, metrics:: auprc:0.8125, auroc:0.8846, ap@50:1.0\n",
      "current: 6180\n"
     ]
    },
    {
     "data": {
      "application/vnd.jupyter.widget-view+json": {
       "model_id": "4c9fd91d5dc048f8a3b26f0cbe72d048",
       "version_major": 2,
       "version_minor": 0
      },
      "text/plain": [
       "0it [00:00, ?it/s]"
      ]
     },
     "metadata": {},
     "output_type": "display_data"
    },
    {
     "name": "stdout",
     "output_type": "stream",
     "text": [
      "For type 6180, metrics:: auprc:0.8341, auroc:0.9005, ap@50:1.0\n",
      "current: 2084\n"
     ]
    },
    {
     "data": {
      "application/vnd.jupyter.widget-view+json": {
       "model_id": "6625c4accd67474f982c0cb356c9cefb",
       "version_major": 2,
       "version_minor": 0
      },
      "text/plain": [
       "0it [00:00, ?it/s]"
      ]
     },
     "metadata": {},
     "output_type": "display_data"
    },
    {
     "name": "stdout",
     "output_type": "stream",
     "text": [
      "For type 2084, metrics:: auprc:0.8264, auroc:0.895, ap@50:1.0\n",
      "current: 8230\n"
     ]
    },
    {
     "data": {
      "application/vnd.jupyter.widget-view+json": {
       "model_id": "a3a04c39e6c140f6aafb5dee5fd7310c",
       "version_major": 2,
       "version_minor": 0
      },
      "text/plain": [
       "0it [00:00, ?it/s]"
      ]
     },
     "metadata": {},
     "output_type": "display_data"
    },
    {
     "name": "stdout",
     "output_type": "stream",
     "text": [
      "For type 8230, metrics:: auprc:0.8074, auroc:0.8808, ap@50:1.0\n",
      "current: 2089\n"
     ]
    },
    {
     "data": {
      "application/vnd.jupyter.widget-view+json": {
       "model_id": "9a1f4114dcb54c39ab11d589faeffe83",
       "version_major": 2,
       "version_minor": 0
      },
      "text/plain": [
       "0it [00:00, ?it/s]"
      ]
     },
     "metadata": {},
     "output_type": "display_data"
    },
    {
     "name": "stdout",
     "output_type": "stream",
     "text": [
      "For type 2089, metrics:: auprc:0.7908, auroc:0.8678, ap@50:1.0\n",
      "current: 42\n"
     ]
    },
    {
     "data": {
      "application/vnd.jupyter.widget-view+json": {
       "model_id": "0b60c007a0f647cea6b22c2f5f70db79",
       "version_major": 2,
       "version_minor": 0
      },
      "text/plain": [
       "0it [00:00, ?it/s]"
      ]
     },
     "metadata": {},
     "output_type": "display_data"
    },
    {
     "name": "stdout",
     "output_type": "stream",
     "text": [
      "For type 42, metrics:: auprc:0.7865, auroc:0.8643, ap@50:1.0\n",
      "current: 2091\n"
     ]
    },
    {
     "data": {
      "application/vnd.jupyter.widget-view+json": {
       "model_id": "23cad998d71b4e73bab72068476e6923",
       "version_major": 2,
       "version_minor": 0
      },
      "text/plain": [
       "0it [00:00, ?it/s]"
      ]
     },
     "metadata": {},
     "output_type": "display_data"
    },
    {
     "name": "stdout",
     "output_type": "stream",
     "text": [
      "For type 2091, metrics:: auprc:0.8144, auroc:0.8861, ap@50:1.0\n",
      "current: 6188\n"
     ]
    },
    {
     "data": {
      "application/vnd.jupyter.widget-view+json": {
       "model_id": "60b2b589a84e4e93a246ad1eee5eb959",
       "version_major": 2,
       "version_minor": 0
      },
      "text/plain": [
       "0it [00:00, ?it/s]"
      ]
     },
     "metadata": {},
     "output_type": "display_data"
    },
    {
     "name": "stdout",
     "output_type": "stream",
     "text": [
      "For type 6188, metrics:: auprc:0.79, auroc:0.8671, ap@50:1.0\n",
      "current: 54\n"
     ]
    },
    {
     "data": {
      "application/vnd.jupyter.widget-view+json": {
       "model_id": "248c08063fdf4bbc8de0faad36a116a5",
       "version_major": 2,
       "version_minor": 0
      },
      "text/plain": [
       "0it [00:00, ?it/s]"
      ]
     },
     "metadata": {},
     "output_type": "display_data"
    },
    {
     "name": "stdout",
     "output_type": "stream",
     "text": [
      "For type 54, metrics:: auprc:0.8333, auroc:0.9, ap@50:1.0\n",
      "current: 6201\n"
     ]
    },
    {
     "data": {
      "application/vnd.jupyter.widget-view+json": {
       "model_id": "abb48115b3b44df7a12c0772234f33be",
       "version_major": 2,
       "version_minor": 0
      },
      "text/plain": [
       "0it [00:00, ?it/s]"
      ]
     },
     "metadata": {},
     "output_type": "display_data"
    },
    {
     "name": "stdout",
     "output_type": "stream",
     "text": [
      "For type 6201, metrics:: auprc:0.8168, auroc:0.8879, ap@50:1.0\n",
      "current: 4153\n"
     ]
    },
    {
     "data": {
      "application/vnd.jupyter.widget-view+json": {
       "model_id": "6b5377de70e04722b7ce4d5ec05e8580",
       "version_major": 2,
       "version_minor": 0
      },
      "text/plain": [
       "0it [00:00, ?it/s]"
      ]
     },
     "metadata": {},
     "output_type": "display_data"
    },
    {
     "name": "stdout",
     "output_type": "stream",
     "text": [
      "For type 4153, metrics:: auprc:0.8186, auroc:0.8892, ap@50:1.0\n",
      "current: 4156\n"
     ]
    },
    {
     "data": {
      "application/vnd.jupyter.widget-view+json": {
       "model_id": "57ca9030f219475897d6a95e7bef705d",
       "version_major": 2,
       "version_minor": 0
      },
      "text/plain": [
       "0it [00:00, ?it/s]"
      ]
     },
     "metadata": {},
     "output_type": "display_data"
    },
    {
     "name": "stdout",
     "output_type": "stream",
     "text": [
      "For type 4156, metrics:: auprc:0.8116, auroc:0.8839, ap@50:1.0\n",
      "current: 6207\n"
     ]
    },
    {
     "data": {
      "application/vnd.jupyter.widget-view+json": {
       "model_id": "5cb25726385d4106ab0de6e9e396cdad",
       "version_major": 2,
       "version_minor": 0
      },
      "text/plain": [
       "0it [00:00, ?it/s]"
      ]
     },
     "metadata": {},
     "output_type": "display_data"
    },
    {
     "name": "stdout",
     "output_type": "stream",
     "text": [
      "For type 6207, metrics:: auprc:0.8154, auroc:0.8868, ap@50:1.0\n",
      "current: 4162\n"
     ]
    },
    {
     "data": {
      "application/vnd.jupyter.widget-view+json": {
       "model_id": "27d8bfa9193446ddb54a81e3a944181c",
       "version_major": 2,
       "version_minor": 0
      },
      "text/plain": [
       "0it [00:00, ?it/s]"
      ]
     },
     "metadata": {},
     "output_type": "display_data"
    },
    {
     "name": "stdout",
     "output_type": "stream",
     "text": [
      "For type 4162, metrics:: auprc:0.7879, auroc:0.8654, ap@50:1.0\n",
      "current: 4165\n"
     ]
    },
    {
     "data": {
      "application/vnd.jupyter.widget-view+json": {
       "model_id": "ddc58c0fbc854b0081912847e3a2d389",
       "version_major": 2,
       "version_minor": 0
      },
      "text/plain": [
       "0it [00:00, ?it/s]"
      ]
     },
     "metadata": {},
     "output_type": "display_data"
    },
    {
     "name": "stdout",
     "output_type": "stream",
     "text": [
      "For type 4165, metrics:: auprc:0.8192, auroc:0.8896, ap@50:1.0\n",
      "current: 8263\n"
     ]
    },
    {
     "data": {
      "application/vnd.jupyter.widget-view+json": {
       "model_id": "1d09efb9b5834cf1b98db2e5ce0fb846",
       "version_major": 2,
       "version_minor": 0
      },
      "text/plain": [
       "0it [00:00, ?it/s]"
      ]
     },
     "metadata": {},
     "output_type": "display_data"
    },
    {
     "name": "stdout",
     "output_type": "stream",
     "text": [
      "For type 8263, metrics:: auprc:0.8232, auroc:0.8926, ap@50:1.0\n",
      "current: 2122\n"
     ]
    },
    {
     "data": {
      "application/vnd.jupyter.widget-view+json": {
       "model_id": "eed913bde0fa4887b150b96eaa288a5f",
       "version_major": 2,
       "version_minor": 0
      },
      "text/plain": [
       "0it [00:00, ?it/s]"
      ]
     },
     "metadata": {},
     "output_type": "display_data"
    },
    {
     "name": "stdout",
     "output_type": "stream",
     "text": [
      "For type 2122, metrics:: auprc:0.817, auroc:0.888, ap@50:1.0\n",
      "current: 8266\n"
     ]
    },
    {
     "data": {
      "application/vnd.jupyter.widget-view+json": {
       "model_id": "17e639f82f05428f8a48c2e5a30d39d8",
       "version_major": 2,
       "version_minor": 0
      },
      "text/plain": [
       "0it [00:00, ?it/s]"
      ]
     },
     "metadata": {},
     "output_type": "display_data"
    },
    {
     "name": "stdout",
     "output_type": "stream",
     "text": [
      "For type 8266, metrics:: auprc:0.8342, auroc:0.9006, ap@50:1.0\n",
      "current: 8270\n"
     ]
    },
    {
     "data": {
      "application/vnd.jupyter.widget-view+json": {
       "model_id": "697e1d47f300447d8da7c60c150a6f5e",
       "version_major": 2,
       "version_minor": 0
      },
      "text/plain": [
       "0it [00:00, ?it/s]"
      ]
     },
     "metadata": {},
     "output_type": "display_data"
    },
    {
     "name": "stdout",
     "output_type": "stream",
     "text": [
      "For type 8270, metrics:: auprc:0.8117, auroc:0.884, ap@50:1.0\n",
      "current: 4175\n"
     ]
    },
    {
     "data": {
      "application/vnd.jupyter.widget-view+json": {
       "model_id": "7bf32553155b4bd39c242d25151e9119",
       "version_major": 2,
       "version_minor": 0
      },
      "text/plain": [
       "0it [00:00, ?it/s]"
      ]
     },
     "metadata": {},
     "output_type": "display_data"
    },
    {
     "name": "stdout",
     "output_type": "stream",
     "text": [
      "For type 4175, metrics:: auprc:0.8147, auroc:0.8863, ap@50:1.0\n",
      "current: 6223\n"
     ]
    },
    {
     "data": {
      "application/vnd.jupyter.widget-view+json": {
       "model_id": "b9741cf720304738a34312c7077e4a20",
       "version_major": 2,
       "version_minor": 0
      },
      "text/plain": [
       "0it [00:00, ?it/s]"
      ]
     },
     "metadata": {},
     "output_type": "display_data"
    },
    {
     "name": "stdout",
     "output_type": "stream",
     "text": [
      "For type 6223, metrics:: auprc:0.8356, auroc:0.9016, ap@50:1.0\n",
      "current: 4174\n"
     ]
    },
    {
     "data": {
      "application/vnd.jupyter.widget-view+json": {
       "model_id": "503084a7518b437dbd74ef040aa8d430",
       "version_major": 2,
       "version_minor": 0
      },
      "text/plain": [
       "0it [00:00, ?it/s]"
      ]
     },
     "metadata": {},
     "output_type": "display_data"
    },
    {
     "name": "stdout",
     "output_type": "stream",
     "text": [
      "For type 4174, metrics:: auprc:0.8431, auroc:0.907, ap@50:1.0\n",
      "current: 6228\n"
     ]
    },
    {
     "data": {
      "application/vnd.jupyter.widget-view+json": {
       "model_id": "217cdb53bd6547a6aaed90d430773643",
       "version_major": 2,
       "version_minor": 0
      },
      "text/plain": [
       "0it [00:00, ?it/s]"
      ]
     },
     "metadata": {},
     "output_type": "display_data"
    },
    {
     "name": "stdout",
     "output_type": "stream",
     "text": [
      "For type 6228, metrics:: auprc:0.8651, auroc:0.922, ap@50:1.0\n",
      "current: 4181\n"
     ]
    },
    {
     "data": {
      "application/vnd.jupyter.widget-view+json": {
       "model_id": "f55ed5288644498297001005b1d1a863",
       "version_major": 2,
       "version_minor": 0
      },
      "text/plain": [
       "0it [00:00, ?it/s]"
      ]
     },
     "metadata": {},
     "output_type": "display_data"
    },
    {
     "name": "stdout",
     "output_type": "stream",
     "text": [
      "For type 4181, metrics:: auprc:0.7971, auroc:0.8727, ap@50:1.0\n",
      "current: 4182\n"
     ]
    },
    {
     "data": {
      "application/vnd.jupyter.widget-view+json": {
       "model_id": "f07f0bccd28a4f70b326ce4480a8ff25",
       "version_major": 2,
       "version_minor": 0
      },
      "text/plain": [
       "0it [00:00, ?it/s]"
      ]
     },
     "metadata": {},
     "output_type": "display_data"
    },
    {
     "name": "stdout",
     "output_type": "stream",
     "text": [
      "For type 4182, metrics:: auprc:0.8104, auroc:0.883, ap@50:1.0\n",
      "current: 2136\n"
     ]
    },
    {
     "data": {
      "application/vnd.jupyter.widget-view+json": {
       "model_id": "55d8df333958470f86cab046724e9aec",
       "version_major": 2,
       "version_minor": 0
      },
      "text/plain": [
       "0it [00:00, ?it/s]"
      ]
     },
     "metadata": {},
     "output_type": "display_data"
    },
    {
     "name": "stdout",
     "output_type": "stream",
     "text": [
      "For type 2136, metrics:: auprc:0.8095, auroc:0.8823, ap@50:1.0\n",
      "current: 2138\n"
     ]
    },
    {
     "data": {
      "application/vnd.jupyter.widget-view+json": {
       "model_id": "5f7f409d15be40d992a72196286afe1e",
       "version_major": 2,
       "version_minor": 0
      },
      "text/plain": [
       "0it [00:00, ?it/s]"
      ]
     },
     "metadata": {},
     "output_type": "display_data"
    },
    {
     "name": "stdout",
     "output_type": "stream",
     "text": [
      "For type 2138, metrics:: auprc:0.8222, auroc:0.8919, ap@50:1.0\n",
      "current: 8284\n"
     ]
    },
    {
     "data": {
      "application/vnd.jupyter.widget-view+json": {
       "model_id": "0d752e37418d4f38addd7f8c258c0ed8",
       "version_major": 2,
       "version_minor": 0
      },
      "text/plain": [
       "0it [00:00, ?it/s]"
      ]
     },
     "metadata": {},
     "output_type": "display_data"
    },
    {
     "name": "stdout",
     "output_type": "stream",
     "text": [
      "For type 8284, metrics:: auprc:0.8011, auroc:0.8759, ap@50:1.0\n",
      "current: 6239\n"
     ]
    },
    {
     "data": {
      "application/vnd.jupyter.widget-view+json": {
       "model_id": "f3448625dc0a412d837f40f8b6c6a3dc",
       "version_major": 2,
       "version_minor": 0
      },
      "text/plain": [
       "0it [00:00, ?it/s]"
      ]
     },
     "metadata": {},
     "output_type": "display_data"
    },
    {
     "name": "stdout",
     "output_type": "stream",
     "text": [
      "For type 6239, metrics:: auprc:0.8198, auroc:0.8901, ap@50:1.0\n",
      "current: 2146\n"
     ]
    },
    {
     "data": {
      "application/vnd.jupyter.widget-view+json": {
       "model_id": "b68c08e86a5341d9805e129b8926fce3",
       "version_major": 2,
       "version_minor": 0
      },
      "text/plain": [
       "0it [00:00, ?it/s]"
      ]
     },
     "metadata": {},
     "output_type": "display_data"
    },
    {
     "name": "stdout",
     "output_type": "stream",
     "text": [
      "For type 2146, metrics:: auprc:0.8057, auroc:0.8794, ap@50:1.0\n",
      "current: 2151\n"
     ]
    },
    {
     "data": {
      "application/vnd.jupyter.widget-view+json": {
       "model_id": "aa0a5d116bda4890b3b47ba06bafeafe",
       "version_major": 2,
       "version_minor": 0
      },
      "text/plain": [
       "0it [00:00, ?it/s]"
      ]
     },
     "metadata": {},
     "output_type": "display_data"
    },
    {
     "name": "stdout",
     "output_type": "stream",
     "text": [
      "For type 2151, metrics:: auprc:0.804, auroc:0.8781, ap@50:1.0\n",
      "current: 2153\n"
     ]
    },
    {
     "data": {
      "application/vnd.jupyter.widget-view+json": {
       "model_id": "33171994d9a6459595b00dbbb27ddb0c",
       "version_major": 2,
       "version_minor": 0
      },
      "text/plain": [
       "0it [00:00, ?it/s]"
      ]
     },
     "metadata": {},
     "output_type": "display_data"
    },
    {
     "name": "stdout",
     "output_type": "stream",
     "text": [
      "For type 2153, metrics:: auprc:0.8136, auroc:0.8854, ap@50:1.0\n",
      "current: 106\n"
     ]
    },
    {
     "data": {
      "application/vnd.jupyter.widget-view+json": {
       "model_id": "0ba80b53171d41d194dd4f4482d76080",
       "version_major": 2,
       "version_minor": 0
      },
      "text/plain": [
       "0it [00:00, ?it/s]"
      ]
     },
     "metadata": {},
     "output_type": "display_data"
    },
    {
     "name": "stdout",
     "output_type": "stream",
     "text": [
      "For type 106, metrics:: auprc:0.8166, auroc:0.8877, ap@50:1.0\n",
      "current: 2156\n"
     ]
    },
    {
     "data": {
      "application/vnd.jupyter.widget-view+json": {
       "model_id": "30702c2f6ae044f7b97335376106be74",
       "version_major": 2,
       "version_minor": 0
      },
      "text/plain": [
       "0it [00:00, ?it/s]"
      ]
     },
     "metadata": {},
     "output_type": "display_data"
    },
    {
     "name": "stdout",
     "output_type": "stream",
     "text": [
      "For type 2156, metrics:: auprc:0.8163, auroc:0.8875, ap@50:1.0\n",
      "current: 8302\n"
     ]
    },
    {
     "data": {
      "application/vnd.jupyter.widget-view+json": {
       "model_id": "7db1b92130804863ac23c7181d2e8574",
       "version_major": 2,
       "version_minor": 0
      },
      "text/plain": [
       "0it [00:00, ?it/s]"
      ]
     },
     "metadata": {},
     "output_type": "display_data"
    },
    {
     "name": "stdout",
     "output_type": "stream",
     "text": [
      "For type 8302, metrics:: auprc:0.8269, auroc:0.8953, ap@50:1.0\n",
      "current: 4207\n"
     ]
    },
    {
     "data": {
      "application/vnd.jupyter.widget-view+json": {
       "model_id": "693f58fc58a94c4086b1c478693189cb",
       "version_major": 2,
       "version_minor": 0
      },
      "text/plain": [
       "0it [00:00, ?it/s]"
      ]
     },
     "metadata": {},
     "output_type": "display_data"
    },
    {
     "name": "stdout",
     "output_type": "stream",
     "text": [
      "For type 4207, metrics:: auprc:0.8319, auroc:0.899, ap@50:1.0\n",
      "current: 4209\n"
     ]
    },
    {
     "data": {
      "application/vnd.jupyter.widget-view+json": {
       "model_id": "05d1deaf6a1747dfaa30bdc75506b3cf",
       "version_major": 2,
       "version_minor": 0
      },
      "text/plain": [
       "0it [00:00, ?it/s]"
      ]
     },
     "metadata": {},
     "output_type": "display_data"
    },
    {
     "name": "stdout",
     "output_type": "stream",
     "text": [
      "For type 4209, metrics:: auprc:0.8192, auroc:0.8896, ap@50:1.0\n",
      "current: 114\n"
     ]
    },
    {
     "data": {
      "application/vnd.jupyter.widget-view+json": {
       "model_id": "8e7af2f2add74542a553c63bd3d6e136",
       "version_major": 2,
       "version_minor": 0
      },
      "text/plain": [
       "0it [00:00, ?it/s]"
      ]
     },
     "metadata": {},
     "output_type": "display_data"
    },
    {
     "name": "stdout",
     "output_type": "stream",
     "text": [
      "For type 114, metrics:: auprc:0.8206, auroc:0.8907, ap@50:1.0\n",
      "current: 115\n"
     ]
    },
    {
     "data": {
      "application/vnd.jupyter.widget-view+json": {
       "model_id": "285b01336f8741719aeea41e183fce95",
       "version_major": 2,
       "version_minor": 0
      },
      "text/plain": [
       "0it [00:00, ?it/s]"
      ]
     },
     "metadata": {},
     "output_type": "display_data"
    },
    {
     "name": "stdout",
     "output_type": "stream",
     "text": [
      "For type 115, metrics:: auprc:0.8234, auroc:0.8928, ap@50:1.0\n",
      "current: 8308\n"
     ]
    },
    {
     "data": {
      "application/vnd.jupyter.widget-view+json": {
       "model_id": "b8c4e2c5dd9e468bb73716a5b6bbec42",
       "version_major": 2,
       "version_minor": 0
      },
      "text/plain": [
       "0it [00:00, ?it/s]"
      ]
     },
     "metadata": {},
     "output_type": "display_data"
    },
    {
     "name": "stdout",
     "output_type": "stream",
     "text": [
      "For type 8308, metrics:: auprc:0.8203, auroc:0.8905, ap@50:1.0\n",
      "current: 4212\n"
     ]
    },
    {
     "data": {
      "application/vnd.jupyter.widget-view+json": {
       "model_id": "af3b1fec0346440585c4bd729aa3ca80",
       "version_major": 2,
       "version_minor": 0
      },
      "text/plain": [
       "0it [00:00, ?it/s]"
      ]
     },
     "metadata": {},
     "output_type": "display_data"
    },
    {
     "name": "stdout",
     "output_type": "stream",
     "text": [
      "For type 4212, metrics:: auprc:0.8073, auroc:0.8807, ap@50:1.0\n",
      "current: 2165\n"
     ]
    },
    {
     "data": {
      "application/vnd.jupyter.widget-view+json": {
       "model_id": "f5ef87d38696458996d623ea95243770",
       "version_major": 2,
       "version_minor": 0
      },
      "text/plain": [
       "0it [00:00, ?it/s]"
      ]
     },
     "metadata": {},
     "output_type": "display_data"
    },
    {
     "name": "stdout",
     "output_type": "stream",
     "text": [
      "For type 2165, metrics:: auprc:0.8156, auroc:0.8869, ap@50:1.0\n",
      "current: 113\n"
     ]
    },
    {
     "data": {
      "application/vnd.jupyter.widget-view+json": {
       "model_id": "a7e450e3c7064dac95494e7df6a2d142",
       "version_major": 2,
       "version_minor": 0
      },
      "text/plain": [
       "0it [00:00, ?it/s]"
      ]
     },
     "metadata": {},
     "output_type": "display_data"
    },
    {
     "name": "stdout",
     "output_type": "stream",
     "text": [
      "For type 113, metrics:: auprc:0.8184, auroc:0.889, ap@50:1.0\n",
      "current: 6258\n"
     ]
    },
    {
     "data": {
      "application/vnd.jupyter.widget-view+json": {
       "model_id": "314887f96f0a461ba8fde61f560ed6e0",
       "version_major": 2,
       "version_minor": 0
      },
      "text/plain": [
       "0it [00:00, ?it/s]"
      ]
     },
     "metadata": {},
     "output_type": "display_data"
    },
    {
     "name": "stdout",
     "output_type": "stream",
     "text": [
      "For type 6258, metrics:: auprc:0.8054, auroc:0.8792, ap@50:1.0\n",
      "current: 6266\n"
     ]
    },
    {
     "data": {
      "application/vnd.jupyter.widget-view+json": {
       "model_id": "6c4d9ddfe028404b9dcffa452de2f6e9",
       "version_major": 2,
       "version_minor": 0
      },
      "text/plain": [
       "0it [00:00, ?it/s]"
      ]
     },
     "metadata": {},
     "output_type": "display_data"
    },
    {
     "name": "stdout",
     "output_type": "stream",
     "text": [
      "For type 6266, metrics:: auprc:0.7931, auroc:0.8696, ap@50:1.0\n",
      "current: 8317\n"
     ]
    },
    {
     "data": {
      "application/vnd.jupyter.widget-view+json": {
       "model_id": "862383f072c2448b8053dc807ded1b2a",
       "version_major": 2,
       "version_minor": 0
      },
      "text/plain": [
       "0it [00:00, ?it/s]"
      ]
     },
     "metadata": {},
     "output_type": "display_data"
    },
    {
     "name": "stdout",
     "output_type": "stream",
     "text": [
      "For type 8317, metrics:: auprc:0.8159, auroc:0.8872, ap@50:1.0\n",
      "current: 6270\n"
     ]
    },
    {
     "data": {
      "application/vnd.jupyter.widget-view+json": {
       "model_id": "479717fccaa0436f98a0e847e0b5494b",
       "version_major": 2,
       "version_minor": 0
      },
      "text/plain": [
       "0it [00:00, ?it/s]"
      ]
     },
     "metadata": {},
     "output_type": "display_data"
    },
    {
     "name": "stdout",
     "output_type": "stream",
     "text": [
      "For type 6270, metrics:: auprc:0.8044, auroc:0.8784, ap@50:1.0\n",
      "current: 2176\n"
     ]
    },
    {
     "data": {
      "application/vnd.jupyter.widget-view+json": {
       "model_id": "bb8e928c2e6e48948954453764d5791e",
       "version_major": 2,
       "version_minor": 0
      },
      "text/plain": [
       "0it [00:00, ?it/s]"
      ]
     },
     "metadata": {},
     "output_type": "display_data"
    },
    {
     "name": "stdout",
     "output_type": "stream",
     "text": [
      "For type 2176, metrics:: auprc:0.8085, auroc:0.8816, ap@50:1.0\n",
      "current: 8323\n"
     ]
    },
    {
     "data": {
      "application/vnd.jupyter.widget-view+json": {
       "model_id": "7650d9b1265c412785c216f97ffcf7ed",
       "version_major": 2,
       "version_minor": 0
      },
      "text/plain": [
       "0it [00:00, ?it/s]"
      ]
     },
     "metadata": {},
     "output_type": "display_data"
    },
    {
     "name": "stdout",
     "output_type": "stream",
     "text": [
      "For type 8323, metrics:: auprc:0.8412, auroc:0.9056, ap@50:1.0\n",
      "current: 2180\n"
     ]
    },
    {
     "data": {
      "application/vnd.jupyter.widget-view+json": {
       "model_id": "22b501b8b2e240dd9eec83922df48dc8",
       "version_major": 2,
       "version_minor": 0
      },
      "text/plain": [
       "0it [00:00, ?it/s]"
      ]
     },
     "metadata": {},
     "output_type": "display_data"
    },
    {
     "name": "stdout",
     "output_type": "stream",
     "text": [
      "For type 2180, metrics:: auprc:0.8136, auroc:0.8854, ap@50:1.0\n",
      "current: 2183\n"
     ]
    },
    {
     "data": {
      "application/vnd.jupyter.widget-view+json": {
       "model_id": "158299f1d84344d58944d23cdea49934",
       "version_major": 2,
       "version_minor": 0
      },
      "text/plain": [
       "0it [00:00, ?it/s]"
      ]
     },
     "metadata": {},
     "output_type": "display_data"
    },
    {
     "name": "stdout",
     "output_type": "stream",
     "text": [
      "For type 2183, metrics:: auprc:0.8217, auroc:0.8915, ap@50:1.0\n",
      "current: 6280\n"
     ]
    },
    {
     "data": {
      "application/vnd.jupyter.widget-view+json": {
       "model_id": "bab0b211062e41ad892607b0f28822e2",
       "version_major": 2,
       "version_minor": 0
      },
      "text/plain": [
       "0it [00:00, ?it/s]"
      ]
     },
     "metadata": {},
     "output_type": "display_data"
    },
    {
     "name": "stdout",
     "output_type": "stream",
     "text": [
      "For type 6280, metrics:: auprc:0.8218, auroc:0.8916, ap@50:1.0\n",
      "current: 2185\n"
     ]
    },
    {
     "data": {
      "application/vnd.jupyter.widget-view+json": {
       "model_id": "f30798aa5b254638a7e7b4758721be37",
       "version_major": 2,
       "version_minor": 0
      },
      "text/plain": [
       "0it [00:00, ?it/s]"
      ]
     },
     "metadata": {},
     "output_type": "display_data"
    },
    {
     "name": "stdout",
     "output_type": "stream",
     "text": [
      "For type 2185, metrics:: auprc:0.8289, auroc:0.8968, ap@50:1.0\n",
      "current: 6282\n"
     ]
    },
    {
     "data": {
      "application/vnd.jupyter.widget-view+json": {
       "model_id": "dcd3cffeaa5643309dc49f11db2fad19",
       "version_major": 2,
       "version_minor": 0
      },
      "text/plain": [
       "0it [00:00, ?it/s]"
      ]
     },
     "metadata": {},
     "output_type": "display_data"
    },
    {
     "name": "stdout",
     "output_type": "stream",
     "text": [
      "For type 6282, metrics:: auprc:0.8193, auroc:0.8897, ap@50:1.0\n",
      "current: 4235\n"
     ]
    },
    {
     "data": {
      "application/vnd.jupyter.widget-view+json": {
       "model_id": "3649ef820cfc4c0da7c1ffd266bd2119",
       "version_major": 2,
       "version_minor": 0
      },
      "text/plain": [
       "0it [00:00, ?it/s]"
      ]
     },
     "metadata": {},
     "output_type": "display_data"
    },
    {
     "name": "stdout",
     "output_type": "stream",
     "text": [
      "For type 4235, metrics:: auprc:0.8292, auroc:0.897, ap@50:1.0\n",
      "current: 4237\n"
     ]
    },
    {
     "data": {
      "application/vnd.jupyter.widget-view+json": {
       "model_id": "f2d613df1c1840a6af29baa1afb7ba6c",
       "version_major": 2,
       "version_minor": 0
      },
      "text/plain": [
       "0it [00:00, ?it/s]"
      ]
     },
     "metadata": {},
     "output_type": "display_data"
    },
    {
     "name": "stdout",
     "output_type": "stream",
     "text": [
      "For type 4237, metrics:: auprc:0.8215, auroc:0.8914, ap@50:1.0\n",
      "current: 143\n"
     ]
    },
    {
     "data": {
      "application/vnd.jupyter.widget-view+json": {
       "model_id": "5cc8199c4c7d46e9af0991451faf4ffa",
       "version_major": 2,
       "version_minor": 0
      },
      "text/plain": [
       "0it [00:00, ?it/s]"
      ]
     },
     "metadata": {},
     "output_type": "display_data"
    },
    {
     "name": "stdout",
     "output_type": "stream",
     "text": [
      "For type 143, metrics:: auprc:0.7887, auroc:0.8661, ap@50:1.0\n",
      "current: 6291\n"
     ]
    },
    {
     "data": {
      "application/vnd.jupyter.widget-view+json": {
       "model_id": "766bc7b942954f8581e6b26aad468259",
       "version_major": 2,
       "version_minor": 0
      },
      "text/plain": [
       "0it [00:00, ?it/s]"
      ]
     },
     "metadata": {},
     "output_type": "display_data"
    },
    {
     "name": "stdout",
     "output_type": "stream",
     "text": [
      "For type 6291, metrics:: auprc:0.8394, auroc:0.9044, ap@50:1.0\n",
      "current: 4243\n"
     ]
    },
    {
     "data": {
      "application/vnd.jupyter.widget-view+json": {
       "model_id": "3b150a67ad7f4d229c7ec11a44a6e16f",
       "version_major": 2,
       "version_minor": 0
      },
      "text/plain": [
       "0it [00:00, ?it/s]"
      ]
     },
     "metadata": {},
     "output_type": "display_data"
    },
    {
     "name": "stdout",
     "output_type": "stream",
     "text": [
      "For type 4243, metrics:: auprc:0.813, auroc:0.885, ap@50:1.0\n",
      "current: 4246\n"
     ]
    },
    {
     "data": {
      "application/vnd.jupyter.widget-view+json": {
       "model_id": "33b5a69079564dcf8752c9ac75241e80",
       "version_major": 2,
       "version_minor": 0
      },
      "text/plain": [
       "0it [00:00, ?it/s]"
      ]
     },
     "metadata": {},
     "output_type": "display_data"
    },
    {
     "name": "stdout",
     "output_type": "stream",
     "text": [
      "For type 4246, metrics:: auprc:0.8044, auroc:0.8784, ap@50:1.0\n",
      "current: 8344\n"
     ]
    },
    {
     "data": {
      "application/vnd.jupyter.widget-view+json": {
       "model_id": "0445235a418b434bb01d00a8741b4f55",
       "version_major": 2,
       "version_minor": 0
      },
      "text/plain": [
       "0it [00:00, ?it/s]"
      ]
     },
     "metadata": {},
     "output_type": "display_data"
    },
    {
     "name": "stdout",
     "output_type": "stream",
     "text": [
      "For type 8344, metrics:: auprc:0.8111, auroc:0.8836, ap@50:1.0\n",
      "current: 4249\n"
     ]
    },
    {
     "data": {
      "application/vnd.jupyter.widget-view+json": {
       "model_id": "cf181425db62491ebe38869e1964fc50",
       "version_major": 2,
       "version_minor": 0
      },
      "text/plain": [
       "0it [00:00, ?it/s]"
      ]
     },
     "metadata": {},
     "output_type": "display_data"
    },
    {
     "name": "stdout",
     "output_type": "stream",
     "text": [
      "For type 4249, metrics:: auprc:0.8169, auroc:0.8879, ap@50:1.0\n",
      "current: 156\n"
     ]
    },
    {
     "data": {
      "application/vnd.jupyter.widget-view+json": {
       "model_id": "e4df50f9c35f4eb4871241e023d3c1cf",
       "version_major": 2,
       "version_minor": 0
      },
      "text/plain": [
       "0it [00:00, ?it/s]"
      ]
     },
     "metadata": {},
     "output_type": "display_data"
    },
    {
     "name": "stdout",
     "output_type": "stream",
     "text": [
      "For type 156, metrics:: auprc:0.8125, auroc:0.8846, ap@50:1.0\n",
      "current: 8349\n"
     ]
    },
    {
     "data": {
      "application/vnd.jupyter.widget-view+json": {
       "model_id": "7acf8099f667446490c15c5724f4f6e3",
       "version_major": 2,
       "version_minor": 0
      },
      "text/plain": [
       "0it [00:00, ?it/s]"
      ]
     },
     "metadata": {},
     "output_type": "display_data"
    },
    {
     "name": "stdout",
     "output_type": "stream",
     "text": [
      "For type 8349, metrics:: auprc:0.8299, auroc:0.8975, ap@50:1.0\n",
      "current: 8350\n"
     ]
    },
    {
     "data": {
      "application/vnd.jupyter.widget-view+json": {
       "model_id": "faf2cb56fda34975a4c6814d4c988e29",
       "version_major": 2,
       "version_minor": 0
      },
      "text/plain": [
       "0it [00:00, ?it/s]"
      ]
     },
     "metadata": {},
     "output_type": "display_data"
    },
    {
     "name": "stdout",
     "output_type": "stream",
     "text": [
      "For type 8350, metrics:: auprc:0.8046, auroc:0.8786, ap@50:1.0\n",
      "current: 165\n"
     ]
    },
    {
     "data": {
      "application/vnd.jupyter.widget-view+json": {
       "model_id": "ce49c0831f794afe949fa504ed76dc6e",
       "version_major": 2,
       "version_minor": 0
      },
      "text/plain": [
       "0it [00:00, ?it/s]"
      ]
     },
     "metadata": {},
     "output_type": "display_data"
    },
    {
     "name": "stdout",
     "output_type": "stream",
     "text": [
      "For type 165, metrics:: auprc:0.8167, auroc:0.8878, ap@50:1.0\n",
      "current: 6309\n"
     ]
    },
    {
     "data": {
      "application/vnd.jupyter.widget-view+json": {
       "model_id": "8fd08f02e3ce497d896581a69f8a7090",
       "version_major": 2,
       "version_minor": 0
      },
      "text/plain": [
       "0it [00:00, ?it/s]"
      ]
     },
     "metadata": {},
     "output_type": "display_data"
    },
    {
     "name": "stdout",
     "output_type": "stream",
     "text": [
      "For type 6309, metrics:: auprc:0.8091, auroc:0.882, ap@50:1.0\n",
      "current: 4263\n"
     ]
    },
    {
     "data": {
      "application/vnd.jupyter.widget-view+json": {
       "model_id": "f158a9a3b0264f748c8ee6abcab0fb1a",
       "version_major": 2,
       "version_minor": 0
      },
      "text/plain": [
       "0it [00:00, ?it/s]"
      ]
     },
     "metadata": {},
     "output_type": "display_data"
    },
    {
     "name": "stdout",
     "output_type": "stream",
     "text": [
      "For type 4263, metrics:: auprc:0.8496, auroc:0.9115, ap@50:1.0\n",
      "current: 168\n"
     ]
    },
    {
     "data": {
      "application/vnd.jupyter.widget-view+json": {
       "model_id": "6624c965a22f4fa590346e219d5f465d",
       "version_major": 2,
       "version_minor": 0
      },
      "text/plain": [
       "0it [00:00, ?it/s]"
      ]
     },
     "metadata": {},
     "output_type": "display_data"
    },
    {
     "name": "stdout",
     "output_type": "stream",
     "text": [
      "For type 168, metrics:: auprc:0.8158, auroc:0.8871, ap@50:1.0\n",
      "current: 8359\n"
     ]
    },
    {
     "data": {
      "application/vnd.jupyter.widget-view+json": {
       "model_id": "b17b44ff1faa4c9fb3ea8af58060e22e",
       "version_major": 2,
       "version_minor": 0
      },
      "text/plain": [
       "0it [00:00, ?it/s]"
      ]
     },
     "metadata": {},
     "output_type": "display_data"
    },
    {
     "name": "stdout",
     "output_type": "stream",
     "text": [
      "For type 8359, metrics:: auprc:0.7934, auroc:0.8698, ap@50:1.0\n",
      "current: 2218\n"
     ]
    },
    {
     "data": {
      "application/vnd.jupyter.widget-view+json": {
       "model_id": "53674ff6ec114df5a085f7d79b3e0e91",
       "version_major": 2,
       "version_minor": 0
      },
      "text/plain": [
       "0it [00:00, ?it/s]"
      ]
     },
     "metadata": {},
     "output_type": "display_data"
    },
    {
     "name": "stdout",
     "output_type": "stream",
     "text": [
      "For type 2218, metrics:: auprc:0.8216, auroc:0.8914, ap@50:1.0\n",
      "current: 4267\n"
     ]
    },
    {
     "data": {
      "application/vnd.jupyter.widget-view+json": {
       "model_id": "2a493db635f549e79a75a16a33663c0c",
       "version_major": 2,
       "version_minor": 0
      },
      "text/plain": [
       "0it [00:00, ?it/s]"
      ]
     },
     "metadata": {},
     "output_type": "display_data"
    },
    {
     "name": "stdout",
     "output_type": "stream",
     "text": [
      "For type 4267, metrics:: auprc:0.8247, auroc:0.8937, ap@50:1.0\n",
      "current: 170\n"
     ]
    },
    {
     "data": {
      "application/vnd.jupyter.widget-view+json": {
       "model_id": "ff0fff27d8c44b2ea0d6d18effc8e37d",
       "version_major": 2,
       "version_minor": 0
      },
      "text/plain": [
       "0it [00:00, ?it/s]"
      ]
     },
     "metadata": {},
     "output_type": "display_data"
    },
    {
     "name": "stdout",
     "output_type": "stream",
     "text": [
      "For type 170, metrics:: auprc:0.8228, auroc:0.8923, ap@50:1.0\n",
      "current: 4271\n"
     ]
    },
    {
     "data": {
      "application/vnd.jupyter.widget-view+json": {
       "model_id": "3a3d4f83b8f54510940de4eb527564d4",
       "version_major": 2,
       "version_minor": 0
      },
      "text/plain": [
       "0it [00:00, ?it/s]"
      ]
     },
     "metadata": {},
     "output_type": "display_data"
    },
    {
     "name": "stdout",
     "output_type": "stream",
     "text": [
      "For type 4271, metrics:: auprc:0.8162, auroc:0.8874, ap@50:1.0\n",
      "current: 2223\n"
     ]
    },
    {
     "data": {
      "application/vnd.jupyter.widget-view+json": {
       "model_id": "1dea3a0e90f442eabb846363f74af19d",
       "version_major": 2,
       "version_minor": 0
      },
      "text/plain": [
       "0it [00:00, ?it/s]"
      ]
     },
     "metadata": {},
     "output_type": "display_data"
    },
    {
     "name": "stdout",
     "output_type": "stream",
     "text": [
      "For type 2223, metrics:: auprc:0.8101, auroc:0.8828, ap@50:1.0\n",
      "current: 2225\n"
     ]
    },
    {
     "data": {
      "application/vnd.jupyter.widget-view+json": {
       "model_id": "ae0504bdf3c047eb99fc16207fdfa4ae",
       "version_major": 2,
       "version_minor": 0
      },
      "text/plain": [
       "0it [00:00, ?it/s]"
      ]
     },
     "metadata": {},
     "output_type": "display_data"
    },
    {
     "name": "stdout",
     "output_type": "stream",
     "text": [
      "For type 2225, metrics:: auprc:0.82, auroc:0.8902, ap@50:1.0\n",
      "current: 3699\n"
     ]
    },
    {
     "data": {
      "application/vnd.jupyter.widget-view+json": {
       "model_id": "b0be4a5bb54f4f0693ebf7ebecffeeba",
       "version_major": 2,
       "version_minor": 0
      },
      "text/plain": [
       "0it [00:00, ?it/s]"
      ]
     },
     "metadata": {},
     "output_type": "display_data"
    },
    {
     "name": "stdout",
     "output_type": "stream",
     "text": [
      "For type 3699, metrics:: auprc:0.8631, auroc:0.9207, ap@50:1.0\n",
      "current: 8371\n"
     ]
    },
    {
     "data": {
      "application/vnd.jupyter.widget-view+json": {
       "model_id": "4ebafa855ea6489287408e1268930eaa",
       "version_major": 2,
       "version_minor": 0
      },
      "text/plain": [
       "0it [00:00, ?it/s]"
      ]
     },
     "metadata": {},
     "output_type": "display_data"
    },
    {
     "name": "stdout",
     "output_type": "stream",
     "text": [
      "For type 8371, metrics:: auprc:0.8115, auroc:0.8838, ap@50:1.0\n",
      "current: 183\n"
     ]
    },
    {
     "data": {
      "application/vnd.jupyter.widget-view+json": {
       "model_id": "2e9d6ccc6d53476eb02fdc4e89277840",
       "version_major": 2,
       "version_minor": 0
      },
      "text/plain": [
       "0it [00:00, ?it/s]"
      ]
     },
     "metadata": {},
     "output_type": "display_data"
    },
    {
     "name": "stdout",
     "output_type": "stream",
     "text": [
      "For type 183, metrics:: auprc:0.8311, auroc:0.8984, ap@50:1.0\n",
      "current: 2236\n"
     ]
    },
    {
     "data": {
      "application/vnd.jupyter.widget-view+json": {
       "model_id": "ae9d5824accf4c91ad02633228334344",
       "version_major": 2,
       "version_minor": 0
      },
      "text/plain": [
       "0it [00:00, ?it/s]"
      ]
     },
     "metadata": {},
     "output_type": "display_data"
    },
    {
     "name": "stdout",
     "output_type": "stream",
     "text": [
      "For type 2236, metrics:: auprc:0.821, auroc:0.891, ap@50:1.0\n",
      "current: 192\n"
     ]
    },
    {
     "data": {
      "application/vnd.jupyter.widget-view+json": {
       "model_id": "3e96a754a96f46f4a7dac65b64cddcab",
       "version_major": 2,
       "version_minor": 0
      },
      "text/plain": [
       "0it [00:00, ?it/s]"
      ]
     },
     "metadata": {},
     "output_type": "display_data"
    },
    {
     "name": "stdout",
     "output_type": "stream",
     "text": [
      "For type 192, metrics:: auprc:0.815, auroc:0.8865, ap@50:1.0\n",
      "current: 193\n"
     ]
    },
    {
     "data": {
      "application/vnd.jupyter.widget-view+json": {
       "model_id": "36e00534b4ae4d268cbfe8f88f542534",
       "version_major": 2,
       "version_minor": 0
      },
      "text/plain": [
       "0it [00:00, ?it/s]"
      ]
     },
     "metadata": {},
     "output_type": "display_data"
    },
    {
     "name": "stdout",
     "output_type": "stream",
     "text": [
      "For type 193, metrics:: auprc:0.8265, auroc:0.8951, ap@50:1.0\n",
      "current: 6338\n"
     ]
    },
    {
     "data": {
      "application/vnd.jupyter.widget-view+json": {
       "model_id": "6132fa4efda74c4d97a0427d92efcc83",
       "version_major": 2,
       "version_minor": 0
      },
      "text/plain": [
       "0it [00:00, ?it/s]"
      ]
     },
     "metadata": {},
     "output_type": "display_data"
    },
    {
     "name": "stdout",
     "output_type": "stream",
     "text": [
      "For type 6338, metrics:: auprc:0.8177, auroc:0.8885, ap@50:1.0\n",
      "current: 8387\n"
     ]
    },
    {
     "data": {
      "application/vnd.jupyter.widget-view+json": {
       "model_id": "7539238fc9544bd2b4794f93dccae3b2",
       "version_major": 2,
       "version_minor": 0
      },
      "text/plain": [
       "0it [00:00, ?it/s]"
      ]
     },
     "metadata": {},
     "output_type": "display_data"
    },
    {
     "name": "stdout",
     "output_type": "stream",
     "text": [
      "For type 8387, metrics:: auprc:0.8281, auroc:0.8962, ap@50:1.0\n",
      "current: 4290\n"
     ]
    },
    {
     "data": {
      "application/vnd.jupyter.widget-view+json": {
       "model_id": "711899a43a484ae5b1a06166173ceb21",
       "version_major": 2,
       "version_minor": 0
      },
      "text/plain": [
       "0it [00:00, ?it/s]"
      ]
     },
     "metadata": {},
     "output_type": "display_data"
    },
    {
     "name": "stdout",
     "output_type": "stream",
     "text": [
      "For type 4290, metrics:: auprc:0.8314, auroc:0.8986, ap@50:1.0\n",
      "current: 2243\n"
     ]
    },
    {
     "data": {
      "application/vnd.jupyter.widget-view+json": {
       "model_id": "0ba40c81337c43109fac789516e27101",
       "version_major": 2,
       "version_minor": 0
      },
      "text/plain": [
       "0it [00:00, ?it/s]"
      ]
     },
     "metadata": {},
     "output_type": "display_data"
    },
    {
     "name": "stdout",
     "output_type": "stream",
     "text": [
      "For type 2243, metrics:: auprc:0.8516, auroc:0.9128, ap@50:1.0\n",
      "current: 199\n"
     ]
    },
    {
     "data": {
      "application/vnd.jupyter.widget-view+json": {
       "model_id": "7543f1f850d9445abe2f7f43bfd43cfa",
       "version_major": 2,
       "version_minor": 0
      },
      "text/plain": [
       "0it [00:00, ?it/s]"
      ]
     },
     "metadata": {},
     "output_type": "display_data"
    },
    {
     "name": "stdout",
     "output_type": "stream",
     "text": [
      "For type 199, metrics:: auprc:0.8082, auroc:0.8813, ap@50:1.0\n",
      "current: 6345\n"
     ]
    },
    {
     "data": {
      "application/vnd.jupyter.widget-view+json": {
       "model_id": "0ee23bc05c554700b46af7a3dba2d378",
       "version_major": 2,
       "version_minor": 0
      },
      "text/plain": [
       "0it [00:00, ?it/s]"
      ]
     },
     "metadata": {},
     "output_type": "display_data"
    },
    {
     "name": "stdout",
     "output_type": "stream",
     "text": [
      "For type 6345, metrics:: auprc:0.8169, auroc:0.888, ap@50:1.0\n",
      "current: 202\n"
     ]
    },
    {
     "data": {
      "application/vnd.jupyter.widget-view+json": {
       "model_id": "01bd98f231a44c26a51d74cc381e3b1b",
       "version_major": 2,
       "version_minor": 0
      },
      "text/plain": [
       "0it [00:00, ?it/s]"
      ]
     },
     "metadata": {},
     "output_type": "display_data"
    },
    {
     "name": "stdout",
     "output_type": "stream",
     "text": [
      "For type 202, metrics:: auprc:0.8105, auroc:0.8831, ap@50:1.0\n",
      "current: 2249\n"
     ]
    },
    {
     "data": {
      "application/vnd.jupyter.widget-view+json": {
       "model_id": "f7f7946eb5ba4d29ad0d13fe7cc96765",
       "version_major": 2,
       "version_minor": 0
      },
      "text/plain": [
       "0it [00:00, ?it/s]"
      ]
     },
     "metadata": {},
     "output_type": "display_data"
    },
    {
     "name": "stdout",
     "output_type": "stream",
     "text": [
      "For type 2249, metrics:: auprc:0.813, auroc:0.885, ap@50:1.0\n",
      "current: 8404\n"
     ]
    },
    {
     "data": {
      "application/vnd.jupyter.widget-view+json": {
       "model_id": "7c2b39473f274c7eb9b3458c54b2a0a7",
       "version_major": 2,
       "version_minor": 0
      },
      "text/plain": [
       "0it [00:00, ?it/s]"
      ]
     },
     "metadata": {},
     "output_type": "display_data"
    },
    {
     "name": "stdout",
     "output_type": "stream",
     "text": [
      "For type 8404, metrics:: auprc:0.7965, auroc:0.8722, ap@50:1.0\n",
      "current: 4309\n"
     ]
    },
    {
     "data": {
      "application/vnd.jupyter.widget-view+json": {
       "model_id": "1a6b48ae9475469b8e79a2c1141255a5",
       "version_major": 2,
       "version_minor": 0
      },
      "text/plain": [
       "0it [00:00, ?it/s]"
      ]
     },
     "metadata": {},
     "output_type": "display_data"
    },
    {
     "name": "stdout",
     "output_type": "stream",
     "text": [
      "For type 4309, metrics:: auprc:0.8141, auroc:0.8858, ap@50:1.0\n",
      "current: 4316\n"
     ]
    },
    {
     "data": {
      "application/vnd.jupyter.widget-view+json": {
       "model_id": "2c95473da2774778a0d29e81a12f4d85",
       "version_major": 2,
       "version_minor": 0
      },
      "text/plain": [
       "0it [00:00, ?it/s]"
      ]
     },
     "metadata": {},
     "output_type": "display_data"
    },
    {
     "name": "stdout",
     "output_type": "stream",
     "text": [
      "For type 4316, metrics:: auprc:0.8215, auroc:0.8914, ap@50:1.0\n",
      "current: 221\n"
     ]
    },
    {
     "data": {
      "application/vnd.jupyter.widget-view+json": {
       "model_id": "01f19732411b4f849e00233c6fc5cb5c",
       "version_major": 2,
       "version_minor": 0
      },
      "text/plain": [
       "0it [00:00, ?it/s]"
      ]
     },
     "metadata": {},
     "output_type": "display_data"
    },
    {
     "name": "stdout",
     "output_type": "stream",
     "text": [
      "For type 221, metrics:: auprc:0.8137, auroc:0.8856, ap@50:1.0\n",
      "current: 4318\n"
     ]
    },
    {
     "data": {
      "application/vnd.jupyter.widget-view+json": {
       "model_id": "9cee9dcec7474215b57d3eceaf2c2410",
       "version_major": 2,
       "version_minor": 0
      },
      "text/plain": [
       "0it [00:00, ?it/s]"
      ]
     },
     "metadata": {},
     "output_type": "display_data"
    },
    {
     "name": "stdout",
     "output_type": "stream",
     "text": [
      "For type 4318, metrics:: auprc:0.8264, auroc:0.8949, ap@50:1.0\n",
      "current: 6365\n"
     ]
    },
    {
     "data": {
      "application/vnd.jupyter.widget-view+json": {
       "model_id": "d053949fd3e441dd908c215d5aca18cc",
       "version_major": 2,
       "version_minor": 0
      },
      "text/plain": [
       "0it [00:00, ?it/s]"
      ]
     },
     "metadata": {},
     "output_type": "display_data"
    },
    {
     "name": "stdout",
     "output_type": "stream",
     "text": [
      "For type 6365, metrics:: auprc:0.812, auroc:0.8843, ap@50:1.0\n",
      "current: 6367\n"
     ]
    },
    {
     "data": {
      "application/vnd.jupyter.widget-view+json": {
       "model_id": "96e8843f278c46638cdbc926c0bd4c96",
       "version_major": 2,
       "version_minor": 0
      },
      "text/plain": [
       "0it [00:00, ?it/s]"
      ]
     },
     "metadata": {},
     "output_type": "display_data"
    },
    {
     "name": "stdout",
     "output_type": "stream",
     "text": [
      "For type 6367, metrics:: auprc:0.8009, auroc:0.8757, ap@50:1.0\n",
      "current: 4321\n"
     ]
    },
    {
     "data": {
      "application/vnd.jupyter.widget-view+json": {
       "model_id": "a6eb3542dc5c44d1b38ff88f69cf26d2",
       "version_major": 2,
       "version_minor": 0
      },
      "text/plain": [
       "0it [00:00, ?it/s]"
      ]
     },
     "metadata": {},
     "output_type": "display_data"
    },
    {
     "name": "stdout",
     "output_type": "stream",
     "text": [
      "For type 4321, metrics:: auprc:0.8134, auroc:0.8853, ap@50:1.0\n",
      "current: 8422\n"
     ]
    },
    {
     "data": {
      "application/vnd.jupyter.widget-view+json": {
       "model_id": "7be2c340bbcf41e481d2ec379b640885",
       "version_major": 2,
       "version_minor": 0
      },
      "text/plain": [
       "0it [00:00, ?it/s]"
      ]
     },
     "metadata": {},
     "output_type": "display_data"
    },
    {
     "name": "stdout",
     "output_type": "stream",
     "text": [
      "For type 8422, metrics:: auprc:0.809, auroc:0.8819, ap@50:1.0\n",
      "current: 8423\n"
     ]
    },
    {
     "data": {
      "application/vnd.jupyter.widget-view+json": {
       "model_id": "bb28befbf5f445cda7074021a33e1caf",
       "version_major": 2,
       "version_minor": 0
      },
      "text/plain": [
       "0it [00:00, ?it/s]"
      ]
     },
     "metadata": {},
     "output_type": "display_data"
    },
    {
     "name": "stdout",
     "output_type": "stream",
     "text": [
      "For type 8423, metrics:: auprc:0.8075, auroc:0.8808, ap@50:1.0\n",
      "current: 231\n"
     ]
    },
    {
     "data": {
      "application/vnd.jupyter.widget-view+json": {
       "model_id": "a159e2acf1f34c95a553d3215392f711",
       "version_major": 2,
       "version_minor": 0
      },
      "text/plain": [
       "0it [00:00, ?it/s]"
      ]
     },
     "metadata": {},
     "output_type": "display_data"
    },
    {
     "name": "stdout",
     "output_type": "stream",
     "text": [
      "For type 231, metrics:: auprc:0.7945, auroc:0.8707, ap@50:1.0\n",
      "current: 4329\n"
     ]
    },
    {
     "data": {
      "application/vnd.jupyter.widget-view+json": {
       "model_id": "feb7f159f2794da78d2ae469fe5194d5",
       "version_major": 2,
       "version_minor": 0
      },
      "text/plain": [
       "0it [00:00, ?it/s]"
      ]
     },
     "metadata": {},
     "output_type": "display_data"
    },
    {
     "name": "stdout",
     "output_type": "stream",
     "text": [
      "For type 4329, metrics:: auprc:0.8065, auroc:0.88, ap@50:1.0\n",
      "current: 242\n"
     ]
    },
    {
     "data": {
      "application/vnd.jupyter.widget-view+json": {
       "model_id": "c0bdf0deaaeb434994727c95f5b45deb",
       "version_major": 2,
       "version_minor": 0
      },
      "text/plain": [
       "0it [00:00, ?it/s]"
      ]
     },
     "metadata": {},
     "output_type": "display_data"
    },
    {
     "name": "stdout",
     "output_type": "stream",
     "text": [
      "For type 242, metrics:: auprc:0.8191, auroc:0.8896, ap@50:1.0\n",
      "current: 8437\n"
     ]
    },
    {
     "data": {
      "application/vnd.jupyter.widget-view+json": {
       "model_id": "8e82461f70b545f3b42528b97e803eab",
       "version_major": 2,
       "version_minor": 0
      },
      "text/plain": [
       "0it [00:00, ?it/s]"
      ]
     },
     "metadata": {},
     "output_type": "display_data"
    },
    {
     "name": "stdout",
     "output_type": "stream",
     "text": [
      "For type 8437, metrics:: auprc:0.8153, auroc:0.8868, ap@50:1.0\n",
      "current: 247\n"
     ]
    },
    {
     "data": {
      "application/vnd.jupyter.widget-view+json": {
       "model_id": "756cfb35a9d746e4bd6f6943f6bd9ba6",
       "version_major": 2,
       "version_minor": 0
      },
      "text/plain": [
       "0it [00:00, ?it/s]"
      ]
     },
     "metadata": {},
     "output_type": "display_data"
    },
    {
     "name": "stdout",
     "output_type": "stream",
     "text": [
      "For type 247, metrics:: auprc:0.809, auroc:0.882, ap@50:1.0\n",
      "current: 8439\n"
     ]
    },
    {
     "data": {
      "application/vnd.jupyter.widget-view+json": {
       "model_id": "3a169d3dae8d477fa841aa06396d82a6",
       "version_major": 2,
       "version_minor": 0
      },
      "text/plain": [
       "0it [00:00, ?it/s]"
      ]
     },
     "metadata": {},
     "output_type": "display_data"
    },
    {
     "name": "stdout",
     "output_type": "stream",
     "text": [
      "For type 8439, metrics:: auprc:0.8331, auroc:0.8998, ap@50:1.0\n",
      "current: 8443\n"
     ]
    },
    {
     "data": {
      "application/vnd.jupyter.widget-view+json": {
       "model_id": "e744ac9b2cfb430aad0acc74bbe5eefa",
       "version_major": 2,
       "version_minor": 0
      },
      "text/plain": [
       "0it [00:00, ?it/s]"
      ]
     },
     "metadata": {},
     "output_type": "display_data"
    },
    {
     "name": "stdout",
     "output_type": "stream",
     "text": [
      "For type 8443, metrics:: auprc:0.8239, auroc:0.8931, ap@50:1.0\n",
      "current: 254\n"
     ]
    },
    {
     "data": {
      "application/vnd.jupyter.widget-view+json": {
       "model_id": "8b220c29a90942d192832933b6793100",
       "version_major": 2,
       "version_minor": 0
      },
      "text/plain": [
       "0it [00:00, ?it/s]"
      ]
     },
     "metadata": {},
     "output_type": "display_data"
    },
    {
     "name": "stdout",
     "output_type": "stream",
     "text": [
      "For type 254, metrics:: auprc:0.8409, auroc:0.9054, ap@50:1.0\n",
      "current: 4351\n"
     ]
    },
    {
     "data": {
      "application/vnd.jupyter.widget-view+json": {
       "model_id": "053f04c61f4342278d8f41216bf7bca9",
       "version_major": 2,
       "version_minor": 0
      },
      "text/plain": [
       "0it [00:00, ?it/s]"
      ]
     },
     "metadata": {},
     "output_type": "display_data"
    },
    {
     "name": "stdout",
     "output_type": "stream",
     "text": [
      "For type 4351, metrics:: auprc:0.8065, auroc:0.8801, ap@50:1.0\n",
      "current: 8448\n"
     ]
    },
    {
     "data": {
      "application/vnd.jupyter.widget-view+json": {
       "model_id": "4c4be8e80d7741518201c138a4f50cd8",
       "version_major": 2,
       "version_minor": 0
      },
      "text/plain": [
       "0it [00:00, ?it/s]"
      ]
     },
     "metadata": {},
     "output_type": "display_data"
    },
    {
     "name": "stdout",
     "output_type": "stream",
     "text": [
      "For type 8448, metrics:: auprc:0.8075, auroc:0.8808, ap@50:1.0\n",
      "current: 2305\n"
     ]
    },
    {
     "data": {
      "application/vnd.jupyter.widget-view+json": {
       "model_id": "fd46f3e7a6fe495cacb075af8b0f3f9c",
       "version_major": 2,
       "version_minor": 0
      },
      "text/plain": [
       "0it [00:00, ?it/s]"
      ]
     },
     "metadata": {},
     "output_type": "display_data"
    },
    {
     "name": "stdout",
     "output_type": "stream",
     "text": [
      "For type 2305, metrics:: auprc:0.7946, auroc:0.8708, ap@50:1.0\n",
      "current: 6401\n"
     ]
    },
    {
     "data": {
      "application/vnd.jupyter.widget-view+json": {
       "model_id": "9c0555c070694028abbcf3230d315206",
       "version_major": 2,
       "version_minor": 0
      },
      "text/plain": [
       "0it [00:00, ?it/s]"
      ]
     },
     "metadata": {},
     "output_type": "display_data"
    },
    {
     "name": "stdout",
     "output_type": "stream",
     "text": [
      "For type 6401, metrics:: auprc:0.7753, auroc:0.8551, ap@50:1.0\n",
      "current: 8454\n"
     ]
    },
    {
     "data": {
      "application/vnd.jupyter.widget-view+json": {
       "model_id": "4be6a66a15954b1493268e68fbf381ad",
       "version_major": 2,
       "version_minor": 0
      },
      "text/plain": [
       "0it [00:00, ?it/s]"
      ]
     },
     "metadata": {},
     "output_type": "display_data"
    },
    {
     "name": "stdout",
     "output_type": "stream",
     "text": [
      "For type 8454, metrics:: auprc:0.8079, auroc:0.8811, ap@50:1.0\n",
      "current: 6410\n"
     ]
    },
    {
     "data": {
      "application/vnd.jupyter.widget-view+json": {
       "model_id": "89390f7b25ba4a8ba07d299a635f282c",
       "version_major": 2,
       "version_minor": 0
      },
      "text/plain": [
       "0it [00:00, ?it/s]"
      ]
     },
     "metadata": {},
     "output_type": "display_data"
    },
    {
     "name": "stdout",
     "output_type": "stream",
     "text": [
      "For type 6410, metrics:: auprc:0.8053, auroc:0.8791, ap@50:1.0\n",
      "current: 6411\n"
     ]
    },
    {
     "data": {
      "application/vnd.jupyter.widget-view+json": {
       "model_id": "02f4ce819ac5491cbe8b6f0ef1949cca",
       "version_major": 2,
       "version_minor": 0
      },
      "text/plain": [
       "0it [00:00, ?it/s]"
      ]
     },
     "metadata": {},
     "output_type": "display_data"
    },
    {
     "name": "stdout",
     "output_type": "stream",
     "text": [
      "For type 6411, metrics:: auprc:0.7819, auroc:0.8605, ap@50:1.0\n",
      "current: 6412\n"
     ]
    },
    {
     "data": {
      "application/vnd.jupyter.widget-view+json": {
       "model_id": "1bacd596e1d244299eb3f80726defe57",
       "version_major": 2,
       "version_minor": 0
      },
      "text/plain": [
       "0it [00:00, ?it/s]"
      ]
     },
     "metadata": {},
     "output_type": "display_data"
    },
    {
     "name": "stdout",
     "output_type": "stream",
     "text": [
      "For type 6412, metrics:: auprc:0.8421, auroc:0.9062, ap@50:1.0\n",
      "current: 6414\n"
     ]
    },
    {
     "data": {
      "application/vnd.jupyter.widget-view+json": {
       "model_id": "55ef0c365f204941a946d51da2a08cb3",
       "version_major": 2,
       "version_minor": 0
      },
      "text/plain": [
       "0it [00:00, ?it/s]"
      ]
     },
     "metadata": {},
     "output_type": "display_data"
    },
    {
     "name": "stdout",
     "output_type": "stream",
     "text": [
      "For type 6414, metrics:: auprc:0.836, auroc:0.9019, ap@50:1.0\n",
      "current: 4370\n"
     ]
    },
    {
     "data": {
      "application/vnd.jupyter.widget-view+json": {
       "model_id": "cff275b990634306af1834dd1c73ed07",
       "version_major": 2,
       "version_minor": 0
      },
      "text/plain": [
       "0it [00:00, ?it/s]"
      ]
     },
     "metadata": {},
     "output_type": "display_data"
    },
    {
     "name": "stdout",
     "output_type": "stream",
     "text": [
      "For type 4370, metrics:: auprc:0.8088, auroc:0.8818, ap@50:1.0\n",
      "current: 275\n"
     ]
    },
    {
     "data": {
      "application/vnd.jupyter.widget-view+json": {
       "model_id": "3969fe5d09a8451e8addb28b30e6f38a",
       "version_major": 2,
       "version_minor": 0
      },
      "text/plain": [
       "0it [00:00, ?it/s]"
      ]
     },
     "metadata": {},
     "output_type": "display_data"
    },
    {
     "name": "stdout",
     "output_type": "stream",
     "text": [
      "For type 275, metrics:: auprc:0.8178, auroc:0.8886, ap@50:1.0\n",
      "current: 2327\n"
     ]
    },
    {
     "data": {
      "application/vnd.jupyter.widget-view+json": {
       "model_id": "45e227d4f8f2432a9a8c24c804fa3a51",
       "version_major": 2,
       "version_minor": 0
      },
      "text/plain": [
       "0it [00:00, ?it/s]"
      ]
     },
     "metadata": {},
     "output_type": "display_data"
    },
    {
     "name": "stdout",
     "output_type": "stream",
     "text": [
      "For type 2327, metrics:: auprc:0.8096, auroc:0.8824, ap@50:1.0\n",
      "current: 2329\n"
     ]
    },
    {
     "data": {
      "application/vnd.jupyter.widget-view+json": {
       "model_id": "1369b8168e714ce0adbeae13a9f8a7bf",
       "version_major": 2,
       "version_minor": 0
      },
      "text/plain": [
       "0it [00:00, ?it/s]"
      ]
     },
     "metadata": {},
     "output_type": "display_data"
    },
    {
     "name": "stdout",
     "output_type": "stream",
     "text": [
      "For type 2329, metrics:: auprc:0.809, auroc:0.8819, ap@50:1.0\n",
      "current: 281\n"
     ]
    },
    {
     "data": {
      "application/vnd.jupyter.widget-view+json": {
       "model_id": "e8fe17ac73534cd18c7e874ef4fad881",
       "version_major": 2,
       "version_minor": 0
      },
      "text/plain": [
       "0it [00:00, ?it/s]"
      ]
     },
     "metadata": {},
     "output_type": "display_data"
    },
    {
     "name": "stdout",
     "output_type": "stream",
     "text": [
      "For type 281, metrics:: auprc:0.8161, auroc:0.8873, ap@50:1.0\n",
      "current: 4380\n"
     ]
    },
    {
     "data": {
      "application/vnd.jupyter.widget-view+json": {
       "model_id": "9ccf0cea6d97414d9248e7c90776179d",
       "version_major": 2,
       "version_minor": 0
      },
      "text/plain": [
       "0it [00:00, ?it/s]"
      ]
     },
     "metadata": {},
     "output_type": "display_data"
    },
    {
     "name": "stdout",
     "output_type": "stream",
     "text": [
      "For type 4380, metrics:: auprc:0.8038, auroc:0.8779, ap@50:1.0\n",
      "current: 6429\n"
     ]
    },
    {
     "data": {
      "application/vnd.jupyter.widget-view+json": {
       "model_id": "a57bdd45ea4b4d0d960a379e5abe7809",
       "version_major": 2,
       "version_minor": 0
      },
      "text/plain": [
       "0it [00:00, ?it/s]"
      ]
     },
     "metadata": {},
     "output_type": "display_data"
    },
    {
     "name": "stdout",
     "output_type": "stream",
     "text": [
      "For type 6429, metrics:: auprc:0.8101, auroc:0.8828, ap@50:1.0\n",
      "current: 285\n"
     ]
    },
    {
     "data": {
      "application/vnd.jupyter.widget-view+json": {
       "model_id": "64d9f353d1124b36a9a730b4924ba47b",
       "version_major": 2,
       "version_minor": 0
      },
      "text/plain": [
       "0it [00:00, ?it/s]"
      ]
     },
     "metadata": {},
     "output_type": "display_data"
    },
    {
     "name": "stdout",
     "output_type": "stream",
     "text": [
      "For type 285, metrics:: auprc:0.8179, auroc:0.8886, ap@50:1.0\n",
      "current: 293\n"
     ]
    },
    {
     "data": {
      "application/vnd.jupyter.widget-view+json": {
       "model_id": "1d1155dbd0c948a4867759999995a14a",
       "version_major": 2,
       "version_minor": 0
      },
      "text/plain": [
       "0it [00:00, ?it/s]"
      ]
     },
     "metadata": {},
     "output_type": "display_data"
    },
    {
     "name": "stdout",
     "output_type": "stream",
     "text": [
      "For type 293, metrics:: auprc:0.7959, auroc:0.8718, ap@50:1.0\n",
      "current: 8488\n"
     ]
    },
    {
     "data": {
      "application/vnd.jupyter.widget-view+json": {
       "model_id": "77ee1b71341f4d7cb391b92fa1ded0cf",
       "version_major": 2,
       "version_minor": 0
      },
      "text/plain": [
       "0it [00:00, ?it/s]"
      ]
     },
     "metadata": {},
     "output_type": "display_data"
    },
    {
     "name": "stdout",
     "output_type": "stream",
     "text": [
      "For type 8488, metrics:: auprc:0.8044, auroc:0.8785, ap@50:1.0\n",
      "current: 6444\n"
     ]
    },
    {
     "data": {
      "application/vnd.jupyter.widget-view+json": {
       "model_id": "e7f86abb6e1b4ef2a50d64f64a182f08",
       "version_major": 2,
       "version_minor": 0
      },
      "text/plain": [
       "0it [00:00, ?it/s]"
      ]
     },
     "metadata": {},
     "output_type": "display_data"
    },
    {
     "name": "stdout",
     "output_type": "stream",
     "text": [
      "For type 6444, metrics:: auprc:0.8177, auroc:0.8885, ap@50:1.0\n",
      "current: 304\n"
     ]
    },
    {
     "data": {
      "application/vnd.jupyter.widget-view+json": {
       "model_id": "d3cedf293d9a4a228db2e3e4d5f19a5a",
       "version_major": 2,
       "version_minor": 0
      },
      "text/plain": [
       "0it [00:00, ?it/s]"
      ]
     },
     "metadata": {},
     "output_type": "display_data"
    },
    {
     "name": "stdout",
     "output_type": "stream",
     "text": [
      "For type 304, metrics:: auprc:0.8231, auroc:0.8926, ap@50:1.0\n",
      "current: 6450\n"
     ]
    },
    {
     "data": {
      "application/vnd.jupyter.widget-view+json": {
       "model_id": "ae5fd6de3e6646d4a722d5d9ddf56d42",
       "version_major": 2,
       "version_minor": 0
      },
      "text/plain": [
       "0it [00:00, ?it/s]"
      ]
     },
     "metadata": {},
     "output_type": "display_data"
    },
    {
     "name": "stdout",
     "output_type": "stream",
     "text": [
      "For type 6450, metrics:: auprc:0.7968, auroc:0.8725, ap@50:1.0\n",
      "current: 306\n"
     ]
    },
    {
     "data": {
      "application/vnd.jupyter.widget-view+json": {
       "model_id": "45d3754b220345dea691adc47bba69da",
       "version_major": 2,
       "version_minor": 0
      },
      "text/plain": [
       "0it [00:00, ?it/s]"
      ]
     },
     "metadata": {},
     "output_type": "display_data"
    },
    {
     "name": "stdout",
     "output_type": "stream",
     "text": [
      "For type 306, metrics:: auprc:0.8814, auroc:0.9327, ap@50:1.0\n",
      "current: 312\n"
     ]
    },
    {
     "data": {
      "application/vnd.jupyter.widget-view+json": {
       "model_id": "14d3e73333154b1daddb14b5b419f874",
       "version_major": 2,
       "version_minor": 0
      },
      "text/plain": [
       "0it [00:00, ?it/s]"
      ]
     },
     "metadata": {},
     "output_type": "display_data"
    },
    {
     "name": "stdout",
     "output_type": "stream",
     "text": [
      "For type 312, metrics:: auprc:0.8185, auroc:0.8891, ap@50:1.0\n",
      "current: 2360\n"
     ]
    },
    {
     "data": {
      "application/vnd.jupyter.widget-view+json": {
       "model_id": "31cf28c240fa452399f730551c69ad1d",
       "version_major": 2,
       "version_minor": 0
      },
      "text/plain": [
       "0it [00:00, ?it/s]"
      ]
     },
     "metadata": {},
     "output_type": "display_data"
    },
    {
     "name": "stdout",
     "output_type": "stream",
     "text": [
      "For type 2360, metrics:: auprc:0.8145, auroc:0.8861, ap@50:1.0\n",
      "current: 4410\n"
     ]
    },
    {
     "data": {
      "application/vnd.jupyter.widget-view+json": {
       "model_id": "ba98067e6d0d46179774f47a550975df",
       "version_major": 2,
       "version_minor": 0
      },
      "text/plain": [
       "0it [00:00, ?it/s]"
      ]
     },
     "metadata": {},
     "output_type": "display_data"
    },
    {
     "name": "stdout",
     "output_type": "stream",
     "text": [
      "For type 4410, metrics:: auprc:0.8067, auroc:0.8802, ap@50:1.0\n",
      "current: 6457\n"
     ]
    },
    {
     "data": {
      "application/vnd.jupyter.widget-view+json": {
       "model_id": "46347553555747c1a02380a3d7470162",
       "version_major": 2,
       "version_minor": 0
      },
      "text/plain": [
       "0it [00:00, ?it/s]"
      ]
     },
     "metadata": {},
     "output_type": "display_data"
    },
    {
     "name": "stdout",
     "output_type": "stream",
     "text": [
      "For type 6457, metrics:: auprc:0.8288, auroc:0.8967, ap@50:1.0\n",
      "current: 2361\n"
     ]
    },
    {
     "data": {
      "application/vnd.jupyter.widget-view+json": {
       "model_id": "238f08a74984455da0aeee3fa162068e",
       "version_major": 2,
       "version_minor": 0
      },
      "text/plain": [
       "0it [00:00, ?it/s]"
      ]
     },
     "metadata": {},
     "output_type": "display_data"
    },
    {
     "name": "stdout",
     "output_type": "stream",
     "text": [
      "For type 2361, metrics:: auprc:0.8446, auroc:0.908, ap@50:1.0\n",
      "current: 323\n"
     ]
    },
    {
     "data": {
      "application/vnd.jupyter.widget-view+json": {
       "model_id": "b753dc89f392437a8ad85e13c99054ee",
       "version_major": 2,
       "version_minor": 0
      },
      "text/plain": [
       "0it [00:00, ?it/s]"
      ]
     },
     "metadata": {},
     "output_type": "display_data"
    },
    {
     "name": "stdout",
     "output_type": "stream",
     "text": [
      "For type 323, metrics:: auprc:0.8246, auroc:0.8937, ap@50:1.0\n",
      "current: 6468\n"
     ]
    },
    {
     "data": {
      "application/vnd.jupyter.widget-view+json": {
       "model_id": "305b0a43930f4b5baf64cc3756025b12",
       "version_major": 2,
       "version_minor": 0
      },
      "text/plain": [
       "0it [00:00, ?it/s]"
      ]
     },
     "metadata": {},
     "output_type": "display_data"
    },
    {
     "name": "stdout",
     "output_type": "stream",
     "text": [
      "For type 6468, metrics:: auprc:0.7996, auroc:0.8747, ap@50:1.0\n",
      "current: 4423\n"
     ]
    },
    {
     "data": {
      "application/vnd.jupyter.widget-view+json": {
       "model_id": "984409572a75415484234c62e0cecba5",
       "version_major": 2,
       "version_minor": 0
      },
      "text/plain": [
       "0it [00:00, ?it/s]"
      ]
     },
     "metadata": {},
     "output_type": "display_data"
    },
    {
     "name": "stdout",
     "output_type": "stream",
     "text": [
      "For type 4423, metrics:: auprc:0.8187, auroc:0.8893, ap@50:1.0\n",
      "current: 6475\n"
     ]
    },
    {
     "data": {
      "application/vnd.jupyter.widget-view+json": {
       "model_id": "7046d000e9ed4ddc81168bcf476799c0",
       "version_major": 2,
       "version_minor": 0
      },
      "text/plain": [
       "0it [00:00, ?it/s]"
      ]
     },
     "metadata": {},
     "output_type": "display_data"
    },
    {
     "name": "stdout",
     "output_type": "stream",
     "text": [
      "For type 6475, metrics:: auprc:0.8301, auroc:0.8976, ap@50:1.0\n",
      "current: 4428\n"
     ]
    },
    {
     "data": {
      "application/vnd.jupyter.widget-view+json": {
       "model_id": "72c0921d24ef4d7cabaa38c01b1ff4c9",
       "version_major": 2,
       "version_minor": 0
      },
      "text/plain": [
       "0it [00:00, ?it/s]"
      ]
     },
     "metadata": {},
     "output_type": "display_data"
    },
    {
     "name": "stdout",
     "output_type": "stream",
     "text": [
      "For type 4428, metrics:: auprc:0.8191, auroc:0.8895, ap@50:1.0\n",
      "current: 332\n"
     ]
    },
    {
     "data": {
      "application/vnd.jupyter.widget-view+json": {
       "model_id": "82eb5e5987204eb3be6b3c52f49fefcf",
       "version_major": 2,
       "version_minor": 0
      },
      "text/plain": [
       "0it [00:00, ?it/s]"
      ]
     },
     "metadata": {},
     "output_type": "display_data"
    },
    {
     "name": "stdout",
     "output_type": "stream",
     "text": [
      "For type 332, metrics:: auprc:0.8069, auroc:0.8804, ap@50:1.0\n",
      "current: 2382\n"
     ]
    },
    {
     "data": {
      "application/vnd.jupyter.widget-view+json": {
       "model_id": "978eddaf0fce42d3816cce27ae143f05",
       "version_major": 2,
       "version_minor": 0
      },
      "text/plain": [
       "0it [00:00, ?it/s]"
      ]
     },
     "metadata": {},
     "output_type": "display_data"
    },
    {
     "name": "stdout",
     "output_type": "stream",
     "text": [
      "For type 2382, metrics:: auprc:0.7915, auroc:0.8683, ap@50:1.0\n",
      "current: 6481\n"
     ]
    },
    {
     "data": {
      "application/vnd.jupyter.widget-view+json": {
       "model_id": "8ce59e43c1044a0c8df7d9c9c1e57a53",
       "version_major": 2,
       "version_minor": 0
      },
      "text/plain": [
       "0it [00:00, ?it/s]"
      ]
     },
     "metadata": {},
     "output_type": "display_data"
    },
    {
     "name": "stdout",
     "output_type": "stream",
     "text": [
      "For type 6481, metrics:: auprc:0.7956, auroc:0.8715, ap@50:1.0\n",
      "current: 340\n"
     ]
    },
    {
     "data": {
      "application/vnd.jupyter.widget-view+json": {
       "model_id": "7768bca792a6424cb580adb8d3072a64",
       "version_major": 2,
       "version_minor": 0
      },
      "text/plain": [
       "0it [00:00, ?it/s]"
      ]
     },
     "metadata": {},
     "output_type": "display_data"
    },
    {
     "name": "stdout",
     "output_type": "stream",
     "text": [
      "For type 340, metrics:: auprc:0.8236, auroc:0.8929, ap@50:1.0\n",
      "current: 8535\n"
     ]
    },
    {
     "data": {
      "application/vnd.jupyter.widget-view+json": {
       "model_id": "9e7762df883449a4bd9cbd1ea121c499",
       "version_major": 2,
       "version_minor": 0
      },
      "text/plain": [
       "0it [00:00, ?it/s]"
      ]
     },
     "metadata": {},
     "output_type": "display_data"
    },
    {
     "name": "stdout",
     "output_type": "stream",
     "text": [
      "For type 8535, metrics:: auprc:0.8162, auroc:0.8874, ap@50:1.0\n",
      "current: 8536\n"
     ]
    },
    {
     "data": {
      "application/vnd.jupyter.widget-view+json": {
       "model_id": "f33547959ef349c88782ca07e5d55fbb",
       "version_major": 2,
       "version_minor": 0
      },
      "text/plain": [
       "0it [00:00, ?it/s]"
      ]
     },
     "metadata": {},
     "output_type": "display_data"
    },
    {
     "name": "stdout",
     "output_type": "stream",
     "text": [
      "For type 8536, metrics:: auprc:0.8201, auroc:0.8903, ap@50:1.0\n",
      "current: 4439\n"
     ]
    },
    {
     "data": {
      "application/vnd.jupyter.widget-view+json": {
       "model_id": "7fe181fb418145cf8b377052052ba5fb",
       "version_major": 2,
       "version_minor": 0
      },
      "text/plain": [
       "0it [00:00, ?it/s]"
      ]
     },
     "metadata": {},
     "output_type": "display_data"
    },
    {
     "name": "stdout",
     "output_type": "stream",
     "text": [
      "For type 4439, metrics:: auprc:0.8169, auroc:0.8879, ap@50:1.0\n",
      "current: 6491\n"
     ]
    },
    {
     "data": {
      "application/vnd.jupyter.widget-view+json": {
       "model_id": "c5d19a02b250440d8c01308b4e5be9f6",
       "version_major": 2,
       "version_minor": 0
      },
      "text/plain": [
       "0it [00:00, ?it/s]"
      ]
     },
     "metadata": {},
     "output_type": "display_data"
    },
    {
     "name": "stdout",
     "output_type": "stream",
     "text": [
      "For type 6491, metrics:: auprc:0.825, auroc:0.8939, ap@50:1.0\n",
      "current: 6492\n"
     ]
    },
    {
     "data": {
      "application/vnd.jupyter.widget-view+json": {
       "model_id": "373b251877a74d5580e0d59b3f0599a3",
       "version_major": 2,
       "version_minor": 0
      },
      "text/plain": [
       "0it [00:00, ?it/s]"
      ]
     },
     "metadata": {},
     "output_type": "display_data"
    },
    {
     "name": "stdout",
     "output_type": "stream",
     "text": [
      "For type 6492, metrics:: auprc:0.8122, auroc:0.8844, ap@50:1.0\n",
      "current: 348\n"
     ]
    },
    {
     "data": {
      "application/vnd.jupyter.widget-view+json": {
       "model_id": "0ff457fc637b442dbd6c8da957419e68",
       "version_major": 2,
       "version_minor": 0
      },
      "text/plain": [
       "0it [00:00, ?it/s]"
      ]
     },
     "metadata": {},
     "output_type": "display_data"
    },
    {
     "name": "stdout",
     "output_type": "stream",
     "text": [
      "For type 348, metrics:: auprc:0.8251, auroc:0.894, ap@50:1.0\n",
      "current: 8543\n"
     ]
    },
    {
     "data": {
      "application/vnd.jupyter.widget-view+json": {
       "model_id": "4def9b7de8b4400c903fcdaa249c6079",
       "version_major": 2,
       "version_minor": 0
      },
      "text/plain": [
       "0it [00:00, ?it/s]"
      ]
     },
     "metadata": {},
     "output_type": "display_data"
    },
    {
     "name": "stdout",
     "output_type": "stream",
     "text": [
      "For type 8543, metrics:: auprc:0.8093, auroc:0.8822, ap@50:1.0\n",
      "current: 353\n"
     ]
    },
    {
     "data": {
      "application/vnd.jupyter.widget-view+json": {
       "model_id": "e861c6aace434fb295baedc274c1ed4c",
       "version_major": 2,
       "version_minor": 0
      },
      "text/plain": [
       "0it [00:00, ?it/s]"
      ]
     },
     "metadata": {},
     "output_type": "display_data"
    },
    {
     "name": "stdout",
     "output_type": "stream",
     "text": [
      "For type 353, metrics:: auprc:0.8186, auroc:0.8892, ap@50:1.0\n",
      "current: 4451\n"
     ]
    },
    {
     "data": {
      "application/vnd.jupyter.widget-view+json": {
       "model_id": "9b5ea8d36b244470a8c7690320e64d44",
       "version_major": 2,
       "version_minor": 0
      },
      "text/plain": [
       "0it [00:00, ?it/s]"
      ]
     },
     "metadata": {},
     "output_type": "display_data"
    },
    {
     "name": "stdout",
     "output_type": "stream",
     "text": [
      "For type 4451, metrics:: auprc:0.8116, auroc:0.8839, ap@50:1.0\n",
      "current: 6499\n"
     ]
    },
    {
     "data": {
      "application/vnd.jupyter.widget-view+json": {
       "model_id": "bf3611e7434b48c9982923b11669438b",
       "version_major": 2,
       "version_minor": 0
      },
      "text/plain": [
       "0it [00:00, ?it/s]"
      ]
     },
     "metadata": {},
     "output_type": "display_data"
    },
    {
     "name": "stdout",
     "output_type": "stream",
     "text": [
      "For type 6499, metrics:: auprc:0.8083, auroc:0.8814, ap@50:1.0\n",
      "current: 2408\n"
     ]
    },
    {
     "data": {
      "application/vnd.jupyter.widget-view+json": {
       "model_id": "6158d1b557cb49b98a6162ccfa95ee97",
       "version_major": 2,
       "version_minor": 0
      },
      "text/plain": [
       "0it [00:00, ?it/s]"
      ]
     },
     "metadata": {},
     "output_type": "display_data"
    },
    {
     "name": "stdout",
     "output_type": "stream",
     "text": [
      "For type 2408, metrics:: auprc:0.8105, auroc:0.8831, ap@50:1.0\n",
      "current: 362\n"
     ]
    },
    {
     "data": {
      "application/vnd.jupyter.widget-view+json": {
       "model_id": "6d190ad9cd1e4a03b75fe9bd55e830d7",
       "version_major": 2,
       "version_minor": 0
      },
      "text/plain": [
       "0it [00:00, ?it/s]"
      ]
     },
     "metadata": {},
     "output_type": "display_data"
    },
    {
     "name": "stdout",
     "output_type": "stream",
     "text": [
      "For type 362, metrics:: auprc:0.8086, auroc:0.8816, ap@50:1.0\n",
      "current: 4458\n"
     ]
    },
    {
     "data": {
      "application/vnd.jupyter.widget-view+json": {
       "model_id": "7d5a2dc9a38248a2aeb0263e26aa805d",
       "version_major": 2,
       "version_minor": 0
      },
      "text/plain": [
       "0it [00:00, ?it/s]"
      ]
     },
     "metadata": {},
     "output_type": "display_data"
    },
    {
     "name": "stdout",
     "output_type": "stream",
     "text": [
      "For type 4458, metrics:: auprc:0.8211, auroc:0.891, ap@50:1.0\n",
      "current: 2412\n"
     ]
    },
    {
     "data": {
      "application/vnd.jupyter.widget-view+json": {
       "model_id": "abe6b4f32a074bb19686b2f821da5709",
       "version_major": 2,
       "version_minor": 0
      },
      "text/plain": [
       "0it [00:00, ?it/s]"
      ]
     },
     "metadata": {},
     "output_type": "display_data"
    },
    {
     "name": "stdout",
     "output_type": "stream",
     "text": [
      "For type 2412, metrics:: auprc:0.812, auroc:0.8842, ap@50:1.0\n",
      "current: 4460\n"
     ]
    },
    {
     "data": {
      "application/vnd.jupyter.widget-view+json": {
       "model_id": "ea22175d05c548e99173b23e816419bc",
       "version_major": 2,
       "version_minor": 0
      },
      "text/plain": [
       "0it [00:00, ?it/s]"
      ]
     },
     "metadata": {},
     "output_type": "display_data"
    },
    {
     "name": "stdout",
     "output_type": "stream",
     "text": [
      "For type 4460, metrics:: auprc:0.822, auroc:0.8917, ap@50:1.0\n",
      "current: 4461\n"
     ]
    },
    {
     "data": {
      "application/vnd.jupyter.widget-view+json": {
       "model_id": "a8b0f128d9ef4c849acc9798e527e577",
       "version_major": 2,
       "version_minor": 0
      },
      "text/plain": [
       "0it [00:00, ?it/s]"
      ]
     },
     "metadata": {},
     "output_type": "display_data"
    },
    {
     "name": "stdout",
     "output_type": "stream",
     "text": [
      "For type 4461, metrics:: auprc:0.8074, auroc:0.8808, ap@50:1.0\n",
      "current: 2415\n"
     ]
    },
    {
     "data": {
      "application/vnd.jupyter.widget-view+json": {
       "model_id": "77b255732d84460384cea646b2feefb9",
       "version_major": 2,
       "version_minor": 0
      },
      "text/plain": [
       "0it [00:00, ?it/s]"
      ]
     },
     "metadata": {},
     "output_type": "display_data"
    },
    {
     "name": "stdout",
     "output_type": "stream",
     "text": [
      "For type 2415, metrics:: auprc:0.7743, auroc:0.8542, ap@50:1.0\n",
      "current: 6507\n"
     ]
    },
    {
     "data": {
      "application/vnd.jupyter.widget-view+json": {
       "model_id": "9b71661fbb0543529027dff40d367c88",
       "version_major": 2,
       "version_minor": 0
      },
      "text/plain": [
       "0it [00:00, ?it/s]"
      ]
     },
     "metadata": {},
     "output_type": "display_data"
    },
    {
     "name": "stdout",
     "output_type": "stream",
     "text": [
      "For type 6507, metrics:: auprc:0.802, auroc:0.8766, ap@50:1.0\n",
      "current: 2411\n"
     ]
    },
    {
     "data": {
      "application/vnd.jupyter.widget-view+json": {
       "model_id": "41866a0db00347b0bf8d9303214290f2",
       "version_major": 2,
       "version_minor": 0
      },
      "text/plain": [
       "0it [00:00, ?it/s]"
      ]
     },
     "metadata": {},
     "output_type": "display_data"
    },
    {
     "name": "stdout",
     "output_type": "stream",
     "text": [
      "For type 2411, metrics:: auprc:0.8241, auroc:0.8933, ap@50:1.0\n",
      "current: 6508\n"
     ]
    },
    {
     "data": {
      "application/vnd.jupyter.widget-view+json": {
       "model_id": "f52cd856cfef4fb487f7f71b7c134ad9",
       "version_major": 2,
       "version_minor": 0
      },
      "text/plain": [
       "0it [00:00, ?it/s]"
      ]
     },
     "metadata": {},
     "output_type": "display_data"
    },
    {
     "name": "stdout",
     "output_type": "stream",
     "text": [
      "For type 6508, metrics:: auprc:0.7989, auroc:0.8741, ap@50:1.0\n",
      "current: 6515\n"
     ]
    },
    {
     "data": {
      "application/vnd.jupyter.widget-view+json": {
       "model_id": "42cac598d3894a61b4f10aebc04fcb16",
       "version_major": 2,
       "version_minor": 0
      },
      "text/plain": [
       "0it [00:00, ?it/s]"
      ]
     },
     "metadata": {},
     "output_type": "display_data"
    },
    {
     "name": "stdout",
     "output_type": "stream",
     "text": [
      "For type 6515, metrics:: auprc:0.8232, auroc:0.8926, ap@50:1.0\n",
      "current: 4468\n"
     ]
    },
    {
     "data": {
      "application/vnd.jupyter.widget-view+json": {
       "model_id": "6896e1042cf041d18d2b0eaa5ec2469e",
       "version_major": 2,
       "version_minor": 0
      },
      "text/plain": [
       "0it [00:00, ?it/s]"
      ]
     },
     "metadata": {},
     "output_type": "display_data"
    },
    {
     "name": "stdout",
     "output_type": "stream",
     "text": [
      "For type 4468, metrics:: auprc:0.8225, auroc:0.8921, ap@50:1.0\n",
      "current: 4469\n"
     ]
    },
    {
     "data": {
      "application/vnd.jupyter.widget-view+json": {
       "model_id": "553f623b4a514092b3b82a7f23131c3a",
       "version_major": 2,
       "version_minor": 0
      },
      "text/plain": [
       "0it [00:00, ?it/s]"
      ]
     },
     "metadata": {},
     "output_type": "display_data"
    },
    {
     "name": "stdout",
     "output_type": "stream",
     "text": [
      "For type 4469, metrics:: auprc:0.8168, auroc:0.8879, ap@50:1.0\n",
      "current: 6519\n"
     ]
    },
    {
     "data": {
      "application/vnd.jupyter.widget-view+json": {
       "model_id": "920ec2187eed4d37bacdf296aeb87209",
       "version_major": 2,
       "version_minor": 0
      },
      "text/plain": [
       "0it [00:00, ?it/s]"
      ]
     },
     "metadata": {},
     "output_type": "display_data"
    },
    {
     "name": "stdout",
     "output_type": "stream",
     "text": [
      "For type 6519, metrics:: auprc:0.8178, auroc:0.8886, ap@50:1.0\n",
      "current: 8570\n"
     ]
    },
    {
     "data": {
      "application/vnd.jupyter.widget-view+json": {
       "model_id": "e00391fdcd434cd69496276c00b4f894",
       "version_major": 2,
       "version_minor": 0
      },
      "text/plain": [
       "0it [00:00, ?it/s]"
      ]
     },
     "metadata": {},
     "output_type": "display_data"
    },
    {
     "name": "stdout",
     "output_type": "stream",
     "text": [
      "For type 8570, metrics:: auprc:0.8219, auroc:0.8917, ap@50:1.0\n",
      "current: 2431\n"
     ]
    },
    {
     "data": {
      "application/vnd.jupyter.widget-view+json": {
       "model_id": "c5b1fdc9de68464badac7376339ebb6c",
       "version_major": 2,
       "version_minor": 0
      },
      "text/plain": [
       "0it [00:00, ?it/s]"
      ]
     },
     "metadata": {},
     "output_type": "display_data"
    },
    {
     "name": "stdout",
     "output_type": "stream",
     "text": [
      "For type 2431, metrics:: auprc:0.8279, auroc:0.8961, ap@50:1.0\n",
      "current: 2437\n"
     ]
    },
    {
     "data": {
      "application/vnd.jupyter.widget-view+json": {
       "model_id": "05ef0fc015764492a5dd309566afa9ae",
       "version_major": 2,
       "version_minor": 0
      },
      "text/plain": [
       "0it [00:00, ?it/s]"
      ]
     },
     "metadata": {},
     "output_type": "display_data"
    },
    {
     "name": "stdout",
     "output_type": "stream",
     "text": [
      "For type 2437, metrics:: auprc:0.8046, auroc:0.8786, ap@50:1.0\n",
      "current: 390\n"
     ]
    },
    {
     "data": {
      "application/vnd.jupyter.widget-view+json": {
       "model_id": "1ab8485f27384832a42fea185fa41dd0",
       "version_major": 2,
       "version_minor": 0
      },
      "text/plain": [
       "0it [00:00, ?it/s]"
      ]
     },
     "metadata": {},
     "output_type": "display_data"
    },
    {
     "name": "stdout",
     "output_type": "stream",
     "text": [
      "For type 390, metrics:: auprc:0.813, auroc:0.885, ap@50:1.0\n",
      "current: 8584\n"
     ]
    },
    {
     "data": {
      "application/vnd.jupyter.widget-view+json": {
       "model_id": "ce0f603ef403499cbad0721ec46e757d",
       "version_major": 2,
       "version_minor": 0
      },
      "text/plain": [
       "0it [00:00, ?it/s]"
      ]
     },
     "metadata": {},
     "output_type": "display_data"
    },
    {
     "name": "stdout",
     "output_type": "stream",
     "text": [
      "For type 8584, metrics:: auprc:0.8122, auroc:0.8844, ap@50:1.0\n",
      "current: 6538\n"
     ]
    },
    {
     "data": {
      "application/vnd.jupyter.widget-view+json": {
       "model_id": "cc2e74d4556246a28d0bec0c5938e29f",
       "version_major": 2,
       "version_minor": 0
      },
      "text/plain": [
       "0it [00:00, ?it/s]"
      ]
     },
     "metadata": {},
     "output_type": "display_data"
    },
    {
     "name": "stdout",
     "output_type": "stream",
     "text": [
      "For type 6538, metrics:: auprc:0.8076, auroc:0.8809, ap@50:1.0\n",
      "current: 2445\n"
     ]
    },
    {
     "data": {
      "application/vnd.jupyter.widget-view+json": {
       "model_id": "d0859327e5274bb58bdde53e3d4e2176",
       "version_major": 2,
       "version_minor": 0
      },
      "text/plain": [
       "0it [00:00, ?it/s]"
      ]
     },
     "metadata": {},
     "output_type": "display_data"
    },
    {
     "name": "stdout",
     "output_type": "stream",
     "text": [
      "For type 2445, metrics:: auprc:0.8093, auroc:0.8822, ap@50:1.0\n",
      "current: 400\n"
     ]
    },
    {
     "data": {
      "application/vnd.jupyter.widget-view+json": {
       "model_id": "7c490930913246e9a6ca6653fda19f24",
       "version_major": 2,
       "version_minor": 0
      },
      "text/plain": [
       "0it [00:00, ?it/s]"
      ]
     },
     "metadata": {},
     "output_type": "display_data"
    },
    {
     "name": "stdout",
     "output_type": "stream",
     "text": [
      "For type 400, metrics:: auprc:0.8352, auroc:0.9013, ap@50:1.0\n",
      "current: 4500\n"
     ]
    },
    {
     "data": {
      "application/vnd.jupyter.widget-view+json": {
       "model_id": "70180673696b408898c9c859d2176c9d",
       "version_major": 2,
       "version_minor": 0
      },
      "text/plain": [
       "0it [00:00, ?it/s]"
      ]
     },
     "metadata": {},
     "output_type": "display_data"
    },
    {
     "name": "stdout",
     "output_type": "stream",
     "text": [
      "For type 4500, metrics:: auprc:0.8112, auroc:0.8836, ap@50:1.0\n",
      "current: 2458\n"
     ]
    },
    {
     "data": {
      "application/vnd.jupyter.widget-view+json": {
       "model_id": "ac9e3f7d917b4102aec982fee316cf00",
       "version_major": 2,
       "version_minor": 0
      },
      "text/plain": [
       "0it [00:00, ?it/s]"
      ]
     },
     "metadata": {},
     "output_type": "display_data"
    },
    {
     "name": "stdout",
     "output_type": "stream",
     "text": [
      "For type 2458, metrics:: auprc:0.8122, auroc:0.8844, ap@50:1.0\n",
      "current: 411\n"
     ]
    },
    {
     "data": {
      "application/vnd.jupyter.widget-view+json": {
       "model_id": "cce6ed505b864ecda6afdf23900df384",
       "version_major": 2,
       "version_minor": 0
      },
      "text/plain": [
       "0it [00:00, ?it/s]"
      ]
     },
     "metadata": {},
     "output_type": "display_data"
    },
    {
     "name": "stdout",
     "output_type": "stream",
     "text": [
      "For type 411, metrics:: auprc:0.8138, auroc:0.8856, ap@50:1.0\n",
      "current: 8604\n"
     ]
    },
    {
     "data": {
      "application/vnd.jupyter.widget-view+json": {
       "model_id": "ce08c5432f614d1f8cef4d1032ca8ff0",
       "version_major": 2,
       "version_minor": 0
      },
      "text/plain": [
       "0it [00:00, ?it/s]"
      ]
     },
     "metadata": {},
     "output_type": "display_data"
    },
    {
     "name": "stdout",
     "output_type": "stream",
     "text": [
      "For type 8604, metrics:: auprc:0.8049, auroc:0.8788, ap@50:1.0\n",
      "current: 6558\n"
     ]
    },
    {
     "data": {
      "application/vnd.jupyter.widget-view+json": {
       "model_id": "ae4b027363204996a49d3e102fbf173d",
       "version_major": 2,
       "version_minor": 0
      },
      "text/plain": [
       "0it [00:00, ?it/s]"
      ]
     },
     "metadata": {},
     "output_type": "display_data"
    },
    {
     "name": "stdout",
     "output_type": "stream",
     "text": [
      "For type 6558, metrics:: auprc:0.8231, auroc:0.8925, ap@50:1.0\n",
      "current: 6560\n"
     ]
    },
    {
     "data": {
      "application/vnd.jupyter.widget-view+json": {
       "model_id": "40d522c456d245378f249f4fb25ba04d",
       "version_major": 2,
       "version_minor": 0
      },
      "text/plain": [
       "0it [00:00, ?it/s]"
      ]
     },
     "metadata": {},
     "output_type": "display_data"
    },
    {
     "name": "stdout",
     "output_type": "stream",
     "text": [
      "For type 6560, metrics:: auprc:0.8091, auroc:0.882, ap@50:1.0\n",
      "current: 4515\n"
     ]
    },
    {
     "data": {
      "application/vnd.jupyter.widget-view+json": {
       "model_id": "8b6806b7cf9f44bbace5cd6f9990417c",
       "version_major": 2,
       "version_minor": 0
      },
      "text/plain": [
       "0it [00:00, ?it/s]"
      ]
     },
     "metadata": {},
     "output_type": "display_data"
    },
    {
     "name": "stdout",
     "output_type": "stream",
     "text": [
      "For type 4515, metrics:: auprc:0.8474, auroc:0.91, ap@50:1.0\n",
      "current: 8611\n"
     ]
    },
    {
     "data": {
      "application/vnd.jupyter.widget-view+json": {
       "model_id": "6fe04c5336f640baaa3709ae896ae560",
       "version_major": 2,
       "version_minor": 0
      },
      "text/plain": [
       "0it [00:00, ?it/s]"
      ]
     },
     "metadata": {},
     "output_type": "display_data"
    },
    {
     "name": "stdout",
     "output_type": "stream",
     "text": [
      "For type 8611, metrics:: auprc:0.7908, auroc:0.8678, ap@50:1.0\n",
      "current: 6565\n"
     ]
    },
    {
     "data": {
      "application/vnd.jupyter.widget-view+json": {
       "model_id": "924845d4b4e14ffaa70b8200db689e6b",
       "version_major": 2,
       "version_minor": 0
      },
      "text/plain": [
       "0it [00:00, ?it/s]"
      ]
     },
     "metadata": {},
     "output_type": "display_data"
    },
    {
     "name": "stdout",
     "output_type": "stream",
     "text": [
      "For type 6565, metrics:: auprc:0.8247, auroc:0.8937, ap@50:1.0\n",
      "current: 8616\n"
     ]
    },
    {
     "data": {
      "application/vnd.jupyter.widget-view+json": {
       "model_id": "7fdaeaf2ee484b769ce7d073a5432324",
       "version_major": 2,
       "version_minor": 0
      },
      "text/plain": [
       "0it [00:00, ?it/s]"
      ]
     },
     "metadata": {},
     "output_type": "display_data"
    },
    {
     "name": "stdout",
     "output_type": "stream",
     "text": [
      "For type 8616, metrics:: auprc:0.7994, auroc:0.8745, ap@50:1.0\n",
      "current: 2473\n"
     ]
    },
    {
     "data": {
      "application/vnd.jupyter.widget-view+json": {
       "model_id": "957b1366acdf4e34adfa2dc754cf7ba3",
       "version_major": 2,
       "version_minor": 0
      },
      "text/plain": [
       "0it [00:00, ?it/s]"
      ]
     },
     "metadata": {},
     "output_type": "display_data"
    },
    {
     "name": "stdout",
     "output_type": "stream",
     "text": [
      "For type 2473, metrics:: auprc:0.8183, auroc:0.889, ap@50:1.0\n",
      "current: 6573\n"
     ]
    },
    {
     "data": {
      "application/vnd.jupyter.widget-view+json": {
       "model_id": "ed5878db3b6947f3b42c613d5c8d52dc",
       "version_major": 2,
       "version_minor": 0
      },
      "text/plain": [
       "0it [00:00, ?it/s]"
      ]
     },
     "metadata": {},
     "output_type": "display_data"
    },
    {
     "name": "stdout",
     "output_type": "stream",
     "text": [
      "For type 6573, metrics:: auprc:0.8189, auroc:0.8894, ap@50:1.0\n",
      "current: 2478\n"
     ]
    },
    {
     "data": {
      "application/vnd.jupyter.widget-view+json": {
       "model_id": "005353d5c8144642bad114939a527450",
       "version_major": 2,
       "version_minor": 0
      },
      "text/plain": [
       "0it [00:00, ?it/s]"
      ]
     },
     "metadata": {},
     "output_type": "display_data"
    },
    {
     "name": "stdout",
     "output_type": "stream",
     "text": [
      "For type 2478, metrics:: auprc:0.8152, auroc:0.8867, ap@50:1.0\n",
      "current: 6576\n"
     ]
    },
    {
     "data": {
      "application/vnd.jupyter.widget-view+json": {
       "model_id": "ee973177c42841d58a65f4850e5969cd",
       "version_major": 2,
       "version_minor": 0
      },
      "text/plain": [
       "0it [00:00, ?it/s]"
      ]
     },
     "metadata": {},
     "output_type": "display_data"
    },
    {
     "name": "stdout",
     "output_type": "stream",
     "text": [
      "For type 6576, metrics:: auprc:0.8338, auroc:0.9004, ap@50:1.0\n",
      "current: 4532\n"
     ]
    },
    {
     "data": {
      "application/vnd.jupyter.widget-view+json": {
       "model_id": "2638b3e7166a4741b98e114a697c49c7",
       "version_major": 2,
       "version_minor": 0
      },
      "text/plain": [
       "0it [00:00, ?it/s]"
      ]
     },
     "metadata": {},
     "output_type": "display_data"
    },
    {
     "name": "stdout",
     "output_type": "stream",
     "text": [
      "For type 4532, metrics:: auprc:0.82, auroc:0.8902, ap@50:1.0\n",
      "current: 2485\n"
     ]
    },
    {
     "data": {
      "application/vnd.jupyter.widget-view+json": {
       "model_id": "5e6b27b8300f4846b1f7b034d52ef5e9",
       "version_major": 2,
       "version_minor": 0
      },
      "text/plain": [
       "0it [00:00, ?it/s]"
      ]
     },
     "metadata": {},
     "output_type": "display_data"
    },
    {
     "name": "stdout",
     "output_type": "stream",
     "text": [
      "For type 2485, metrics:: auprc:0.8346, auroc:0.9009, ap@50:1.0\n",
      "current: 437\n"
     ]
    },
    {
     "data": {
      "application/vnd.jupyter.widget-view+json": {
       "model_id": "4dda2a5bf2b640deb547ab73bb034f7e",
       "version_major": 2,
       "version_minor": 0
      },
      "text/plain": [
       "0it [00:00, ?it/s]"
      ]
     },
     "metadata": {},
     "output_type": "display_data"
    },
    {
     "name": "stdout",
     "output_type": "stream",
     "text": [
      "For type 437, metrics:: auprc:0.812, auroc:0.8843, ap@50:1.0\n",
      "current: 2487\n"
     ]
    },
    {
     "data": {
      "application/vnd.jupyter.widget-view+json": {
       "model_id": "c184e67ba0914018a307df548c7a0629",
       "version_major": 2,
       "version_minor": 0
      },
      "text/plain": [
       "0it [00:00, ?it/s]"
      ]
     },
     "metadata": {},
     "output_type": "display_data"
    },
    {
     "name": "stdout",
     "output_type": "stream",
     "text": [
      "For type 2487, metrics:: auprc:0.8199, auroc:0.8902, ap@50:1.0\n",
      "current: 8632\n"
     ]
    },
    {
     "data": {
      "application/vnd.jupyter.widget-view+json": {
       "model_id": "80c0c1fcee8c451aaaa509849d29ce82",
       "version_major": 2,
       "version_minor": 0
      },
      "text/plain": [
       "0it [00:00, ?it/s]"
      ]
     },
     "metadata": {},
     "output_type": "display_data"
    },
    {
     "name": "stdout",
     "output_type": "stream",
     "text": [
      "For type 8632, metrics:: auprc:0.821, auroc:0.891, ap@50:1.0\n",
      "current: 6585\n"
     ]
    },
    {
     "data": {
      "application/vnd.jupyter.widget-view+json": {
       "model_id": "1336f3f718744959aef3c316e791ebe0",
       "version_major": 2,
       "version_minor": 0
      },
      "text/plain": [
       "0it [00:00, ?it/s]"
      ]
     },
     "metadata": {},
     "output_type": "display_data"
    },
    {
     "name": "stdout",
     "output_type": "stream",
     "text": [
      "For type 6585, metrics:: auprc:0.8118, auroc:0.8841, ap@50:1.0\n",
      "current: 442\n"
     ]
    },
    {
     "data": {
      "application/vnd.jupyter.widget-view+json": {
       "model_id": "0f2e666600144539b26757a0994f8dbc",
       "version_major": 2,
       "version_minor": 0
      },
      "text/plain": [
       "0it [00:00, ?it/s]"
      ]
     },
     "metadata": {},
     "output_type": "display_data"
    },
    {
     "name": "stdout",
     "output_type": "stream",
     "text": [
      "For type 442, metrics:: auprc:0.8236, auroc:0.8929, ap@50:1.0\n",
      "current: 4539\n"
     ]
    },
    {
     "data": {
      "application/vnd.jupyter.widget-view+json": {
       "model_id": "4bf9461adeb54143866d6fdd21bca458",
       "version_major": 2,
       "version_minor": 0
      },
      "text/plain": [
       "0it [00:00, ?it/s]"
      ]
     },
     "metadata": {},
     "output_type": "display_data"
    },
    {
     "name": "stdout",
     "output_type": "stream",
     "text": [
      "For type 4539, metrics:: auprc:0.8142, auroc:0.8859, ap@50:1.0\n",
      "current: 444\n"
     ]
    },
    {
     "data": {
      "application/vnd.jupyter.widget-view+json": {
       "model_id": "613a4af0b4f54df2aec43a148b8809e2",
       "version_major": 2,
       "version_minor": 0
      },
      "text/plain": [
       "0it [00:00, ?it/s]"
      ]
     },
     "metadata": {},
     "output_type": "display_data"
    },
    {
     "name": "stdout",
     "output_type": "stream",
     "text": [
      "For type 444, metrics:: auprc:0.8459, auroc:0.9089, ap@50:1.0\n",
      "current: 2491\n"
     ]
    },
    {
     "data": {
      "application/vnd.jupyter.widget-view+json": {
       "model_id": "c1e5776c136843f5aa9a99ee8e926ea2",
       "version_major": 2,
       "version_minor": 0
      },
      "text/plain": [
       "0it [00:00, ?it/s]"
      ]
     },
     "metadata": {},
     "output_type": "display_data"
    },
    {
     "name": "stdout",
     "output_type": "stream",
     "text": [
      "For type 2491, metrics:: auprc:0.8596, auroc:0.9184, ap@50:1.0\n",
      "current: 6591\n"
     ]
    },
    {
     "data": {
      "application/vnd.jupyter.widget-view+json": {
       "model_id": "9929afcc24fb42868a2491e8e4084036",
       "version_major": 2,
       "version_minor": 0
      },
      "text/plain": [
       "0it [00:00, ?it/s]"
      ]
     },
     "metadata": {},
     "output_type": "display_data"
    },
    {
     "name": "stdout",
     "output_type": "stream",
     "text": [
      "For type 6591, metrics:: auprc:0.8219, auroc:0.8916, ap@50:1.0\n",
      "current: 6592\n"
     ]
    },
    {
     "data": {
      "application/vnd.jupyter.widget-view+json": {
       "model_id": "2e2ec66b783343d6b22934c855b2b8f8",
       "version_major": 2,
       "version_minor": 0
      },
      "text/plain": [
       "0it [00:00, ?it/s]"
      ]
     },
     "metadata": {},
     "output_type": "display_data"
    },
    {
     "name": "stdout",
     "output_type": "stream",
     "text": [
      "For type 6592, metrics:: auprc:0.8342, auroc:0.9006, ap@50:1.0\n",
      "current: 2498\n"
     ]
    },
    {
     "data": {
      "application/vnd.jupyter.widget-view+json": {
       "model_id": "ebd0840fe01e406fb89b31db754965ca",
       "version_major": 2,
       "version_minor": 0
      },
      "text/plain": [
       "0it [00:00, ?it/s]"
      ]
     },
     "metadata": {},
     "output_type": "display_data"
    },
    {
     "name": "stdout",
     "output_type": "stream",
     "text": [
      "For type 2498, metrics:: auprc:0.8037, auroc:0.8779, ap@50:1.0\n",
      "current: 453\n"
     ]
    },
    {
     "data": {
      "application/vnd.jupyter.widget-view+json": {
       "model_id": "50437faca65845fdbd6a5701da9669fc",
       "version_major": 2,
       "version_minor": 0
      },
      "text/plain": [
       "0it [00:00, ?it/s]"
      ]
     },
     "metadata": {},
     "output_type": "display_data"
    },
    {
     "name": "stdout",
     "output_type": "stream",
     "text": [
      "For type 453, metrics:: auprc:0.8222, auroc:0.8919, ap@50:1.0\n",
      "current: 6598\n"
     ]
    },
    {
     "data": {
      "application/vnd.jupyter.widget-view+json": {
       "model_id": "6b6e5ad4def94b54aeb263a278bb664d",
       "version_major": 2,
       "version_minor": 0
      },
      "text/plain": [
       "0it [00:00, ?it/s]"
      ]
     },
     "metadata": {},
     "output_type": "display_data"
    },
    {
     "name": "stdout",
     "output_type": "stream",
     "text": [
      "For type 6598, metrics:: auprc:0.8265, auroc:0.8951, ap@50:1.0\n",
      "current: 2505\n"
     ]
    },
    {
     "data": {
      "application/vnd.jupyter.widget-view+json": {
       "model_id": "a0b6416fe6bf4edb9a0d886135849c79",
       "version_major": 2,
       "version_minor": 0
      },
      "text/plain": [
       "0it [00:00, ?it/s]"
      ]
     },
     "metadata": {},
     "output_type": "display_data"
    },
    {
     "name": "stdout",
     "output_type": "stream",
     "text": [
      "For type 2505, metrics:: auprc:0.8149, auroc:0.8865, ap@50:1.0\n",
      "current: 8650\n"
     ]
    },
    {
     "data": {
      "application/vnd.jupyter.widget-view+json": {
       "model_id": "170ff004d99f43018610cc46e8b11981",
       "version_major": 2,
       "version_minor": 0
      },
      "text/plain": [
       "0it [00:00, ?it/s]"
      ]
     },
     "metadata": {},
     "output_type": "display_data"
    },
    {
     "name": "stdout",
     "output_type": "stream",
     "text": [
      "For type 8650, metrics:: auprc:0.8106, auroc:0.8831, ap@50:1.0\n",
      "current: 6604\n"
     ]
    },
    {
     "data": {
      "application/vnd.jupyter.widget-view+json": {
       "model_id": "16d3d030326a490f9ffcee9748f866fd",
       "version_major": 2,
       "version_minor": 0
      },
      "text/plain": [
       "0it [00:00, ?it/s]"
      ]
     },
     "metadata": {},
     "output_type": "display_data"
    },
    {
     "name": "stdout",
     "output_type": "stream",
     "text": [
      "For type 6604, metrics:: auprc:0.848, auroc:0.9103, ap@50:1.0\n",
      "current: 4567\n"
     ]
    },
    {
     "data": {
      "application/vnd.jupyter.widget-view+json": {
       "model_id": "b82589244ef74940b9a35af2a46d522a",
       "version_major": 2,
       "version_minor": 0
      },
      "text/plain": [
       "0it [00:00, ?it/s]"
      ]
     },
     "metadata": {},
     "output_type": "display_data"
    },
    {
     "name": "stdout",
     "output_type": "stream",
     "text": [
      "For type 4567, metrics:: auprc:0.8136, auroc:0.8855, ap@50:1.0\n",
      "current: 6615\n"
     ]
    },
    {
     "data": {
      "application/vnd.jupyter.widget-view+json": {
       "model_id": "6264b7f37f7d4ac78ed123aa2f89e59e",
       "version_major": 2,
       "version_minor": 0
      },
      "text/plain": [
       "0it [00:00, ?it/s]"
      ]
     },
     "metadata": {},
     "output_type": "display_data"
    },
    {
     "name": "stdout",
     "output_type": "stream",
     "text": [
      "For type 6615, metrics:: auprc:0.8447, auroc:0.9081, ap@50:1.0\n",
      "current: 8669\n"
     ]
    },
    {
     "data": {
      "application/vnd.jupyter.widget-view+json": {
       "model_id": "976c4ea19f914d2ea69ee6d9c4851f50",
       "version_major": 2,
       "version_minor": 0
      },
      "text/plain": [
       "0it [00:00, ?it/s]"
      ]
     },
     "metadata": {},
     "output_type": "display_data"
    },
    {
     "name": "stdout",
     "output_type": "stream",
     "text": [
      "For type 8669, metrics:: auprc:0.8327, auroc:0.8995, ap@50:1.0\n",
      "current: 480\n"
     ]
    },
    {
     "data": {
      "application/vnd.jupyter.widget-view+json": {
       "model_id": "9f84308bd8d04cb99d4c168d8b588a24",
       "version_major": 2,
       "version_minor": 0
      },
      "text/plain": [
       "0it [00:00, ?it/s]"
      ]
     },
     "metadata": {},
     "output_type": "display_data"
    },
    {
     "name": "stdout",
     "output_type": "stream",
     "text": [
      "For type 480, metrics:: auprc:0.816, auroc:0.8873, ap@50:1.0\n",
      "current: 482\n"
     ]
    },
    {
     "data": {
      "application/vnd.jupyter.widget-view+json": {
       "model_id": "b8e4d0d555f1454d9ff4ae75e5ee6fdb",
       "version_major": 2,
       "version_minor": 0
      },
      "text/plain": [
       "0it [00:00, ?it/s]"
      ]
     },
     "metadata": {},
     "output_type": "display_data"
    },
    {
     "name": "stdout",
     "output_type": "stream",
     "text": [
      "For type 482, metrics:: auprc:0.8396, auroc:0.9045, ap@50:1.0\n",
      "current: 8676\n"
     ]
    },
    {
     "data": {
      "application/vnd.jupyter.widget-view+json": {
       "model_id": "3a9c0ed4f0b3460fae667fb630c1e6d3",
       "version_major": 2,
       "version_minor": 0
      },
      "text/plain": [
       "0it [00:00, ?it/s]"
      ]
     },
     "metadata": {},
     "output_type": "display_data"
    },
    {
     "name": "stdout",
     "output_type": "stream",
     "text": [
      "For type 8676, metrics:: auprc:0.8152, auroc:0.8866, ap@50:1.0\n",
      "current: 8678\n"
     ]
    },
    {
     "data": {
      "application/vnd.jupyter.widget-view+json": {
       "model_id": "ef63c0815ca2405781e2ebda15c4e756",
       "version_major": 2,
       "version_minor": 0
      },
      "text/plain": [
       "0it [00:00, ?it/s]"
      ]
     },
     "metadata": {},
     "output_type": "display_data"
    },
    {
     "name": "stdout",
     "output_type": "stream",
     "text": [
      "For type 8678, metrics:: auprc:0.8123, auroc:0.8845, ap@50:1.0\n",
      "current: 4583\n"
     ]
    },
    {
     "data": {
      "application/vnd.jupyter.widget-view+json": {
       "model_id": "c9dfdb5f67c54836a1f2e2b08438ba9a",
       "version_major": 2,
       "version_minor": 0
      },
      "text/plain": [
       "0it [00:00, ?it/s]"
      ]
     },
     "metadata": {},
     "output_type": "display_data"
    },
    {
     "name": "stdout",
     "output_type": "stream",
     "text": [
      "For type 4583, metrics:: auprc:0.8184, auroc:0.8891, ap@50:1.0\n",
      "current: 2547\n"
     ]
    },
    {
     "data": {
      "application/vnd.jupyter.widget-view+json": {
       "model_id": "c017121f23c34c048c5956bb411f60f8",
       "version_major": 2,
       "version_minor": 0
      },
      "text/plain": [
       "0it [00:00, ?it/s]"
      ]
     },
     "metadata": {},
     "output_type": "display_data"
    },
    {
     "name": "stdout",
     "output_type": "stream",
     "text": [
      "For type 2547, metrics:: auprc:0.8156, auroc:0.887, ap@50:1.0\n",
      "current: 2548\n"
     ]
    },
    {
     "data": {
      "application/vnd.jupyter.widget-view+json": {
       "model_id": "c7bd55abdd52492c97fa696068985527",
       "version_major": 2,
       "version_minor": 0
      },
      "text/plain": [
       "0it [00:00, ?it/s]"
      ]
     },
     "metadata": {},
     "output_type": "display_data"
    },
    {
     "name": "stdout",
     "output_type": "stream",
     "text": [
      "For type 2548, metrics:: auprc:0.8151, auroc:0.8866, ap@50:1.0\n",
      "current: 4597\n"
     ]
    },
    {
     "data": {
      "application/vnd.jupyter.widget-view+json": {
       "model_id": "c313b3a4f4834215acbe925b2f9259c7",
       "version_major": 2,
       "version_minor": 0
      },
      "text/plain": [
       "0it [00:00, ?it/s]"
      ]
     },
     "metadata": {},
     "output_type": "display_data"
    },
    {
     "name": "stdout",
     "output_type": "stream",
     "text": [
      "For type 4597, metrics:: auprc:0.8202, auroc:0.8904, ap@50:1.0\n",
      "current: 501\n"
     ]
    },
    {
     "data": {
      "application/vnd.jupyter.widget-view+json": {
       "model_id": "ae3a28a2ca3942ec8d8c663c0a30c7c7",
       "version_major": 2,
       "version_minor": 0
      },
      "text/plain": [
       "0it [00:00, ?it/s]"
      ]
     },
     "metadata": {},
     "output_type": "display_data"
    },
    {
     "name": "stdout",
     "output_type": "stream",
     "text": [
      "For type 501, metrics:: auprc:0.8178, auroc:0.8886, ap@50:1.0\n",
      "current: 6647\n"
     ]
    },
    {
     "data": {
      "application/vnd.jupyter.widget-view+json": {
       "model_id": "428fa4e92f694f6baa8a5a945f1522b0",
       "version_major": 2,
       "version_minor": 0
      },
      "text/plain": [
       "0it [00:00, ?it/s]"
      ]
     },
     "metadata": {},
     "output_type": "display_data"
    },
    {
     "name": "stdout",
     "output_type": "stream",
     "text": [
      "For type 6647, metrics:: auprc:0.8093, auroc:0.8822, ap@50:1.0\n",
      "current: 8697\n"
     ]
    },
    {
     "data": {
      "application/vnd.jupyter.widget-view+json": {
       "model_id": "ad83351fb0a74909afc9a37c0f678738",
       "version_major": 2,
       "version_minor": 0
      },
      "text/plain": [
       "0it [00:00, ?it/s]"
      ]
     },
     "metadata": {},
     "output_type": "display_data"
    },
    {
     "name": "stdout",
     "output_type": "stream",
     "text": [
      "For type 8697, metrics:: auprc:0.8158, auroc:0.8871, ap@50:1.0\n",
      "current: 2553\n"
     ]
    },
    {
     "data": {
      "application/vnd.jupyter.widget-view+json": {
       "model_id": "3d5c546bea09419faf399545b80958f5",
       "version_major": 2,
       "version_minor": 0
      },
      "text/plain": [
       "0it [00:00, ?it/s]"
      ]
     },
     "metadata": {},
     "output_type": "display_data"
    },
    {
     "name": "stdout",
     "output_type": "stream",
     "text": [
      "For type 2553, metrics:: auprc:0.8213, auroc:0.8912, ap@50:1.0\n",
      "current: 6654\n"
     ]
    },
    {
     "data": {
      "application/vnd.jupyter.widget-view+json": {
       "model_id": "ca86756384e146d6b9a727bf1340b101",
       "version_major": 2,
       "version_minor": 0
      },
      "text/plain": [
       "0it [00:00, ?it/s]"
      ]
     },
     "metadata": {},
     "output_type": "display_data"
    },
    {
     "name": "stdout",
     "output_type": "stream",
     "text": [
      "For type 6654, metrics:: auprc:0.8521, auroc:0.9132, ap@50:1.0\n",
      "current: 4608\n"
     ]
    },
    {
     "data": {
      "application/vnd.jupyter.widget-view+json": {
       "model_id": "fc4dd091b8c64b07899c101abfce2f73",
       "version_major": 2,
       "version_minor": 0
      },
      "text/plain": [
       "0it [00:00, ?it/s]"
      ]
     },
     "metadata": {},
     "output_type": "display_data"
    },
    {
     "name": "stdout",
     "output_type": "stream",
     "text": [
      "For type 4608, metrics:: auprc:0.8362, auroc:0.902, ap@50:1.0\n",
      "current: 515\n"
     ]
    },
    {
     "data": {
      "application/vnd.jupyter.widget-view+json": {
       "model_id": "1ea973e9145c4e14bab8ec4e5f4554ae",
       "version_major": 2,
       "version_minor": 0
      },
      "text/plain": [
       "0it [00:00, ?it/s]"
      ]
     },
     "metadata": {},
     "output_type": "display_data"
    },
    {
     "name": "stdout",
     "output_type": "stream",
     "text": [
      "For type 515, metrics:: auprc:0.8059, auroc:0.8796, ap@50:1.0\n",
      "current: 2564\n"
     ]
    },
    {
     "data": {
      "application/vnd.jupyter.widget-view+json": {
       "model_id": "fea798df01604b4bb6ea68d121affa5a",
       "version_major": 2,
       "version_minor": 0
      },
      "text/plain": [
       "0it [00:00, ?it/s]"
      ]
     },
     "metadata": {},
     "output_type": "display_data"
    },
    {
     "name": "stdout",
     "output_type": "stream",
     "text": [
      "For type 2564, metrics:: auprc:0.8148, auroc:0.8864, ap@50:1.0\n",
      "current: 4615\n"
     ]
    },
    {
     "data": {
      "application/vnd.jupyter.widget-view+json": {
       "model_id": "b4d295d1150c433cae2f10af8aced5b1",
       "version_major": 2,
       "version_minor": 0
      },
      "text/plain": [
       "0it [00:00, ?it/s]"
      ]
     },
     "metadata": {},
     "output_type": "display_data"
    },
    {
     "name": "stdout",
     "output_type": "stream",
     "text": [
      "For type 4615, metrics:: auprc:0.8265, auroc:0.895, ap@50:1.0\n",
      "current: 2571\n"
     ]
    },
    {
     "data": {
      "application/vnd.jupyter.widget-view+json": {
       "model_id": "f7613c17cfd04c7791efcb069cc5585f",
       "version_major": 2,
       "version_minor": 0
      },
      "text/plain": [
       "0it [00:00, ?it/s]"
      ]
     },
     "metadata": {},
     "output_type": "display_data"
    },
    {
     "name": "stdout",
     "output_type": "stream",
     "text": [
      "For type 2571, metrics:: auprc:0.8185, auroc:0.8891, ap@50:1.0\n",
      "current: 6668\n"
     ]
    },
    {
     "data": {
      "application/vnd.jupyter.widget-view+json": {
       "model_id": "0160795f600e44dcb70c671465151d75",
       "version_major": 2,
       "version_minor": 0
      },
      "text/plain": [
       "0it [00:00, ?it/s]"
      ]
     },
     "metadata": {},
     "output_type": "display_data"
    },
    {
     "name": "stdout",
     "output_type": "stream",
     "text": [
      "For type 6668, metrics:: auprc:0.8182, auroc:0.8889, ap@50:1.0\n",
      "current: 2575\n"
     ]
    },
    {
     "data": {
      "application/vnd.jupyter.widget-view+json": {
       "model_id": "061a1534466846f9a26bd8cab190e635",
       "version_major": 2,
       "version_minor": 0
      },
      "text/plain": [
       "0it [00:00, ?it/s]"
      ]
     },
     "metadata": {},
     "output_type": "display_data"
    },
    {
     "name": "stdout",
     "output_type": "stream",
     "text": [
      "For type 2575, metrics:: auprc:0.8206, auroc:0.8907, ap@50:1.0\n",
      "current: 8720\n"
     ]
    },
    {
     "data": {
      "application/vnd.jupyter.widget-view+json": {
       "model_id": "bd5f3b41b03c440ebfc0919e40c2aa2c",
       "version_major": 2,
       "version_minor": 0
      },
      "text/plain": [
       "0it [00:00, ?it/s]"
      ]
     },
     "metadata": {},
     "output_type": "display_data"
    },
    {
     "name": "stdout",
     "output_type": "stream",
     "text": [
      "For type 8720, metrics:: auprc:0.8125, auroc:0.8846, ap@50:1.0\n",
      "current: 4625\n"
     ]
    },
    {
     "data": {
      "application/vnd.jupyter.widget-view+json": {
       "model_id": "85c031d179534d40b7e90191c28513a8",
       "version_major": 2,
       "version_minor": 0
      },
      "text/plain": [
       "0it [00:00, ?it/s]"
      ]
     },
     "metadata": {},
     "output_type": "display_data"
    },
    {
     "name": "stdout",
     "output_type": "stream",
     "text": [
      "For type 4625, metrics:: auprc:0.8045, auroc:0.8785, ap@50:1.0\n",
      "current: 8726\n"
     ]
    },
    {
     "data": {
      "application/vnd.jupyter.widget-view+json": {
       "model_id": "ea4205031eba4d708c7bfcf34d2cb9ab",
       "version_major": 2,
       "version_minor": 0
      },
      "text/plain": [
       "0it [00:00, ?it/s]"
      ]
     },
     "metadata": {},
     "output_type": "display_data"
    },
    {
     "name": "stdout",
     "output_type": "stream",
     "text": [
      "For type 8726, metrics:: auprc:0.8251, auroc:0.894, ap@50:1.0\n",
      "current: 535\n"
     ]
    },
    {
     "data": {
      "application/vnd.jupyter.widget-view+json": {
       "model_id": "4124d8d257e14a3a89783de8dc2db793",
       "version_major": 2,
       "version_minor": 0
      },
      "text/plain": [
       "0it [00:00, ?it/s]"
      ]
     },
     "metadata": {},
     "output_type": "display_data"
    },
    {
     "name": "stdout",
     "output_type": "stream",
     "text": [
      "For type 535, metrics:: auprc:0.7979, auroc:0.8733, ap@50:1.0\n",
      "current: 2584\n"
     ]
    },
    {
     "data": {
      "application/vnd.jupyter.widget-view+json": {
       "model_id": "03fff841db1d4c94aa1857d6f1c44c2b",
       "version_major": 2,
       "version_minor": 0
      },
      "text/plain": [
       "0it [00:00, ?it/s]"
      ]
     },
     "metadata": {},
     "output_type": "display_data"
    },
    {
     "name": "stdout",
     "output_type": "stream",
     "text": [
      "For type 2584, metrics:: auprc:0.8216, auroc:0.8914, ap@50:1.0\n",
      "current: 2585\n"
     ]
    },
    {
     "data": {
      "application/vnd.jupyter.widget-view+json": {
       "model_id": "15c9767340e14ddbb489a4b0c5f087dd",
       "version_major": 2,
       "version_minor": 0
      },
      "text/plain": [
       "0it [00:00, ?it/s]"
      ]
     },
     "metadata": {},
     "output_type": "display_data"
    },
    {
     "name": "stdout",
     "output_type": "stream",
     "text": [
      "For type 2585, metrics:: auprc:0.8166, auroc:0.8877, ap@50:1.0\n",
      "current: 2587\n"
     ]
    },
    {
     "data": {
      "application/vnd.jupyter.widget-view+json": {
       "model_id": "176625ad0e7b4276a7c90222a6161ca7",
       "version_major": 2,
       "version_minor": 0
      },
      "text/plain": [
       "0it [00:00, ?it/s]"
      ]
     },
     "metadata": {},
     "output_type": "display_data"
    },
    {
     "name": "stdout",
     "output_type": "stream",
     "text": [
      "For type 2587, metrics:: auprc:0.7959, auroc:0.8718, ap@50:1.0\n",
      "current: 4639\n"
     ]
    },
    {
     "data": {
      "application/vnd.jupyter.widget-view+json": {
       "model_id": "d5e86cb1b9cd4399a8a1f36e86255121",
       "version_major": 2,
       "version_minor": 0
      },
      "text/plain": [
       "0it [00:00, ?it/s]"
      ]
     },
     "metadata": {},
     "output_type": "display_data"
    },
    {
     "name": "stdout",
     "output_type": "stream",
     "text": [
      "For type 4639, metrics:: auprc:0.8095, auroc:0.8824, ap@50:1.0\n",
      "current: 4640\n"
     ]
    },
    {
     "data": {
      "application/vnd.jupyter.widget-view+json": {
       "model_id": "abdaecce53e04dc2ae867bed53afb42d",
       "version_major": 2,
       "version_minor": 0
      },
      "text/plain": [
       "0it [00:00, ?it/s]"
      ]
     },
     "metadata": {},
     "output_type": "display_data"
    },
    {
     "name": "stdout",
     "output_type": "stream",
     "text": [
      "For type 4640, metrics:: auprc:0.8262, auroc:0.8948, ap@50:1.0\n",
      "current: 8737\n"
     ]
    },
    {
     "data": {
      "application/vnd.jupyter.widget-view+json": {
       "model_id": "ec1da8a34d0a4ef48dd8ace232119995",
       "version_major": 2,
       "version_minor": 0
      },
      "text/plain": [
       "0it [00:00, ?it/s]"
      ]
     },
     "metadata": {},
     "output_type": "display_data"
    },
    {
     "name": "stdout",
     "output_type": "stream",
     "text": [
      "For type 8737, metrics:: auprc:0.8084, auroc:0.8815, ap@50:1.0\n",
      "current: 8738\n"
     ]
    },
    {
     "data": {
      "application/vnd.jupyter.widget-view+json": {
       "model_id": "121ca389c05840cdbbfa65c1069ceff9",
       "version_major": 2,
       "version_minor": 0
      },
      "text/plain": [
       "0it [00:00, ?it/s]"
      ]
     },
     "metadata": {},
     "output_type": "display_data"
    },
    {
     "name": "stdout",
     "output_type": "stream",
     "text": [
      "For type 8738, metrics:: auprc:0.7987, auroc:0.874, ap@50:1.0\n",
      "current: 544\n"
     ]
    },
    {
     "data": {
      "application/vnd.jupyter.widget-view+json": {
       "model_id": "94a525483c5349d3a0a67efe99632dbe",
       "version_major": 2,
       "version_minor": 0
      },
      "text/plain": [
       "0it [00:00, ?it/s]"
      ]
     },
     "metadata": {},
     "output_type": "display_data"
    },
    {
     "name": "stdout",
     "output_type": "stream",
     "text": [
      "For type 544, metrics:: auprc:0.8034, auroc:0.8776, ap@50:1.0\n",
      "current: 6692\n"
     ]
    },
    {
     "data": {
      "application/vnd.jupyter.widget-view+json": {
       "model_id": "c049683c34474c4f96c4e5829f0809d5",
       "version_major": 2,
       "version_minor": 0
      },
      "text/plain": [
       "0it [00:00, ?it/s]"
      ]
     },
     "metadata": {},
     "output_type": "display_data"
    },
    {
     "name": "stdout",
     "output_type": "stream",
     "text": [
      "For type 6692, metrics:: auprc:0.8413, auroc:0.9057, ap@50:1.0\n",
      "current: 2602\n"
     ]
    },
    {
     "data": {
      "application/vnd.jupyter.widget-view+json": {
       "model_id": "16b0e60430ec460a9f7b618cb04b2a87",
       "version_major": 2,
       "version_minor": 0
      },
      "text/plain": [
       "0it [00:00, ?it/s]"
      ]
     },
     "metadata": {},
     "output_type": "display_data"
    },
    {
     "name": "stdout",
     "output_type": "stream",
     "text": [
      "For type 2602, metrics:: auprc:0.8102, auroc:0.8829, ap@50:1.0\n",
      "current: 558\n"
     ]
    },
    {
     "data": {
      "application/vnd.jupyter.widget-view+json": {
       "model_id": "f10e37c47c72422587129820f3e48a0c",
       "version_major": 2,
       "version_minor": 0
      },
      "text/plain": [
       "0it [00:00, ?it/s]"
      ]
     },
     "metadata": {},
     "output_type": "display_data"
    },
    {
     "name": "stdout",
     "output_type": "stream",
     "text": [
      "For type 558, metrics:: auprc:0.8182, auroc:0.8889, ap@50:1.0\n",
      "current: 8752\n"
     ]
    },
    {
     "data": {
      "application/vnd.jupyter.widget-view+json": {
       "model_id": "d02cc962bc714b8bb28d2173490c954f",
       "version_major": 2,
       "version_minor": 0
      },
      "text/plain": [
       "0it [00:00, ?it/s]"
      ]
     },
     "metadata": {},
     "output_type": "display_data"
    },
    {
     "name": "stdout",
     "output_type": "stream",
     "text": [
      "For type 8752, metrics:: auprc:0.8204, auroc:0.8906, ap@50:1.0\n",
      "current: 560\n"
     ]
    },
    {
     "data": {
      "application/vnd.jupyter.widget-view+json": {
       "model_id": "8510cf4773aa425eb58181ed3a4b5dad",
       "version_major": 2,
       "version_minor": 0
      },
      "text/plain": [
       "0it [00:00, ?it/s]"
      ]
     },
     "metadata": {},
     "output_type": "display_data"
    },
    {
     "name": "stdout",
     "output_type": "stream",
     "text": [
      "For type 560, metrics:: auprc:0.8097, auroc:0.8825, ap@50:1.0\n",
      "current: 563\n"
     ]
    },
    {
     "data": {
      "application/vnd.jupyter.widget-view+json": {
       "model_id": "396c5a77874f4b1390f12db73a45e871",
       "version_major": 2,
       "version_minor": 0
      },
      "text/plain": [
       "0it [00:00, ?it/s]"
      ]
     },
     "metadata": {},
     "output_type": "display_data"
    },
    {
     "name": "stdout",
     "output_type": "stream",
     "text": [
      "For type 563, metrics:: auprc:0.8183, auroc:0.889, ap@50:1.0\n",
      "current: 564\n"
     ]
    },
    {
     "data": {
      "application/vnd.jupyter.widget-view+json": {
       "model_id": "62a759bcb9b5474a9adbbe4c0b9351b4",
       "version_major": 2,
       "version_minor": 0
      },
      "text/plain": [
       "0it [00:00, ?it/s]"
      ]
     },
     "metadata": {},
     "output_type": "display_data"
    },
    {
     "name": "stdout",
     "output_type": "stream",
     "text": [
      "For type 564, metrics:: auprc:0.8113, auroc:0.8837, ap@50:1.0\n",
      "current: 4662\n"
     ]
    },
    {
     "data": {
      "application/vnd.jupyter.widget-view+json": {
       "model_id": "bdf2dfaa00224333a95e7080c03ceda0",
       "version_major": 2,
       "version_minor": 0
      },
      "text/plain": [
       "0it [00:00, ?it/s]"
      ]
     },
     "metadata": {},
     "output_type": "display_data"
    },
    {
     "name": "stdout",
     "output_type": "stream",
     "text": [
      "For type 4662, metrics:: auprc:0.8147, auroc:0.8863, ap@50:1.0\n",
      "current: 568\n"
     ]
    },
    {
     "data": {
      "application/vnd.jupyter.widget-view+json": {
       "model_id": "fb1281c0ba60487cbc6979b9d029623a",
       "version_major": 2,
       "version_minor": 0
      },
      "text/plain": [
       "0it [00:00, ?it/s]"
      ]
     },
     "metadata": {},
     "output_type": "display_data"
    },
    {
     "name": "stdout",
     "output_type": "stream",
     "text": [
      "For type 568, metrics:: auprc:0.7936, auroc:0.87, ap@50:1.0\n",
      "current: 6713\n"
     ]
    },
    {
     "data": {
      "application/vnd.jupyter.widget-view+json": {
       "model_id": "f06d7289c8904992b73a64599bc34a55",
       "version_major": 2,
       "version_minor": 0
      },
      "text/plain": [
       "0it [00:00, ?it/s]"
      ]
     },
     "metadata": {},
     "output_type": "display_data"
    },
    {
     "name": "stdout",
     "output_type": "stream",
     "text": [
      "For type 6713, metrics:: auprc:0.8107, auroc:0.8833, ap@50:1.0\n",
      "current: 2617\n"
     ]
    },
    {
     "data": {
      "application/vnd.jupyter.widget-view+json": {
       "model_id": "f67c5d4576954142b7520bf21dceacaa",
       "version_major": 2,
       "version_minor": 0
      },
      "text/plain": [
       "0it [00:00, ?it/s]"
      ]
     },
     "metadata": {},
     "output_type": "display_data"
    },
    {
     "name": "stdout",
     "output_type": "stream",
     "text": [
      "For type 2617, metrics:: auprc:0.8008, auroc:0.8756, ap@50:1.0\n",
      "current: 4667\n"
     ]
    },
    {
     "data": {
      "application/vnd.jupyter.widget-view+json": {
       "model_id": "052f0ded029745e4852ba76043407744",
       "version_major": 2,
       "version_minor": 0
      },
      "text/plain": [
       "0it [00:00, ?it/s]"
      ]
     },
     "metadata": {},
     "output_type": "display_data"
    },
    {
     "name": "stdout",
     "output_type": "stream",
     "text": [
      "For type 4667, metrics:: auprc:0.8086, auroc:0.8817, ap@50:1.0\n",
      "current: 8763\n"
     ]
    },
    {
     "data": {
      "application/vnd.jupyter.widget-view+json": {
       "model_id": "2a1632fa751e454c99f8d096d2cc4017",
       "version_major": 2,
       "version_minor": 0
      },
      "text/plain": [
       "0it [00:00, ?it/s]"
      ]
     },
     "metadata": {},
     "output_type": "display_data"
    },
    {
     "name": "stdout",
     "output_type": "stream",
     "text": [
      "For type 8763, metrics:: auprc:0.8077, auroc:0.881, ap@50:1.0\n",
      "current: 2628\n"
     ]
    },
    {
     "data": {
      "application/vnd.jupyter.widget-view+json": {
       "model_id": "281e3e0d2fb54d7a9ad3e7005aeda32d",
       "version_major": 2,
       "version_minor": 0
      },
      "text/plain": [
       "0it [00:00, ?it/s]"
      ]
     },
     "metadata": {},
     "output_type": "display_data"
    },
    {
     "name": "stdout",
     "output_type": "stream",
     "text": [
      "For type 2628, metrics:: auprc:0.8208, auroc:0.8908, ap@50:1.0\n",
      "current: 4679\n"
     ]
    },
    {
     "data": {
      "application/vnd.jupyter.widget-view+json": {
       "model_id": "4475e52d2753434f8a0746b942ea63f1",
       "version_major": 2,
       "version_minor": 0
      },
      "text/plain": [
       "0it [00:00, ?it/s]"
      ]
     },
     "metadata": {},
     "output_type": "display_data"
    },
    {
     "name": "stdout",
     "output_type": "stream",
     "text": [
      "For type 4679, metrics:: auprc:0.8254, auroc:0.8943, ap@50:1.0\n",
      "current: 4683\n"
     ]
    },
    {
     "data": {
      "application/vnd.jupyter.widget-view+json": {
       "model_id": "51b3e73c5e104073bf0cb249576028cb",
       "version_major": 2,
       "version_minor": 0
      },
      "text/plain": [
       "0it [00:00, ?it/s]"
      ]
     },
     "metadata": {},
     "output_type": "display_data"
    },
    {
     "name": "stdout",
     "output_type": "stream",
     "text": [
      "For type 4683, metrics:: auprc:0.8451, auroc:0.9084, ap@50:1.0\n",
      "current: 4684\n"
     ]
    },
    {
     "data": {
      "application/vnd.jupyter.widget-view+json": {
       "model_id": "69be409e9678407fb9a75e4aea3635ba",
       "version_major": 2,
       "version_minor": 0
      },
      "text/plain": [
       "0it [00:00, ?it/s]"
      ]
     },
     "metadata": {},
     "output_type": "display_data"
    },
    {
     "name": "stdout",
     "output_type": "stream",
     "text": [
      "For type 4684, metrics:: auprc:0.7784, auroc:0.8576, ap@50:1.0\n",
      "current: 2635\n"
     ]
    },
    {
     "data": {
      "application/vnd.jupyter.widget-view+json": {
       "model_id": "5ac49a27deeb4c198dc7f27fe3fb872c",
       "version_major": 2,
       "version_minor": 0
      },
      "text/plain": [
       "0it [00:00, ?it/s]"
      ]
     },
     "metadata": {},
     "output_type": "display_data"
    },
    {
     "name": "stdout",
     "output_type": "stream",
     "text": [
      "For type 2635, metrics:: auprc:0.8153, auroc:0.8867, ap@50:1.0\n",
      "current: 2638\n"
     ]
    },
    {
     "data": {
      "application/vnd.jupyter.widget-view+json": {
       "model_id": "8a104ad2a2e54fd0a15584a7d7d720f0",
       "version_major": 2,
       "version_minor": 0
      },
      "text/plain": [
       "0it [00:00, ?it/s]"
      ]
     },
     "metadata": {},
     "output_type": "display_data"
    },
    {
     "name": "stdout",
     "output_type": "stream",
     "text": [
      "For type 2638, metrics:: auprc:0.8135, auroc:0.8854, ap@50:1.0\n",
      "current: 2641\n"
     ]
    },
    {
     "data": {
      "application/vnd.jupyter.widget-view+json": {
       "model_id": "b8ece9cb1d2e4ea18d85ef6311310699",
       "version_major": 2,
       "version_minor": 0
      },
      "text/plain": [
       "0it [00:00, ?it/s]"
      ]
     },
     "metadata": {},
     "output_type": "display_data"
    },
    {
     "name": "stdout",
     "output_type": "stream",
     "text": [
      "For type 2641, metrics:: auprc:0.8228, auroc:0.8923, ap@50:1.0\n",
      "current: 595\n"
     ]
    },
    {
     "data": {
      "application/vnd.jupyter.widget-view+json": {
       "model_id": "10dc0340b26243dcb3e39717e33a0549",
       "version_major": 2,
       "version_minor": 0
      },
      "text/plain": [
       "0it [00:00, ?it/s]"
      ]
     },
     "metadata": {},
     "output_type": "display_data"
    },
    {
     "name": "stdout",
     "output_type": "stream",
     "text": [
      "For type 595, metrics:: auprc:0.8219, auroc:0.8917, ap@50:1.0\n",
      "current: 4692\n"
     ]
    },
    {
     "data": {
      "application/vnd.jupyter.widget-view+json": {
       "model_id": "6c241131726a4c839397b0aa8c973431",
       "version_major": 2,
       "version_minor": 0
      },
      "text/plain": [
       "0it [00:00, ?it/s]"
      ]
     },
     "metadata": {},
     "output_type": "display_data"
    },
    {
     "name": "stdout",
     "output_type": "stream",
     "text": [
      "For type 4692, metrics:: auprc:0.8177, auroc:0.8885, ap@50:1.0\n",
      "current: 6747\n"
     ]
    },
    {
     "data": {
      "application/vnd.jupyter.widget-view+json": {
       "model_id": "e3c511c0cafb4e098693f20bb27d77fb",
       "version_major": 2,
       "version_minor": 0
      },
      "text/plain": [
       "0it [00:00, ?it/s]"
      ]
     },
     "metadata": {},
     "output_type": "display_data"
    },
    {
     "name": "stdout",
     "output_type": "stream",
     "text": [
      "For type 6747, metrics:: auprc:0.8302, auroc:0.8978, ap@50:1.0\n",
      "current: 4701\n"
     ]
    },
    {
     "data": {
      "application/vnd.jupyter.widget-view+json": {
       "model_id": "840edbd8836547339e421d149521a3a5",
       "version_major": 2,
       "version_minor": 0
      },
      "text/plain": [
       "0it [00:00, ?it/s]"
      ]
     },
     "metadata": {},
     "output_type": "display_data"
    },
    {
     "name": "stdout",
     "output_type": "stream",
     "text": [
      "For type 4701, metrics:: auprc:0.8251, auroc:0.894, ap@50:1.0\n",
      "current: 4702\n"
     ]
    },
    {
     "data": {
      "application/vnd.jupyter.widget-view+json": {
       "model_id": "95a489ff76d846e691213296841551f7",
       "version_major": 2,
       "version_minor": 0
      },
      "text/plain": [
       "0it [00:00, ?it/s]"
      ]
     },
     "metadata": {},
     "output_type": "display_data"
    },
    {
     "name": "stdout",
     "output_type": "stream",
     "text": [
      "For type 4702, metrics:: auprc:0.8114, auroc:0.8838, ap@50:1.0\n",
      "current: 8798\n"
     ]
    },
    {
     "data": {
      "application/vnd.jupyter.widget-view+json": {
       "model_id": "939edc57284d42cebf0ddd5819bcfa74",
       "version_major": 2,
       "version_minor": 0
      },
      "text/plain": [
       "0it [00:00, ?it/s]"
      ]
     },
     "metadata": {},
     "output_type": "display_data"
    },
    {
     "name": "stdout",
     "output_type": "stream",
     "text": [
      "For type 8798, metrics:: auprc:0.7965, auroc:0.8723, ap@50:1.0\n",
      "current: 6753\n"
     ]
    },
    {
     "data": {
      "application/vnd.jupyter.widget-view+json": {
       "model_id": "7e456f46f37d45c5a41bb2e497f14074",
       "version_major": 2,
       "version_minor": 0
      },
      "text/plain": [
       "0it [00:00, ?it/s]"
      ]
     },
     "metadata": {},
     "output_type": "display_data"
    },
    {
     "name": "stdout",
     "output_type": "stream",
     "text": [
      "For type 6753, metrics:: auprc:0.8132, auroc:0.8852, ap@50:1.0\n",
      "current: 609\n"
     ]
    },
    {
     "data": {
      "application/vnd.jupyter.widget-view+json": {
       "model_id": "73b6a33735b34d78b0f26ef8f459d6a4",
       "version_major": 2,
       "version_minor": 0
      },
      "text/plain": [
       "0it [00:00, ?it/s]"
      ]
     },
     "metadata": {},
     "output_type": "display_data"
    },
    {
     "name": "stdout",
     "output_type": "stream",
     "text": [
      "For type 609, metrics:: auprc:0.8289, auroc:0.8968, ap@50:1.0\n",
      "current: 2659\n"
     ]
    },
    {
     "data": {
      "application/vnd.jupyter.widget-view+json": {
       "model_id": "8c2e02013acb43a3b19ae8c9f11b5371",
       "version_major": 2,
       "version_minor": 0
      },
      "text/plain": [
       "0it [00:00, ?it/s]"
      ]
     },
     "metadata": {},
     "output_type": "display_data"
    },
    {
     "name": "stdout",
     "output_type": "stream",
     "text": [
      "For type 2659, metrics:: auprc:0.803, auroc:0.8774, ap@50:1.0\n",
      "current: 8804\n"
     ]
    },
    {
     "data": {
      "application/vnd.jupyter.widget-view+json": {
       "model_id": "dd714e532df346869d854c547e1dbf6f",
       "version_major": 2,
       "version_minor": 0
      },
      "text/plain": [
       "0it [00:00, ?it/s]"
      ]
     },
     "metadata": {},
     "output_type": "display_data"
    },
    {
     "name": "stdout",
     "output_type": "stream",
     "text": [
      "For type 8804, metrics:: auprc:0.8117, auroc:0.884, ap@50:1.0\n",
      "current: 613\n"
     ]
    },
    {
     "data": {
      "application/vnd.jupyter.widget-view+json": {
       "model_id": "c6560a4ee2f747cba1d007fddfa3167e",
       "version_major": 2,
       "version_minor": 0
      },
      "text/plain": [
       "0it [00:00, ?it/s]"
      ]
     },
     "metadata": {},
     "output_type": "display_data"
    },
    {
     "name": "stdout",
     "output_type": "stream",
     "text": [
      "For type 613, metrics:: auprc:0.8255, auroc:0.8943, ap@50:1.0\n",
      "current: 6761\n"
     ]
    },
    {
     "data": {
      "application/vnd.jupyter.widget-view+json": {
       "model_id": "b26a1565633e48af8cbd745cebdfac83",
       "version_major": 2,
       "version_minor": 0
      },
      "text/plain": [
       "0it [00:00, ?it/s]"
      ]
     },
     "metadata": {},
     "output_type": "display_data"
    },
    {
     "name": "stdout",
     "output_type": "stream",
     "text": [
      "For type 6761, metrics:: auprc:0.8139, auroc:0.8856, ap@50:1.0\n",
      "current: 617\n"
     ]
    },
    {
     "data": {
      "application/vnd.jupyter.widget-view+json": {
       "model_id": "bc573ce224fd4666b4a4dcabfc9afdda",
       "version_major": 2,
       "version_minor": 0
      },
      "text/plain": [
       "0it [00:00, ?it/s]"
      ]
     },
     "metadata": {},
     "output_type": "display_data"
    },
    {
     "name": "stdout",
     "output_type": "stream",
     "text": [
      "For type 617, metrics:: auprc:0.8047, auroc:0.8787, ap@50:1.0\n",
      "current: 619\n"
     ]
    },
    {
     "data": {
      "application/vnd.jupyter.widget-view+json": {
       "model_id": "52b2109547644f4599075adb6e50d233",
       "version_major": 2,
       "version_minor": 0
      },
      "text/plain": [
       "0it [00:00, ?it/s]"
      ]
     },
     "metadata": {},
     "output_type": "display_data"
    },
    {
     "name": "stdout",
     "output_type": "stream",
     "text": [
      "For type 619, metrics:: auprc:0.8229, auroc:0.8924, ap@50:1.0\n",
      "current: 6766\n"
     ]
    },
    {
     "data": {
      "application/vnd.jupyter.widget-view+json": {
       "model_id": "f2110359384c490c9385e4da8754b798",
       "version_major": 2,
       "version_minor": 0
      },
      "text/plain": [
       "0it [00:00, ?it/s]"
      ]
     },
     "metadata": {},
     "output_type": "display_data"
    },
    {
     "name": "stdout",
     "output_type": "stream",
     "text": [
      "For type 6766, metrics:: auprc:0.8211, auroc:0.8911, ap@50:1.0\n",
      "current: 6768\n"
     ]
    },
    {
     "data": {
      "application/vnd.jupyter.widget-view+json": {
       "model_id": "0df73aa4235641ac8faa0876eb895271",
       "version_major": 2,
       "version_minor": 0
      },
      "text/plain": [
       "0it [00:00, ?it/s]"
      ]
     },
     "metadata": {},
     "output_type": "display_data"
    },
    {
     "name": "stdout",
     "output_type": "stream",
     "text": [
      "For type 6768, metrics:: auprc:0.8303, auroc:0.8978, ap@50:1.0\n",
      "current: 8816\n"
     ]
    },
    {
     "data": {
      "application/vnd.jupyter.widget-view+json": {
       "model_id": "cfc98d7b6d8f4c33a3ed33ac31740f1a",
       "version_major": 2,
       "version_minor": 0
      },
      "text/plain": [
       "0it [00:00, ?it/s]"
      ]
     },
     "metadata": {},
     "output_type": "display_data"
    },
    {
     "name": "stdout",
     "output_type": "stream",
     "text": [
      "For type 8816, metrics:: auprc:0.8418, auroc:0.906, ap@50:1.0\n",
      "current: 2675\n"
     ]
    },
    {
     "data": {
      "application/vnd.jupyter.widget-view+json": {
       "model_id": "fd8cb460e1454fba82a12e052883176c",
       "version_major": 2,
       "version_minor": 0
      },
      "text/plain": [
       "0it [00:00, ?it/s]"
      ]
     },
     "metadata": {},
     "output_type": "display_data"
    },
    {
     "name": "stdout",
     "output_type": "stream",
     "text": [
      "For type 2675, metrics:: auprc:0.8163, auroc:0.8875, ap@50:1.0\n",
      "current: 8824\n"
     ]
    },
    {
     "data": {
      "application/vnd.jupyter.widget-view+json": {
       "model_id": "8d5bcd582f7f459ab5b4cfbdc3ecd99c",
       "version_major": 2,
       "version_minor": 0
      },
      "text/plain": [
       "0it [00:00, ?it/s]"
      ]
     },
     "metadata": {},
     "output_type": "display_data"
    },
    {
     "name": "stdout",
     "output_type": "stream",
     "text": [
      "For type 8824, metrics:: auprc:0.8253, auroc:0.8941, ap@50:1.0\n",
      "current: 6781\n"
     ]
    },
    {
     "data": {
      "application/vnd.jupyter.widget-view+json": {
       "model_id": "c95d7276873d44489c0ba8e12fc72bfd",
       "version_major": 2,
       "version_minor": 0
      },
      "text/plain": [
       "0it [00:00, ?it/s]"
      ]
     },
     "metadata": {},
     "output_type": "display_data"
    },
    {
     "name": "stdout",
     "output_type": "stream",
     "text": [
      "For type 6781, metrics:: auprc:0.8106, auroc:0.8832, ap@50:1.0\n",
      "current: 6782\n"
     ]
    },
    {
     "data": {
      "application/vnd.jupyter.widget-view+json": {
       "model_id": "08dd0180e12344559658789c39df7e5b",
       "version_major": 2,
       "version_minor": 0
      },
      "text/plain": [
       "0it [00:00, ?it/s]"
      ]
     },
     "metadata": {},
     "output_type": "display_data"
    },
    {
     "name": "stdout",
     "output_type": "stream",
     "text": [
      "For type 6782, metrics:: auprc:0.8563, auroc:0.9161, ap@50:1.0\n",
      "current: 4736\n"
     ]
    },
    {
     "data": {
      "application/vnd.jupyter.widget-view+json": {
       "model_id": "f9d493a824fc4f7aa2b6aad1e7a9b33e",
       "version_major": 2,
       "version_minor": 0
      },
      "text/plain": [
       "0it [00:00, ?it/s]"
      ]
     },
     "metadata": {},
     "output_type": "display_data"
    },
    {
     "name": "stdout",
     "output_type": "stream",
     "text": [
      "For type 4736, metrics:: auprc:0.8181, auroc:0.8888, ap@50:1.0\n",
      "current: 2690\n"
     ]
    },
    {
     "data": {
      "application/vnd.jupyter.widget-view+json": {
       "model_id": "2b7ded2fb3b84b7caec48d6faeca6f2a",
       "version_major": 2,
       "version_minor": 0
      },
      "text/plain": [
       "0it [00:00, ?it/s]"
      ]
     },
     "metadata": {},
     "output_type": "display_data"
    },
    {
     "name": "stdout",
     "output_type": "stream",
     "text": [
      "For type 2690, metrics:: auprc:0.8196, auroc:0.89, ap@50:1.0\n",
      "current: 8835\n"
     ]
    },
    {
     "data": {
      "application/vnd.jupyter.widget-view+json": {
       "model_id": "7990dd239fff4614a18f15ea0e9c8425",
       "version_major": 2,
       "version_minor": 0
      },
      "text/plain": [
       "0it [00:00, ?it/s]"
      ]
     },
     "metadata": {},
     "output_type": "display_data"
    },
    {
     "name": "stdout",
     "output_type": "stream",
     "text": [
      "For type 8835, metrics:: auprc:0.8231, auroc:0.8925, ap@50:1.0\n",
      "current: 644\n"
     ]
    },
    {
     "data": {
      "application/vnd.jupyter.widget-view+json": {
       "model_id": "5b7127866f0e422d9d5393e9be4633e4",
       "version_major": 2,
       "version_minor": 0
      },
      "text/plain": [
       "0it [00:00, ?it/s]"
      ]
     },
     "metadata": {},
     "output_type": "display_data"
    },
    {
     "name": "stdout",
     "output_type": "stream",
     "text": [
      "For type 644, metrics:: auprc:0.8192, auroc:0.8896, ap@50:1.0\n",
      "current: 8841\n"
     ]
    },
    {
     "data": {
      "application/vnd.jupyter.widget-view+json": {
       "model_id": "ce71799d1bf544b6919d1b0a612d6db5",
       "version_major": 2,
       "version_minor": 0
      },
      "text/plain": [
       "0it [00:00, ?it/s]"
      ]
     },
     "metadata": {},
     "output_type": "display_data"
    },
    {
     "name": "stdout",
     "output_type": "stream",
     "text": [
      "For type 8841, metrics:: auprc:0.8184, auroc:0.8891, ap@50:1.0\n",
      "current: 2697\n"
     ]
    },
    {
     "data": {
      "application/vnd.jupyter.widget-view+json": {
       "model_id": "bfc1f689d40f494c93ff0d59b56f554d",
       "version_major": 2,
       "version_minor": 0
      },
      "text/plain": [
       "0it [00:00, ?it/s]"
      ]
     },
     "metadata": {},
     "output_type": "display_data"
    },
    {
     "name": "stdout",
     "output_type": "stream",
     "text": [
      "For type 2697, metrics:: auprc:0.8283, auroc:0.8964, ap@50:1.0\n",
      "current: 4754\n"
     ]
    },
    {
     "data": {
      "application/vnd.jupyter.widget-view+json": {
       "model_id": "ae83415a63c6416b94c2bb8367dd3ee9",
       "version_major": 2,
       "version_minor": 0
      },
      "text/plain": [
       "0it [00:00, ?it/s]"
      ]
     },
     "metadata": {},
     "output_type": "display_data"
    },
    {
     "name": "stdout",
     "output_type": "stream",
     "text": [
      "For type 4754, metrics:: auprc:0.838, auroc:0.9033, ap@50:1.0\n",
      "current: 659\n"
     ]
    },
    {
     "data": {
      "application/vnd.jupyter.widget-view+json": {
       "model_id": "5eef6203f3f944b1a36599207b29f6dd",
       "version_major": 2,
       "version_minor": 0
      },
      "text/plain": [
       "0it [00:00, ?it/s]"
      ]
     },
     "metadata": {},
     "output_type": "display_data"
    },
    {
     "name": "stdout",
     "output_type": "stream",
     "text": [
      "For type 659, metrics:: auprc:0.792, auroc:0.8687, ap@50:1.0\n",
      "current: 6804\n"
     ]
    },
    {
     "data": {
      "application/vnd.jupyter.widget-view+json": {
       "model_id": "e1c4513f854341979d8da6e7dc5fac5d",
       "version_major": 2,
       "version_minor": 0
      },
      "text/plain": [
       "0it [00:00, ?it/s]"
      ]
     },
     "metadata": {},
     "output_type": "display_data"
    },
    {
     "name": "stdout",
     "output_type": "stream",
     "text": [
      "For type 6804, metrics:: auprc:0.8153, auroc:0.8867, ap@50:1.0\n",
      "current: 2709\n"
     ]
    },
    {
     "data": {
      "application/vnd.jupyter.widget-view+json": {
       "model_id": "103d66ba9c314c22817726cd4f0162c3",
       "version_major": 2,
       "version_minor": 0
      },
      "text/plain": [
       "0it [00:00, ?it/s]"
      ]
     },
     "metadata": {},
     "output_type": "display_data"
    },
    {
     "name": "stdout",
     "output_type": "stream",
     "text": [
      "For type 2709, metrics:: auprc:0.8133, auroc:0.8853, ap@50:1.0\n",
      "current: 6805\n"
     ]
    },
    {
     "data": {
      "application/vnd.jupyter.widget-view+json": {
       "model_id": "3c640a5bf9744da19f61dff66b758c3a",
       "version_major": 2,
       "version_minor": 0
      },
      "text/plain": [
       "0it [00:00, ?it/s]"
      ]
     },
     "metadata": {},
     "output_type": "display_data"
    },
    {
     "name": "stdout",
     "output_type": "stream",
     "text": [
      "For type 6805, metrics:: auprc:0.8316, auroc:0.8988, ap@50:1.0\n",
      "current: 8857\n"
     ]
    },
    {
     "data": {
      "application/vnd.jupyter.widget-view+json": {
       "model_id": "ceb358bc8a854926b6cdc1b95231cfea",
       "version_major": 2,
       "version_minor": 0
      },
      "text/plain": [
       "0it [00:00, ?it/s]"
      ]
     },
     "metadata": {},
     "output_type": "display_data"
    },
    {
     "name": "stdout",
     "output_type": "stream",
     "text": [
      "For type 8857, metrics:: auprc:0.8129, auroc:0.8849, ap@50:1.0\n",
      "current: 8862\n"
     ]
    },
    {
     "data": {
      "application/vnd.jupyter.widget-view+json": {
       "model_id": "3298a5d7bae54faca4867f6f63b7ab4e",
       "version_major": 2,
       "version_minor": 0
      },
      "text/plain": [
       "0it [00:00, ?it/s]"
      ]
     },
     "metadata": {},
     "output_type": "display_data"
    },
    {
     "name": "stdout",
     "output_type": "stream",
     "text": [
      "For type 8862, metrics:: auprc:0.8108, auroc:0.8833, ap@50:1.0\n",
      "current: 6814\n"
     ]
    },
    {
     "data": {
      "application/vnd.jupyter.widget-view+json": {
       "model_id": "1d3345079d534be8a8e68d70f2ec8568",
       "version_major": 2,
       "version_minor": 0
      },
      "text/plain": [
       "0it [00:00, ?it/s]"
      ]
     },
     "metadata": {},
     "output_type": "display_data"
    },
    {
     "name": "stdout",
     "output_type": "stream",
     "text": [
      "For type 6814, metrics:: auprc:0.8127, auroc:0.8848, ap@50:1.0\n",
      "current: 8863\n"
     ]
    },
    {
     "data": {
      "application/vnd.jupyter.widget-view+json": {
       "model_id": "6fd528bb61a34c04adc5ace94520c539",
       "version_major": 2,
       "version_minor": 0
      },
      "text/plain": [
       "0it [00:00, ?it/s]"
      ]
     },
     "metadata": {},
     "output_type": "display_data"
    },
    {
     "name": "stdout",
     "output_type": "stream",
     "text": [
      "For type 8863, metrics:: auprc:0.8072, auroc:0.8806, ap@50:1.0\n",
      "current: 4772\n"
     ]
    },
    {
     "data": {
      "application/vnd.jupyter.widget-view+json": {
       "model_id": "97dca88cd94e4ee98e90d173c6d02df5",
       "version_major": 2,
       "version_minor": 0
      },
      "text/plain": [
       "0it [00:00, ?it/s]"
      ]
     },
     "metadata": {},
     "output_type": "display_data"
    },
    {
     "name": "stdout",
     "output_type": "stream",
     "text": [
      "For type 4772, metrics:: auprc:0.8154, auroc:0.8868, ap@50:1.0\n",
      "current: 686\n"
     ]
    },
    {
     "data": {
      "application/vnd.jupyter.widget-view+json": {
       "model_id": "ba5003f728b94990a322de5ec077ca6d",
       "version_major": 2,
       "version_minor": 0
      },
      "text/plain": [
       "0it [00:00, ?it/s]"
      ]
     },
     "metadata": {},
     "output_type": "display_data"
    },
    {
     "name": "stdout",
     "output_type": "stream",
     "text": [
      "For type 686, metrics:: auprc:0.8144, auroc:0.8861, ap@50:1.0\n",
      "current: 2735\n"
     ]
    },
    {
     "data": {
      "application/vnd.jupyter.widget-view+json": {
       "model_id": "b18b73498af94620acf6c05b9e0e3ac7",
       "version_major": 2,
       "version_minor": 0
      },
      "text/plain": [
       "0it [00:00, ?it/s]"
      ]
     },
     "metadata": {},
     "output_type": "display_data"
    },
    {
     "name": "stdout",
     "output_type": "stream",
     "text": [
      "For type 2735, metrics:: auprc:0.7989, auroc:0.8742, ap@50:1.0\n",
      "current: 8880\n"
     ]
    },
    {
     "data": {
      "application/vnd.jupyter.widget-view+json": {
       "model_id": "4f7e856179e3417b8a85921f3ae74524",
       "version_major": 2,
       "version_minor": 0
      },
      "text/plain": [
       "0it [00:00, ?it/s]"
      ]
     },
     "metadata": {},
     "output_type": "display_data"
    },
    {
     "name": "stdout",
     "output_type": "stream",
     "text": [
      "For type 8880, metrics:: auprc:0.8226, auroc:0.8922, ap@50:1.0\n",
      "current: 4789\n"
     ]
    },
    {
     "data": {
      "application/vnd.jupyter.widget-view+json": {
       "model_id": "0e2cd83e390841e8a88b5d493f1ccb61",
       "version_major": 2,
       "version_minor": 0
      },
      "text/plain": [
       "0it [00:00, ?it/s]"
      ]
     },
     "metadata": {},
     "output_type": "display_data"
    },
    {
     "name": "stdout",
     "output_type": "stream",
     "text": [
      "For type 4789, metrics:: auprc:0.8161, auroc:0.8873, ap@50:1.0\n",
      "current: 2742\n"
     ]
    },
    {
     "data": {
      "application/vnd.jupyter.widget-view+json": {
       "model_id": "ec69de93afdb4b6a8b67d6b28ebc15ae",
       "version_major": 2,
       "version_minor": 0
      },
      "text/plain": [
       "0it [00:00, ?it/s]"
      ]
     },
     "metadata": {},
     "output_type": "display_data"
    },
    {
     "name": "stdout",
     "output_type": "stream",
     "text": [
      "For type 2742, metrics:: auprc:0.8161, auroc:0.8873, ap@50:1.0\n",
      "current: 2743\n"
     ]
    },
    {
     "data": {
      "application/vnd.jupyter.widget-view+json": {
       "model_id": "85b7a2bfa5bd4271b39d16048127f2c2",
       "version_major": 2,
       "version_minor": 0
      },
      "text/plain": [
       "0it [00:00, ?it/s]"
      ]
     },
     "metadata": {},
     "output_type": "display_data"
    },
    {
     "name": "stdout",
     "output_type": "stream",
     "text": [
      "For type 2743, metrics:: auprc:0.811, auroc:0.8835, ap@50:1.0\n",
      "current: 695\n"
     ]
    },
    {
     "data": {
      "application/vnd.jupyter.widget-view+json": {
       "model_id": "e7f59d3a32f34268a0bbb18eb72506f7",
       "version_major": 2,
       "version_minor": 0
      },
      "text/plain": [
       "0it [00:00, ?it/s]"
      ]
     },
     "metadata": {},
     "output_type": "display_data"
    },
    {
     "name": "stdout",
     "output_type": "stream",
     "text": [
      "For type 695, metrics:: auprc:0.8161, auroc:0.8873, ap@50:1.0\n",
      "current: 2741\n"
     ]
    },
    {
     "data": {
      "application/vnd.jupyter.widget-view+json": {
       "model_id": "8c530d3af74b4d209c1f8c87dd25a0e4",
       "version_major": 2,
       "version_minor": 0
      },
      "text/plain": [
       "0it [00:00, ?it/s]"
      ]
     },
     "metadata": {},
     "output_type": "display_data"
    },
    {
     "name": "stdout",
     "output_type": "stream",
     "text": [
      "For type 2741, metrics:: auprc:0.8053, auroc:0.8791, ap@50:1.0\n",
      "current: 694\n"
     ]
    },
    {
     "data": {
      "application/vnd.jupyter.widget-view+json": {
       "model_id": "60a171797d0d4967a1c733862d97f101",
       "version_major": 2,
       "version_minor": 0
      },
      "text/plain": [
       "0it [00:00, ?it/s]"
      ]
     },
     "metadata": {},
     "output_type": "display_data"
    },
    {
     "name": "stdout",
     "output_type": "stream",
     "text": [
      "For type 694, metrics:: auprc:0.8087, auroc:0.8817, ap@50:1.0\n",
      "current: 6843\n"
     ]
    },
    {
     "data": {
      "application/vnd.jupyter.widget-view+json": {
       "model_id": "0b0b160afe964138b1ba3d9575f8d88e",
       "version_major": 2,
       "version_minor": 0
      },
      "text/plain": [
       "0it [00:00, ?it/s]"
      ]
     },
     "metadata": {},
     "output_type": "display_data"
    },
    {
     "name": "stdout",
     "output_type": "stream",
     "text": [
      "For type 6843, metrics:: auprc:0.796, auroc:0.8718, ap@50:1.0\n",
      "current: 700\n"
     ]
    },
    {
     "data": {
      "application/vnd.jupyter.widget-view+json": {
       "model_id": "c6a3464e2adf4a6ab3f4e5a5cc46e9e5",
       "version_major": 2,
       "version_minor": 0
      },
      "text/plain": [
       "0it [00:00, ?it/s]"
      ]
     },
     "metadata": {},
     "output_type": "display_data"
    },
    {
     "name": "stdout",
     "output_type": "stream",
     "text": [
      "For type 700, metrics:: auprc:0.8173, auroc:0.8882, ap@50:1.0\n",
      "current: 4796\n"
     ]
    },
    {
     "data": {
      "application/vnd.jupyter.widget-view+json": {
       "model_id": "17cf48fba04847bd868f5f975d26f33b",
       "version_major": 2,
       "version_minor": 0
      },
      "text/plain": [
       "0it [00:00, ?it/s]"
      ]
     },
     "metadata": {},
     "output_type": "display_data"
    },
    {
     "name": "stdout",
     "output_type": "stream",
     "text": [
      "For type 4796, metrics:: auprc:0.8153, auroc:0.8867, ap@50:1.0\n",
      "current: 8893\n"
     ]
    },
    {
     "data": {
      "application/vnd.jupyter.widget-view+json": {
       "model_id": "64f8f57f1f6f4057b1df83036d9ae07f",
       "version_major": 2,
       "version_minor": 0
      },
      "text/plain": [
       "0it [00:00, ?it/s]"
      ]
     },
     "metadata": {},
     "output_type": "display_data"
    },
    {
     "name": "stdout",
     "output_type": "stream",
     "text": [
      "For type 8893, metrics:: auprc:0.8109, auroc:0.8834, ap@50:1.0\n",
      "current: 4800\n"
     ]
    },
    {
     "data": {
      "application/vnd.jupyter.widget-view+json": {
       "model_id": "06c1b44a47744aac9c3d9b1773504632",
       "version_major": 2,
       "version_minor": 0
      },
      "text/plain": [
       "0it [00:00, ?it/s]"
      ]
     },
     "metadata": {},
     "output_type": "display_data"
    },
    {
     "name": "stdout",
     "output_type": "stream",
     "text": [
      "For type 4800, metrics:: auprc:0.8168, auroc:0.8878, ap@50:1.0\n",
      "current: 2754\n"
     ]
    },
    {
     "data": {
      "application/vnd.jupyter.widget-view+json": {
       "model_id": "58f85c43799a4bbabbbbab37a44ccf3a",
       "version_major": 2,
       "version_minor": 0
      },
      "text/plain": [
       "0it [00:00, ?it/s]"
      ]
     },
     "metadata": {},
     "output_type": "display_data"
    },
    {
     "name": "stdout",
     "output_type": "stream",
     "text": [
      "For type 2754, metrics:: auprc:0.8169, auroc:0.8879, ap@50:1.0\n",
      "current: 707\n"
     ]
    },
    {
     "data": {
      "application/vnd.jupyter.widget-view+json": {
       "model_id": "99d791318a8b4b82a16b30058e955a4f",
       "version_major": 2,
       "version_minor": 0
      },
      "text/plain": [
       "0it [00:00, ?it/s]"
      ]
     },
     "metadata": {},
     "output_type": "display_data"
    },
    {
     "name": "stdout",
     "output_type": "stream",
     "text": [
      "For type 707, metrics:: auprc:0.8152, auroc:0.8866, ap@50:1.0\n",
      "current: 710\n"
     ]
    },
    {
     "data": {
      "application/vnd.jupyter.widget-view+json": {
       "model_id": "2617e972bc2e4a02abf1c168d33f9c21",
       "version_major": 2,
       "version_minor": 0
      },
      "text/plain": [
       "0it [00:00, ?it/s]"
      ]
     },
     "metadata": {},
     "output_type": "display_data"
    },
    {
     "name": "stdout",
     "output_type": "stream",
     "text": [
      "For type 710, metrics:: auprc:0.8244, auroc:0.8935, ap@50:1.0\n",
      "current: 711\n"
     ]
    },
    {
     "data": {
      "application/vnd.jupyter.widget-view+json": {
       "model_id": "c4efa235d65a4d8f816e95ff39e83763",
       "version_major": 2,
       "version_minor": 0
      },
      "text/plain": [
       "0it [00:00, ?it/s]"
      ]
     },
     "metadata": {},
     "output_type": "display_data"
    },
    {
     "name": "stdout",
     "output_type": "stream",
     "text": [
      "For type 711, metrics:: auprc:0.8192, auroc:0.8896, ap@50:1.0\n",
      "current: 8904\n"
     ]
    },
    {
     "data": {
      "application/vnd.jupyter.widget-view+json": {
       "model_id": "a4e34050784b41a8bcc2b5c4af127f13",
       "version_major": 2,
       "version_minor": 0
      },
      "text/plain": [
       "0it [00:00, ?it/s]"
      ]
     },
     "metadata": {},
     "output_type": "display_data"
    },
    {
     "name": "stdout",
     "output_type": "stream",
     "text": [
      "For type 8904, metrics:: auprc:0.8084, auroc:0.8815, ap@50:1.0\n",
      "current: 2763\n"
     ]
    },
    {
     "data": {
      "application/vnd.jupyter.widget-view+json": {
       "model_id": "28ed0e225363430fad3207b37c0a19b6",
       "version_major": 2,
       "version_minor": 0
      },
      "text/plain": [
       "0it [00:00, ?it/s]"
      ]
     },
     "metadata": {},
     "output_type": "display_data"
    },
    {
     "name": "stdout",
     "output_type": "stream",
     "text": [
      "For type 2763, metrics:: auprc:0.8094, auroc:0.8822, ap@50:1.0\n",
      "current: 718\n"
     ]
    },
    {
     "data": {
      "application/vnd.jupyter.widget-view+json": {
       "model_id": "425113146f4d42aeae0b0adb742c2254",
       "version_major": 2,
       "version_minor": 0
      },
      "text/plain": [
       "0it [00:00, ?it/s]"
      ]
     },
     "metadata": {},
     "output_type": "display_data"
    },
    {
     "name": "stdout",
     "output_type": "stream",
     "text": [
      "For type 718, metrics:: auprc:0.8116, auroc:0.8839, ap@50:1.0\n",
      "current: 2769\n"
     ]
    },
    {
     "data": {
      "application/vnd.jupyter.widget-view+json": {
       "model_id": "dfb3848735a74aa1870aa38ab580562e",
       "version_major": 2,
       "version_minor": 0
      },
      "text/plain": [
       "0it [00:00, ?it/s]"
      ]
     },
     "metadata": {},
     "output_type": "display_data"
    },
    {
     "name": "stdout",
     "output_type": "stream",
     "text": [
      "For type 2769, metrics:: auprc:0.8204, auroc:0.8906, ap@50:1.0\n",
      "current: 8913\n"
     ]
    },
    {
     "data": {
      "application/vnd.jupyter.widget-view+json": {
       "model_id": "0935cd5a925f4985be89cd44b7613a17",
       "version_major": 2,
       "version_minor": 0
      },
      "text/plain": [
       "0it [00:00, ?it/s]"
      ]
     },
     "metadata": {},
     "output_type": "display_data"
    },
    {
     "name": "stdout",
     "output_type": "stream",
     "text": [
      "For type 8913, metrics:: auprc:0.8201, auroc:0.8903, ap@50:1.0\n",
      "current: 6867\n"
     ]
    },
    {
     "data": {
      "application/vnd.jupyter.widget-view+json": {
       "model_id": "847867445fd340d69fe649f8c1e44a5a",
       "version_major": 2,
       "version_minor": 0
      },
      "text/plain": [
       "0it [00:00, ?it/s]"
      ]
     },
     "metadata": {},
     "output_type": "display_data"
    },
    {
     "name": "stdout",
     "output_type": "stream",
     "text": [
      "For type 6867, metrics:: auprc:0.8203, auroc:0.8905, ap@50:1.0\n",
      "current: 724\n"
     ]
    },
    {
     "data": {
      "application/vnd.jupyter.widget-view+json": {
       "model_id": "d51374de044248e2a62975b9f995f1e8",
       "version_major": 2,
       "version_minor": 0
      },
      "text/plain": [
       "0it [00:00, ?it/s]"
      ]
     },
     "metadata": {},
     "output_type": "display_data"
    },
    {
     "name": "stdout",
     "output_type": "stream",
     "text": [
      "For type 724, metrics:: auprc:0.8189, auroc:0.8894, ap@50:1.0\n",
      "current: 4821\n"
     ]
    },
    {
     "data": {
      "application/vnd.jupyter.widget-view+json": {
       "model_id": "f2dd8af6b6b1468b96a4854b1dae548d",
       "version_major": 2,
       "version_minor": 0
      },
      "text/plain": [
       "0it [00:00, ?it/s]"
      ]
     },
     "metadata": {},
     "output_type": "display_data"
    },
    {
     "name": "stdout",
     "output_type": "stream",
     "text": [
      "For type 4821, metrics:: auprc:0.8072, auroc:0.8806, ap@50:1.0\n",
      "current: 8919\n"
     ]
    },
    {
     "data": {
      "application/vnd.jupyter.widget-view+json": {
       "model_id": "4233ef7ab2874683bc3cba19a76a350f",
       "version_major": 2,
       "version_minor": 0
      },
      "text/plain": [
       "0it [00:00, ?it/s]"
      ]
     },
     "metadata": {},
     "output_type": "display_data"
    },
    {
     "name": "stdout",
     "output_type": "stream",
     "text": [
      "For type 8919, metrics:: auprc:0.8012, auroc:0.876, ap@50:1.0\n",
      "current: 2779\n"
     ]
    },
    {
     "data": {
      "application/vnd.jupyter.widget-view+json": {
       "model_id": "d292dfdf92c14ac88433be9cc617cc25",
       "version_major": 2,
       "version_minor": 0
      },
      "text/plain": [
       "0it [00:00, ?it/s]"
      ]
     },
     "metadata": {},
     "output_type": "display_data"
    },
    {
     "name": "stdout",
     "output_type": "stream",
     "text": [
      "For type 2779, metrics:: auprc:0.8373, auroc:0.9029, ap@50:1.0\n",
      "current: 2780\n"
     ]
    },
    {
     "data": {
      "application/vnd.jupyter.widget-view+json": {
       "model_id": "fd27d76d0cc34648841825a3b8e8faa5",
       "version_major": 2,
       "version_minor": 0
      },
      "text/plain": [
       "0it [00:00, ?it/s]"
      ]
     },
     "metadata": {},
     "output_type": "display_data"
    },
    {
     "name": "stdout",
     "output_type": "stream",
     "text": [
      "For type 2780, metrics:: auprc:0.8114, auroc:0.8838, ap@50:1.0\n",
      "current: 4830\n"
     ]
    },
    {
     "data": {
      "application/vnd.jupyter.widget-view+json": {
       "model_id": "e5c9b42afd7c43318a77000b482f96d9",
       "version_major": 2,
       "version_minor": 0
      },
      "text/plain": [
       "0it [00:00, ?it/s]"
      ]
     },
     "metadata": {},
     "output_type": "display_data"
    },
    {
     "name": "stdout",
     "output_type": "stream",
     "text": [
      "For type 4830, metrics:: auprc:0.8016, auroc:0.8762, ap@50:1.0\n",
      "current: 2783\n"
     ]
    },
    {
     "data": {
      "application/vnd.jupyter.widget-view+json": {
       "model_id": "06bef9dbf8ee489bbd0e895c8dc8f507",
       "version_major": 2,
       "version_minor": 0
      },
      "text/plain": [
       "0it [00:00, ?it/s]"
      ]
     },
     "metadata": {},
     "output_type": "display_data"
    },
    {
     "name": "stdout",
     "output_type": "stream",
     "text": [
      "For type 2783, metrics:: auprc:0.8194, auroc:0.8898, ap@50:1.0\n",
      "current: 737\n"
     ]
    },
    {
     "data": {
      "application/vnd.jupyter.widget-view+json": {
       "model_id": "ff059e86a62d4b9a89256523899ca875",
       "version_major": 2,
       "version_minor": 0
      },
      "text/plain": [
       "0it [00:00, ?it/s]"
      ]
     },
     "metadata": {},
     "output_type": "display_data"
    },
    {
     "name": "stdout",
     "output_type": "stream",
     "text": [
      "For type 737, metrics:: auprc:0.8148, auroc:0.8864, ap@50:1.0\n",
      "current: 738\n"
     ]
    },
    {
     "data": {
      "application/vnd.jupyter.widget-view+json": {
       "model_id": "7fa4a0eb60834fe18b45d7e3db42fd07",
       "version_major": 2,
       "version_minor": 0
      },
      "text/plain": [
       "0it [00:00, ?it/s]"
      ]
     },
     "metadata": {},
     "output_type": "display_data"
    },
    {
     "name": "stdout",
     "output_type": "stream",
     "text": [
      "For type 738, metrics:: auprc:0.842, auroc:0.9061, ap@50:1.0\n",
      "current: 741\n"
     ]
    },
    {
     "data": {
      "application/vnd.jupyter.widget-view+json": {
       "model_id": "1cdc4a2a723145678ea8f49eac599a30",
       "version_major": 2,
       "version_minor": 0
      },
      "text/plain": [
       "0it [00:00, ?it/s]"
      ]
     },
     "metadata": {},
     "output_type": "display_data"
    },
    {
     "name": "stdout",
     "output_type": "stream",
     "text": [
      "For type 741, metrics:: auprc:0.8092, auroc:0.8821, ap@50:1.0\n",
      "current: 4841\n"
     ]
    },
    {
     "data": {
      "application/vnd.jupyter.widget-view+json": {
       "model_id": "faa25b5cee8343c7ac681531d2d18ac5",
       "version_major": 2,
       "version_minor": 0
      },
      "text/plain": [
       "0it [00:00, ?it/s]"
      ]
     },
     "metadata": {},
     "output_type": "display_data"
    },
    {
     "name": "stdout",
     "output_type": "stream",
     "text": [
      "For type 4841, metrics:: auprc:0.8082, auroc:0.8813, ap@50:1.0\n",
      "current: 746\n"
     ]
    },
    {
     "data": {
      "application/vnd.jupyter.widget-view+json": {
       "model_id": "ba744f2e1f85492db9efd6e9cefecdff",
       "version_major": 2,
       "version_minor": 0
      },
      "text/plain": [
       "0it [00:00, ?it/s]"
      ]
     },
     "metadata": {},
     "output_type": "display_data"
    },
    {
     "name": "stdout",
     "output_type": "stream",
     "text": [
      "For type 746, metrics:: auprc:0.8181, auroc:0.8888, ap@50:1.0\n",
      "current: 6893\n"
     ]
    },
    {
     "data": {
      "application/vnd.jupyter.widget-view+json": {
       "model_id": "c8be055a852647b49912d60a0070adce",
       "version_major": 2,
       "version_minor": 0
      },
      "text/plain": [
       "0it [00:00, ?it/s]"
      ]
     },
     "metadata": {},
     "output_type": "display_data"
    },
    {
     "name": "stdout",
     "output_type": "stream",
     "text": [
      "For type 6893, metrics:: auprc:0.8195, auroc:0.8899, ap@50:1.0\n",
      "current: 4846\n"
     ]
    },
    {
     "data": {
      "application/vnd.jupyter.widget-view+json": {
       "model_id": "21adc1ea91244e6389a96934014f48d3",
       "version_major": 2,
       "version_minor": 0
      },
      "text/plain": [
       "0it [00:00, ?it/s]"
      ]
     },
     "metadata": {},
     "output_type": "display_data"
    },
    {
     "name": "stdout",
     "output_type": "stream",
     "text": [
      "For type 4846, metrics:: auprc:0.8222, auroc:0.8918, ap@50:1.0\n",
      "current: 6904\n"
     ]
    },
    {
     "data": {
      "application/vnd.jupyter.widget-view+json": {
       "model_id": "4b40d0afccbc41509dc96c7bc94197aa",
       "version_major": 2,
       "version_minor": 0
      },
      "text/plain": [
       "0it [00:00, ?it/s]"
      ]
     },
     "metadata": {},
     "output_type": "display_data"
    },
    {
     "name": "stdout",
     "output_type": "stream",
     "text": [
      "For type 6904, metrics:: auprc:0.8251, auroc:0.894, ap@50:1.0\n",
      "current: 8957\n"
     ]
    },
    {
     "data": {
      "application/vnd.jupyter.widget-view+json": {
       "model_id": "c09668641c124dc3990ad5c6f99030ce",
       "version_major": 2,
       "version_minor": 0
      },
      "text/plain": [
       "0it [00:00, ?it/s]"
      ]
     },
     "metadata": {},
     "output_type": "display_data"
    },
    {
     "name": "stdout",
     "output_type": "stream",
     "text": [
      "For type 8957, metrics:: auprc:0.7953, auroc:0.8713, ap@50:1.0\n",
      "current: 8958\n"
     ]
    },
    {
     "data": {
      "application/vnd.jupyter.widget-view+json": {
       "model_id": "de9f2f08faf54e0aa21b4c873cb80f52",
       "version_major": 2,
       "version_minor": 0
      },
      "text/plain": [
       "0it [00:00, ?it/s]"
      ]
     },
     "metadata": {},
     "output_type": "display_data"
    },
    {
     "name": "stdout",
     "output_type": "stream",
     "text": [
      "For type 8958, metrics:: auprc:0.8187, auroc:0.8893, ap@50:1.0\n",
      "current: 767\n"
     ]
    },
    {
     "data": {
      "application/vnd.jupyter.widget-view+json": {
       "model_id": "27211f716cff469bae2edc1a218b5656",
       "version_major": 2,
       "version_minor": 0
      },
      "text/plain": [
       "0it [00:00, ?it/s]"
      ]
     },
     "metadata": {},
     "output_type": "display_data"
    },
    {
     "name": "stdout",
     "output_type": "stream",
     "text": [
      "For type 767, metrics:: auprc:0.8207, auroc:0.8908, ap@50:1.0\n",
      "current: 2815\n"
     ]
    },
    {
     "data": {
      "application/vnd.jupyter.widget-view+json": {
       "model_id": "4abc7fb11ef34152900f4943a01908c2",
       "version_major": 2,
       "version_minor": 0
      },
      "text/plain": [
       "0it [00:00, ?it/s]"
      ]
     },
     "metadata": {},
     "output_type": "display_data"
    },
    {
     "name": "stdout",
     "output_type": "stream",
     "text": [
      "For type 2815, metrics:: auprc:0.8571, auroc:0.9167, ap@50:1.0\n",
      "current: 4865\n"
     ]
    },
    {
     "data": {
      "application/vnd.jupyter.widget-view+json": {
       "model_id": "eb3cdd817cfb406c96718c370eade52a",
       "version_major": 2,
       "version_minor": 0
      },
      "text/plain": [
       "0it [00:00, ?it/s]"
      ]
     },
     "metadata": {},
     "output_type": "display_data"
    },
    {
     "name": "stdout",
     "output_type": "stream",
     "text": [
      "For type 4865, metrics:: auprc:0.8151, auroc:0.8866, ap@50:1.0\n",
      "current: 8962\n"
     ]
    },
    {
     "data": {
      "application/vnd.jupyter.widget-view+json": {
       "model_id": "31285e336ddf43c38431e28feed5c673",
       "version_major": 2,
       "version_minor": 0
      },
      "text/plain": [
       "0it [00:00, ?it/s]"
      ]
     },
     "metadata": {},
     "output_type": "display_data"
    },
    {
     "name": "stdout",
     "output_type": "stream",
     "text": [
      "For type 8962, metrics:: auprc:0.8083, auroc:0.8814, ap@50:1.0\n",
      "current: 4864\n"
     ]
    },
    {
     "data": {
      "application/vnd.jupyter.widget-view+json": {
       "model_id": "8879bdfc979e4a109b14e6e4fdcd835a",
       "version_major": 2,
       "version_minor": 0
      },
      "text/plain": [
       "0it [00:00, ?it/s]"
      ]
     },
     "metadata": {},
     "output_type": "display_data"
    },
    {
     "name": "stdout",
     "output_type": "stream",
     "text": [
      "For type 4864, metrics:: auprc:0.8, auroc:0.875, ap@50:1.0\n",
      "current: 6916\n"
     ]
    },
    {
     "data": {
      "application/vnd.jupyter.widget-view+json": {
       "model_id": "7ef7e6dff796413f8944cd6abb1c94de",
       "version_major": 2,
       "version_minor": 0
      },
      "text/plain": [
       "0it [00:00, ?it/s]"
      ]
     },
     "metadata": {},
     "output_type": "display_data"
    },
    {
     "name": "stdout",
     "output_type": "stream",
     "text": [
      "For type 6916, metrics:: auprc:0.8204, auroc:0.8906, ap@50:1.0\n",
      "current: 4869\n"
     ]
    },
    {
     "data": {
      "application/vnd.jupyter.widget-view+json": {
       "model_id": "d67aaf96fb8248b4afe356a11a02e383",
       "version_major": 2,
       "version_minor": 0
      },
      "text/plain": [
       "0it [00:00, ?it/s]"
      ]
     },
     "metadata": {},
     "output_type": "display_data"
    },
    {
     "name": "stdout",
     "output_type": "stream",
     "text": [
      "For type 4869, metrics:: auprc:0.8305, auroc:0.898, ap@50:1.0\n",
      "current: 6918\n"
     ]
    },
    {
     "data": {
      "application/vnd.jupyter.widget-view+json": {
       "model_id": "1f78631b5f924ce09263d92a42de8f89",
       "version_major": 2,
       "version_minor": 0
      },
      "text/plain": [
       "0it [00:00, ?it/s]"
      ]
     },
     "metadata": {},
     "output_type": "display_data"
    },
    {
     "name": "stdout",
     "output_type": "stream",
     "text": [
      "For type 6918, metrics:: auprc:0.8174, auroc:0.8883, ap@50:1.0\n",
      "current: 2819\n"
     ]
    },
    {
     "data": {
      "application/vnd.jupyter.widget-view+json": {
       "model_id": "f8f14fb256dd475f93559a4ae4fc9262",
       "version_major": 2,
       "version_minor": 0
      },
      "text/plain": [
       "0it [00:00, ?it/s]"
      ]
     },
     "metadata": {},
     "output_type": "display_data"
    },
    {
     "name": "stdout",
     "output_type": "stream",
     "text": [
      "For type 2819, metrics:: auprc:0.8, auroc:0.875, ap@50:1.0\n",
      "current: 4878\n"
     ]
    },
    {
     "data": {
      "application/vnd.jupyter.widget-view+json": {
       "model_id": "f0b2a53996ae4dd398c19900a0c271ae",
       "version_major": 2,
       "version_minor": 0
      },
      "text/plain": [
       "0it [00:00, ?it/s]"
      ]
     },
     "metadata": {},
     "output_type": "display_data"
    },
    {
     "name": "stdout",
     "output_type": "stream",
     "text": [
      "For type 4878, metrics:: auprc:0.8176, auroc:0.8884, ap@50:1.0\n",
      "current: 6928\n"
     ]
    },
    {
     "data": {
      "application/vnd.jupyter.widget-view+json": {
       "model_id": "0079716a35314b0d9255b3005c22de65",
       "version_major": 2,
       "version_minor": 0
      },
      "text/plain": [
       "0it [00:00, ?it/s]"
      ]
     },
     "metadata": {},
     "output_type": "display_data"
    },
    {
     "name": "stdout",
     "output_type": "stream",
     "text": [
      "For type 6928, metrics:: auprc:0.8284, auroc:0.8964, ap@50:1.0\n",
      "current: 6930\n"
     ]
    },
    {
     "data": {
      "application/vnd.jupyter.widget-view+json": {
       "model_id": "4a33232a0e634c3dba93e724a1ecb470",
       "version_major": 2,
       "version_minor": 0
      },
      "text/plain": [
       "0it [00:00, ?it/s]"
      ]
     },
     "metadata": {},
     "output_type": "display_data"
    },
    {
     "name": "stdout",
     "output_type": "stream",
     "text": [
      "For type 6930, metrics:: auprc:0.8175, auroc:0.8884, ap@50:1.0\n",
      "current: 4884\n"
     ]
    },
    {
     "data": {
      "application/vnd.jupyter.widget-view+json": {
       "model_id": "08cc7263155b48549a9bf41d83fb169b",
       "version_major": 2,
       "version_minor": 0
      },
      "text/plain": [
       "0it [00:00, ?it/s]"
      ]
     },
     "metadata": {},
     "output_type": "display_data"
    },
    {
     "name": "stdout",
     "output_type": "stream",
     "text": [
      "For type 4884, metrics:: auprc:0.8128, auroc:0.8848, ap@50:1.0\n",
      "current: 6935\n"
     ]
    },
    {
     "data": {
      "application/vnd.jupyter.widget-view+json": {
       "model_id": "5717443661164d9ea3bf41e8b34725f4",
       "version_major": 2,
       "version_minor": 0
      },
      "text/plain": [
       "0it [00:00, ?it/s]"
      ]
     },
     "metadata": {},
     "output_type": "display_data"
    },
    {
     "name": "stdout",
     "output_type": "stream",
     "text": [
      "For type 6935, metrics:: auprc:0.8117, auroc:0.884, ap@50:1.0\n",
      "current: 792\n"
     ]
    },
    {
     "data": {
      "application/vnd.jupyter.widget-view+json": {
       "model_id": "dd258463487a43ff98a763cb000877c0",
       "version_major": 2,
       "version_minor": 0
      },
      "text/plain": [
       "0it [00:00, ?it/s]"
      ]
     },
     "metadata": {},
     "output_type": "display_data"
    },
    {
     "name": "stdout",
     "output_type": "stream",
     "text": [
      "For type 792, metrics:: auprc:0.8201, auroc:0.8904, ap@50:1.0\n",
      "current: 793\n"
     ]
    },
    {
     "data": {
      "application/vnd.jupyter.widget-view+json": {
       "model_id": "327ea8ce77f64f569654294cc7e74020",
       "version_major": 2,
       "version_minor": 0
      },
      "text/plain": [
       "0it [00:00, ?it/s]"
      ]
     },
     "metadata": {},
     "output_type": "display_data"
    },
    {
     "name": "stdout",
     "output_type": "stream",
     "text": [
      "For type 793, metrics:: auprc:0.8138, auroc:0.8856, ap@50:1.0\n",
      "current: 794\n"
     ]
    },
    {
     "data": {
      "application/vnd.jupyter.widget-view+json": {
       "model_id": "ceb99205c11d45fcbb51dadbfc49a5f4",
       "version_major": 2,
       "version_minor": 0
      },
      "text/plain": [
       "0it [00:00, ?it/s]"
      ]
     },
     "metadata": {},
     "output_type": "display_data"
    },
    {
     "name": "stdout",
     "output_type": "stream",
     "text": [
      "For type 794, metrics:: auprc:0.8095, auroc:0.8824, ap@50:1.0\n",
      "current: 6936\n"
     ]
    },
    {
     "data": {
      "application/vnd.jupyter.widget-view+json": {
       "model_id": "b0de4cfc23824ed7a05d0052f5a56d83",
       "version_major": 2,
       "version_minor": 0
      },
      "text/plain": [
       "0it [00:00, ?it/s]"
      ]
     },
     "metadata": {},
     "output_type": "display_data"
    },
    {
     "name": "stdout",
     "output_type": "stream",
     "text": [
      "For type 6936, metrics:: auprc:0.8017, auroc:0.8763, ap@50:1.0\n",
      "current: 6937\n"
     ]
    },
    {
     "data": {
      "application/vnd.jupyter.widget-view+json": {
       "model_id": "463d2bb361f847978572745ae5fa2e87",
       "version_major": 2,
       "version_minor": 0
      },
      "text/plain": [
       "0it [00:00, ?it/s]"
      ]
     },
     "metadata": {},
     "output_type": "display_data"
    },
    {
     "name": "stdout",
     "output_type": "stream",
     "text": [
      "For type 6937, metrics:: auprc:0.8081, auroc:0.8812, ap@50:1.0\n",
      "current: 797\n"
     ]
    },
    {
     "data": {
      "application/vnd.jupyter.widget-view+json": {
       "model_id": "67d7180eaac0421f8d20e9a844d82352",
       "version_major": 2,
       "version_minor": 0
      },
      "text/plain": [
       "0it [00:00, ?it/s]"
      ]
     },
     "metadata": {},
     "output_type": "display_data"
    },
    {
     "name": "stdout",
     "output_type": "stream",
     "text": [
      "For type 797, metrics:: auprc:0.8222, auroc:0.8919, ap@50:1.0\n",
      "current: 800\n"
     ]
    },
    {
     "data": {
      "application/vnd.jupyter.widget-view+json": {
       "model_id": "79551637e99e4f2497ca0b3ec81c0cc6",
       "version_major": 2,
       "version_minor": 0
      },
      "text/plain": [
       "0it [00:00, ?it/s]"
      ]
     },
     "metadata": {},
     "output_type": "display_data"
    },
    {
     "name": "stdout",
     "output_type": "stream",
     "text": [
      "For type 800, metrics:: auprc:0.7983, auroc:0.8737, ap@50:1.0\n",
      "current: 4897\n"
     ]
    },
    {
     "data": {
      "application/vnd.jupyter.widget-view+json": {
       "model_id": "a458427517e94779b8ca1f62f2a705e2",
       "version_major": 2,
       "version_minor": 0
      },
      "text/plain": [
       "0it [00:00, ?it/s]"
      ]
     },
     "metadata": {},
     "output_type": "display_data"
    },
    {
     "name": "stdout",
     "output_type": "stream",
     "text": [
      "For type 4897, metrics:: auprc:0.812, auroc:0.8842, ap@50:1.0\n",
      "current: 2849\n"
     ]
    },
    {
     "data": {
      "application/vnd.jupyter.widget-view+json": {
       "model_id": "61f43d7256e04734a1e964fadf6bed66",
       "version_major": 2,
       "version_minor": 0
      },
      "text/plain": [
       "0it [00:00, ?it/s]"
      ]
     },
     "metadata": {},
     "output_type": "display_data"
    },
    {
     "name": "stdout",
     "output_type": "stream",
     "text": [
      "For type 2849, metrics:: auprc:0.8127, auroc:0.8847, ap@50:1.0\n",
      "current: 6946\n"
     ]
    },
    {
     "data": {
      "application/vnd.jupyter.widget-view+json": {
       "model_id": "620d1e01a5414fcdb00f583c4561f883",
       "version_major": 2,
       "version_minor": 0
      },
      "text/plain": [
       "0it [00:00, ?it/s]"
      ]
     },
     "metadata": {},
     "output_type": "display_data"
    },
    {
     "name": "stdout",
     "output_type": "stream",
     "text": [
      "For type 6946, metrics:: auprc:0.8093, auroc:0.8822, ap@50:1.0\n",
      "current: 4900\n"
     ]
    },
    {
     "data": {
      "application/vnd.jupyter.widget-view+json": {
       "model_id": "84a3a5197e754e99822123f870472066",
       "version_major": 2,
       "version_minor": 0
      },
      "text/plain": [
       "0it [00:00, ?it/s]"
      ]
     },
     "metadata": {},
     "output_type": "display_data"
    },
    {
     "name": "stdout",
     "output_type": "stream",
     "text": [
      "For type 4900, metrics:: auprc:0.8292, auroc:0.897, ap@50:1.0\n",
      "current: 6949\n"
     ]
    },
    {
     "data": {
      "application/vnd.jupyter.widget-view+json": {
       "model_id": "8c2dd75620264fbda1b2d26d9ea5fad2",
       "version_major": 2,
       "version_minor": 0
      },
      "text/plain": [
       "0it [00:00, ?it/s]"
      ]
     },
     "metadata": {},
     "output_type": "display_data"
    },
    {
     "name": "stdout",
     "output_type": "stream",
     "text": [
      "For type 6949, metrics:: auprc:0.8256, auroc:0.8944, ap@50:1.0\n",
      "current: 9001\n"
     ]
    },
    {
     "data": {
      "application/vnd.jupyter.widget-view+json": {
       "model_id": "8dcf1002b952473aad78d002b1be7a17",
       "version_major": 2,
       "version_minor": 0
      },
      "text/plain": [
       "0it [00:00, ?it/s]"
      ]
     },
     "metadata": {},
     "output_type": "display_data"
    },
    {
     "name": "stdout",
     "output_type": "stream",
     "text": [
      "For type 9001, metrics:: auprc:0.8062, auroc:0.8798, ap@50:1.0\n",
      "current: 813\n"
     ]
    },
    {
     "data": {
      "application/vnd.jupyter.widget-view+json": {
       "model_id": "c4c1b15bfbe042a4b8eb2cb85cdf435f",
       "version_major": 2,
       "version_minor": 0
      },
      "text/plain": [
       "0it [00:00, ?it/s]"
      ]
     },
     "metadata": {},
     "output_type": "display_data"
    },
    {
     "name": "stdout",
     "output_type": "stream",
     "text": [
      "For type 813, metrics:: auprc:0.8144, auroc:0.886, ap@50:1.0\n",
      "current: 6963\n"
     ]
    },
    {
     "data": {
      "application/vnd.jupyter.widget-view+json": {
       "model_id": "eea7391ae8d04a5e89bef6a0469e4f22",
       "version_major": 2,
       "version_minor": 0
      },
      "text/plain": [
       "0it [00:00, ?it/s]"
      ]
     },
     "metadata": {},
     "output_type": "display_data"
    },
    {
     "name": "stdout",
     "output_type": "stream",
     "text": [
      "For type 6963, metrics:: auprc:0.8197, auroc:0.89, ap@50:1.0\n",
      "current: 4916\n"
     ]
    },
    {
     "data": {
      "application/vnd.jupyter.widget-view+json": {
       "model_id": "1da9aa642ae24cb187e3ffe064c6ba85",
       "version_major": 2,
       "version_minor": 0
      },
      "text/plain": [
       "0it [00:00, ?it/s]"
      ]
     },
     "metadata": {},
     "output_type": "display_data"
    },
    {
     "name": "stdout",
     "output_type": "stream",
     "text": [
      "For type 4916, metrics:: auprc:0.8211, auroc:0.8911, ap@50:1.0\n",
      "current: 6966\n"
     ]
    },
    {
     "data": {
      "application/vnd.jupyter.widget-view+json": {
       "model_id": "22f2e424d8e04b43b7f7e8e77c6522e4",
       "version_major": 2,
       "version_minor": 0
      },
      "text/plain": [
       "0it [00:00, ?it/s]"
      ]
     },
     "metadata": {},
     "output_type": "display_data"
    },
    {
     "name": "stdout",
     "output_type": "stream",
     "text": [
      "For type 6966, metrics:: auprc:0.8122, auroc:0.8844, ap@50:1.0\n",
      "current: 828\n"
     ]
    },
    {
     "data": {
      "application/vnd.jupyter.widget-view+json": {
       "model_id": "8bebc4cb18da4b6a9c6cf23d335ede56",
       "version_major": 2,
       "version_minor": 0
      },
      "text/plain": [
       "0it [00:00, ?it/s]"
      ]
     },
     "metadata": {},
     "output_type": "display_data"
    },
    {
     "name": "stdout",
     "output_type": "stream",
     "text": [
      "For type 828, metrics:: auprc:0.8065, auroc:0.88, ap@50:1.0\n",
      "current: 6973\n"
     ]
    },
    {
     "data": {
      "application/vnd.jupyter.widget-view+json": {
       "model_id": "1acc86827bab4a38a74b20ae22bfc867",
       "version_major": 2,
       "version_minor": 0
      },
      "text/plain": [
       "0it [00:00, ?it/s]"
      ]
     },
     "metadata": {},
     "output_type": "display_data"
    },
    {
     "name": "stdout",
     "output_type": "stream",
     "text": [
      "For type 6973, metrics:: auprc:0.8198, auroc:0.8901, ap@50:1.0\n",
      "current: 2887\n"
     ]
    },
    {
     "data": {
      "application/vnd.jupyter.widget-view+json": {
       "model_id": "83d0c567ed99469eb7b0913aaabe7d36",
       "version_major": 2,
       "version_minor": 0
      },
      "text/plain": [
       "0it [00:00, ?it/s]"
      ]
     },
     "metadata": {},
     "output_type": "display_data"
    },
    {
     "name": "stdout",
     "output_type": "stream",
     "text": [
      "For type 2887, metrics:: auprc:0.826, auroc:0.8947, ap@50:1.0\n",
      "current: 9034\n"
     ]
    },
    {
     "data": {
      "application/vnd.jupyter.widget-view+json": {
       "model_id": "85c0b2da250d437fbbaaedccba9f9fbe",
       "version_major": 2,
       "version_minor": 0
      },
      "text/plain": [
       "0it [00:00, ?it/s]"
      ]
     },
     "metadata": {},
     "output_type": "display_data"
    },
    {
     "name": "stdout",
     "output_type": "stream",
     "text": [
      "For type 9034, metrics:: auprc:0.8126, auroc:0.8847, ap@50:1.0\n",
      "current: 847\n"
     ]
    },
    {
     "data": {
      "application/vnd.jupyter.widget-view+json": {
       "model_id": "a77fa45d6ab2434a812d0175c5b7fa21",
       "version_major": 2,
       "version_minor": 0
      },
      "text/plain": [
       "0it [00:00, ?it/s]"
      ]
     },
     "metadata": {},
     "output_type": "display_data"
    },
    {
     "name": "stdout",
     "output_type": "stream",
     "text": [
      "For type 847, metrics:: auprc:0.8135, auroc:0.8854, ap@50:1.0\n",
      "current: 848\n"
     ]
    },
    {
     "data": {
      "application/vnd.jupyter.widget-view+json": {
       "model_id": "d82c08a571314a7f945f5fdffa4476cb",
       "version_major": 2,
       "version_minor": 0
      },
      "text/plain": [
       "0it [00:00, ?it/s]"
      ]
     },
     "metadata": {},
     "output_type": "display_data"
    },
    {
     "name": "stdout",
     "output_type": "stream",
     "text": [
      "For type 848, metrics:: auprc:0.8146, auroc:0.8862, ap@50:1.0\n",
      "current: 4946\n"
     ]
    },
    {
     "data": {
      "application/vnd.jupyter.widget-view+json": {
       "model_id": "4f52a34e53d04022ab1a4ac6096dddbd",
       "version_major": 2,
       "version_minor": 0
      },
      "text/plain": [
       "0it [00:00, ?it/s]"
      ]
     },
     "metadata": {},
     "output_type": "display_data"
    },
    {
     "name": "stdout",
     "output_type": "stream",
     "text": [
      "For type 4946, metrics:: auprc:0.8185, auroc:0.8891, ap@50:1.0\n",
      "current: 854\n"
     ]
    },
    {
     "data": {
      "application/vnd.jupyter.widget-view+json": {
       "model_id": "cbd0fabfb0874648b67f95b140f9af98",
       "version_major": 2,
       "version_minor": 0
      },
      "text/plain": [
       "0it [00:00, ?it/s]"
      ]
     },
     "metadata": {},
     "output_type": "display_data"
    },
    {
     "name": "stdout",
     "output_type": "stream",
     "text": [
      "For type 854, metrics:: auprc:0.8065, auroc:0.88, ap@50:1.0\n",
      "current: 7002\n"
     ]
    },
    {
     "data": {
      "application/vnd.jupyter.widget-view+json": {
       "model_id": "3de461e3832e4da98e14a556890eceac",
       "version_major": 2,
       "version_minor": 0
      },
      "text/plain": [
       "0it [00:00, ?it/s]"
      ]
     },
     "metadata": {},
     "output_type": "display_data"
    },
    {
     "name": "stdout",
     "output_type": "stream",
     "text": [
      "For type 7002, metrics:: auprc:0.8139, auroc:0.8857, ap@50:1.0\n",
      "current: 7006\n"
     ]
    },
    {
     "data": {
      "application/vnd.jupyter.widget-view+json": {
       "model_id": "03bb6e8372b349afb82962bd4fc54dfd",
       "version_major": 2,
       "version_minor": 0
      },
      "text/plain": [
       "0it [00:00, ?it/s]"
      ]
     },
     "metadata": {},
     "output_type": "display_data"
    },
    {
     "name": "stdout",
     "output_type": "stream",
     "text": [
      "For type 7006, metrics:: auprc:0.8502, auroc:0.9119, ap@50:1.0\n",
      "current: 2911\n"
     ]
    },
    {
     "data": {
      "application/vnd.jupyter.widget-view+json": {
       "model_id": "a11370e7e1764074a7ef8143486cf5eb",
       "version_major": 2,
       "version_minor": 0
      },
      "text/plain": [
       "0it [00:00, ?it/s]"
      ]
     },
     "metadata": {},
     "output_type": "display_data"
    },
    {
     "name": "stdout",
     "output_type": "stream",
     "text": [
      "For type 2911, metrics:: auprc:0.8174, auroc:0.8883, ap@50:1.0\n",
      "current: 7008\n"
     ]
    },
    {
     "data": {
      "application/vnd.jupyter.widget-view+json": {
       "model_id": "1b54b9074de64b8f9e381912f7e9d895",
       "version_major": 2,
       "version_minor": 0
      },
      "text/plain": [
       "0it [00:00, ?it/s]"
      ]
     },
     "metadata": {},
     "output_type": "display_data"
    },
    {
     "name": "stdout",
     "output_type": "stream",
     "text": [
      "For type 7008, metrics:: auprc:0.8297, auroc:0.8974, ap@50:1.0\n",
      "current: 2916\n"
     ]
    },
    {
     "data": {
      "application/vnd.jupyter.widget-view+json": {
       "model_id": "dd4a6eaa51cb41f88c43ef91b3d0b1fa",
       "version_major": 2,
       "version_minor": 0
      },
      "text/plain": [
       "0it [00:00, ?it/s]"
      ]
     },
     "metadata": {},
     "output_type": "display_data"
    },
    {
     "name": "stdout",
     "output_type": "stream",
     "text": [
      "For type 2916, metrics:: auprc:0.8397, auroc:0.9046, ap@50:1.0\n",
      "current: 9062\n"
     ]
    },
    {
     "data": {
      "application/vnd.jupyter.widget-view+json": {
       "model_id": "cbb76aab16a84de59280fe406c8f55e6",
       "version_major": 2,
       "version_minor": 0
      },
      "text/plain": [
       "0it [00:00, ?it/s]"
      ]
     },
     "metadata": {},
     "output_type": "display_data"
    },
    {
     "name": "stdout",
     "output_type": "stream",
     "text": [
      "For type 9062, metrics:: auprc:0.8196, auroc:0.8899, ap@50:1.0\n",
      "current: 4968\n"
     ]
    },
    {
     "data": {
      "application/vnd.jupyter.widget-view+json": {
       "model_id": "7920f3c2264d4c938f72f868224673c2",
       "version_major": 2,
       "version_minor": 0
      },
      "text/plain": [
       "0it [00:00, ?it/s]"
      ]
     },
     "metadata": {},
     "output_type": "display_data"
    },
    {
     "name": "stdout",
     "output_type": "stream",
     "text": [
      "For type 4968, metrics:: auprc:0.8411, auroc:0.9056, ap@50:1.0\n",
      "current: 2921\n"
     ]
    },
    {
     "data": {
      "application/vnd.jupyter.widget-view+json": {
       "model_id": "0f72379b808a4991af0580545df54fa8",
       "version_major": 2,
       "version_minor": 0
      },
      "text/plain": [
       "0it [00:00, ?it/s]"
      ]
     },
     "metadata": {},
     "output_type": "display_data"
    },
    {
     "name": "stdout",
     "output_type": "stream",
     "text": [
      "For type 2921, metrics:: auprc:0.8246, auroc:0.8936, ap@50:1.0\n",
      "current: 4969\n"
     ]
    },
    {
     "data": {
      "application/vnd.jupyter.widget-view+json": {
       "model_id": "702a6120e44948a3befdbdd9e253faf0",
       "version_major": 2,
       "version_minor": 0
      },
      "text/plain": [
       "0it [00:00, ?it/s]"
      ]
     },
     "metadata": {},
     "output_type": "display_data"
    },
    {
     "name": "stdout",
     "output_type": "stream",
     "text": [
      "For type 4969, metrics:: auprc:0.8098, auroc:0.8825, ap@50:1.0\n",
      "current: 9068\n"
     ]
    },
    {
     "data": {
      "application/vnd.jupyter.widget-view+json": {
       "model_id": "498830e23e2c465a8fc421aca9a1f734",
       "version_major": 2,
       "version_minor": 0
      },
      "text/plain": [
       "0it [00:00, ?it/s]"
      ]
     },
     "metadata": {},
     "output_type": "display_data"
    },
    {
     "name": "stdout",
     "output_type": "stream",
     "text": [
      "For type 9068, metrics:: auprc:0.7988, auroc:0.874, ap@50:1.0\n",
      "current: 7021\n"
     ]
    },
    {
     "data": {
      "application/vnd.jupyter.widget-view+json": {
       "model_id": "4c3cce1522d14c299d60a02153e7d5e2",
       "version_major": 2,
       "version_minor": 0
      },
      "text/plain": [
       "0it [00:00, ?it/s]"
      ]
     },
     "metadata": {},
     "output_type": "display_data"
    },
    {
     "name": "stdout",
     "output_type": "stream",
     "text": [
      "For type 7021, metrics:: auprc:0.8259, auroc:0.8946, ap@50:1.0\n",
      "current: 9071\n"
     ]
    },
    {
     "data": {
      "application/vnd.jupyter.widget-view+json": {
       "model_id": "7fbda8088e6549a58ab47179fc24d2b9",
       "version_major": 2,
       "version_minor": 0
      },
      "text/plain": [
       "0it [00:00, ?it/s]"
      ]
     },
     "metadata": {},
     "output_type": "display_data"
    },
    {
     "name": "stdout",
     "output_type": "stream",
     "text": [
      "For type 9071, metrics:: auprc:0.8286, auroc:0.8966, ap@50:1.0\n",
      "current: 4976\n"
     ]
    },
    {
     "data": {
      "application/vnd.jupyter.widget-view+json": {
       "model_id": "461fd914aa9c499496621b135ed402f8",
       "version_major": 2,
       "version_minor": 0
      },
      "text/plain": [
       "0it [00:00, ?it/s]"
      ]
     },
     "metadata": {},
     "output_type": "display_data"
    },
    {
     "name": "stdout",
     "output_type": "stream",
     "text": [
      "For type 4976, metrics:: auprc:0.8051, auroc:0.879, ap@50:1.0\n",
      "current: 2928\n"
     ]
    },
    {
     "data": {
      "application/vnd.jupyter.widget-view+json": {
       "model_id": "926afab1a246454f9f9c3ae8e18a0d07",
       "version_major": 2,
       "version_minor": 0
      },
      "text/plain": [
       "0it [00:00, ?it/s]"
      ]
     },
     "metadata": {},
     "output_type": "display_data"
    },
    {
     "name": "stdout",
     "output_type": "stream",
     "text": [
      "For type 2928, metrics:: auprc:0.8215, auroc:0.8914, ap@50:1.0\n",
      "current: 4978\n"
     ]
    },
    {
     "data": {
      "application/vnd.jupyter.widget-view+json": {
       "model_id": "f93165f509214047b1a6fabdab4217ca",
       "version_major": 2,
       "version_minor": 0
      },
      "text/plain": [
       "0it [00:00, ?it/s]"
      ]
     },
     "metadata": {},
     "output_type": "display_data"
    },
    {
     "name": "stdout",
     "output_type": "stream",
     "text": [
      "For type 4978, metrics:: auprc:0.8116, auroc:0.8839, ap@50:1.0\n",
      "current: 2929\n"
     ]
    },
    {
     "data": {
      "application/vnd.jupyter.widget-view+json": {
       "model_id": "d941f6cd3cad445c92e1200958e3144b",
       "version_major": 2,
       "version_minor": 0
      },
      "text/plain": [
       "0it [00:00, ?it/s]"
      ]
     },
     "metadata": {},
     "output_type": "display_data"
    },
    {
     "name": "stdout",
     "output_type": "stream",
     "text": [
      "For type 2929, metrics:: auprc:0.8277, auroc:0.8959, ap@50:1.0\n",
      "current: 2932\n"
     ]
    },
    {
     "data": {
      "application/vnd.jupyter.widget-view+json": {
       "model_id": "2c447afa8bdf46bc889efcd4e5143328",
       "version_major": 2,
       "version_minor": 0
      },
      "text/plain": [
       "0it [00:00, ?it/s]"
      ]
     },
     "metadata": {},
     "output_type": "display_data"
    },
    {
     "name": "stdout",
     "output_type": "stream",
     "text": [
      "For type 2932, metrics:: auprc:0.8328, auroc:0.8996, ap@50:1.0\n",
      "current: 2933\n"
     ]
    },
    {
     "data": {
      "application/vnd.jupyter.widget-view+json": {
       "model_id": "1509f96f8fc84afc8f7f46905d5c4c1a",
       "version_major": 2,
       "version_minor": 0
      },
      "text/plain": [
       "0it [00:00, ?it/s]"
      ]
     },
     "metadata": {},
     "output_type": "display_data"
    },
    {
     "name": "stdout",
     "output_type": "stream",
     "text": [
      "For type 2933, metrics:: auprc:0.8046, auroc:0.8786, ap@50:1.0\n",
      "current: 7031\n"
     ]
    },
    {
     "data": {
      "application/vnd.jupyter.widget-view+json": {
       "model_id": "8ad10e2cc8e641d5848c67aa4d11dd69",
       "version_major": 2,
       "version_minor": 0
      },
      "text/plain": [
       "0it [00:00, ?it/s]"
      ]
     },
     "metadata": {},
     "output_type": "display_data"
    },
    {
     "name": "stdout",
     "output_type": "stream",
     "text": [
      "For type 7031, metrics:: auprc:0.8084, auroc:0.8815, ap@50:1.0\n",
      "current: 888\n"
     ]
    },
    {
     "data": {
      "application/vnd.jupyter.widget-view+json": {
       "model_id": "e660db8c92b742edb85a1b2216acf292",
       "version_major": 2,
       "version_minor": 0
      },
      "text/plain": [
       "0it [00:00, ?it/s]"
      ]
     },
     "metadata": {},
     "output_type": "display_data"
    },
    {
     "name": "stdout",
     "output_type": "stream",
     "text": [
      "For type 888, metrics:: auprc:0.82, auroc:0.8902, ap@50:1.0\n",
      "current: 2937\n"
     ]
    },
    {
     "data": {
      "application/vnd.jupyter.widget-view+json": {
       "model_id": "92e63f9a0965433fa8e549882f69046b",
       "version_major": 2,
       "version_minor": 0
      },
      "text/plain": [
       "0it [00:00, ?it/s]"
      ]
     },
     "metadata": {},
     "output_type": "display_data"
    },
    {
     "name": "stdout",
     "output_type": "stream",
     "text": [
      "For type 2937, metrics:: auprc:0.8118, auroc:0.8841, ap@50:1.0\n",
      "current: 9080\n"
     ]
    },
    {
     "data": {
      "application/vnd.jupyter.widget-view+json": {
       "model_id": "ae0a1e0f942441d0b31a67b8fadcde19",
       "version_major": 2,
       "version_minor": 0
      },
      "text/plain": [
       "0it [00:00, ?it/s]"
      ]
     },
     "metadata": {},
     "output_type": "display_data"
    },
    {
     "name": "stdout",
     "output_type": "stream",
     "text": [
      "For type 9080, metrics:: auprc:0.8216, auroc:0.8914, ap@50:1.0\n",
      "current: 7039\n"
     ]
    },
    {
     "data": {
      "application/vnd.jupyter.widget-view+json": {
       "model_id": "626bbb07039948cdaa94617c2a614a95",
       "version_major": 2,
       "version_minor": 0
      },
      "text/plain": [
       "0it [00:00, ?it/s]"
      ]
     },
     "metadata": {},
     "output_type": "display_data"
    },
    {
     "name": "stdout",
     "output_type": "stream",
     "text": [
      "For type 7039, metrics:: auprc:0.8264, auroc:0.8949, ap@50:1.0\n",
      "current: 4992\n"
     ]
    },
    {
     "data": {
      "application/vnd.jupyter.widget-view+json": {
       "model_id": "13b5aeae114145698dda67b44a6deb6e",
       "version_major": 2,
       "version_minor": 0
      },
      "text/plain": [
       "0it [00:00, ?it/s]"
      ]
     },
     "metadata": {},
     "output_type": "display_data"
    },
    {
     "name": "stdout",
     "output_type": "stream",
     "text": [
      "For type 4992, metrics:: auprc:0.8224, auroc:0.892, ap@50:1.0\n",
      "current: 896\n"
     ]
    },
    {
     "data": {
      "application/vnd.jupyter.widget-view+json": {
       "model_id": "7937ec74e0fa4981bbce1107c369fcb4",
       "version_major": 2,
       "version_minor": 0
      },
      "text/plain": [
       "0it [00:00, ?it/s]"
      ]
     },
     "metadata": {},
     "output_type": "display_data"
    },
    {
     "name": "stdout",
     "output_type": "stream",
     "text": [
      "For type 896, metrics:: auprc:0.783, auroc:0.8614, ap@50:1.0\n",
      "current: 4995\n"
     ]
    },
    {
     "data": {
      "application/vnd.jupyter.widget-view+json": {
       "model_id": "69cc9cbaa5d7488c897d70b4089cda48",
       "version_major": 2,
       "version_minor": 0
      },
      "text/plain": [
       "0it [00:00, ?it/s]"
      ]
     },
     "metadata": {},
     "output_type": "display_data"
    },
    {
     "name": "stdout",
     "output_type": "stream",
     "text": [
      "For type 4995, metrics:: auprc:0.8136, auroc:0.8855, ap@50:1.0\n",
      "current: 4998\n"
     ]
    },
    {
     "data": {
      "application/vnd.jupyter.widget-view+json": {
       "model_id": "b6f8332d83bc4e008224cf8034f459b3",
       "version_major": 2,
       "version_minor": 0
      },
      "text/plain": [
       "0it [00:00, ?it/s]"
      ]
     },
     "metadata": {},
     "output_type": "display_data"
    },
    {
     "name": "stdout",
     "output_type": "stream",
     "text": [
      "For type 4998, metrics:: auprc:0.8276, auroc:0.8959, ap@50:1.0\n",
      "current: 2951\n"
     ]
    },
    {
     "data": {
      "application/vnd.jupyter.widget-view+json": {
       "model_id": "69e5da2f1c9c460e9249f84c33946372",
       "version_major": 2,
       "version_minor": 0
      },
      "text/plain": [
       "0it [00:00, ?it/s]"
      ]
     },
     "metadata": {},
     "output_type": "display_data"
    },
    {
     "name": "stdout",
     "output_type": "stream",
     "text": [
      "For type 2951, metrics:: auprc:0.7983, auroc:0.8736, ap@50:1.0\n",
      "current: 9094\n"
     ]
    },
    {
     "data": {
      "application/vnd.jupyter.widget-view+json": {
       "model_id": "d928bfcbacba456c97e044ae97e8558c",
       "version_major": 2,
       "version_minor": 0
      },
      "text/plain": [
       "0it [00:00, ?it/s]"
      ]
     },
     "metadata": {},
     "output_type": "display_data"
    },
    {
     "name": "stdout",
     "output_type": "stream",
     "text": [
      "For type 9094, metrics:: auprc:0.8038, auroc:0.878, ap@50:1.0\n",
      "current: 905\n"
     ]
    },
    {
     "data": {
      "application/vnd.jupyter.widget-view+json": {
       "model_id": "7028d405aa1943d099c0d7e4f3aa5fef",
       "version_major": 2,
       "version_minor": 0
      },
      "text/plain": [
       "0it [00:00, ?it/s]"
      ]
     },
     "metadata": {},
     "output_type": "display_data"
    },
    {
     "name": "stdout",
     "output_type": "stream",
     "text": [
      "For type 905, metrics:: auprc:0.8235, auroc:0.8929, ap@50:1.0\n",
      "current: 907\n"
     ]
    },
    {
     "data": {
      "application/vnd.jupyter.widget-view+json": {
       "model_id": "79023c17ceed4f449323cfcc1a3e1d12",
       "version_major": 2,
       "version_minor": 0
      },
      "text/plain": [
       "0it [00:00, ?it/s]"
      ]
     },
     "metadata": {},
     "output_type": "display_data"
    },
    {
     "name": "stdout",
     "output_type": "stream",
     "text": [
      "For type 907, metrics:: auprc:0.8146, auroc:0.8862, ap@50:1.0\n",
      "current: 910\n"
     ]
    },
    {
     "data": {
      "application/vnd.jupyter.widget-view+json": {
       "model_id": "3433732500f7428fa9238f689118039d",
       "version_major": 2,
       "version_minor": 0
      },
      "text/plain": [
       "0it [00:00, ?it/s]"
      ]
     },
     "metadata": {},
     "output_type": "display_data"
    },
    {
     "name": "stdout",
     "output_type": "stream",
     "text": [
      "For type 910, metrics:: auprc:0.8139, auroc:0.8857, ap@50:1.0\n",
      "current: 911\n"
     ]
    },
    {
     "data": {
      "application/vnd.jupyter.widget-view+json": {
       "model_id": "e31dbaca9d4c4335a73e53fd2397a3a7",
       "version_major": 2,
       "version_minor": 0
      },
      "text/plain": [
       "0it [00:00, ?it/s]"
      ]
     },
     "metadata": {},
     "output_type": "display_data"
    },
    {
     "name": "stdout",
     "output_type": "stream",
     "text": [
      "For type 911, metrics:: auprc:0.8083, auroc:0.8814, ap@50:1.0\n",
      "current: 5011\n"
     ]
    },
    {
     "data": {
      "application/vnd.jupyter.widget-view+json": {
       "model_id": "d8d9d7606e984c02a14d6cb6c0574ad6",
       "version_major": 2,
       "version_minor": 0
      },
      "text/plain": [
       "0it [00:00, ?it/s]"
      ]
     },
     "metadata": {},
     "output_type": "display_data"
    },
    {
     "name": "stdout",
     "output_type": "stream",
     "text": [
      "For type 5011, metrics:: auprc:0.8057, auroc:0.8794, ap@50:1.0\n",
      "current: 917\n"
     ]
    },
    {
     "data": {
      "application/vnd.jupyter.widget-view+json": {
       "model_id": "71d13ac6336440dfb88871bbcf0a9f52",
       "version_major": 2,
       "version_minor": 0
      },
      "text/plain": [
       "0it [00:00, ?it/s]"
      ]
     },
     "metadata": {},
     "output_type": "display_data"
    },
    {
     "name": "stdout",
     "output_type": "stream",
     "text": [
      "For type 917, metrics:: auprc:0.8217, auroc:0.8915, ap@50:1.0\n",
      "current: 9109\n"
     ]
    },
    {
     "data": {
      "application/vnd.jupyter.widget-view+json": {
       "model_id": "01391353f551495c999c607a3f345e9c",
       "version_major": 2,
       "version_minor": 0
      },
      "text/plain": [
       "0it [00:00, ?it/s]"
      ]
     },
     "metadata": {},
     "output_type": "display_data"
    },
    {
     "name": "stdout",
     "output_type": "stream",
     "text": [
      "For type 9109, metrics:: auprc:0.8004, auroc:0.8753, ap@50:1.0\n",
      "current: 924\n"
     ]
    },
    {
     "data": {
      "application/vnd.jupyter.widget-view+json": {
       "model_id": "a4ce21ec490b4cffa82708c6486f4d40",
       "version_major": 2,
       "version_minor": 0
      },
      "text/plain": [
       "0it [00:00, ?it/s]"
      ]
     },
     "metadata": {},
     "output_type": "display_data"
    },
    {
     "name": "stdout",
     "output_type": "stream",
     "text": [
      "For type 924, metrics:: auprc:0.8199, auroc:0.8902, ap@50:1.0\n",
      "current: 931\n"
     ]
    },
    {
     "data": {
      "application/vnd.jupyter.widget-view+json": {
       "model_id": "8adcd66e1e4c4c1bbd58295279d19087",
       "version_major": 2,
       "version_minor": 0
      },
      "text/plain": [
       "0it [00:00, ?it/s]"
      ]
     },
     "metadata": {},
     "output_type": "display_data"
    },
    {
     "name": "stdout",
     "output_type": "stream",
     "text": [
      "For type 931, metrics:: auprc:0.8085, auroc:0.8816, ap@50:1.0\n",
      "current: 5030\n"
     ]
    },
    {
     "data": {
      "application/vnd.jupyter.widget-view+json": {
       "model_id": "d2d7a596dcb144ecb5571d6fa2106fbf",
       "version_major": 2,
       "version_minor": 0
      },
      "text/plain": [
       "0it [00:00, ?it/s]"
      ]
     },
     "metadata": {},
     "output_type": "display_data"
    },
    {
     "name": "stdout",
     "output_type": "stream",
     "text": [
      "For type 5030, metrics:: auprc:0.7997, auroc:0.8747, ap@50:1.0\n",
      "current: 7080\n"
     ]
    },
    {
     "data": {
      "application/vnd.jupyter.widget-view+json": {
       "model_id": "39a0de2d876442b48234d96486ce3724",
       "version_major": 2,
       "version_minor": 0
      },
      "text/plain": [
       "0it [00:00, ?it/s]"
      ]
     },
     "metadata": {},
     "output_type": "display_data"
    },
    {
     "name": "stdout",
     "output_type": "stream",
     "text": [
      "For type 7080, metrics:: auprc:0.8212, auroc:0.8912, ap@50:1.0\n",
      "current: 2990\n"
     ]
    },
    {
     "data": {
      "application/vnd.jupyter.widget-view+json": {
       "model_id": "41ec1478a8224c2caa2717c5e58de2c2",
       "version_major": 2,
       "version_minor": 0
      },
      "text/plain": [
       "0it [00:00, ?it/s]"
      ]
     },
     "metadata": {},
     "output_type": "display_data"
    },
    {
     "name": "stdout",
     "output_type": "stream",
     "text": [
      "For type 2990, metrics:: auprc:0.8208, auroc:0.8908, ap@50:1.0\n",
      "current: 5042\n"
     ]
    },
    {
     "data": {
      "application/vnd.jupyter.widget-view+json": {
       "model_id": "973502d7d4ac49ff9b71f76f2ff98a30",
       "version_major": 2,
       "version_minor": 0
      },
      "text/plain": [
       "0it [00:00, ?it/s]"
      ]
     },
     "metadata": {},
     "output_type": "display_data"
    },
    {
     "name": "stdout",
     "output_type": "stream",
     "text": [
      "For type 5042, metrics:: auprc:0.7939, auroc:0.8702, ap@50:1.0\n",
      "current: 2994\n"
     ]
    },
    {
     "data": {
      "application/vnd.jupyter.widget-view+json": {
       "model_id": "fe2044d49d6047479660eb77ecf12b53",
       "version_major": 2,
       "version_minor": 0
      },
      "text/plain": [
       "0it [00:00, ?it/s]"
      ]
     },
     "metadata": {},
     "output_type": "display_data"
    },
    {
     "name": "stdout",
     "output_type": "stream",
     "text": [
      "For type 2994, metrics:: auprc:0.7833, auroc:0.8617, ap@50:1.0\n",
      "current: 948\n"
     ]
    },
    {
     "data": {
      "application/vnd.jupyter.widget-view+json": {
       "model_id": "a7547ca5720145859dc242b42e4ee42c",
       "version_major": 2,
       "version_minor": 0
      },
      "text/plain": [
       "0it [00:00, ?it/s]"
      ]
     },
     "metadata": {},
     "output_type": "display_data"
    },
    {
     "name": "stdout",
     "output_type": "stream",
     "text": [
      "For type 948, metrics:: auprc:0.8413, auroc:0.9057, ap@50:1.0\n",
      "current: 9144\n"
     ]
    },
    {
     "data": {
      "application/vnd.jupyter.widget-view+json": {
       "model_id": "6542a96f64fc498b9cf3eec180ae7fe2",
       "version_major": 2,
       "version_minor": 0
      },
      "text/plain": [
       "0it [00:00, ?it/s]"
      ]
     },
     "metadata": {},
     "output_type": "display_data"
    },
    {
     "name": "stdout",
     "output_type": "stream",
     "text": [
      "For type 9144, metrics:: auprc:0.8132, auroc:0.8852, ap@50:1.0\n",
      "current: 5048\n"
     ]
    },
    {
     "data": {
      "application/vnd.jupyter.widget-view+json": {
       "model_id": "7dc98763a4414dd7954d8e6b1670677d",
       "version_major": 2,
       "version_minor": 0
      },
      "text/plain": [
       "0it [00:00, ?it/s]"
      ]
     },
     "metadata": {},
     "output_type": "display_data"
    },
    {
     "name": "stdout",
     "output_type": "stream",
     "text": [
      "For type 5048, metrics:: auprc:0.841, auroc:0.9055, ap@50:1.0\n",
      "current: 953\n"
     ]
    },
    {
     "data": {
      "application/vnd.jupyter.widget-view+json": {
       "model_id": "caada2268c2c40679c47ae0cb6260ecf",
       "version_major": 2,
       "version_minor": 0
      },
      "text/plain": [
       "0it [00:00, ?it/s]"
      ]
     },
     "metadata": {},
     "output_type": "display_data"
    },
    {
     "name": "stdout",
     "output_type": "stream",
     "text": [
      "For type 953, metrics:: auprc:0.808, auroc:0.8812, ap@50:1.0\n",
      "current: 9148\n"
     ]
    },
    {
     "data": {
      "application/vnd.jupyter.widget-view+json": {
       "model_id": "a93437eb895342a8abfa3be54686247a",
       "version_major": 2,
       "version_minor": 0
      },
      "text/plain": [
       "0it [00:00, ?it/s]"
      ]
     },
     "metadata": {},
     "output_type": "display_data"
    },
    {
     "name": "stdout",
     "output_type": "stream",
     "text": [
      "For type 9148, metrics:: auprc:0.811, auroc:0.8834, ap@50:1.0\n",
      "current: 964\n"
     ]
    },
    {
     "data": {
      "application/vnd.jupyter.widget-view+json": {
       "model_id": "5fd0a71582f347ec970616b6a82911a8",
       "version_major": 2,
       "version_minor": 0
      },
      "text/plain": [
       "0it [00:00, ?it/s]"
      ]
     },
     "metadata": {},
     "output_type": "display_data"
    },
    {
     "name": "stdout",
     "output_type": "stream",
     "text": [
      "For type 964, metrics:: auprc:0.8218, auroc:0.8916, ap@50:1.0\n",
      "current: 5061\n"
     ]
    },
    {
     "data": {
      "application/vnd.jupyter.widget-view+json": {
       "model_id": "6be31c5f3878450ebbd323ac8ecfef35",
       "version_major": 2,
       "version_minor": 0
      },
      "text/plain": [
       "0it [00:00, ?it/s]"
      ]
     },
     "metadata": {},
     "output_type": "display_data"
    },
    {
     "name": "stdout",
     "output_type": "stream",
     "text": [
      "For type 5061, metrics:: auprc:0.8164, auroc:0.8876, ap@50:1.0\n",
      "current: 9160\n"
     ]
    },
    {
     "data": {
      "application/vnd.jupyter.widget-view+json": {
       "model_id": "fc8dcb4f7106439283b848f2980010a4",
       "version_major": 2,
       "version_minor": 0
      },
      "text/plain": [
       "0it [00:00, ?it/s]"
      ]
     },
     "metadata": {},
     "output_type": "display_data"
    },
    {
     "name": "stdout",
     "output_type": "stream",
     "text": [
      "For type 9160, metrics:: auprc:0.834, auroc:0.9005, ap@50:1.0\n",
      "current: 7114\n"
     ]
    },
    {
     "data": {
      "application/vnd.jupyter.widget-view+json": {
       "model_id": "a317020fb9ad40768bdc50d1e0d005b0",
       "version_major": 2,
       "version_minor": 0
      },
      "text/plain": [
       "0it [00:00, ?it/s]"
      ]
     },
     "metadata": {},
     "output_type": "display_data"
    },
    {
     "name": "stdout",
     "output_type": "stream",
     "text": [
      "For type 7114, metrics:: auprc:0.816, auroc:0.8873, ap@50:1.0\n",
      "current: 972\n"
     ]
    },
    {
     "data": {
      "application/vnd.jupyter.widget-view+json": {
       "model_id": "5423391f66d441dbb96feb859697c89f",
       "version_major": 2,
       "version_minor": 0
      },
      "text/plain": [
       "0it [00:00, ?it/s]"
      ]
     },
     "metadata": {},
     "output_type": "display_data"
    },
    {
     "name": "stdout",
     "output_type": "stream",
     "text": [
      "For type 972, metrics:: auprc:0.8183, auroc:0.889, ap@50:1.0\n",
      "current: 9167\n"
     ]
    },
    {
     "data": {
      "application/vnd.jupyter.widget-view+json": {
       "model_id": "7ce0d8b07f924abd802b86435fde893d",
       "version_major": 2,
       "version_minor": 0
      },
      "text/plain": [
       "0it [00:00, ?it/s]"
      ]
     },
     "metadata": {},
     "output_type": "display_data"
    },
    {
     "name": "stdout",
     "output_type": "stream",
     "text": [
      "For type 9167, metrics:: auprc:0.841, auroc:0.9054, ap@50:1.0\n",
      "current: 3031\n"
     ]
    },
    {
     "data": {
      "application/vnd.jupyter.widget-view+json": {
       "model_id": "278dd95f4d984933b08f35508bbcefba",
       "version_major": 2,
       "version_minor": 0
      },
      "text/plain": [
       "0it [00:00, ?it/s]"
      ]
     },
     "metadata": {},
     "output_type": "display_data"
    },
    {
     "name": "stdout",
     "output_type": "stream",
     "text": [
      "For type 3031, metrics:: auprc:0.8152, auroc:0.8866, ap@50:1.0\n",
      "current: 985\n"
     ]
    },
    {
     "data": {
      "application/vnd.jupyter.widget-view+json": {
       "model_id": "f837a4f554a348b7a985980fb2086f36",
       "version_major": 2,
       "version_minor": 0
      },
      "text/plain": [
       "0it [00:00, ?it/s]"
      ]
     },
     "metadata": {},
     "output_type": "display_data"
    },
    {
     "name": "stdout",
     "output_type": "stream",
     "text": [
      "For type 985, metrics:: auprc:0.8305, auroc:0.898, ap@50:1.0\n",
      "current: 3037\n"
     ]
    },
    {
     "data": {
      "application/vnd.jupyter.widget-view+json": {
       "model_id": "bfa35a5f87e942bd999d69ae02adb203",
       "version_major": 2,
       "version_minor": 0
      },
      "text/plain": [
       "0it [00:00, ?it/s]"
      ]
     },
     "metadata": {},
     "output_type": "display_data"
    },
    {
     "name": "stdout",
     "output_type": "stream",
     "text": [
      "For type 3037, metrics:: auprc:0.8176, auroc:0.8884, ap@50:1.0\n",
      "current: 3039\n"
     ]
    },
    {
     "data": {
      "application/vnd.jupyter.widget-view+json": {
       "model_id": "8f55c0c33d89414abf1da0b82fb0ba32",
       "version_major": 2,
       "version_minor": 0
      },
      "text/plain": [
       "0it [00:00, ?it/s]"
      ]
     },
     "metadata": {},
     "output_type": "display_data"
    },
    {
     "name": "stdout",
     "output_type": "stream",
     "text": [
      "For type 3039, metrics:: auprc:0.8078, auroc:0.881, ap@50:1.0\n",
      "current: 5087\n"
     ]
    },
    {
     "data": {
      "application/vnd.jupyter.widget-view+json": {
       "model_id": "e86c9e7d6992481e954be73a35f56610",
       "version_major": 2,
       "version_minor": 0
      },
      "text/plain": [
       "0it [00:00, ?it/s]"
      ]
     },
     "metadata": {},
     "output_type": "display_data"
    },
    {
     "name": "stdout",
     "output_type": "stream",
     "text": [
      "For type 5087, metrics:: auprc:0.8136, auroc:0.8854, ap@50:1.0\n",
      "current: 5089\n"
     ]
    },
    {
     "data": {
      "application/vnd.jupyter.widget-view+json": {
       "model_id": "6de26672917a409ea7acaa05630ee8e3",
       "version_major": 2,
       "version_minor": 0
      },
      "text/plain": [
       "0it [00:00, ?it/s]"
      ]
     },
     "metadata": {},
     "output_type": "display_data"
    },
    {
     "name": "stdout",
     "output_type": "stream",
     "text": [
      "For type 5089, metrics:: auprc:0.8062, auroc:0.8798, ap@50:1.0\n",
      "current: 9187\n"
     ]
    },
    {
     "data": {
      "application/vnd.jupyter.widget-view+json": {
       "model_id": "fb154aa1b5fd4c549189e3b9aa02bb22",
       "version_major": 2,
       "version_minor": 0
      },
      "text/plain": [
       "0it [00:00, ?it/s]"
      ]
     },
     "metadata": {},
     "output_type": "display_data"
    },
    {
     "name": "stdout",
     "output_type": "stream",
     "text": [
      "For type 9187, metrics:: auprc:0.8117, auroc:0.884, ap@50:1.0\n",
      "current: 5092\n"
     ]
    },
    {
     "data": {
      "application/vnd.jupyter.widget-view+json": {
       "model_id": "886950db88ea4c51b451750eb3e6627c",
       "version_major": 2,
       "version_minor": 0
      },
      "text/plain": [
       "0it [00:00, ?it/s]"
      ]
     },
     "metadata": {},
     "output_type": "display_data"
    },
    {
     "name": "stdout",
     "output_type": "stream",
     "text": [
      "For type 5092, metrics:: auprc:0.8007, auroc:0.8756, ap@50:1.0\n",
      "current: 997\n"
     ]
    },
    {
     "data": {
      "application/vnd.jupyter.widget-view+json": {
       "model_id": "0a656ddadabc4f07bbe43016f6f18130",
       "version_major": 2,
       "version_minor": 0
      },
      "text/plain": [
       "0it [00:00, ?it/s]"
      ]
     },
     "metadata": {},
     "output_type": "display_data"
    },
    {
     "name": "stdout",
     "output_type": "stream",
     "text": [
      "For type 997, metrics:: auprc:0.8413, auroc:0.9057, ap@50:1.0\n",
      "current: 996\n"
     ]
    },
    {
     "data": {
      "application/vnd.jupyter.widget-view+json": {
       "model_id": "2ac586c2cc384cd9afa63b9816dbc749",
       "version_major": 2,
       "version_minor": 0
      },
      "text/plain": [
       "0it [00:00, ?it/s]"
      ]
     },
     "metadata": {},
     "output_type": "display_data"
    },
    {
     "name": "stdout",
     "output_type": "stream",
     "text": [
      "For type 996, metrics:: auprc:0.8617, auroc:0.9198, ap@50:1.0\n",
      "current: 7143\n"
     ]
    },
    {
     "data": {
      "application/vnd.jupyter.widget-view+json": {
       "model_id": "117c8d493c73450eb487d98103152043",
       "version_major": 2,
       "version_minor": 0
      },
      "text/plain": [
       "0it [00:00, ?it/s]"
      ]
     },
     "metadata": {},
     "output_type": "display_data"
    },
    {
     "name": "stdout",
     "output_type": "stream",
     "text": [
      "For type 7143, metrics:: auprc:0.8179, auroc:0.8887, ap@50:1.0\n",
      "current: 1000\n"
     ]
    },
    {
     "data": {
      "application/vnd.jupyter.widget-view+json": {
       "model_id": "a66b11f0aeeb4d1392cda040bb62efd4",
       "version_major": 2,
       "version_minor": 0
      },
      "text/plain": [
       "0it [00:00, ?it/s]"
      ]
     },
     "metadata": {},
     "output_type": "display_data"
    },
    {
     "name": "stdout",
     "output_type": "stream",
     "text": [
      "For type 1000, metrics:: auprc:0.8261, auroc:0.8947, ap@50:1.0\n",
      "current: 9191\n"
     ]
    },
    {
     "data": {
      "application/vnd.jupyter.widget-view+json": {
       "model_id": "d750972c921f454e9cbe76b2f6415e6c",
       "version_major": 2,
       "version_minor": 0
      },
      "text/plain": [
       "0it [00:00, ?it/s]"
      ]
     },
     "metadata": {},
     "output_type": "display_data"
    },
    {
     "name": "stdout",
     "output_type": "stream",
     "text": [
      "For type 9191, metrics:: auprc:0.8239, auroc:0.8932, ap@50:1.0\n",
      "current: 3047\n"
     ]
    },
    {
     "data": {
      "application/vnd.jupyter.widget-view+json": {
       "model_id": "d725d573296b41288646fa03784a78f6",
       "version_major": 2,
       "version_minor": 0
      },
      "text/plain": [
       "0it [00:00, ?it/s]"
      ]
     },
     "metadata": {},
     "output_type": "display_data"
    },
    {
     "name": "stdout",
     "output_type": "stream",
     "text": [
      "For type 3047, metrics:: auprc:0.8245, auroc:0.8936, ap@50:1.0\n",
      "current: 9194\n"
     ]
    },
    {
     "data": {
      "application/vnd.jupyter.widget-view+json": {
       "model_id": "0ffe5516a7674fe785615f88c36433cf",
       "version_major": 2,
       "version_minor": 0
      },
      "text/plain": [
       "0it [00:00, ?it/s]"
      ]
     },
     "metadata": {},
     "output_type": "display_data"
    },
    {
     "name": "stdout",
     "output_type": "stream",
     "text": [
      "For type 9194, metrics:: auprc:0.804, auroc:0.8781, ap@50:1.0\n",
      "current: 3050\n"
     ]
    },
    {
     "data": {
      "application/vnd.jupyter.widget-view+json": {
       "model_id": "f4604265493f4f64a84441e54b324b07",
       "version_major": 2,
       "version_minor": 0
      },
      "text/plain": [
       "0it [00:00, ?it/s]"
      ]
     },
     "metadata": {},
     "output_type": "display_data"
    },
    {
     "name": "stdout",
     "output_type": "stream",
     "text": [
      "For type 3050, metrics:: auprc:0.8102, auroc:0.8829, ap@50:1.0\n",
      "current: 9197\n"
     ]
    },
    {
     "data": {
      "application/vnd.jupyter.widget-view+json": {
       "model_id": "4d75e83e132844bf85a6c6aff83776c9",
       "version_major": 2,
       "version_minor": 0
      },
      "text/plain": [
       "0it [00:00, ?it/s]"
      ]
     },
     "metadata": {},
     "output_type": "display_data"
    },
    {
     "name": "stdout",
     "output_type": "stream",
     "text": [
      "For type 9197, metrics:: auprc:0.8038, auroc:0.878, ap@50:1.0\n",
      "current: 9198\n"
     ]
    },
    {
     "data": {
      "application/vnd.jupyter.widget-view+json": {
       "model_id": "882888f5a7c24df8ab3a71fccd9f96d6",
       "version_major": 2,
       "version_minor": 0
      },
      "text/plain": [
       "0it [00:00, ?it/s]"
      ]
     },
     "metadata": {},
     "output_type": "display_data"
    },
    {
     "name": "stdout",
     "output_type": "stream",
     "text": [
      "For type 9198, metrics:: auprc:0.7692, auroc:0.85, ap@50:1.0\n",
      "current: 5104\n"
     ]
    },
    {
     "data": {
      "application/vnd.jupyter.widget-view+json": {
       "model_id": "558c89f27f91470ca5d0a8d2c8521d38",
       "version_major": 2,
       "version_minor": 0
      },
      "text/plain": [
       "0it [00:00, ?it/s]"
      ]
     },
     "metadata": {},
     "output_type": "display_data"
    },
    {
     "name": "stdout",
     "output_type": "stream",
     "text": [
      "For type 5104, metrics:: auprc:0.8117, auroc:0.884, ap@50:1.0\n",
      "current: 1008\n"
     ]
    },
    {
     "data": {
      "application/vnd.jupyter.widget-view+json": {
       "model_id": "b4deeb5b533945fd87a6e2a142112319",
       "version_major": 2,
       "version_minor": 0
      },
      "text/plain": [
       "0it [00:00, ?it/s]"
      ]
     },
     "metadata": {},
     "output_type": "display_data"
    },
    {
     "name": "stdout",
     "output_type": "stream",
     "text": [
      "For type 1008, metrics:: auprc:0.8226, auroc:0.8922, ap@50:1.0\n",
      "current: 3061\n"
     ]
    },
    {
     "data": {
      "application/vnd.jupyter.widget-view+json": {
       "model_id": "ab5197662f8e43f08eddfab3d402956c",
       "version_major": 2,
       "version_minor": 0
      },
      "text/plain": [
       "0it [00:00, ?it/s]"
      ]
     },
     "metadata": {},
     "output_type": "display_data"
    },
    {
     "name": "stdout",
     "output_type": "stream",
     "text": [
      "For type 3061, metrics:: auprc:0.8496, auroc:0.9115, ap@50:1.0\n",
      "current: 3062\n"
     ]
    },
    {
     "data": {
      "application/vnd.jupyter.widget-view+json": {
       "model_id": "4b39b629687c418a9d6319d9b794be20",
       "version_major": 2,
       "version_minor": 0
      },
      "text/plain": [
       "0it [00:00, ?it/s]"
      ]
     },
     "metadata": {},
     "output_type": "display_data"
    },
    {
     "name": "stdout",
     "output_type": "stream",
     "text": [
      "For type 3062, metrics:: auprc:0.8474, auroc:0.9099, ap@50:1.0\n",
      "current: 1016\n"
     ]
    },
    {
     "data": {
      "application/vnd.jupyter.widget-view+json": {
       "model_id": "bd5ef32fb8c54cbcad1317051bce4693",
       "version_major": 2,
       "version_minor": 0
      },
      "text/plain": [
       "0it [00:00, ?it/s]"
      ]
     },
     "metadata": {},
     "output_type": "display_data"
    },
    {
     "name": "stdout",
     "output_type": "stream",
     "text": [
      "For type 1016, metrics:: auprc:0.8198, auroc:0.8901, ap@50:1.0\n",
      "current: 5112\n"
     ]
    },
    {
     "data": {
      "application/vnd.jupyter.widget-view+json": {
       "model_id": "f0070c29ab6b4855b82622c21f401e5f",
       "version_major": 2,
       "version_minor": 0
      },
      "text/plain": [
       "0it [00:00, ?it/s]"
      ]
     },
     "metadata": {},
     "output_type": "display_data"
    },
    {
     "name": "stdout",
     "output_type": "stream",
     "text": [
      "For type 5112, metrics:: auprc:0.7996, auroc:0.8747, ap@50:1.0\n",
      "current: 9212\n"
     ]
    },
    {
     "data": {
      "application/vnd.jupyter.widget-view+json": {
       "model_id": "d688089a5fd541eba496d60aae4173c5",
       "version_major": 2,
       "version_minor": 0
      },
      "text/plain": [
       "0it [00:00, ?it/s]"
      ]
     },
     "metadata": {},
     "output_type": "display_data"
    },
    {
     "name": "stdout",
     "output_type": "stream",
     "text": [
      "For type 9212, metrics:: auprc:0.8253, auroc:0.8942, ap@50:1.0\n",
      "current: 5117\n"
     ]
    },
    {
     "data": {
      "application/vnd.jupyter.widget-view+json": {
       "model_id": "7c7d8b714b984824b9eea6eb6d16021d",
       "version_major": 2,
       "version_minor": 0
      },
      "text/plain": [
       "0it [00:00, ?it/s]"
      ]
     },
     "metadata": {},
     "output_type": "display_data"
    },
    {
     "name": "stdout",
     "output_type": "stream",
     "text": [
      "For type 5117, metrics:: auprc:0.8149, auroc:0.8864, ap@50:1.0\n",
      "current: 1020\n"
     ]
    },
    {
     "data": {
      "application/vnd.jupyter.widget-view+json": {
       "model_id": "4ee7be4546b14b9a900c2b827af2eaa7",
       "version_major": 2,
       "version_minor": 0
      },
      "text/plain": [
       "0it [00:00, ?it/s]"
      ]
     },
     "metadata": {},
     "output_type": "display_data"
    },
    {
     "name": "stdout",
     "output_type": "stream",
     "text": [
      "For type 1020, metrics:: auprc:0.798, auroc:0.8734, ap@50:1.0\n",
      "current: 9214\n"
     ]
    },
    {
     "data": {
      "application/vnd.jupyter.widget-view+json": {
       "model_id": "03b90f83df6246dfbd99b0a6f389aa75",
       "version_major": 2,
       "version_minor": 0
      },
      "text/plain": [
       "0it [00:00, ?it/s]"
      ]
     },
     "metadata": {},
     "output_type": "display_data"
    },
    {
     "name": "stdout",
     "output_type": "stream",
     "text": [
      "For type 9214, metrics:: auprc:0.8011, auroc:0.8758, ap@50:1.0\n",
      "current: 7170\n"
     ]
    },
    {
     "data": {
      "application/vnd.jupyter.widget-view+json": {
       "model_id": "840df9fb7e22437c92644a74e09a2cc5",
       "version_major": 2,
       "version_minor": 0
      },
      "text/plain": [
       "0it [00:00, ?it/s]"
      ]
     },
     "metadata": {},
     "output_type": "display_data"
    },
    {
     "name": "stdout",
     "output_type": "stream",
     "text": [
      "For type 7170, metrics:: auprc:0.8043, auroc:0.8783, ap@50:1.0\n",
      "current: 5124\n"
     ]
    },
    {
     "data": {
      "application/vnd.jupyter.widget-view+json": {
       "model_id": "ea751b180cec4761baef5254bd60cde7",
       "version_major": 2,
       "version_minor": 0
      },
      "text/plain": [
       "0it [00:00, ?it/s]"
      ]
     },
     "metadata": {},
     "output_type": "display_data"
    },
    {
     "name": "stdout",
     "output_type": "stream",
     "text": [
      "For type 5124, metrics:: auprc:0.8153, auroc:0.8867, ap@50:1.0\n",
      "current: 1030\n"
     ]
    },
    {
     "data": {
      "application/vnd.jupyter.widget-view+json": {
       "model_id": "942d694fca134614bcccd628c2cbd6d9",
       "version_major": 2,
       "version_minor": 0
      },
      "text/plain": [
       "0it [00:00, ?it/s]"
      ]
     },
     "metadata": {},
     "output_type": "display_data"
    },
    {
     "name": "stdout",
     "output_type": "stream",
     "text": [
      "For type 1030, metrics:: auprc:0.7981, auroc:0.8735, ap@50:1.0\n",
      "current: 3081\n"
     ]
    },
    {
     "data": {
      "application/vnd.jupyter.widget-view+json": {
       "model_id": "d67894b33b0f4522a2c17c14aa1df95d",
       "version_major": 2,
       "version_minor": 0
      },
      "text/plain": [
       "0it [00:00, ?it/s]"
      ]
     },
     "metadata": {},
     "output_type": "display_data"
    },
    {
     "name": "stdout",
     "output_type": "stream",
     "text": [
      "For type 3081, metrics:: auprc:0.7906, auroc:0.8676, ap@50:1.0\n",
      "current: 3084\n"
     ]
    },
    {
     "data": {
      "application/vnd.jupyter.widget-view+json": {
       "model_id": "4cab4b7515a5403ea6c0a9a339abc793",
       "version_major": 2,
       "version_minor": 0
      },
      "text/plain": [
       "0it [00:00, ?it/s]"
      ]
     },
     "metadata": {},
     "output_type": "display_data"
    },
    {
     "name": "stdout",
     "output_type": "stream",
     "text": [
      "For type 3084, metrics:: auprc:0.8329, auroc:0.8997, ap@50:1.0\n",
      "current: 7180\n"
     ]
    },
    {
     "data": {
      "application/vnd.jupyter.widget-view+json": {
       "model_id": "58238eadd6e74e40a81bc6447d255072",
       "version_major": 2,
       "version_minor": 0
      },
      "text/plain": [
       "0it [00:00, ?it/s]"
      ]
     },
     "metadata": {},
     "output_type": "display_data"
    },
    {
     "name": "stdout",
     "output_type": "stream",
     "text": [
      "For type 7180, metrics:: auprc:0.8188, auroc:0.8893, ap@50:1.0\n",
      "current: 9232\n"
     ]
    },
    {
     "data": {
      "application/vnd.jupyter.widget-view+json": {
       "model_id": "6b3a49bae21a4d6d8e5d8cd3b26d9112",
       "version_major": 2,
       "version_minor": 0
      },
      "text/plain": [
       "0it [00:00, ?it/s]"
      ]
     },
     "metadata": {},
     "output_type": "display_data"
    },
    {
     "name": "stdout",
     "output_type": "stream",
     "text": [
      "For type 9232, metrics:: auprc:0.8203, auroc:0.8905, ap@50:1.0\n",
      "current: 3089\n"
     ]
    },
    {
     "data": {
      "application/vnd.jupyter.widget-view+json": {
       "model_id": "576097b64ddc4a61b60850c6844de5cc",
       "version_major": 2,
       "version_minor": 0
      },
      "text/plain": [
       "0it [00:00, ?it/s]"
      ]
     },
     "metadata": {},
     "output_type": "display_data"
    },
    {
     "name": "stdout",
     "output_type": "stream",
     "text": [
      "For type 3089, metrics:: auprc:0.8148, auroc:0.8863, ap@50:1.0\n",
      "current: 1042\n"
     ]
    },
    {
     "data": {
      "application/vnd.jupyter.widget-view+json": {
       "model_id": "bc6fce5c1f6c488a8fe798ef343c99f0",
       "version_major": 2,
       "version_minor": 0
      },
      "text/plain": [
       "0it [00:00, ?it/s]"
      ]
     },
     "metadata": {},
     "output_type": "display_data"
    },
    {
     "name": "stdout",
     "output_type": "stream",
     "text": [
      "For type 1042, metrics:: auprc:0.8058, auroc:0.8795, ap@50:1.0\n",
      "current: 1041\n"
     ]
    },
    {
     "data": {
      "application/vnd.jupyter.widget-view+json": {
       "model_id": "5b66942e743346db8f1e294735f02c8b",
       "version_major": 2,
       "version_minor": 0
      },
      "text/plain": [
       "0it [00:00, ?it/s]"
      ]
     },
     "metadata": {},
     "output_type": "display_data"
    },
    {
     "name": "stdout",
     "output_type": "stream",
     "text": [
      "For type 1041, metrics:: auprc:0.8212, auroc:0.8911, ap@50:1.0\n",
      "current: 3097\n"
     ]
    },
    {
     "data": {
      "application/vnd.jupyter.widget-view+json": {
       "model_id": "a7f30d9db6a94464b5255429e4a030aa",
       "version_major": 2,
       "version_minor": 0
      },
      "text/plain": [
       "0it [00:00, ?it/s]"
      ]
     },
     "metadata": {},
     "output_type": "display_data"
    },
    {
     "name": "stdout",
     "output_type": "stream",
     "text": [
      "For type 3097, metrics:: auprc:0.8153, auroc:0.8867, ap@50:1.0\n",
      "current: 1050\n"
     ]
    },
    {
     "data": {
      "application/vnd.jupyter.widget-view+json": {
       "model_id": "faed51d2a7df4fcabdf4af8cb19fea83",
       "version_major": 2,
       "version_minor": 0
      },
      "text/plain": [
       "0it [00:00, ?it/s]"
      ]
     },
     "metadata": {},
     "output_type": "display_data"
    },
    {
     "name": "stdout",
     "output_type": "stream",
     "text": [
      "For type 1050, metrics:: auprc:0.8096, auroc:0.8824, ap@50:1.0\n",
      "current: 1052\n"
     ]
    },
    {
     "data": {
      "application/vnd.jupyter.widget-view+json": {
       "model_id": "ab6ee51bbb5246a3a9932588d46a48fb",
       "version_major": 2,
       "version_minor": 0
      },
      "text/plain": [
       "0it [00:00, ?it/s]"
      ]
     },
     "metadata": {},
     "output_type": "display_data"
    },
    {
     "name": "stdout",
     "output_type": "stream",
     "text": [
      "For type 1052, metrics:: auprc:0.8165, auroc:0.8876, ap@50:1.0\n",
      "current: 5148\n"
     ]
    },
    {
     "data": {
      "application/vnd.jupyter.widget-view+json": {
       "model_id": "bde6be43bc0f4caeb884b1d9f4c96351",
       "version_major": 2,
       "version_minor": 0
      },
      "text/plain": [
       "0it [00:00, ?it/s]"
      ]
     },
     "metadata": {},
     "output_type": "display_data"
    },
    {
     "name": "stdout",
     "output_type": "stream",
     "text": [
      "For type 5148, metrics:: auprc:0.8216, auroc:0.8915, ap@50:1.0\n",
      "current: 3106\n"
     ]
    },
    {
     "data": {
      "application/vnd.jupyter.widget-view+json": {
       "model_id": "307a78cc98744aa9a4cbce05080714de",
       "version_major": 2,
       "version_minor": 0
      },
      "text/plain": [
       "0it [00:00, ?it/s]"
      ]
     },
     "metadata": {},
     "output_type": "display_data"
    },
    {
     "name": "stdout",
     "output_type": "stream",
     "text": [
      "For type 3106, metrics:: auprc:0.819, auroc:0.8895, ap@50:1.0\n",
      "current: 5156\n"
     ]
    },
    {
     "data": {
      "application/vnd.jupyter.widget-view+json": {
       "model_id": "9e919b4c92274a2890ef890473a24398",
       "version_major": 2,
       "version_minor": 0
      },
      "text/plain": [
       "0it [00:00, ?it/s]"
      ]
     },
     "metadata": {},
     "output_type": "display_data"
    },
    {
     "name": "stdout",
     "output_type": "stream",
     "text": [
      "For type 5156, metrics:: auprc:0.7994, auroc:0.8745, ap@50:1.0\n",
      "current: 5160\n"
     ]
    },
    {
     "data": {
      "application/vnd.jupyter.widget-view+json": {
       "model_id": "abd63949c72b487cb9027753b9366ba5",
       "version_major": 2,
       "version_minor": 0
      },
      "text/plain": [
       "0it [00:00, ?it/s]"
      ]
     },
     "metadata": {},
     "output_type": "display_data"
    },
    {
     "name": "stdout",
     "output_type": "stream",
     "text": [
      "For type 5160, metrics:: auprc:0.8229, auroc:0.8924, ap@50:1.0\n",
      "current: 7210\n"
     ]
    },
    {
     "data": {
      "application/vnd.jupyter.widget-view+json": {
       "model_id": "c63d197f9e9c4089839ff787e3c86d9e",
       "version_major": 2,
       "version_minor": 0
      },
      "text/plain": [
       "0it [00:00, ?it/s]"
      ]
     },
     "metadata": {},
     "output_type": "display_data"
    },
    {
     "name": "stdout",
     "output_type": "stream",
     "text": [
      "For type 7210, metrics:: auprc:0.8167, auroc:0.8878, ap@50:1.0\n",
      "current: 1068\n"
     ]
    },
    {
     "data": {
      "application/vnd.jupyter.widget-view+json": {
       "model_id": "f4e12e7fccb54ee99a64458af13793d2",
       "version_major": 2,
       "version_minor": 0
      },
      "text/plain": [
       "0it [00:00, ?it/s]"
      ]
     },
     "metadata": {},
     "output_type": "display_data"
    },
    {
     "name": "stdout",
     "output_type": "stream",
     "text": [
      "For type 1068, metrics:: auprc:0.8081, auroc:0.8812, ap@50:1.0\n",
      "current: 5164\n"
     ]
    },
    {
     "data": {
      "application/vnd.jupyter.widget-view+json": {
       "model_id": "79c76af110b24793a96c24276e71ccb7",
       "version_major": 2,
       "version_minor": 0
      },
      "text/plain": [
       "0it [00:00, ?it/s]"
      ]
     },
     "metadata": {},
     "output_type": "display_data"
    },
    {
     "name": "stdout",
     "output_type": "stream",
     "text": [
      "For type 5164, metrics:: auprc:0.8065, auroc:0.8801, ap@50:1.0\n",
      "current: 9260\n"
     ]
    },
    {
     "data": {
      "application/vnd.jupyter.widget-view+json": {
       "model_id": "5e6d9fe732984488ac3efb5c73e75f40",
       "version_major": 2,
       "version_minor": 0
      },
      "text/plain": [
       "0it [00:00, ?it/s]"
      ]
     },
     "metadata": {},
     "output_type": "display_data"
    },
    {
     "name": "stdout",
     "output_type": "stream",
     "text": [
      "For type 9260, metrics:: auprc:0.8146, auroc:0.8862, ap@50:1.0\n",
      "current: 1071\n"
     ]
    },
    {
     "data": {
      "application/vnd.jupyter.widget-view+json": {
       "model_id": "b99ad00a275e46b085e830339c815fbb",
       "version_major": 2,
       "version_minor": 0
      },
      "text/plain": [
       "0it [00:00, ?it/s]"
      ]
     },
     "metadata": {},
     "output_type": "display_data"
    },
    {
     "name": "stdout",
     "output_type": "stream",
     "text": [
      "For type 1071, metrics:: auprc:0.812, auroc:0.8842, ap@50:1.0\n",
      "current: 5169\n"
     ]
    },
    {
     "data": {
      "application/vnd.jupyter.widget-view+json": {
       "model_id": "2d1ca345875a4762bf07f49c1e4277ea",
       "version_major": 2,
       "version_minor": 0
      },
      "text/plain": [
       "0it [00:00, ?it/s]"
      ]
     },
     "metadata": {},
     "output_type": "display_data"
    },
    {
     "name": "stdout",
     "output_type": "stream",
     "text": [
      "For type 5169, metrics:: auprc:0.8264, auroc:0.8949, ap@50:1.0\n",
      "current: 7218\n"
     ]
    },
    {
     "data": {
      "application/vnd.jupyter.widget-view+json": {
       "model_id": "3e0e16941f524b32ac7d1dadc2bdef56",
       "version_major": 2,
       "version_minor": 0
      },
      "text/plain": [
       "0it [00:00, ?it/s]"
      ]
     },
     "metadata": {},
     "output_type": "display_data"
    },
    {
     "name": "stdout",
     "output_type": "stream",
     "text": [
      "For type 7218, metrics:: auprc:0.814, auroc:0.8858, ap@50:1.0\n",
      "current: 9267\n"
     ]
    },
    {
     "data": {
      "application/vnd.jupyter.widget-view+json": {
       "model_id": "1382c9af9b57485d9a6a112e43cee505",
       "version_major": 2,
       "version_minor": 0
      },
      "text/plain": [
       "0it [00:00, ?it/s]"
      ]
     },
     "metadata": {},
     "output_type": "display_data"
    },
    {
     "name": "stdout",
     "output_type": "stream",
     "text": [
      "For type 9267, metrics:: auprc:0.8388, auroc:0.9039, ap@50:1.0\n",
      "current: 7222\n"
     ]
    },
    {
     "data": {
      "application/vnd.jupyter.widget-view+json": {
       "model_id": "95bd0547f7774f70901e4a00758df800",
       "version_major": 2,
       "version_minor": 0
      },
      "text/plain": [
       "0it [00:00, ?it/s]"
      ]
     },
     "metadata": {},
     "output_type": "display_data"
    },
    {
     "name": "stdout",
     "output_type": "stream",
     "text": [
      "For type 7222, metrics:: auprc:0.8181, auroc:0.8888, ap@50:1.0\n",
      "current: 5174\n"
     ]
    },
    {
     "data": {
      "application/vnd.jupyter.widget-view+json": {
       "model_id": "9323e285357f438d8d4b6969cf9d76e2",
       "version_major": 2,
       "version_minor": 0
      },
      "text/plain": [
       "0it [00:00, ?it/s]"
      ]
     },
     "metadata": {},
     "output_type": "display_data"
    },
    {
     "name": "stdout",
     "output_type": "stream",
     "text": [
      "For type 5174, metrics:: auprc:0.8477, auroc:0.9102, ap@50:1.0\n",
      "current: 7225\n"
     ]
    },
    {
     "data": {
      "application/vnd.jupyter.widget-view+json": {
       "model_id": "41014525255a4a91828cd25da00ae72d",
       "version_major": 2,
       "version_minor": 0
      },
      "text/plain": [
       "0it [00:00, ?it/s]"
      ]
     },
     "metadata": {},
     "output_type": "display_data"
    },
    {
     "name": "stdout",
     "output_type": "stream",
     "text": [
      "For type 7225, metrics:: auprc:0.8207, auroc:0.8908, ap@50:1.0\n",
      "current: 3129\n"
     ]
    },
    {
     "data": {
      "application/vnd.jupyter.widget-view+json": {
       "model_id": "caf0da6e0efb48ec9648e41ce13ec5b4",
       "version_major": 2,
       "version_minor": 0
      },
      "text/plain": [
       "0it [00:00, ?it/s]"
      ]
     },
     "metadata": {},
     "output_type": "display_data"
    },
    {
     "name": "stdout",
     "output_type": "stream",
     "text": [
      "For type 3129, metrics:: auprc:0.835, auroc:0.9012, ap@50:1.0\n",
      "current: 5178\n"
     ]
    },
    {
     "data": {
      "application/vnd.jupyter.widget-view+json": {
       "model_id": "4d4470270112490a94d28537fea25980",
       "version_major": 2,
       "version_minor": 0
      },
      "text/plain": [
       "0it [00:00, ?it/s]"
      ]
     },
     "metadata": {},
     "output_type": "display_data"
    },
    {
     "name": "stdout",
     "output_type": "stream",
     "text": [
      "For type 5178, metrics:: auprc:0.8103, auroc:0.8829, ap@50:1.0\n",
      "current: 9276\n"
     ]
    },
    {
     "data": {
      "application/vnd.jupyter.widget-view+json": {
       "model_id": "279ed6efac4f45baacf91cfc8ede332b",
       "version_major": 2,
       "version_minor": 0
      },
      "text/plain": [
       "0it [00:00, ?it/s]"
      ]
     },
     "metadata": {},
     "output_type": "display_data"
    },
    {
     "name": "stdout",
     "output_type": "stream",
     "text": [
      "For type 9276, metrics:: auprc:0.8116, auroc:0.8839, ap@50:1.0\n",
      "current: 9278\n"
     ]
    },
    {
     "data": {
      "application/vnd.jupyter.widget-view+json": {
       "model_id": "1ac044c154ff41b5a8728484fcba7efe",
       "version_major": 2,
       "version_minor": 0
      },
      "text/plain": [
       "0it [00:00, ?it/s]"
      ]
     },
     "metadata": {},
     "output_type": "display_data"
    },
    {
     "name": "stdout",
     "output_type": "stream",
     "text": [
      "For type 9278, metrics:: auprc:0.8139, auroc:0.8857, ap@50:1.0\n",
      "current: 5183\n"
     ]
    },
    {
     "data": {
      "application/vnd.jupyter.widget-view+json": {
       "model_id": "de0d712b261c46608a62c6b82a00c59c",
       "version_major": 2,
       "version_minor": 0
      },
      "text/plain": [
       "0it [00:00, ?it/s]"
      ]
     },
     "metadata": {},
     "output_type": "display_data"
    },
    {
     "name": "stdout",
     "output_type": "stream",
     "text": [
      "For type 5183, metrics:: auprc:0.8293, auroc:0.8971, ap@50:1.0\n",
      "current: 9282\n"
     ]
    },
    {
     "data": {
      "application/vnd.jupyter.widget-view+json": {
       "model_id": "e6580c972c2142c7b2397869d6b4061d",
       "version_major": 2,
       "version_minor": 0
      },
      "text/plain": [
       "0it [00:00, ?it/s]"
      ]
     },
     "metadata": {},
     "output_type": "display_data"
    },
    {
     "name": "stdout",
     "output_type": "stream",
     "text": [
      "For type 9282, metrics:: auprc:0.8348, auroc:0.901, ap@50:1.0\n",
      "current: 3141\n"
     ]
    },
    {
     "data": {
      "application/vnd.jupyter.widget-view+json": {
       "model_id": "a64f941f9a654f5e81d9cae5a988dd86",
       "version_major": 2,
       "version_minor": 0
      },
      "text/plain": [
       "0it [00:00, ?it/s]"
      ]
     },
     "metadata": {},
     "output_type": "display_data"
    },
    {
     "name": "stdout",
     "output_type": "stream",
     "text": [
      "For type 3141, metrics:: auprc:0.8571, auroc:0.9167, ap@50:1.0\n",
      "current: 9295\n"
     ]
    },
    {
     "data": {
      "application/vnd.jupyter.widget-view+json": {
       "model_id": "9589bd8c969341b5b106f32fa390a38f",
       "version_major": 2,
       "version_minor": 0
      },
      "text/plain": [
       "0it [00:00, ?it/s]"
      ]
     },
     "metadata": {},
     "output_type": "display_data"
    },
    {
     "name": "stdout",
     "output_type": "stream",
     "text": [
      "For type 9295, metrics:: auprc:0.8351, auroc:0.9013, ap@50:1.0\n",
      "current: 9296\n"
     ]
    },
    {
     "data": {
      "application/vnd.jupyter.widget-view+json": {
       "model_id": "1e8e6efe19a647018460159fba69b822",
       "version_major": 2,
       "version_minor": 0
      },
      "text/plain": [
       "0it [00:00, ?it/s]"
      ]
     },
     "metadata": {},
     "output_type": "display_data"
    },
    {
     "name": "stdout",
     "output_type": "stream",
     "text": [
      "For type 9296, metrics:: auprc:0.8151, auroc:0.8866, ap@50:1.0\n",
      "current: 7249\n"
     ]
    },
    {
     "data": {
      "application/vnd.jupyter.widget-view+json": {
       "model_id": "8501259cfbf3465a93a2d5b563907d6e",
       "version_major": 2,
       "version_minor": 0
      },
      "text/plain": [
       "0it [00:00, ?it/s]"
      ]
     },
     "metadata": {},
     "output_type": "display_data"
    },
    {
     "name": "stdout",
     "output_type": "stream",
     "text": [
      "For type 7249, metrics:: auprc:0.8181, auroc:0.8888, ap@50:1.0\n",
      "current: 3154\n"
     ]
    },
    {
     "data": {
      "application/vnd.jupyter.widget-view+json": {
       "model_id": "91b1e2fd985145a09af5d58b24d77432",
       "version_major": 2,
       "version_minor": 0
      },
      "text/plain": [
       "0it [00:00, ?it/s]"
      ]
     },
     "metadata": {},
     "output_type": "display_data"
    },
    {
     "name": "stdout",
     "output_type": "stream",
     "text": [
      "For type 3154, metrics:: auprc:0.811, auroc:0.8834, ap@50:1.0\n",
      "current: 7248\n"
     ]
    },
    {
     "data": {
      "application/vnd.jupyter.widget-view+json": {
       "model_id": "6e47ce0c0b3844c8a425bb68203f251c",
       "version_major": 2,
       "version_minor": 0
      },
      "text/plain": [
       "0it [00:00, ?it/s]"
      ]
     },
     "metadata": {},
     "output_type": "display_data"
    },
    {
     "name": "stdout",
     "output_type": "stream",
     "text": [
      "For type 7248, metrics:: auprc:0.8073, auroc:0.8807, ap@50:1.0\n",
      "current: 5204\n"
     ]
    },
    {
     "data": {
      "application/vnd.jupyter.widget-view+json": {
       "model_id": "1288508f065d4d43ba22d35bbcaf2ded",
       "version_major": 2,
       "version_minor": 0
      },
      "text/plain": [
       "0it [00:00, ?it/s]"
      ]
     },
     "metadata": {},
     "output_type": "display_data"
    },
    {
     "name": "stdout",
     "output_type": "stream",
     "text": [
      "For type 5204, metrics:: auprc:0.8338, auroc:0.9003, ap@50:1.0\n",
      "current: 3158\n"
     ]
    },
    {
     "data": {
      "application/vnd.jupyter.widget-view+json": {
       "model_id": "13d87f8751ea4fe0986f7e8823053a79",
       "version_major": 2,
       "version_minor": 0
      },
      "text/plain": [
       "0it [00:00, ?it/s]"
      ]
     },
     "metadata": {},
     "output_type": "display_data"
    },
    {
     "name": "stdout",
     "output_type": "stream",
     "text": [
      "For type 3158, metrics:: auprc:0.8237, auroc:0.893, ap@50:1.0\n",
      "current: 1110\n"
     ]
    },
    {
     "data": {
      "application/vnd.jupyter.widget-view+json": {
       "model_id": "00152c65896f478a859006a5c81b351d",
       "version_major": 2,
       "version_minor": 0
      },
      "text/plain": [
       "0it [00:00, ?it/s]"
      ]
     },
     "metadata": {},
     "output_type": "display_data"
    },
    {
     "name": "stdout",
     "output_type": "stream",
     "text": [
      "For type 1110, metrics:: auprc:0.8132, auroc:0.8852, ap@50:1.0\n",
      "current: 5210\n"
     ]
    },
    {
     "data": {
      "application/vnd.jupyter.widget-view+json": {
       "model_id": "f02d5285cc95487ea3929dcd4abc6b4e",
       "version_major": 2,
       "version_minor": 0
      },
      "text/plain": [
       "0it [00:00, ?it/s]"
      ]
     },
     "metadata": {},
     "output_type": "display_data"
    },
    {
     "name": "stdout",
     "output_type": "stream",
     "text": [
      "For type 5210, metrics:: auprc:0.8322, auroc:0.8992, ap@50:1.0\n",
      "current: 7260\n"
     ]
    },
    {
     "data": {
      "application/vnd.jupyter.widget-view+json": {
       "model_id": "e6f98b9db25b4f55a1a05168af22d5e4",
       "version_major": 2,
       "version_minor": 0
      },
      "text/plain": [
       "0it [00:00, ?it/s]"
      ]
     },
     "metadata": {},
     "output_type": "display_data"
    },
    {
     "name": "stdout",
     "output_type": "stream",
     "text": [
      "For type 7260, metrics:: auprc:0.786, auroc:0.8639, ap@50:1.0\n",
      "current: 9309\n"
     ]
    },
    {
     "data": {
      "application/vnd.jupyter.widget-view+json": {
       "model_id": "487cd972aaf54c89b182c2ddd50876f7",
       "version_major": 2,
       "version_minor": 0
      },
      "text/plain": [
       "0it [00:00, ?it/s]"
      ]
     },
     "metadata": {},
     "output_type": "display_data"
    },
    {
     "name": "stdout",
     "output_type": "stream",
     "text": [
      "For type 9309, metrics:: auprc:0.7487, auroc:0.8322, ap@50:1.0\n",
      "current: 3166\n"
     ]
    },
    {
     "data": {
      "application/vnd.jupyter.widget-view+json": {
       "model_id": "50896d6f478c41d5a12bc771b3acb4fa",
       "version_major": 2,
       "version_minor": 0
      },
      "text/plain": [
       "0it [00:00, ?it/s]"
      ]
     },
     "metadata": {},
     "output_type": "display_data"
    },
    {
     "name": "stdout",
     "output_type": "stream",
     "text": [
      "For type 3166, metrics:: auprc:0.8276, auroc:0.8958, ap@50:1.0\n",
      "current: 5214\n"
     ]
    },
    {
     "data": {
      "application/vnd.jupyter.widget-view+json": {
       "model_id": "cec8bf2a79424397a8ef1666c631f901",
       "version_major": 2,
       "version_minor": 0
      },
      "text/plain": [
       "0it [00:00, ?it/s]"
      ]
     },
     "metadata": {},
     "output_type": "display_data"
    },
    {
     "name": "stdout",
     "output_type": "stream",
     "text": [
      "For type 5214, metrics:: auprc:0.791, auroc:0.8679, ap@50:1.0\n",
      "current: 7263\n"
     ]
    },
    {
     "data": {
      "application/vnd.jupyter.widget-view+json": {
       "model_id": "6c53aa332ac44c65be3c444736f333ff",
       "version_major": 2,
       "version_minor": 0
      },
      "text/plain": [
       "0it [00:00, ?it/s]"
      ]
     },
     "metadata": {},
     "output_type": "display_data"
    },
    {
     "name": "stdout",
     "output_type": "stream",
     "text": [
      "For type 7263, metrics:: auprc:0.8462, auroc:0.9091, ap@50:1.0\n",
      "current: 5218\n"
     ]
    },
    {
     "data": {
      "application/vnd.jupyter.widget-view+json": {
       "model_id": "fc07d1db75234b3abbd5a1ec3e071d33",
       "version_major": 2,
       "version_minor": 0
      },
      "text/plain": [
       "0it [00:00, ?it/s]"
      ]
     },
     "metadata": {},
     "output_type": "display_data"
    },
    {
     "name": "stdout",
     "output_type": "stream",
     "text": [
      "For type 5218, metrics:: auprc:0.8126, auroc:0.8847, ap@50:1.0\n",
      "current: 5219\n"
     ]
    },
    {
     "data": {
      "application/vnd.jupyter.widget-view+json": {
       "model_id": "d591ef4f5b214e04b5fe70b80fbde909",
       "version_major": 2,
       "version_minor": 0
      },
      "text/plain": [
       "0it [00:00, ?it/s]"
      ]
     },
     "metadata": {},
     "output_type": "display_data"
    },
    {
     "name": "stdout",
     "output_type": "stream",
     "text": [
      "For type 5219, metrics:: auprc:0.8419, auroc:0.9061, ap@50:1.0\n",
      "current: 5220\n"
     ]
    },
    {
     "data": {
      "application/vnd.jupyter.widget-view+json": {
       "model_id": "b84b215c0dc347cc92b85d84deb12467",
       "version_major": 2,
       "version_minor": 0
      },
      "text/plain": [
       "0it [00:00, ?it/s]"
      ]
     },
     "metadata": {},
     "output_type": "display_data"
    },
    {
     "name": "stdout",
     "output_type": "stream",
     "text": [
      "For type 5220, metrics:: auprc:0.8267, auroc:0.8952, ap@50:1.0\n",
      "current: 7269\n"
     ]
    },
    {
     "data": {
      "application/vnd.jupyter.widget-view+json": {
       "model_id": "682fb58323b643afb75dc1730541ed2e",
       "version_major": 2,
       "version_minor": 0
      },
      "text/plain": [
       "0it [00:00, ?it/s]"
      ]
     },
     "metadata": {},
     "output_type": "display_data"
    },
    {
     "name": "stdout",
     "output_type": "stream",
     "text": [
      "For type 7269, metrics:: auprc:0.8182, auroc:0.8889, ap@50:1.0\n",
      "current: 5223\n"
     ]
    },
    {
     "data": {
      "application/vnd.jupyter.widget-view+json": {
       "model_id": "ffe09c2e55c14272b5628bd6d6d39f2e",
       "version_major": 2,
       "version_minor": 0
      },
      "text/plain": [
       "0it [00:00, ?it/s]"
      ]
     },
     "metadata": {},
     "output_type": "display_data"
    },
    {
     "name": "stdout",
     "output_type": "stream",
     "text": [
      "For type 5223, metrics:: auprc:0.8382, auroc:0.9035, ap@50:1.0\n",
      "current: 9320\n"
     ]
    },
    {
     "data": {
      "application/vnd.jupyter.widget-view+json": {
       "model_id": "9ec4d344b3984567ab4d7c83f9097ea1",
       "version_major": 2,
       "version_minor": 0
      },
      "text/plain": [
       "0it [00:00, ?it/s]"
      ]
     },
     "metadata": {},
     "output_type": "display_data"
    },
    {
     "name": "stdout",
     "output_type": "stream",
     "text": [
      "For type 9320, metrics:: auprc:0.8241, auroc:0.8933, ap@50:1.0\n",
      "current: 9321\n"
     ]
    },
    {
     "data": {
      "application/vnd.jupyter.widget-view+json": {
       "model_id": "d6d6bc11d06747f0806e0914ced7a400",
       "version_major": 2,
       "version_minor": 0
      },
      "text/plain": [
       "0it [00:00, ?it/s]"
      ]
     },
     "metadata": {},
     "output_type": "display_data"
    },
    {
     "name": "stdout",
     "output_type": "stream",
     "text": [
      "For type 9321, metrics:: auprc:0.8095, auroc:0.8823, ap@50:1.0\n",
      "current: 3178\n"
     ]
    },
    {
     "data": {
      "application/vnd.jupyter.widget-view+json": {
       "model_id": "ab0a2324cbe34da5b594701dc3e50fcd",
       "version_major": 2,
       "version_minor": 0
      },
      "text/plain": [
       "0it [00:00, ?it/s]"
      ]
     },
     "metadata": {},
     "output_type": "display_data"
    },
    {
     "name": "stdout",
     "output_type": "stream",
     "text": [
      "For type 3178, metrics:: auprc:0.8196, auroc:0.89, ap@50:1.0\n",
      "current: 5229\n"
     ]
    },
    {
     "data": {
      "application/vnd.jupyter.widget-view+json": {
       "model_id": "ce55233a5b114fe18451de27b5e072f2",
       "version_major": 2,
       "version_minor": 0
      },
      "text/plain": [
       "0it [00:00, ?it/s]"
      ]
     },
     "metadata": {},
     "output_type": "display_data"
    },
    {
     "name": "stdout",
     "output_type": "stream",
     "text": [
      "For type 5229, metrics:: auprc:0.8066, auroc:0.8801, ap@50:1.0\n",
      "current: 1134\n"
     ]
    },
    {
     "data": {
      "application/vnd.jupyter.widget-view+json": {
       "model_id": "6714b58f3df742b8925ca2115ccc384c",
       "version_major": 2,
       "version_minor": 0
      },
      "text/plain": [
       "0it [00:00, ?it/s]"
      ]
     },
     "metadata": {},
     "output_type": "display_data"
    },
    {
     "name": "stdout",
     "output_type": "stream",
     "text": [
      "For type 1134, metrics:: auprc:0.8214, auroc:0.8913, ap@50:1.0\n",
      "current: 5230\n"
     ]
    },
    {
     "data": {
      "application/vnd.jupyter.widget-view+json": {
       "model_id": "dce7a7e0d60040b2a34850d4e6377ba5",
       "version_major": 2,
       "version_minor": 0
      },
      "text/plain": [
       "0it [00:00, ?it/s]"
      ]
     },
     "metadata": {},
     "output_type": "display_data"
    },
    {
     "name": "stdout",
     "output_type": "stream",
     "text": [
      "For type 5230, metrics:: auprc:0.8263, auroc:0.8949, ap@50:1.0\n",
      "current: 7282\n"
     ]
    },
    {
     "data": {
      "application/vnd.jupyter.widget-view+json": {
       "model_id": "bf77d6e427674ae8848e5556c0557a12",
       "version_major": 2,
       "version_minor": 0
      },
      "text/plain": [
       "0it [00:00, ?it/s]"
      ]
     },
     "metadata": {},
     "output_type": "display_data"
    },
    {
     "name": "stdout",
     "output_type": "stream",
     "text": [
      "For type 7282, metrics:: auprc:0.8066, auroc:0.8801, ap@50:1.0\n",
      "current: 1138\n"
     ]
    },
    {
     "data": {
      "application/vnd.jupyter.widget-view+json": {
       "model_id": "d7892b8617a3466d9acab214e2c5570a",
       "version_major": 2,
       "version_minor": 0
      },
      "text/plain": [
       "0it [00:00, ?it/s]"
      ]
     },
     "metadata": {},
     "output_type": "display_data"
    },
    {
     "name": "stdout",
     "output_type": "stream",
     "text": [
      "For type 1138, metrics:: auprc:0.8023, auroc:0.8768, ap@50:1.0\n",
      "current: 9332\n"
     ]
    },
    {
     "data": {
      "application/vnd.jupyter.widget-view+json": {
       "model_id": "d057c62415654393a189427332b0590b",
       "version_major": 2,
       "version_minor": 0
      },
      "text/plain": [
       "0it [00:00, ?it/s]"
      ]
     },
     "metadata": {},
     "output_type": "display_data"
    },
    {
     "name": "stdout",
     "output_type": "stream",
     "text": [
      "For type 9332, metrics:: auprc:0.7956, auroc:0.8716, ap@50:1.0\n",
      "current: 5239\n"
     ]
    },
    {
     "data": {
      "application/vnd.jupyter.widget-view+json": {
       "model_id": "65be7a55b00842fdb345a313c76a5d8f",
       "version_major": 2,
       "version_minor": 0
      },
      "text/plain": [
       "0it [00:00, ?it/s]"
      ]
     },
     "metadata": {},
     "output_type": "display_data"
    },
    {
     "name": "stdout",
     "output_type": "stream",
     "text": [
      "For type 5239, metrics:: auprc:0.7904, auroc:0.8674, ap@50:1.0\n",
      "current: 3192\n"
     ]
    },
    {
     "data": {
      "application/vnd.jupyter.widget-view+json": {
       "model_id": "42f6f05c81354011bd419d394a25b5ef",
       "version_major": 2,
       "version_minor": 0
      },
      "text/plain": [
       "0it [00:00, ?it/s]"
      ]
     },
     "metadata": {},
     "output_type": "display_data"
    },
    {
     "name": "stdout",
     "output_type": "stream",
     "text": [
      "For type 3192, metrics:: auprc:0.7993, auroc:0.8744, ap@50:1.0\n",
      "current: 3198\n"
     ]
    },
    {
     "data": {
      "application/vnd.jupyter.widget-view+json": {
       "model_id": "e5fb2e260cda43aa9a81b37feddf02a8",
       "version_major": 2,
       "version_minor": 0
      },
      "text/plain": [
       "0it [00:00, ?it/s]"
      ]
     },
     "metadata": {},
     "output_type": "display_data"
    },
    {
     "name": "stdout",
     "output_type": "stream",
     "text": [
      "For type 3198, metrics:: auprc:0.8123, auroc:0.8845, ap@50:1.0\n",
      "current: 3206\n"
     ]
    },
    {
     "data": {
      "application/vnd.jupyter.widget-view+json": {
       "model_id": "5afa68dc0e684e6e99c628d300fafd5a",
       "version_major": 2,
       "version_minor": 0
      },
      "text/plain": [
       "0it [00:00, ?it/s]"
      ]
     },
     "metadata": {},
     "output_type": "display_data"
    },
    {
     "name": "stdout",
     "output_type": "stream",
     "text": [
      "For type 3206, metrics:: auprc:0.8091, auroc:0.882, ap@50:1.0\n",
      "current: 9356\n"
     ]
    },
    {
     "data": {
      "application/vnd.jupyter.widget-view+json": {
       "model_id": "184ef786f7234781993bc975a627ebfb",
       "version_major": 2,
       "version_minor": 0
      },
      "text/plain": [
       "0it [00:00, ?it/s]"
      ]
     },
     "metadata": {},
     "output_type": "display_data"
    },
    {
     "name": "stdout",
     "output_type": "stream",
     "text": [
      "For type 9356, metrics:: auprc:0.8333, auroc:0.9, ap@50:1.0\n",
      "current: 1166\n"
     ]
    },
    {
     "data": {
      "application/vnd.jupyter.widget-view+json": {
       "model_id": "c92bc0c7b92942a0a50b2c613e523573",
       "version_major": 2,
       "version_minor": 0
      },
      "text/plain": [
       "0it [00:00, ?it/s]"
      ]
     },
     "metadata": {},
     "output_type": "display_data"
    },
    {
     "name": "stdout",
     "output_type": "stream",
     "text": [
      "For type 1166, metrics:: auprc:0.8196, auroc:0.8899, ap@50:1.0\n",
      "current: 9358\n"
     ]
    },
    {
     "data": {
      "application/vnd.jupyter.widget-view+json": {
       "model_id": "283997b1bc7d49cdabd4962e037ef2b0",
       "version_major": 2,
       "version_minor": 0
      },
      "text/plain": [
       "0it [00:00, ?it/s]"
      ]
     },
     "metadata": {},
     "output_type": "display_data"
    },
    {
     "name": "stdout",
     "output_type": "stream",
     "text": [
      "For type 9358, metrics:: auprc:0.8229, auroc:0.8924, ap@50:1.0\n",
      "current: 7312\n"
     ]
    },
    {
     "data": {
      "application/vnd.jupyter.widget-view+json": {
       "model_id": "a50598b7481845a6b44e0fca7e2e38f2",
       "version_major": 2,
       "version_minor": 0
      },
      "text/plain": [
       "0it [00:00, ?it/s]"
      ]
     },
     "metadata": {},
     "output_type": "display_data"
    },
    {
     "name": "stdout",
     "output_type": "stream",
     "text": [
      "For type 7312, metrics:: auprc:0.8071, auroc:0.8805, ap@50:1.0\n",
      "current: 5264\n"
     ]
    },
    {
     "data": {
      "application/vnd.jupyter.widget-view+json": {
       "model_id": "4c54923e9b8a4e53b21680fad6bfe7db",
       "version_major": 2,
       "version_minor": 0
      },
      "text/plain": [
       "0it [00:00, ?it/s]"
      ]
     },
     "metadata": {},
     "output_type": "display_data"
    },
    {
     "name": "stdout",
     "output_type": "stream",
     "text": [
      "For type 5264, metrics:: auprc:0.8185, auroc:0.8891, ap@50:1.0\n",
      "current: 1171\n"
     ]
    },
    {
     "data": {
      "application/vnd.jupyter.widget-view+json": {
       "model_id": "90e781f4a3ff44e6848b11171d4221f3",
       "version_major": 2,
       "version_minor": 0
      },
      "text/plain": [
       "0it [00:00, ?it/s]"
      ]
     },
     "metadata": {},
     "output_type": "display_data"
    },
    {
     "name": "stdout",
     "output_type": "stream",
     "text": [
      "For type 1171, metrics:: auprc:0.8171, auroc:0.8881, ap@50:1.0\n",
      "current: 7318\n"
     ]
    },
    {
     "data": {
      "application/vnd.jupyter.widget-view+json": {
       "model_id": "df9f8c2b3df441a4958bfed154e66a01",
       "version_major": 2,
       "version_minor": 0
      },
      "text/plain": [
       "0it [00:00, ?it/s]"
      ]
     },
     "metadata": {},
     "output_type": "display_data"
    },
    {
     "name": "stdout",
     "output_type": "stream",
     "text": [
      "For type 7318, metrics:: auprc:0.8242, auroc:0.8934, ap@50:1.0\n",
      "current: 9366\n"
     ]
    },
    {
     "data": {
      "application/vnd.jupyter.widget-view+json": {
       "model_id": "e5914d72b9374f0386bb5a6d8de4a0d2",
       "version_major": 2,
       "version_minor": 0
      },
      "text/plain": [
       "0it [00:00, ?it/s]"
      ]
     },
     "metadata": {},
     "output_type": "display_data"
    },
    {
     "name": "stdout",
     "output_type": "stream",
     "text": [
      "For type 9366, metrics:: auprc:0.8129, auroc:0.8849, ap@50:1.0\n",
      "current: 9370\n"
     ]
    },
    {
     "data": {
      "application/vnd.jupyter.widget-view+json": {
       "model_id": "754298f350fe4b669e9d96bb4c34e579",
       "version_major": 2,
       "version_minor": 0
      },
      "text/plain": [
       "0it [00:00, ?it/s]"
      ]
     },
     "metadata": {},
     "output_type": "display_data"
    },
    {
     "name": "stdout",
     "output_type": "stream",
     "text": [
      "For type 9370, metrics:: auprc:0.8182, auroc:0.8889, ap@50:1.0\n",
      "current: 1184\n"
     ]
    },
    {
     "data": {
      "application/vnd.jupyter.widget-view+json": {
       "model_id": "7480bed112e84f4689dac663e87a626f",
       "version_major": 2,
       "version_minor": 0
      },
      "text/plain": [
       "0it [00:00, ?it/s]"
      ]
     },
     "metadata": {},
     "output_type": "display_data"
    },
    {
     "name": "stdout",
     "output_type": "stream",
     "text": [
      "For type 1184, metrics:: auprc:0.8281, auroc:0.8962, ap@50:1.0\n",
      "current: 3232\n"
     ]
    },
    {
     "data": {
      "application/vnd.jupyter.widget-view+json": {
       "model_id": "963016a1ef7142a09aaa3a25d1214a20",
       "version_major": 2,
       "version_minor": 0
      },
      "text/plain": [
       "0it [00:00, ?it/s]"
      ]
     },
     "metadata": {},
     "output_type": "display_data"
    },
    {
     "name": "stdout",
     "output_type": "stream",
     "text": [
      "For type 3232, metrics:: auprc:0.8064, auroc:0.8799, ap@50:1.0\n",
      "current: 3235\n"
     ]
    },
    {
     "data": {
      "application/vnd.jupyter.widget-view+json": {
       "model_id": "701a97480aa1407ea59bd17494a19594",
       "version_major": 2,
       "version_minor": 0
      },
      "text/plain": [
       "0it [00:00, ?it/s]"
      ]
     },
     "metadata": {},
     "output_type": "display_data"
    },
    {
     "name": "stdout",
     "output_type": "stream",
     "text": [
      "For type 3235, metrics:: auprc:0.8201, auroc:0.8903, ap@50:1.0\n",
      "current: 9380\n"
     ]
    },
    {
     "data": {
      "application/vnd.jupyter.widget-view+json": {
       "model_id": "332bb50cff084c45912c4aa78368d040",
       "version_major": 2,
       "version_minor": 0
      },
      "text/plain": [
       "0it [00:00, ?it/s]"
      ]
     },
     "metadata": {},
     "output_type": "display_data"
    },
    {
     "name": "stdout",
     "output_type": "stream",
     "text": [
      "For type 9380, metrics:: auprc:0.8143, auroc:0.886, ap@50:1.0\n",
      "current: 1189\n"
     ]
    },
    {
     "data": {
      "application/vnd.jupyter.widget-view+json": {
       "model_id": "abcdef6f38c049aabc2576743bf8f3ed",
       "version_major": 2,
       "version_minor": 0
      },
      "text/plain": [
       "0it [00:00, ?it/s]"
      ]
     },
     "metadata": {},
     "output_type": "display_data"
    },
    {
     "name": "stdout",
     "output_type": "stream",
     "text": [
      "For type 1189, metrics:: auprc:0.815, auroc:0.8865, ap@50:1.0\n",
      "current: 1190\n"
     ]
    },
    {
     "data": {
      "application/vnd.jupyter.widget-view+json": {
       "model_id": "fe09cbf815a44a59a0e3ffca31927749",
       "version_major": 2,
       "version_minor": 0
      },
      "text/plain": [
       "0it [00:00, ?it/s]"
      ]
     },
     "metadata": {},
     "output_type": "display_data"
    },
    {
     "name": "stdout",
     "output_type": "stream",
     "text": [
      "For type 1190, metrics:: auprc:0.8158, auroc:0.8871, ap@50:1.0\n",
      "current: 1188\n"
     ]
    },
    {
     "data": {
      "application/vnd.jupyter.widget-view+json": {
       "model_id": "e01058803df04b758c317227ed89385c",
       "version_major": 2,
       "version_minor": 0
      },
      "text/plain": [
       "0it [00:00, ?it/s]"
      ]
     },
     "metadata": {},
     "output_type": "display_data"
    },
    {
     "name": "stdout",
     "output_type": "stream",
     "text": [
      "For type 1188, metrics:: auprc:0.8047, auroc:0.8786, ap@50:1.0\n",
      "current: 5284\n"
     ]
    },
    {
     "data": {
      "application/vnd.jupyter.widget-view+json": {
       "model_id": "32b3827c9ac74bfbb8b83343ee46d05a",
       "version_major": 2,
       "version_minor": 0
      },
      "text/plain": [
       "0it [00:00, ?it/s]"
      ]
     },
     "metadata": {},
     "output_type": "display_data"
    },
    {
     "name": "stdout",
     "output_type": "stream",
     "text": [
      "For type 5284, metrics:: auprc:0.8047, auroc:0.8787, ap@50:1.0\n",
      "current: 3239\n"
     ]
    },
    {
     "data": {
      "application/vnd.jupyter.widget-view+json": {
       "model_id": "38af73124d9747dfa3142f6e8afccf90",
       "version_major": 2,
       "version_minor": 0
      },
      "text/plain": [
       "0it [00:00, ?it/s]"
      ]
     },
     "metadata": {},
     "output_type": "display_data"
    },
    {
     "name": "stdout",
     "output_type": "stream",
     "text": [
      "For type 3239, metrics:: auprc:0.8117, auroc:0.884, ap@50:1.0\n",
      "current: 7332\n"
     ]
    },
    {
     "data": {
      "application/vnd.jupyter.widget-view+json": {
       "model_id": "f35c300b2d554a77acaa84e530490de7",
       "version_major": 2,
       "version_minor": 0
      },
      "text/plain": [
       "0it [00:00, ?it/s]"
      ]
     },
     "metadata": {},
     "output_type": "display_data"
    },
    {
     "name": "stdout",
     "output_type": "stream",
     "text": [
      "For type 7332, metrics:: auprc:0.7886, auroc:0.866, ap@50:1.0\n",
      "current: 3240\n"
     ]
    },
    {
     "data": {
      "application/vnd.jupyter.widget-view+json": {
       "model_id": "bd67a42600d94e3aa84b9c6945d50143",
       "version_major": 2,
       "version_minor": 0
      },
      "text/plain": [
       "0it [00:00, ?it/s]"
      ]
     },
     "metadata": {},
     "output_type": "display_data"
    },
    {
     "name": "stdout",
     "output_type": "stream",
     "text": [
      "For type 3240, metrics:: auprc:0.8198, auroc:0.8901, ap@50:1.0\n",
      "current: 9386\n"
     ]
    },
    {
     "data": {
      "application/vnd.jupyter.widget-view+json": {
       "model_id": "b3638c1be0f94a2db9551eacc16af764",
       "version_major": 2,
       "version_minor": 0
      },
      "text/plain": [
       "0it [00:00, ?it/s]"
      ]
     },
     "metadata": {},
     "output_type": "display_data"
    },
    {
     "name": "stdout",
     "output_type": "stream",
     "text": [
      "For type 9386, metrics:: auprc:0.8381, auroc:0.9034, ap@50:1.0\n",
      "current: 3236\n"
     ]
    },
    {
     "data": {
      "application/vnd.jupyter.widget-view+json": {
       "model_id": "1e70be48ba8548dd866f1352e0b545af",
       "version_major": 2,
       "version_minor": 0
      },
      "text/plain": [
       "0it [00:00, ?it/s]"
      ]
     },
     "metadata": {},
     "output_type": "display_data"
    },
    {
     "name": "stdout",
     "output_type": "stream",
     "text": [
      "For type 3236, metrics:: auprc:0.8163, auroc:0.8875, ap@50:1.0\n",
      "current: 5299\n"
     ]
    },
    {
     "data": {
      "application/vnd.jupyter.widget-view+json": {
       "model_id": "750367fcca3c4a1c882ec005f1950852",
       "version_major": 2,
       "version_minor": 0
      },
      "text/plain": [
       "0it [00:00, ?it/s]"
      ]
     },
     "metadata": {},
     "output_type": "display_data"
    },
    {
     "name": "stdout",
     "output_type": "stream",
     "text": [
      "For type 5299, metrics:: auprc:0.8288, auroc:0.8967, ap@50:1.0\n",
      "current: 7348\n"
     ]
    },
    {
     "data": {
      "application/vnd.jupyter.widget-view+json": {
       "model_id": "58c1ab594b114904a018b6ab6cf27fca",
       "version_major": 2,
       "version_minor": 0
      },
      "text/plain": [
       "0it [00:00, ?it/s]"
      ]
     },
     "metadata": {},
     "output_type": "display_data"
    },
    {
     "name": "stdout",
     "output_type": "stream",
     "text": [
      "For type 7348, metrics:: auprc:0.8255, auroc:0.8943, ap@50:1.0\n",
      "current: 7352\n"
     ]
    },
    {
     "data": {
      "application/vnd.jupyter.widget-view+json": {
       "model_id": "149f226de465416cb4fa3c6d1b0ddc53",
       "version_major": 2,
       "version_minor": 0
      },
      "text/plain": [
       "0it [00:00, ?it/s]"
      ]
     },
     "metadata": {},
     "output_type": "display_data"
    },
    {
     "name": "stdout",
     "output_type": "stream",
     "text": [
      "For type 7352, metrics:: auprc:0.8169, auroc:0.888, ap@50:1.0\n",
      "current: 3261\n"
     ]
    },
    {
     "data": {
      "application/vnd.jupyter.widget-view+json": {
       "model_id": "8f8bb2f3f60a41b1ad38c853617bb454",
       "version_major": 2,
       "version_minor": 0
      },
      "text/plain": [
       "0it [00:00, ?it/s]"
      ]
     },
     "metadata": {},
     "output_type": "display_data"
    },
    {
     "name": "stdout",
     "output_type": "stream",
     "text": [
      "For type 3261, metrics:: auprc:0.8137, auroc:0.8855, ap@50:1.0\n",
      "current: 7357\n"
     ]
    },
    {
     "data": {
      "application/vnd.jupyter.widget-view+json": {
       "model_id": "d19d159a312147cb86182415e9ccb90d",
       "version_major": 2,
       "version_minor": 0
      },
      "text/plain": [
       "0it [00:00, ?it/s]"
      ]
     },
     "metadata": {},
     "output_type": "display_data"
    },
    {
     "name": "stdout",
     "output_type": "stream",
     "text": [
      "For type 7357, metrics:: auprc:0.8178, auroc:0.8886, ap@50:1.0\n",
      "current: 9410\n"
     ]
    },
    {
     "data": {
      "application/vnd.jupyter.widget-view+json": {
       "model_id": "c47c59bb84034dd1ae05d93c7d209d32",
       "version_major": 2,
       "version_minor": 0
      },
      "text/plain": [
       "0it [00:00, ?it/s]"
      ]
     },
     "metadata": {},
     "output_type": "display_data"
    },
    {
     "name": "stdout",
     "output_type": "stream",
     "text": [
      "For type 9410, metrics:: auprc:0.8193, auroc:0.8897, ap@50:1.0\n",
      "current: 7365\n"
     ]
    },
    {
     "data": {
      "application/vnd.jupyter.widget-view+json": {
       "model_id": "70395d3c824b4ccda891684158cf27dc",
       "version_major": 2,
       "version_minor": 0
      },
      "text/plain": [
       "0it [00:00, ?it/s]"
      ]
     },
     "metadata": {},
     "output_type": "display_data"
    },
    {
     "name": "stdout",
     "output_type": "stream",
     "text": [
      "For type 7365, metrics:: auprc:0.8121, auroc:0.8843, ap@50:1.0\n",
      "current: 9419\n"
     ]
    },
    {
     "data": {
      "application/vnd.jupyter.widget-view+json": {
       "model_id": "4fbf3eeee862471abe5b8e7d5ba64249",
       "version_major": 2,
       "version_minor": 0
      },
      "text/plain": [
       "0it [00:00, ?it/s]"
      ]
     },
     "metadata": {},
     "output_type": "display_data"
    },
    {
     "name": "stdout",
     "output_type": "stream",
     "text": [
      "For type 9419, metrics:: auprc:0.8372, auroc:0.9028, ap@50:1.0\n",
      "current: 3275\n"
     ]
    },
    {
     "data": {
      "application/vnd.jupyter.widget-view+json": {
       "model_id": "abb1e479d33d41e7b2edcfc319ccc523",
       "version_major": 2,
       "version_minor": 0
      },
      "text/plain": [
       "0it [00:00, ?it/s]"
      ]
     },
     "metadata": {},
     "output_type": "display_data"
    },
    {
     "name": "stdout",
     "output_type": "stream",
     "text": [
      "For type 3275, metrics:: auprc:0.8188, auroc:0.8893, ap@50:1.0\n",
      "current: 7383\n"
     ]
    },
    {
     "data": {
      "application/vnd.jupyter.widget-view+json": {
       "model_id": "6fe150451ef24b78a3bd0d41ece8cfa3",
       "version_major": 2,
       "version_minor": 0
      },
      "text/plain": [
       "0it [00:00, ?it/s]"
      ]
     },
     "metadata": {},
     "output_type": "display_data"
    },
    {
     "name": "stdout",
     "output_type": "stream",
     "text": [
      "For type 7383, metrics:: auprc:0.7987, auroc:0.874, ap@50:1.0\n",
      "current: 7384\n"
     ]
    },
    {
     "data": {
      "application/vnd.jupyter.widget-view+json": {
       "model_id": "d20162f44ce34a038f7d52dbbd6a354c",
       "version_major": 2,
       "version_minor": 0
      },
      "text/plain": [
       "0it [00:00, ?it/s]"
      ]
     },
     "metadata": {},
     "output_type": "display_data"
    },
    {
     "name": "stdout",
     "output_type": "stream",
     "text": [
      "For type 7384, metrics:: auprc:0.7975, auroc:0.8731, ap@50:1.0\n",
      "current: 1241\n"
     ]
    },
    {
     "data": {
      "application/vnd.jupyter.widget-view+json": {
       "model_id": "7ce76dfdddf54ff68b3e1996956879aa",
       "version_major": 2,
       "version_minor": 0
      },
      "text/plain": [
       "0it [00:00, ?it/s]"
      ]
     },
     "metadata": {},
     "output_type": "display_data"
    },
    {
     "name": "stdout",
     "output_type": "stream",
     "text": [
      "For type 1241, metrics:: auprc:0.8122, auroc:0.8844, ap@50:1.0\n",
      "current: 1244\n"
     ]
    },
    {
     "data": {
      "application/vnd.jupyter.widget-view+json": {
       "model_id": "c879496035134ceead5f0589d619f6ea",
       "version_major": 2,
       "version_minor": 0
      },
      "text/plain": [
       "0it [00:00, ?it/s]"
      ]
     },
     "metadata": {},
     "output_type": "display_data"
    },
    {
     "name": "stdout",
     "output_type": "stream",
     "text": [
      "For type 1244, metrics:: auprc:0.8105, auroc:0.8831, ap@50:1.0\n",
      "current: 9437\n"
     ]
    },
    {
     "data": {
      "application/vnd.jupyter.widget-view+json": {
       "model_id": "deea54eead894d41961fd7a99d0b3d5c",
       "version_major": 2,
       "version_minor": 0
      },
      "text/plain": [
       "0it [00:00, ?it/s]"
      ]
     },
     "metadata": {},
     "output_type": "display_data"
    },
    {
     "name": "stdout",
     "output_type": "stream",
     "text": [
      "For type 9437, metrics:: auprc:0.8239, auroc:0.8931, ap@50:1.0\n",
      "current: 3296\n"
     ]
    },
    {
     "data": {
      "application/vnd.jupyter.widget-view+json": {
       "model_id": "8e29b6e52d3d4c4b9f5f55a5b713e1e3",
       "version_major": 2,
       "version_minor": 0
      },
      "text/plain": [
       "0it [00:00, ?it/s]"
      ]
     },
     "metadata": {},
     "output_type": "display_data"
    },
    {
     "name": "stdout",
     "output_type": "stream",
     "text": [
      "For type 3296, metrics:: auprc:0.8473, auroc:0.9099, ap@50:1.0\n",
      "current: 7393\n"
     ]
    },
    {
     "data": {
      "application/vnd.jupyter.widget-view+json": {
       "model_id": "a3e94dd1f5e24dc29eaadb20aa1a70c9",
       "version_major": 2,
       "version_minor": 0
      },
      "text/plain": [
       "0it [00:00, ?it/s]"
      ]
     },
     "metadata": {},
     "output_type": "display_data"
    },
    {
     "name": "stdout",
     "output_type": "stream",
     "text": [
      "For type 7393, metrics:: auprc:0.8228, auroc:0.8923, ap@50:1.0\n",
      "current: 1251\n"
     ]
    },
    {
     "data": {
      "application/vnd.jupyter.widget-view+json": {
       "model_id": "c9e6ee6010ed466ca31eba7e78c3ab89",
       "version_major": 2,
       "version_minor": 0
      },
      "text/plain": [
       "0it [00:00, ?it/s]"
      ]
     },
     "metadata": {},
     "output_type": "display_data"
    },
    {
     "name": "stdout",
     "output_type": "stream",
     "text": [
      "For type 1251, metrics:: auprc:0.8094, auroc:0.8823, ap@50:1.0\n",
      "current: 1253\n"
     ]
    },
    {
     "data": {
      "application/vnd.jupyter.widget-view+json": {
       "model_id": "ef7b04217b8b4702b660e79c712ee7e1",
       "version_major": 2,
       "version_minor": 0
      },
      "text/plain": [
       "0it [00:00, ?it/s]"
      ]
     },
     "metadata": {},
     "output_type": "display_data"
    },
    {
     "name": "stdout",
     "output_type": "stream",
     "text": [
      "For type 1253, metrics:: auprc:0.8149, auroc:0.8864, ap@50:1.0\n",
      "current: 5351\n"
     ]
    },
    {
     "data": {
      "application/vnd.jupyter.widget-view+json": {
       "model_id": "b6b66bdb73e14b1bb6ee0383391f5769",
       "version_major": 2,
       "version_minor": 0
      },
      "text/plain": [
       "0it [00:00, ?it/s]"
      ]
     },
     "metadata": {},
     "output_type": "display_data"
    },
    {
     "name": "stdout",
     "output_type": "stream",
     "text": [
      "For type 5351, metrics:: auprc:0.8138, auroc:0.8856, ap@50:1.0\n",
      "current: 9453\n"
     ]
    },
    {
     "data": {
      "application/vnd.jupyter.widget-view+json": {
       "model_id": "a28ed002a6e9465486fde224750fee18",
       "version_major": 2,
       "version_minor": 0
      },
      "text/plain": [
       "0it [00:00, ?it/s]"
      ]
     },
     "metadata": {},
     "output_type": "display_data"
    },
    {
     "name": "stdout",
     "output_type": "stream",
     "text": [
      "For type 9453, metrics:: auprc:0.8125, auroc:0.8846, ap@50:1.0\n",
      "current: 1262\n"
     ]
    },
    {
     "data": {
      "application/vnd.jupyter.widget-view+json": {
       "model_id": "2e6bb14546714ccfa3f055200aa5b7b1",
       "version_major": 2,
       "version_minor": 0
      },
      "text/plain": [
       "0it [00:00, ?it/s]"
      ]
     },
     "metadata": {},
     "output_type": "display_data"
    },
    {
     "name": "stdout",
     "output_type": "stream",
     "text": [
      "For type 1262, metrics:: auprc:0.8132, auroc:0.8851, ap@50:1.0\n",
      "current: 7405\n"
     ]
    },
    {
     "data": {
      "application/vnd.jupyter.widget-view+json": {
       "model_id": "279c8476fd014491b4cac36d1a431d43",
       "version_major": 2,
       "version_minor": 0
      },
      "text/plain": [
       "0it [00:00, ?it/s]"
      ]
     },
     "metadata": {},
     "output_type": "display_data"
    },
    {
     "name": "stdout",
     "output_type": "stream",
     "text": [
      "For type 7405, metrics:: auprc:0.8347, auroc:0.901, ap@50:1.0\n",
      "current: 5361\n"
     ]
    },
    {
     "data": {
      "application/vnd.jupyter.widget-view+json": {
       "model_id": "4fd54377c5f44e6ca2ec38d80b79a6ec",
       "version_major": 2,
       "version_minor": 0
      },
      "text/plain": [
       "0it [00:00, ?it/s]"
      ]
     },
     "metadata": {},
     "output_type": "display_data"
    },
    {
     "name": "stdout",
     "output_type": "stream",
     "text": [
      "For type 5361, metrics:: auprc:0.7983, auroc:0.8737, ap@50:1.0\n",
      "current: 9458\n"
     ]
    },
    {
     "data": {
      "application/vnd.jupyter.widget-view+json": {
       "model_id": "2d0808b6ad8049d1956dcd04000bb5d5",
       "version_major": 2,
       "version_minor": 0
      },
      "text/plain": [
       "0it [00:00, ?it/s]"
      ]
     },
     "metadata": {},
     "output_type": "display_data"
    },
    {
     "name": "stdout",
     "output_type": "stream",
     "text": [
      "For type 9458, metrics:: auprc:0.8214, auroc:0.8913, ap@50:1.0\n",
      "current: 3315\n"
     ]
    },
    {
     "data": {
      "application/vnd.jupyter.widget-view+json": {
       "model_id": "c3e69b150cfc4ea485c2e3ef47901d2d",
       "version_major": 2,
       "version_minor": 0
      },
      "text/plain": [
       "0it [00:00, ?it/s]"
      ]
     },
     "metadata": {},
     "output_type": "display_data"
    },
    {
     "name": "stdout",
     "output_type": "stream",
     "text": [
      "For type 3315, metrics:: auprc:0.8298, auroc:0.8975, ap@50:1.0\n",
      "current: 5366\n"
     ]
    },
    {
     "data": {
      "application/vnd.jupyter.widget-view+json": {
       "model_id": "53a716a8f8e84459913c91385ab8db48",
       "version_major": 2,
       "version_minor": 0
      },
      "text/plain": [
       "0it [00:00, ?it/s]"
      ]
     },
     "metadata": {},
     "output_type": "display_data"
    },
    {
     "name": "stdout",
     "output_type": "stream",
     "text": [
      "For type 5366, metrics:: auprc:0.8217, auroc:0.8915, ap@50:1.0\n",
      "current: 3324\n"
     ]
    },
    {
     "data": {
      "application/vnd.jupyter.widget-view+json": {
       "model_id": "72cca4fbf2e74b0796c4890d1acfa903",
       "version_major": 2,
       "version_minor": 0
      },
      "text/plain": [
       "0it [00:00, ?it/s]"
      ]
     },
     "metadata": {},
     "output_type": "display_data"
    },
    {
     "name": "stdout",
     "output_type": "stream",
     "text": [
      "For type 3324, metrics:: auprc:0.8221, auroc:0.8918, ap@50:1.0\n",
      "current: 7424\n"
     ]
    },
    {
     "data": {
      "application/vnd.jupyter.widget-view+json": {
       "model_id": "36ed0622c05a46d999ec6cd84817fda0",
       "version_major": 2,
       "version_minor": 0
      },
      "text/plain": [
       "0it [00:00, ?it/s]"
      ]
     },
     "metadata": {},
     "output_type": "display_data"
    },
    {
     "name": "stdout",
     "output_type": "stream",
     "text": [
      "For type 7424, metrics:: auprc:0.813, auroc:0.885, ap@50:1.0\n",
      "current: 5380\n"
     ]
    },
    {
     "data": {
      "application/vnd.jupyter.widget-view+json": {
       "model_id": "fb41e88c3c2d4609bf6e25bb20828cd5",
       "version_major": 2,
       "version_minor": 0
      },
      "text/plain": [
       "0it [00:00, ?it/s]"
      ]
     },
     "metadata": {},
     "output_type": "display_data"
    },
    {
     "name": "stdout",
     "output_type": "stream",
     "text": [
      "For type 5380, metrics:: auprc:0.8421, auroc:0.9062, ap@50:1.0\n",
      "current: 7429\n"
     ]
    },
    {
     "data": {
      "application/vnd.jupyter.widget-view+json": {
       "model_id": "e1c15aaf587d47f198d1d1da5d387926",
       "version_major": 2,
       "version_minor": 0
      },
      "text/plain": [
       "0it [00:00, ?it/s]"
      ]
     },
     "metadata": {},
     "output_type": "display_data"
    },
    {
     "name": "stdout",
     "output_type": "stream",
     "text": [
      "For type 7429, metrics:: auprc:0.8097, auroc:0.8825, ap@50:1.0\n",
      "current: 7428\n"
     ]
    },
    {
     "data": {
      "application/vnd.jupyter.widget-view+json": {
       "model_id": "7039c0f7e7214c6c966bfbef27218bd2",
       "version_major": 2,
       "version_minor": 0
      },
      "text/plain": [
       "0it [00:00, ?it/s]"
      ]
     },
     "metadata": {},
     "output_type": "display_data"
    },
    {
     "name": "stdout",
     "output_type": "stream",
     "text": [
      "For type 7428, metrics:: auprc:0.8118, auroc:0.8841, ap@50:1.0\n",
      "current: 7431\n"
     ]
    },
    {
     "data": {
      "application/vnd.jupyter.widget-view+json": {
       "model_id": "6c53c498148c474c8625afd89883ee76",
       "version_major": 2,
       "version_minor": 0
      },
      "text/plain": [
       "0it [00:00, ?it/s]"
      ]
     },
     "metadata": {},
     "output_type": "display_data"
    },
    {
     "name": "stdout",
     "output_type": "stream",
     "text": [
      "For type 7431, metrics:: auprc:0.8298, auroc:0.8975, ap@50:1.0\n",
      "current: 5383\n"
     ]
    },
    {
     "data": {
      "application/vnd.jupyter.widget-view+json": {
       "model_id": "5a94314c15af47cd99f9cc6519ff9f2a",
       "version_major": 2,
       "version_minor": 0
      },
      "text/plain": [
       "0it [00:00, ?it/s]"
      ]
     },
     "metadata": {},
     "output_type": "display_data"
    },
    {
     "name": "stdout",
     "output_type": "stream",
     "text": [
      "For type 5383, metrics:: auprc:0.8086, auroc:0.8817, ap@50:1.0\n",
      "current: 5388\n"
     ]
    },
    {
     "data": {
      "application/vnd.jupyter.widget-view+json": {
       "model_id": "e74bce886704436f8384307332b4b822",
       "version_major": 2,
       "version_minor": 0
      },
      "text/plain": [
       "0it [00:00, ?it/s]"
      ]
     },
     "metadata": {},
     "output_type": "display_data"
    },
    {
     "name": "stdout",
     "output_type": "stream",
     "text": [
      "For type 5388, metrics:: auprc:0.8233, auroc:0.8927, ap@50:1.0\n",
      "current: 5390\n"
     ]
    },
    {
     "data": {
      "application/vnd.jupyter.widget-view+json": {
       "model_id": "00c0cdbd68df429781ce0c0c7da4e607",
       "version_major": 2,
       "version_minor": 0
      },
      "text/plain": [
       "0it [00:00, ?it/s]"
      ]
     },
     "metadata": {},
     "output_type": "display_data"
    },
    {
     "name": "stdout",
     "output_type": "stream",
     "text": [
      "For type 5390, metrics:: auprc:0.8027, auroc:0.8771, ap@50:1.0\n",
      "current: 3345\n"
     ]
    },
    {
     "data": {
      "application/vnd.jupyter.widget-view+json": {
       "model_id": "6e12a1ed69dc4288958d06bb77be794c",
       "version_major": 2,
       "version_minor": 0
      },
      "text/plain": [
       "0it [00:00, ?it/s]"
      ]
     },
     "metadata": {},
     "output_type": "display_data"
    },
    {
     "name": "stdout",
     "output_type": "stream",
     "text": [
      "For type 3345, metrics:: auprc:0.8006, auroc:0.8755, ap@50:1.0\n",
      "current: 9490\n"
     ]
    },
    {
     "data": {
      "application/vnd.jupyter.widget-view+json": {
       "model_id": "956dc7c0c92a40aa99126863e1bb1bd5",
       "version_major": 2,
       "version_minor": 0
      },
      "text/plain": [
       "0it [00:00, ?it/s]"
      ]
     },
     "metadata": {},
     "output_type": "display_data"
    },
    {
     "name": "stdout",
     "output_type": "stream",
     "text": [
      "For type 9490, metrics:: auprc:0.8277, auroc:0.8959, ap@50:1.0\n",
      "current: 1303\n"
     ]
    },
    {
     "data": {
      "application/vnd.jupyter.widget-view+json": {
       "model_id": "7b35144941e3419299099538f07d2aef",
       "version_major": 2,
       "version_minor": 0
      },
      "text/plain": [
       "0it [00:00, ?it/s]"
      ]
     },
     "metadata": {},
     "output_type": "display_data"
    },
    {
     "name": "stdout",
     "output_type": "stream",
     "text": [
      "For type 1303, metrics:: auprc:0.7909, auroc:0.8678, ap@50:1.0\n",
      "current: 7447\n"
     ]
    },
    {
     "data": {
      "application/vnd.jupyter.widget-view+json": {
       "model_id": "16cfb01e81ee43598cfa8277365d3503",
       "version_major": 2,
       "version_minor": 0
      },
      "text/plain": [
       "0it [00:00, ?it/s]"
      ]
     },
     "metadata": {},
     "output_type": "display_data"
    },
    {
     "name": "stdout",
     "output_type": "stream",
     "text": [
      "For type 7447, metrics:: auprc:0.8221, auroc:0.8918, ap@50:1.0\n",
      "current: 5405\n"
     ]
    },
    {
     "data": {
      "application/vnd.jupyter.widget-view+json": {
       "model_id": "3924dd18d5fc4169a8452395a0472e0e",
       "version_major": 2,
       "version_minor": 0
      },
      "text/plain": [
       "0it [00:00, ?it/s]"
      ]
     },
     "metadata": {},
     "output_type": "display_data"
    },
    {
     "name": "stdout",
     "output_type": "stream",
     "text": [
      "For type 5405, metrics:: auprc:0.8347, auroc:0.901, ap@50:1.0\n",
      "current: 9517\n"
     ]
    },
    {
     "data": {
      "application/vnd.jupyter.widget-view+json": {
       "model_id": "d41ad2a35289497d8b4858a77bace61e",
       "version_major": 2,
       "version_minor": 0
      },
      "text/plain": [
       "0it [00:00, ?it/s]"
      ]
     },
     "metadata": {},
     "output_type": "display_data"
    },
    {
     "name": "stdout",
     "output_type": "stream",
     "text": [
      "For type 9517, metrics:: auprc:0.8068, auroc:0.8803, ap@50:1.0\n",
      "current: 7469\n"
     ]
    },
    {
     "data": {
      "application/vnd.jupyter.widget-view+json": {
       "model_id": "9a4042bf1700423ba224e8cfbc86edfa",
       "version_major": 2,
       "version_minor": 0
      },
      "text/plain": [
       "0it [00:00, ?it/s]"
      ]
     },
     "metadata": {},
     "output_type": "display_data"
    },
    {
     "name": "stdout",
     "output_type": "stream",
     "text": [
      "For type 7469, metrics:: auprc:0.8176, auroc:0.8884, ap@50:1.0\n",
      "current: 7476\n"
     ]
    },
    {
     "data": {
      "application/vnd.jupyter.widget-view+json": {
       "model_id": "401bc800e82b4d068a010134386e28bf",
       "version_major": 2,
       "version_minor": 0
      },
      "text/plain": [
       "0it [00:00, ?it/s]"
      ]
     },
     "metadata": {},
     "output_type": "display_data"
    },
    {
     "name": "stdout",
     "output_type": "stream",
     "text": [
      "For type 7476, metrics:: auprc:0.8143, auroc:0.886, ap@50:1.0\n",
      "current: 5430\n"
     ]
    },
    {
     "data": {
      "application/vnd.jupyter.widget-view+json": {
       "model_id": "33067cd811e440a9b48683aebad1825d",
       "version_major": 2,
       "version_minor": 0
      },
      "text/plain": [
       "0it [00:00, ?it/s]"
      ]
     },
     "metadata": {},
     "output_type": "display_data"
    },
    {
     "name": "stdout",
     "output_type": "stream",
     "text": [
      "For type 5430, metrics:: auprc:0.8163, auroc:0.8875, ap@50:1.0\n",
      "current: 7480\n"
     ]
    },
    {
     "data": {
      "application/vnd.jupyter.widget-view+json": {
       "model_id": "09a81271c73a442b88fbf83bee609a64",
       "version_major": 2,
       "version_minor": 0
      },
      "text/plain": [
       "0it [00:00, ?it/s]"
      ]
     },
     "metadata": {},
     "output_type": "display_data"
    },
    {
     "name": "stdout",
     "output_type": "stream",
     "text": [
      "For type 7480, metrics:: auprc:0.8262, auroc:0.8948, ap@50:1.0\n",
      "current: 5434\n"
     ]
    },
    {
     "data": {
      "application/vnd.jupyter.widget-view+json": {
       "model_id": "0d0c677db3ab4af696762e0426d880c0",
       "version_major": 2,
       "version_minor": 0
      },
      "text/plain": [
       "0it [00:00, ?it/s]"
      ]
     },
     "metadata": {},
     "output_type": "display_data"
    },
    {
     "name": "stdout",
     "output_type": "stream",
     "text": [
      "For type 5434, metrics:: auprc:0.827, auroc:0.8954, ap@50:1.0\n",
      "current: 5435\n"
     ]
    },
    {
     "data": {
      "application/vnd.jupyter.widget-view+json": {
       "model_id": "ed3c944cd817497f857fc89d79bb4144",
       "version_major": 2,
       "version_minor": 0
      },
      "text/plain": [
       "0it [00:00, ?it/s]"
      ]
     },
     "metadata": {},
     "output_type": "display_data"
    },
    {
     "name": "stdout",
     "output_type": "stream",
     "text": [
      "For type 5435, metrics:: auprc:0.8423, auroc:0.9064, ap@50:1.0\n",
      "current: 1339\n"
     ]
    },
    {
     "data": {
      "application/vnd.jupyter.widget-view+json": {
       "model_id": "19d3173c54554b569e8c5a25d6407754",
       "version_major": 2,
       "version_minor": 0
      },
      "text/plain": [
       "0it [00:00, ?it/s]"
      ]
     },
     "metadata": {},
     "output_type": "display_data"
    },
    {
     "name": "stdout",
     "output_type": "stream",
     "text": [
      "For type 1339, metrics:: auprc:0.8056, auroc:0.8793, ap@50:1.0\n",
      "current: 9536\n"
     ]
    },
    {
     "data": {
      "application/vnd.jupyter.widget-view+json": {
       "model_id": "e9e7ecaa58e243d8bfece5897efb54c5",
       "version_major": 2,
       "version_minor": 0
      },
      "text/plain": [
       "0it [00:00, ?it/s]"
      ]
     },
     "metadata": {},
     "output_type": "display_data"
    },
    {
     "name": "stdout",
     "output_type": "stream",
     "text": [
      "For type 9536, metrics:: auprc:0.828, auroc:0.8961, ap@50:1.0\n",
      "current: 5444\n"
     ]
    },
    {
     "data": {
      "application/vnd.jupyter.widget-view+json": {
       "model_id": "4cf4ac32bcdb4976bc25b66884a54523",
       "version_major": 2,
       "version_minor": 0
      },
      "text/plain": [
       "0it [00:00, ?it/s]"
      ]
     },
     "metadata": {},
     "output_type": "display_data"
    },
    {
     "name": "stdout",
     "output_type": "stream",
     "text": [
      "For type 5444, metrics:: auprc:0.8319, auroc:0.899, ap@50:1.0\n",
      "current: 7493\n"
     ]
    },
    {
     "data": {
      "application/vnd.jupyter.widget-view+json": {
       "model_id": "babd702ed5cb4a3baa762c03198fcaad",
       "version_major": 2,
       "version_minor": 0
      },
      "text/plain": [
       "0it [00:00, ?it/s]"
      ]
     },
     "metadata": {},
     "output_type": "display_data"
    },
    {
     "name": "stdout",
     "output_type": "stream",
     "text": [
      "For type 7493, metrics:: auprc:0.8145, auroc:0.8861, ap@50:1.0\n",
      "current: 9541\n"
     ]
    },
    {
     "data": {
      "application/vnd.jupyter.widget-view+json": {
       "model_id": "10c2f6ec82a74d189105260f7d841c3b",
       "version_major": 2,
       "version_minor": 0
      },
      "text/plain": [
       "0it [00:00, ?it/s]"
      ]
     },
     "metadata": {},
     "output_type": "display_data"
    },
    {
     "name": "stdout",
     "output_type": "stream",
     "text": [
      "For type 9541, metrics:: auprc:0.7965, auroc:0.8722, ap@50:1.0\n",
      "current: 3399\n"
     ]
    },
    {
     "data": {
      "application/vnd.jupyter.widget-view+json": {
       "model_id": "a6fd1effa45141d7826e35c50b74aa2b",
       "version_major": 2,
       "version_minor": 0
      },
      "text/plain": [
       "0it [00:00, ?it/s]"
      ]
     },
     "metadata": {},
     "output_type": "display_data"
    },
    {
     "name": "stdout",
     "output_type": "stream",
     "text": [
      "For type 3399, metrics:: auprc:0.8275, auroc:0.8958, ap@50:1.0\n",
      "current: 1352\n"
     ]
    },
    {
     "data": {
      "application/vnd.jupyter.widget-view+json": {
       "model_id": "85c5646eae19496f8891291e1ab5708d",
       "version_major": 2,
       "version_minor": 0
      },
      "text/plain": [
       "0it [00:00, ?it/s]"
      ]
     },
     "metadata": {},
     "output_type": "display_data"
    },
    {
     "name": "stdout",
     "output_type": "stream",
     "text": [
      "For type 1352, metrics:: auprc:0.8188, auroc:0.8894, ap@50:1.0\n",
      "current: 7495\n"
     ]
    },
    {
     "data": {
      "application/vnd.jupyter.widget-view+json": {
       "model_id": "99056ac9f79c477dbf4e426686f80916",
       "version_major": 2,
       "version_minor": 0
      },
      "text/plain": [
       "0it [00:00, ?it/s]"
      ]
     },
     "metadata": {},
     "output_type": "display_data"
    },
    {
     "name": "stdout",
     "output_type": "stream",
     "text": [
      "For type 7495, metrics:: auprc:0.7925, auroc:0.869, ap@50:1.0\n",
      "current: 1361\n"
     ]
    },
    {
     "data": {
      "application/vnd.jupyter.widget-view+json": {
       "model_id": "ee662106e63443109417184290d0a7c1",
       "version_major": 2,
       "version_minor": 0
      },
      "text/plain": [
       "0it [00:00, ?it/s]"
      ]
     },
     "metadata": {},
     "output_type": "display_data"
    },
    {
     "name": "stdout",
     "output_type": "stream",
     "text": [
      "For type 1361, metrics:: auprc:0.836, auroc:0.9019, ap@50:1.0\n",
      "current: 9554\n"
     ]
    },
    {
     "data": {
      "application/vnd.jupyter.widget-view+json": {
       "model_id": "84c286cf6d014aad985e3ab2e9b2fae9",
       "version_major": 2,
       "version_minor": 0
      },
      "text/plain": [
       "0it [00:00, ?it/s]"
      ]
     },
     "metadata": {},
     "output_type": "display_data"
    },
    {
     "name": "stdout",
     "output_type": "stream",
     "text": [
      "For type 9554, metrics:: auprc:0.7955, auroc:0.8714, ap@50:1.0\n",
      "current: 5461\n"
     ]
    },
    {
     "data": {
      "application/vnd.jupyter.widget-view+json": {
       "model_id": "d2c58c77114f419ba0ae3dea74d258b6",
       "version_major": 2,
       "version_minor": 0
      },
      "text/plain": [
       "0it [00:00, ?it/s]"
      ]
     },
     "metadata": {},
     "output_type": "display_data"
    },
    {
     "name": "stdout",
     "output_type": "stream",
     "text": [
      "For type 5461, metrics:: auprc:0.8203, auroc:0.8905, ap@50:1.0\n",
      "current: 7511\n"
     ]
    },
    {
     "data": {
      "application/vnd.jupyter.widget-view+json": {
       "model_id": "9c6667dbfda44ce8a70dfd12596e4959",
       "version_major": 2,
       "version_minor": 0
      },
      "text/plain": [
       "0it [00:00, ?it/s]"
      ]
     },
     "metadata": {},
     "output_type": "display_data"
    },
    {
     "name": "stdout",
     "output_type": "stream",
     "text": [
      "For type 7511, metrics:: auprc:0.8081, auroc:0.8813, ap@50:1.0\n",
      "current: 9560\n"
     ]
    },
    {
     "data": {
      "application/vnd.jupyter.widget-view+json": {
       "model_id": "44c6d896c3a544d59ffd81c35354efb2",
       "version_major": 2,
       "version_minor": 0
      },
      "text/plain": [
       "0it [00:00, ?it/s]"
      ]
     },
     "metadata": {},
     "output_type": "display_data"
    },
    {
     "name": "stdout",
     "output_type": "stream",
     "text": [
      "For type 9560, metrics:: auprc:0.8257, auroc:0.8944, ap@50:1.0\n",
      "current: 7512\n"
     ]
    },
    {
     "data": {
      "application/vnd.jupyter.widget-view+json": {
       "model_id": "3ed9f362f9d94a9ca2c866a278d442b1",
       "version_major": 2,
       "version_minor": 0
      },
      "text/plain": [
       "0it [00:00, ?it/s]"
      ]
     },
     "metadata": {},
     "output_type": "display_data"
    },
    {
     "name": "stdout",
     "output_type": "stream",
     "text": [
      "For type 7512, metrics:: auprc:0.8741, auroc:0.928, ap@50:1.0\n",
      "current: 3415\n"
     ]
    },
    {
     "data": {
      "application/vnd.jupyter.widget-view+json": {
       "model_id": "106a5ea1301e4ac18f41a6ba45db91cc",
       "version_major": 2,
       "version_minor": 0
      },
      "text/plain": [
       "0it [00:00, ?it/s]"
      ]
     },
     "metadata": {},
     "output_type": "display_data"
    },
    {
     "name": "stdout",
     "output_type": "stream",
     "text": [
      "For type 3415, metrics:: auprc:0.7961, auroc:0.8719, ap@50:1.0\n",
      "current: 7515\n"
     ]
    },
    {
     "data": {
      "application/vnd.jupyter.widget-view+json": {
       "model_id": "33974c34efe0400d9d71542e484ed263",
       "version_major": 2,
       "version_minor": 0
      },
      "text/plain": [
       "0it [00:00, ?it/s]"
      ]
     },
     "metadata": {},
     "output_type": "display_data"
    },
    {
     "name": "stdout",
     "output_type": "stream",
     "text": [
      "For type 7515, metrics:: auprc:0.788, auroc:0.8655, ap@50:1.0\n",
      "current: 1368\n"
     ]
    },
    {
     "data": {
      "application/vnd.jupyter.widget-view+json": {
       "model_id": "43ff542eb0e640b6a0705868bc6c388f",
       "version_major": 2,
       "version_minor": 0
      },
      "text/plain": [
       "0it [00:00, ?it/s]"
      ]
     },
     "metadata": {},
     "output_type": "display_data"
    },
    {
     "name": "stdout",
     "output_type": "stream",
     "text": [
      "For type 1368, metrics:: auprc:0.8062, auroc:0.8798, ap@50:1.0\n",
      "current: 3421\n"
     ]
    },
    {
     "data": {
      "application/vnd.jupyter.widget-view+json": {
       "model_id": "c2a7f79d8f294445bb78e0506e09a991",
       "version_major": 2,
       "version_minor": 0
      },
      "text/plain": [
       "0it [00:00, ?it/s]"
      ]
     },
     "metadata": {},
     "output_type": "display_data"
    },
    {
     "name": "stdout",
     "output_type": "stream",
     "text": [
      "For type 3421, metrics:: auprc:0.7994, auroc:0.8745, ap@50:1.0\n",
      "current: 7517\n"
     ]
    },
    {
     "data": {
      "application/vnd.jupyter.widget-view+json": {
       "model_id": "1ac9d8eb29aa4434ba42bee92f62b902",
       "version_major": 2,
       "version_minor": 0
      },
      "text/plain": [
       "0it [00:00, ?it/s]"
      ]
     },
     "metadata": {},
     "output_type": "display_data"
    },
    {
     "name": "stdout",
     "output_type": "stream",
     "text": [
      "For type 7517, metrics:: auprc:0.8324, auroc:0.8993, ap@50:1.0\n",
      "current: 7519\n"
     ]
    },
    {
     "data": {
      "application/vnd.jupyter.widget-view+json": {
       "model_id": "17194917c33243e0b27d496908e5f563",
       "version_major": 2,
       "version_minor": 0
      },
      "text/plain": [
       "0it [00:00, ?it/s]"
      ]
     },
     "metadata": {},
     "output_type": "display_data"
    },
    {
     "name": "stdout",
     "output_type": "stream",
     "text": [
      "For type 7519, metrics:: auprc:0.8333, auroc:0.9, ap@50:1.0\n",
      "current: 9569\n"
     ]
    },
    {
     "data": {
      "application/vnd.jupyter.widget-view+json": {
       "model_id": "d6533545a1e1448da68ba4955370b37f",
       "version_major": 2,
       "version_minor": 0
      },
      "text/plain": [
       "0it [00:00, ?it/s]"
      ]
     },
     "metadata": {},
     "output_type": "display_data"
    },
    {
     "name": "stdout",
     "output_type": "stream",
     "text": [
      "For type 9569, metrics:: auprc:0.8237, auroc:0.893, ap@50:1.0\n",
      "current: 9570\n"
     ]
    },
    {
     "data": {
      "application/vnd.jupyter.widget-view+json": {
       "model_id": "d2d7b1ba7c5d40929d2fd9eedab1a2ab",
       "version_major": 2,
       "version_minor": 0
      },
      "text/plain": [
       "0it [00:00, ?it/s]"
      ]
     },
     "metadata": {},
     "output_type": "display_data"
    },
    {
     "name": "stdout",
     "output_type": "stream",
     "text": [
      "For type 9570, metrics:: auprc:0.8214, auroc:0.8913, ap@50:1.0\n",
      "current: 9572\n"
     ]
    },
    {
     "data": {
      "application/vnd.jupyter.widget-view+json": {
       "model_id": "7ccf7fd5415e4120a771eb10e8770721",
       "version_major": 2,
       "version_minor": 0
      },
      "text/plain": [
       "0it [00:00, ?it/s]"
      ]
     },
     "metadata": {},
     "output_type": "display_data"
    },
    {
     "name": "stdout",
     "output_type": "stream",
     "text": [
      "For type 9572, metrics:: auprc:0.8247, auroc:0.8937, ap@50:1.0\n",
      "current: 5478\n"
     ]
    },
    {
     "data": {
      "application/vnd.jupyter.widget-view+json": {
       "model_id": "f0d067db4285435181964d79dcf1cc9f",
       "version_major": 2,
       "version_minor": 0
      },
      "text/plain": [
       "0it [00:00, ?it/s]"
      ]
     },
     "metadata": {},
     "output_type": "display_data"
    },
    {
     "name": "stdout",
     "output_type": "stream",
     "text": [
      "For type 5478, metrics:: auprc:0.8188, auroc:0.8893, ap@50:1.0\n",
      "current: 3431\n"
     ]
    },
    {
     "data": {
      "application/vnd.jupyter.widget-view+json": {
       "model_id": "0571f4e349bf4a149868a788ecd528a9",
       "version_major": 2,
       "version_minor": 0
      },
      "text/plain": [
       "0it [00:00, ?it/s]"
      ]
     },
     "metadata": {},
     "output_type": "display_data"
    },
    {
     "name": "stdout",
     "output_type": "stream",
     "text": [
      "For type 3431, metrics:: auprc:0.8141, auroc:0.8858, ap@50:1.0\n",
      "current: 7528\n"
     ]
    },
    {
     "data": {
      "application/vnd.jupyter.widget-view+json": {
       "model_id": "a3d5876fa0474844a96e08a63994d81a",
       "version_major": 2,
       "version_minor": 0
      },
      "text/plain": [
       "0it [00:00, ?it/s]"
      ]
     },
     "metadata": {},
     "output_type": "display_data"
    },
    {
     "name": "stdout",
     "output_type": "stream",
     "text": [
      "For type 7528, metrics:: auprc:0.8239, auroc:0.8931, ap@50:1.0\n",
      "current: 5480\n"
     ]
    },
    {
     "data": {
      "application/vnd.jupyter.widget-view+json": {
       "model_id": "9c04b733f34343c78e9831bc888701fe",
       "version_major": 2,
       "version_minor": 0
      },
      "text/plain": [
       "0it [00:00, ?it/s]"
      ]
     },
     "metadata": {},
     "output_type": "display_data"
    },
    {
     "name": "stdout",
     "output_type": "stream",
     "text": [
      "For type 5480, metrics:: auprc:0.8058, auroc:0.8795, ap@50:1.0\n",
      "current: 7530\n"
     ]
    },
    {
     "data": {
      "application/vnd.jupyter.widget-view+json": {
       "model_id": "3e7b765c8a49491898e15c532ff59ec1",
       "version_major": 2,
       "version_minor": 0
      },
      "text/plain": [
       "0it [00:00, ?it/s]"
      ]
     },
     "metadata": {},
     "output_type": "display_data"
    },
    {
     "name": "stdout",
     "output_type": "stream",
     "text": [
      "For type 7530, metrics:: auprc:0.8083, auroc:0.8814, ap@50:1.0\n",
      "current: 9580\n"
     ]
    },
    {
     "data": {
      "application/vnd.jupyter.widget-view+json": {
       "model_id": "4940e06f50744b0a9b502788b7244c49",
       "version_major": 2,
       "version_minor": 0
      },
      "text/plain": [
       "0it [00:00, ?it/s]"
      ]
     },
     "metadata": {},
     "output_type": "display_data"
    },
    {
     "name": "stdout",
     "output_type": "stream",
     "text": [
      "For type 9580, metrics:: auprc:0.8079, auroc:0.8811, ap@50:1.0\n",
      "current: 9582\n"
     ]
    },
    {
     "data": {
      "application/vnd.jupyter.widget-view+json": {
       "model_id": "a539e555d4504c18859249158a458188",
       "version_major": 2,
       "version_minor": 0
      },
      "text/plain": [
       "0it [00:00, ?it/s]"
      ]
     },
     "metadata": {},
     "output_type": "display_data"
    },
    {
     "name": "stdout",
     "output_type": "stream",
     "text": [
      "For type 9582, metrics:: auprc:0.8145, auroc:0.8862, ap@50:1.0\n",
      "current: 1393\n"
     ]
    },
    {
     "data": {
      "application/vnd.jupyter.widget-view+json": {
       "model_id": "5362806985214d8aad1412988798c290",
       "version_major": 2,
       "version_minor": 0
      },
      "text/plain": [
       "0it [00:00, ?it/s]"
      ]
     },
     "metadata": {},
     "output_type": "display_data"
    },
    {
     "name": "stdout",
     "output_type": "stream",
     "text": [
      "For type 1393, metrics:: auprc:0.8166, auroc:0.8877, ap@50:1.0\n",
      "current: 1394\n"
     ]
    },
    {
     "data": {
      "application/vnd.jupyter.widget-view+json": {
       "model_id": "9b4d49e9ff27437ab379cbbf18b3c9d3",
       "version_major": 2,
       "version_minor": 0
      },
      "text/plain": [
       "0it [00:00, ?it/s]"
      ]
     },
     "metadata": {},
     "output_type": "display_data"
    },
    {
     "name": "stdout",
     "output_type": "stream",
     "text": [
      "For type 1394, metrics:: auprc:0.8241, auroc:0.8933, ap@50:1.0\n",
      "current: 1395\n"
     ]
    },
    {
     "data": {
      "application/vnd.jupyter.widget-view+json": {
       "model_id": "31293c2ac6b248b087e0c4f8cce4e517",
       "version_major": 2,
       "version_minor": 0
      },
      "text/plain": [
       "0it [00:00, ?it/s]"
      ]
     },
     "metadata": {},
     "output_type": "display_data"
    },
    {
     "name": "stdout",
     "output_type": "stream",
     "text": [
      "For type 1395, metrics:: auprc:0.8035, auroc:0.8777, ap@50:1.0\n",
      "current: 1399\n"
     ]
    },
    {
     "data": {
      "application/vnd.jupyter.widget-view+json": {
       "model_id": "89256050462d4b28bf23158fb6dd9fe2",
       "version_major": 2,
       "version_minor": 0
      },
      "text/plain": [
       "0it [00:00, ?it/s]"
      ]
     },
     "metadata": {},
     "output_type": "display_data"
    },
    {
     "name": "stdout",
     "output_type": "stream",
     "text": [
      "For type 1399, metrics:: auprc:0.8333, auroc:0.9, ap@50:1.0\n",
      "current: 1403\n"
     ]
    },
    {
     "data": {
      "application/vnd.jupyter.widget-view+json": {
       "model_id": "c457ef033a3242dd92e9efffce0dd10f",
       "version_major": 2,
       "version_minor": 0
      },
      "text/plain": [
       "0it [00:00, ?it/s]"
      ]
     },
     "metadata": {},
     "output_type": "display_data"
    },
    {
     "name": "stdout",
     "output_type": "stream",
     "text": [
      "For type 1403, metrics:: auprc:0.8101, auroc:0.8828, ap@50:1.0\n",
      "current: 9596\n"
     ]
    },
    {
     "data": {
      "application/vnd.jupyter.widget-view+json": {
       "model_id": "527942a9189a4e728cad10d39a883f52",
       "version_major": 2,
       "version_minor": 0
      },
      "text/plain": [
       "0it [00:00, ?it/s]"
      ]
     },
     "metadata": {},
     "output_type": "display_data"
    },
    {
     "name": "stdout",
     "output_type": "stream",
     "text": [
      "For type 9596, metrics:: auprc:0.814, auroc:0.8858, ap@50:1.0\n",
      "current: 9600\n"
     ]
    },
    {
     "data": {
      "application/vnd.jupyter.widget-view+json": {
       "model_id": "1d32c2a423604b69b507e58995eb3a8d",
       "version_major": 2,
       "version_minor": 0
      },
      "text/plain": [
       "0it [00:00, ?it/s]"
      ]
     },
     "metadata": {},
     "output_type": "display_data"
    },
    {
     "name": "stdout",
     "output_type": "stream",
     "text": [
      "For type 9600, metrics:: auprc:0.8187, auroc:0.8892, ap@50:1.0\n",
      "current: 3456\n"
     ]
    },
    {
     "data": {
      "application/vnd.jupyter.widget-view+json": {
       "model_id": "7957bed2e4764de582ad63594c745423",
       "version_major": 2,
       "version_minor": 0
      },
      "text/plain": [
       "0it [00:00, ?it/s]"
      ]
     },
     "metadata": {},
     "output_type": "display_data"
    },
    {
     "name": "stdout",
     "output_type": "stream",
     "text": [
      "For type 3456, metrics:: auprc:0.7806, auroc:0.8595, ap@50:1.0\n",
      "current: 3458\n"
     ]
    },
    {
     "data": {
      "application/vnd.jupyter.widget-view+json": {
       "model_id": "fd76aaa90a6d49f2a67cd03fbf1870ae",
       "version_major": 2,
       "version_minor": 0
      },
      "text/plain": [
       "0it [00:00, ?it/s]"
      ]
     },
     "metadata": {},
     "output_type": "display_data"
    },
    {
     "name": "stdout",
     "output_type": "stream",
     "text": [
      "For type 3458, metrics:: auprc:0.8144, auroc:0.886, ap@50:1.0\n",
      "current: 5506\n"
     ]
    },
    {
     "data": {
      "application/vnd.jupyter.widget-view+json": {
       "model_id": "9ccb6724db304cafb2cf389aca2a3f55",
       "version_major": 2,
       "version_minor": 0
      },
      "text/plain": [
       "0it [00:00, ?it/s]"
      ]
     },
     "metadata": {},
     "output_type": "display_data"
    },
    {
     "name": "stdout",
     "output_type": "stream",
     "text": [
      "For type 5506, metrics:: auprc:0.8376, auroc:0.903, ap@50:1.0\n",
      "current: 5508\n"
     ]
    },
    {
     "data": {
      "application/vnd.jupyter.widget-view+json": {
       "model_id": "b345b1ecfb1b43f8bb2ee44910e6d9d6",
       "version_major": 2,
       "version_minor": 0
      },
      "text/plain": [
       "0it [00:00, ?it/s]"
      ]
     },
     "metadata": {},
     "output_type": "display_data"
    },
    {
     "name": "stdout",
     "output_type": "stream",
     "text": [
      "For type 5508, metrics:: auprc:0.8111, auroc:0.8836, ap@50:1.0\n",
      "current: 1413\n"
     ]
    },
    {
     "data": {
      "application/vnd.jupyter.widget-view+json": {
       "model_id": "858cf567e0504dceaca1e7611067d204",
       "version_major": 2,
       "version_minor": 0
      },
      "text/plain": [
       "0it [00:00, ?it/s]"
      ]
     },
     "metadata": {},
     "output_type": "display_data"
    },
    {
     "name": "stdout",
     "output_type": "stream",
     "text": [
      "For type 1413, metrics:: auprc:0.8234, auroc:0.8927, ap@50:1.0\n",
      "current: 3462\n"
     ]
    },
    {
     "data": {
      "application/vnd.jupyter.widget-view+json": {
       "model_id": "c0ad02a3a1d74d7c8edf1171885843fb",
       "version_major": 2,
       "version_minor": 0
      },
      "text/plain": [
       "0it [00:00, ?it/s]"
      ]
     },
     "metadata": {},
     "output_type": "display_data"
    },
    {
     "name": "stdout",
     "output_type": "stream",
     "text": [
      "For type 3462, metrics:: auprc:0.8115, auroc:0.8838, ap@50:1.0\n",
      "current: 5516\n"
     ]
    },
    {
     "data": {
      "application/vnd.jupyter.widget-view+json": {
       "model_id": "8669687374d5425fb3b135646a85c121",
       "version_major": 2,
       "version_minor": 0
      },
      "text/plain": [
       "0it [00:00, ?it/s]"
      ]
     },
     "metadata": {},
     "output_type": "display_data"
    },
    {
     "name": "stdout",
     "output_type": "stream",
     "text": [
      "For type 5516, metrics:: auprc:0.8342, auroc:0.9006, ap@50:1.0\n",
      "current: 3469\n"
     ]
    },
    {
     "data": {
      "application/vnd.jupyter.widget-view+json": {
       "model_id": "20144bbce71e41218022ebf97fe4ecfd",
       "version_major": 2,
       "version_minor": 0
      },
      "text/plain": [
       "0it [00:00, ?it/s]"
      ]
     },
     "metadata": {},
     "output_type": "display_data"
    },
    {
     "name": "stdout",
     "output_type": "stream",
     "text": [
      "For type 3469, metrics:: auprc:0.8252, auroc:0.8941, ap@50:1.0\n",
      "current: 5521\n"
     ]
    },
    {
     "data": {
      "application/vnd.jupyter.widget-view+json": {
       "model_id": "dbe24296ef994be8ab3c0fbb36c94f82",
       "version_major": 2,
       "version_minor": 0
      },
      "text/plain": [
       "0it [00:00, ?it/s]"
      ]
     },
     "metadata": {},
     "output_type": "display_data"
    },
    {
     "name": "stdout",
     "output_type": "stream",
     "text": [
      "For type 5521, metrics:: auprc:0.8148, auroc:0.8863, ap@50:1.0\n",
      "current: 5523\n"
     ]
    },
    {
     "data": {
      "application/vnd.jupyter.widget-view+json": {
       "model_id": "55f9392604a64dfa91928d9897ec92eb",
       "version_major": 2,
       "version_minor": 0
      },
      "text/plain": [
       "0it [00:00, ?it/s]"
      ]
     },
     "metadata": {},
     "output_type": "display_data"
    },
    {
     "name": "stdout",
     "output_type": "stream",
     "text": [
      "For type 5523, metrics:: auprc:0.8238, auroc:0.893, ap@50:1.0\n",
      "current: 7574\n"
     ]
    },
    {
     "data": {
      "application/vnd.jupyter.widget-view+json": {
       "model_id": "2689c324ad474597ba78702e9526fbbb",
       "version_major": 2,
       "version_minor": 0
      },
      "text/plain": [
       "0it [00:00, ?it/s]"
      ]
     },
     "metadata": {},
     "output_type": "display_data"
    },
    {
     "name": "stdout",
     "output_type": "stream",
     "text": [
      "For type 7574, metrics:: auprc:0.8403, auroc:0.905, ap@50:1.0\n",
      "current: 1432\n"
     ]
    },
    {
     "data": {
      "application/vnd.jupyter.widget-view+json": {
       "model_id": "d1f8a230fb4242ddb32a80df6c0c51e9",
       "version_major": 2,
       "version_minor": 0
      },
      "text/plain": [
       "0it [00:00, ?it/s]"
      ]
     },
     "metadata": {},
     "output_type": "display_data"
    },
    {
     "name": "stdout",
     "output_type": "stream",
     "text": [
      "For type 1432, metrics:: auprc:0.8031, auroc:0.8774, ap@50:1.0\n",
      "current: 3484\n"
     ]
    },
    {
     "data": {
      "application/vnd.jupyter.widget-view+json": {
       "model_id": "58bda17c513d49ab94bfb5ba9b055890",
       "version_major": 2,
       "version_minor": 0
      },
      "text/plain": [
       "0it [00:00, ?it/s]"
      ]
     },
     "metadata": {},
     "output_type": "display_data"
    },
    {
     "name": "stdout",
     "output_type": "stream",
     "text": [
      "For type 3484, metrics:: auprc:0.821, auroc:0.891, ap@50:1.0\n",
      "current: 9630\n"
     ]
    },
    {
     "data": {
      "application/vnd.jupyter.widget-view+json": {
       "model_id": "914e3e24809c4a56935208a844fc2000",
       "version_major": 2,
       "version_minor": 0
      },
      "text/plain": [
       "0it [00:00, ?it/s]"
      ]
     },
     "metadata": {},
     "output_type": "display_data"
    },
    {
     "name": "stdout",
     "output_type": "stream",
     "text": [
      "For type 9630, metrics:: auprc:0.7953, auroc:0.8713, ap@50:1.0\n",
      "current: 3489\n"
     ]
    },
    {
     "data": {
      "application/vnd.jupyter.widget-view+json": {
       "model_id": "d50524aff6774aa59b50bf198fae4997",
       "version_major": 2,
       "version_minor": 0
      },
      "text/plain": [
       "0it [00:00, ?it/s]"
      ]
     },
     "metadata": {},
     "output_type": "display_data"
    },
    {
     "name": "stdout",
     "output_type": "stream",
     "text": [
      "For type 3489, metrics:: auprc:0.8118, auroc:0.8841, ap@50:1.0\n",
      "current: 5538\n"
     ]
    },
    {
     "data": {
      "application/vnd.jupyter.widget-view+json": {
       "model_id": "c5ea0d0473fd40e28b02ebbe72b280f5",
       "version_major": 2,
       "version_minor": 0
      },
      "text/plain": [
       "0it [00:00, ?it/s]"
      ]
     },
     "metadata": {},
     "output_type": "display_data"
    },
    {
     "name": "stdout",
     "output_type": "stream",
     "text": [
      "For type 5538, metrics:: auprc:0.8177, auroc:0.8886, ap@50:1.0\n",
      "current: 9636\n"
     ]
    },
    {
     "data": {
      "application/vnd.jupyter.widget-view+json": {
       "model_id": "6524f7376d2f4ef58799177cea1bc227",
       "version_major": 2,
       "version_minor": 0
      },
      "text/plain": [
       "0it [00:00, ?it/s]"
      ]
     },
     "metadata": {},
     "output_type": "display_data"
    },
    {
     "name": "stdout",
     "output_type": "stream",
     "text": [
      "For type 9636, metrics:: auprc:0.8371, auroc:0.9027, ap@50:1.0\n",
      "current: 9643\n"
     ]
    },
    {
     "data": {
      "application/vnd.jupyter.widget-view+json": {
       "model_id": "e0a92eaf4a5244caa9647555d075fca1",
       "version_major": 2,
       "version_minor": 0
      },
      "text/plain": [
       "0it [00:00, ?it/s]"
      ]
     },
     "metadata": {},
     "output_type": "display_data"
    },
    {
     "name": "stdout",
     "output_type": "stream",
     "text": [
      "For type 9643, metrics:: auprc:0.819, auroc:0.8895, ap@50:1.0\n",
      "current: 1452\n"
     ]
    },
    {
     "data": {
      "application/vnd.jupyter.widget-view+json": {
       "model_id": "1149ed50888448f6908f48679a72e8f4",
       "version_major": 2,
       "version_minor": 0
      },
      "text/plain": [
       "0it [00:00, ?it/s]"
      ]
     },
     "metadata": {},
     "output_type": "display_data"
    },
    {
     "name": "stdout",
     "output_type": "stream",
     "text": [
      "For type 1452, metrics:: auprc:0.7778, auroc:0.8571, ap@50:1.0\n",
      "current: 7597\n"
     ]
    },
    {
     "data": {
      "application/vnd.jupyter.widget-view+json": {
       "model_id": "425d97e5309e4341baff63c0f230af6f",
       "version_major": 2,
       "version_minor": 0
      },
      "text/plain": [
       "0it [00:00, ?it/s]"
      ]
     },
     "metadata": {},
     "output_type": "display_data"
    },
    {
     "name": "stdout",
     "output_type": "stream",
     "text": [
      "For type 7597, metrics:: auprc:0.8063, auroc:0.8799, ap@50:1.0\n",
      "current: 9647\n"
     ]
    },
    {
     "data": {
      "application/vnd.jupyter.widget-view+json": {
       "model_id": "7fe1a7f5209d482cac6376b54888f754",
       "version_major": 2,
       "version_minor": 0
      },
      "text/plain": [
       "0it [00:00, ?it/s]"
      ]
     },
     "metadata": {},
     "output_type": "display_data"
    },
    {
     "name": "stdout",
     "output_type": "stream",
     "text": [
      "For type 9647, metrics:: auprc:0.8164, auroc:0.8875, ap@50:1.0\n",
      "current: 9648\n"
     ]
    },
    {
     "data": {
      "application/vnd.jupyter.widget-view+json": {
       "model_id": "b82c0aa8265e436f86ce10c35f3ae1f8",
       "version_major": 2,
       "version_minor": 0
      },
      "text/plain": [
       "0it [00:00, ?it/s]"
      ]
     },
     "metadata": {},
     "output_type": "display_data"
    },
    {
     "name": "stdout",
     "output_type": "stream",
     "text": [
      "For type 9648, metrics:: auprc:0.8085, auroc:0.8815, ap@50:1.0\n",
      "current: 3503\n"
     ]
    },
    {
     "data": {
      "application/vnd.jupyter.widget-view+json": {
       "model_id": "d8f37380bf7943dea1701ebf66fee0eb",
       "version_major": 2,
       "version_minor": 0
      },
      "text/plain": [
       "0it [00:00, ?it/s]"
      ]
     },
     "metadata": {},
     "output_type": "display_data"
    },
    {
     "name": "stdout",
     "output_type": "stream",
     "text": [
      "For type 3503, metrics:: auprc:0.8115, auroc:0.8839, ap@50:1.0\n",
      "current: 3510\n"
     ]
    },
    {
     "data": {
      "application/vnd.jupyter.widget-view+json": {
       "model_id": "7985404e69b7410493e6478eb459f319",
       "version_major": 2,
       "version_minor": 0
      },
      "text/plain": [
       "0it [00:00, ?it/s]"
      ]
     },
     "metadata": {},
     "output_type": "display_data"
    },
    {
     "name": "stdout",
     "output_type": "stream",
     "text": [
      "For type 3510, metrics:: auprc:0.7975, auroc:0.8731, ap@50:1.0\n",
      "current: 7607\n"
     ]
    },
    {
     "data": {
      "application/vnd.jupyter.widget-view+json": {
       "model_id": "5de00c9a8e814bc3b39f5fbf37241ad4",
       "version_major": 2,
       "version_minor": 0
      },
      "text/plain": [
       "0it [00:00, ?it/s]"
      ]
     },
     "metadata": {},
     "output_type": "display_data"
    },
    {
     "name": "stdout",
     "output_type": "stream",
     "text": [
      "For type 7607, metrics:: auprc:0.837, auroc:0.9026, ap@50:1.0\n",
      "current: 3512\n"
     ]
    },
    {
     "data": {
      "application/vnd.jupyter.widget-view+json": {
       "model_id": "6c0ac2dc55114e399954f4112af32c92",
       "version_major": 2,
       "version_minor": 0
      },
      "text/plain": [
       "0it [00:00, ?it/s]"
      ]
     },
     "metadata": {},
     "output_type": "display_data"
    },
    {
     "name": "stdout",
     "output_type": "stream",
     "text": [
      "For type 3512, metrics:: auprc:0.8219, auroc:0.8916, ap@50:1.0\n",
      "current: 7606\n"
     ]
    },
    {
     "data": {
      "application/vnd.jupyter.widget-view+json": {
       "model_id": "ea162f60ac744caf83447672e7aeb35f",
       "version_major": 2,
       "version_minor": 0
      },
      "text/plain": [
       "0it [00:00, ?it/s]"
      ]
     },
     "metadata": {},
     "output_type": "display_data"
    },
    {
     "name": "stdout",
     "output_type": "stream",
     "text": [
      "For type 7606, metrics:: auprc:0.8268, auroc:0.8953, ap@50:1.0\n",
      "current: 3511\n"
     ]
    },
    {
     "data": {
      "application/vnd.jupyter.widget-view+json": {
       "model_id": "9c5470cd30a74b3299dd273d49c4726f",
       "version_major": 2,
       "version_minor": 0
      },
      "text/plain": [
       "0it [00:00, ?it/s]"
      ]
     },
     "metadata": {},
     "output_type": "display_data"
    },
    {
     "name": "stdout",
     "output_type": "stream",
     "text": [
      "For type 3511, metrics:: auprc:0.7918, auroc:0.8686, ap@50:1.0\n",
      "current: 9659\n"
     ]
    },
    {
     "data": {
      "application/vnd.jupyter.widget-view+json": {
       "model_id": "8767ddd1962f432a922013adcbc4c494",
       "version_major": 2,
       "version_minor": 0
      },
      "text/plain": [
       "0it [00:00, ?it/s]"
      ]
     },
     "metadata": {},
     "output_type": "display_data"
    },
    {
     "name": "stdout",
     "output_type": "stream",
     "text": [
      "For type 9659, metrics:: auprc:0.7919, auroc:0.8686, ap@50:1.0\n",
      "current: 7613\n"
     ]
    },
    {
     "data": {
      "application/vnd.jupyter.widget-view+json": {
       "model_id": "4790f136542e4239ac649746f7a36323",
       "version_major": 2,
       "version_minor": 0
      },
      "text/plain": [
       "0it [00:00, ?it/s]"
      ]
     },
     "metadata": {},
     "output_type": "display_data"
    },
    {
     "name": "stdout",
     "output_type": "stream",
     "text": [
      "For type 7613, metrics:: auprc:0.8197, auroc:0.89, ap@50:1.0\n",
      "current: 5569\n"
     ]
    },
    {
     "data": {
      "application/vnd.jupyter.widget-view+json": {
       "model_id": "ab17b855b21347cdbe5148a69a68550b",
       "version_major": 2,
       "version_minor": 0
      },
      "text/plain": [
       "0it [00:00, ?it/s]"
      ]
     },
     "metadata": {},
     "output_type": "display_data"
    },
    {
     "name": "stdout",
     "output_type": "stream",
     "text": [
      "For type 5569, metrics:: auprc:0.7881, auroc:0.8655, ap@50:1.0\n",
      "current: 3525\n"
     ]
    },
    {
     "data": {
      "application/vnd.jupyter.widget-view+json": {
       "model_id": "0e71376dd48e4089b20baee857ed8c32",
       "version_major": 2,
       "version_minor": 0
      },
      "text/plain": [
       "0it [00:00, ?it/s]"
      ]
     },
     "metadata": {},
     "output_type": "display_data"
    },
    {
     "name": "stdout",
     "output_type": "stream",
     "text": [
      "For type 3525, metrics:: auprc:0.7857, auroc:0.8636, ap@50:1.0\n",
      "current: 9670\n"
     ]
    },
    {
     "data": {
      "application/vnd.jupyter.widget-view+json": {
       "model_id": "634ccfe118ab4dc5b70403f8eb6dbab3",
       "version_major": 2,
       "version_minor": 0
      },
      "text/plain": [
       "0it [00:00, ?it/s]"
      ]
     },
     "metadata": {},
     "output_type": "display_data"
    },
    {
     "name": "stdout",
     "output_type": "stream",
     "text": [
      "For type 9670, metrics:: auprc:0.827, auroc:0.8954, ap@50:1.0\n",
      "current: 5574\n"
     ]
    },
    {
     "data": {
      "application/vnd.jupyter.widget-view+json": {
       "model_id": "b3619190be2844c3adab6ca8060b12ac",
       "version_major": 2,
       "version_minor": 0
      },
      "text/plain": [
       "0it [00:00, ?it/s]"
      ]
     },
     "metadata": {},
     "output_type": "display_data"
    },
    {
     "name": "stdout",
     "output_type": "stream",
     "text": [
      "For type 5574, metrics:: auprc:0.8038, auroc:0.878, ap@50:1.0\n",
      "current: 1481\n"
     ]
    },
    {
     "data": {
      "application/vnd.jupyter.widget-view+json": {
       "model_id": "4cd3644ea19549e381ecaee1326c1637",
       "version_major": 2,
       "version_minor": 0
      },
      "text/plain": [
       "0it [00:00, ?it/s]"
      ]
     },
     "metadata": {},
     "output_type": "display_data"
    },
    {
     "name": "stdout",
     "output_type": "stream",
     "text": [
      "For type 1481, metrics:: auprc:0.8161, auroc:0.8873, ap@50:1.0\n",
      "current: 9674\n"
     ]
    },
    {
     "data": {
      "application/vnd.jupyter.widget-view+json": {
       "model_id": "bf39c711d61842a5bd45ed2583005013",
       "version_major": 2,
       "version_minor": 0
      },
      "text/plain": [
       "0it [00:00, ?it/s]"
      ]
     },
     "metadata": {},
     "output_type": "display_data"
    },
    {
     "name": "stdout",
     "output_type": "stream",
     "text": [
      "For type 9674, metrics:: auprc:0.7985, auroc:0.8739, ap@50:1.0\n",
      "current: 1483\n"
     ]
    },
    {
     "data": {
      "application/vnd.jupyter.widget-view+json": {
       "model_id": "ad146f316c68452090ed22cde464d2fe",
       "version_major": 2,
       "version_minor": 0
      },
      "text/plain": [
       "0it [00:00, ?it/s]"
      ]
     },
     "metadata": {},
     "output_type": "display_data"
    },
    {
     "name": "stdout",
     "output_type": "stream",
     "text": [
      "For type 1483, metrics:: auprc:0.8172, auroc:0.8882, ap@50:1.0\n",
      "current: 1484\n"
     ]
    },
    {
     "data": {
      "application/vnd.jupyter.widget-view+json": {
       "model_id": "6707f5c5ae02460989fa3372e776973f",
       "version_major": 2,
       "version_minor": 0
      },
      "text/plain": [
       "0it [00:00, ?it/s]"
      ]
     },
     "metadata": {},
     "output_type": "display_data"
    },
    {
     "name": "stdout",
     "output_type": "stream",
     "text": [
      "For type 1484, metrics:: auprc:0.8273, auroc:0.8956, ap@50:1.0\n",
      "current: 7630\n"
     ]
    },
    {
     "data": {
      "application/vnd.jupyter.widget-view+json": {
       "model_id": "2bedb5edbe674af3ad894150633eb5d0",
       "version_major": 2,
       "version_minor": 0
      },
      "text/plain": [
       "0it [00:00, ?it/s]"
      ]
     },
     "metadata": {},
     "output_type": "display_data"
    },
    {
     "name": "stdout",
     "output_type": "stream",
     "text": [
      "For type 7630, metrics:: auprc:0.8026, auroc:0.877, ap@50:1.0\n",
      "current: 1487\n"
     ]
    },
    {
     "data": {
      "application/vnd.jupyter.widget-view+json": {
       "model_id": "e6b13d8ae760484188ada241fce04ebf",
       "version_major": 2,
       "version_minor": 0
      },
      "text/plain": [
       "0it [00:00, ?it/s]"
      ]
     },
     "metadata": {},
     "output_type": "display_data"
    },
    {
     "name": "stdout",
     "output_type": "stream",
     "text": [
      "For type 1487, metrics:: auprc:0.8215, auroc:0.8914, ap@50:1.0\n",
      "current: 1489\n"
     ]
    },
    {
     "data": {
      "application/vnd.jupyter.widget-view+json": {
       "model_id": "ce652471df4e48e6a8899676517d6bc1",
       "version_major": 2,
       "version_minor": 0
      },
      "text/plain": [
       "0it [00:00, ?it/s]"
      ]
     },
     "metadata": {},
     "output_type": "display_data"
    },
    {
     "name": "stdout",
     "output_type": "stream",
     "text": [
      "For type 1489, metrics:: auprc:0.8107, auroc:0.8833, ap@50:1.0\n",
      "current: 5591\n"
     ]
    },
    {
     "data": {
      "application/vnd.jupyter.widget-view+json": {
       "model_id": "cda0e16fd4054a6da564079baf7b9d94",
       "version_major": 2,
       "version_minor": 0
      },
      "text/plain": [
       "0it [00:00, ?it/s]"
      ]
     },
     "metadata": {},
     "output_type": "display_data"
    },
    {
     "name": "stdout",
     "output_type": "stream",
     "text": [
      "For type 5591, metrics:: auprc:0.8173, auroc:0.8882, ap@50:1.0\n",
      "current: 3544\n"
     ]
    },
    {
     "data": {
      "application/vnd.jupyter.widget-view+json": {
       "model_id": "0b8d2bc009a740a89b5bf9dc26e46cfb",
       "version_major": 2,
       "version_minor": 0
      },
      "text/plain": [
       "0it [00:00, ?it/s]"
      ]
     },
     "metadata": {},
     "output_type": "display_data"
    },
    {
     "name": "stdout",
     "output_type": "stream",
     "text": [
      "For type 3544, metrics:: auprc:0.8333, auroc:0.9, ap@50:1.0\n",
      "current: 9689\n"
     ]
    },
    {
     "data": {
      "application/vnd.jupyter.widget-view+json": {
       "model_id": "ae63791dd73540a899eb6aa5dbfb3cfa",
       "version_major": 2,
       "version_minor": 0
      },
      "text/plain": [
       "0it [00:00, ?it/s]"
      ]
     },
     "metadata": {},
     "output_type": "display_data"
    },
    {
     "name": "stdout",
     "output_type": "stream",
     "text": [
      "For type 9689, metrics:: auprc:0.7647, auroc:0.8462, ap@50:1.0\n",
      "current: 5597\n"
     ]
    },
    {
     "data": {
      "application/vnd.jupyter.widget-view+json": {
       "model_id": "850202751ee14352bac766ce9efef32c",
       "version_major": 2,
       "version_minor": 0
      },
      "text/plain": [
       "0it [00:00, ?it/s]"
      ]
     },
     "metadata": {},
     "output_type": "display_data"
    },
    {
     "name": "stdout",
     "output_type": "stream",
     "text": [
      "For type 5597, metrics:: auprc:0.8209, auroc:0.8909, ap@50:1.0\n",
      "current: 1502\n"
     ]
    },
    {
     "data": {
      "application/vnd.jupyter.widget-view+json": {
       "model_id": "c8cda252e1194e42915a647601bf3649",
       "version_major": 2,
       "version_minor": 0
      },
      "text/plain": [
       "0it [00:00, ?it/s]"
      ]
     },
     "metadata": {},
     "output_type": "display_data"
    },
    {
     "name": "stdout",
     "output_type": "stream",
     "text": [
      "For type 1502, metrics:: auprc:0.8303, auroc:0.8978, ap@50:1.0\n",
      "current: 9700\n"
     ]
    },
    {
     "data": {
      "application/vnd.jupyter.widget-view+json": {
       "model_id": "519c69d7b5274d50a6d47d66e4592205",
       "version_major": 2,
       "version_minor": 0
      },
      "text/plain": [
       "0it [00:00, ?it/s]"
      ]
     },
     "metadata": {},
     "output_type": "display_data"
    },
    {
     "name": "stdout",
     "output_type": "stream",
     "text": [
      "For type 9700, metrics:: auprc:0.8162, auroc:0.8874, ap@50:1.0\n",
      "current: 1512\n"
     ]
    },
    {
     "data": {
      "application/vnd.jupyter.widget-view+json": {
       "model_id": "f2a787cfaabc4e8ba73f4bbf96617e94",
       "version_major": 2,
       "version_minor": 0
      },
      "text/plain": [
       "0it [00:00, ?it/s]"
      ]
     },
     "metadata": {},
     "output_type": "display_data"
    },
    {
     "name": "stdout",
     "output_type": "stream",
     "text": [
      "For type 1512, metrics:: auprc:0.806, auroc:0.8796, ap@50:1.0\n",
      "current: 9707\n"
     ]
    },
    {
     "data": {
      "application/vnd.jupyter.widget-view+json": {
       "model_id": "d8c455ec62d942d8b091d6176d713e6e",
       "version_major": 2,
       "version_minor": 0
      },
      "text/plain": [
       "0it [00:00, ?it/s]"
      ]
     },
     "metadata": {},
     "output_type": "display_data"
    },
    {
     "name": "stdout",
     "output_type": "stream",
     "text": [
      "For type 9707, metrics:: auprc:0.8257, auroc:0.8945, ap@50:1.0\n",
      "current: 1516\n"
     ]
    },
    {
     "data": {
      "application/vnd.jupyter.widget-view+json": {
       "model_id": "e4e851b86ee141f1bff675cd7cceddf4",
       "version_major": 2,
       "version_minor": 0
      },
      "text/plain": [
       "0it [00:00, ?it/s]"
      ]
     },
     "metadata": {},
     "output_type": "display_data"
    },
    {
     "name": "stdout",
     "output_type": "stream",
     "text": [
      "For type 1516, metrics:: auprc:0.8077, auroc:0.881, ap@50:1.0\n",
      "current: 3565\n"
     ]
    },
    {
     "data": {
      "application/vnd.jupyter.widget-view+json": {
       "model_id": "d4c734bf83f044ee94500010ca48916c",
       "version_major": 2,
       "version_minor": 0
      },
      "text/plain": [
       "0it [00:00, ?it/s]"
      ]
     },
     "metadata": {},
     "output_type": "display_data"
    },
    {
     "name": "stdout",
     "output_type": "stream",
     "text": [
      "For type 3565, metrics:: auprc:0.8044, auroc:0.8785, ap@50:1.0\n",
      "current: 3567\n"
     ]
    },
    {
     "data": {
      "application/vnd.jupyter.widget-view+json": {
       "model_id": "2b091a33037646b5b9b3f323b5d21b1c",
       "version_major": 2,
       "version_minor": 0
      },
      "text/plain": [
       "0it [00:00, ?it/s]"
      ]
     },
     "metadata": {},
     "output_type": "display_data"
    },
    {
     "name": "stdout",
     "output_type": "stream",
     "text": [
      "For type 3567, metrics:: auprc:0.8067, auroc:0.8802, ap@50:1.0\n",
      "current: 1525\n"
     ]
    },
    {
     "data": {
      "application/vnd.jupyter.widget-view+json": {
       "model_id": "229d39445e7442acbe641a0a3b86fc31",
       "version_major": 2,
       "version_minor": 0
      },
      "text/plain": [
       "0it [00:00, ?it/s]"
      ]
     },
     "metadata": {},
     "output_type": "display_data"
    },
    {
     "name": "stdout",
     "output_type": "stream",
     "text": [
      "For type 1525, metrics:: auprc:0.8144, auroc:0.886, ap@50:1.0\n",
      "current: 9718\n"
     ]
    },
    {
     "data": {
      "application/vnd.jupyter.widget-view+json": {
       "model_id": "3ddc6f9064b641ee8a84ebaa94dcfa88",
       "version_major": 2,
       "version_minor": 0
      },
      "text/plain": [
       "0it [00:00, ?it/s]"
      ]
     },
     "metadata": {},
     "output_type": "display_data"
    },
    {
     "name": "stdout",
     "output_type": "stream",
     "text": [
      "For type 9718, metrics:: auprc:0.8037, auroc:0.8779, ap@50:1.0\n",
      "current: 5624\n"
     ]
    },
    {
     "data": {
      "application/vnd.jupyter.widget-view+json": {
       "model_id": "b2d5a6983165429ea06e71ea410682fc",
       "version_major": 2,
       "version_minor": 0
      },
      "text/plain": [
       "0it [00:00, ?it/s]"
      ]
     },
     "metadata": {},
     "output_type": "display_data"
    },
    {
     "name": "stdout",
     "output_type": "stream",
     "text": [
      "For type 5624, metrics:: auprc:0.8159, auroc:0.8872, ap@50:1.0\n",
      "current: 7679\n"
     ]
    },
    {
     "data": {
      "application/vnd.jupyter.widget-view+json": {
       "model_id": "61a1ef8fb5e344dda62b522eadc88551",
       "version_major": 2,
       "version_minor": 0
      },
      "text/plain": [
       "0it [00:00, ?it/s]"
      ]
     },
     "metadata": {},
     "output_type": "display_data"
    },
    {
     "name": "stdout",
     "output_type": "stream",
     "text": [
      "For type 7679, metrics:: auprc:0.8237, auroc:0.893, ap@50:1.0\n",
      "current: 1536\n"
     ]
    },
    {
     "data": {
      "application/vnd.jupyter.widget-view+json": {
       "model_id": "9a8e2ad1342041af92b520c64bd61de2",
       "version_major": 2,
       "version_minor": 0
      },
      "text/plain": [
       "0it [00:00, ?it/s]"
      ]
     },
     "metadata": {},
     "output_type": "display_data"
    },
    {
     "name": "stdout",
     "output_type": "stream",
     "text": [
      "For type 1536, metrics:: auprc:0.8292, auroc:0.897, ap@50:1.0\n",
      "current: 9730\n"
     ]
    },
    {
     "data": {
      "application/vnd.jupyter.widget-view+json": {
       "model_id": "4a6ba0c63a5748adbbd82703d69997bc",
       "version_major": 2,
       "version_minor": 0
      },
      "text/plain": [
       "0it [00:00, ?it/s]"
      ]
     },
     "metadata": {},
     "output_type": "display_data"
    },
    {
     "name": "stdout",
     "output_type": "stream",
     "text": [
      "For type 9730, metrics:: auprc:0.8254, auroc:0.8942, ap@50:1.0\n",
      "current: 3586\n"
     ]
    },
    {
     "data": {
      "application/vnd.jupyter.widget-view+json": {
       "model_id": "127f58213dcd4325b83a9a80d7fa8352",
       "version_major": 2,
       "version_minor": 0
      },
      "text/plain": [
       "0it [00:00, ?it/s]"
      ]
     },
     "metadata": {},
     "output_type": "display_data"
    },
    {
     "name": "stdout",
     "output_type": "stream",
     "text": [
      "For type 3586, metrics:: auprc:0.7838, auroc:0.8621, ap@50:1.0\n",
      "current: 3590\n"
     ]
    },
    {
     "data": {
      "application/vnd.jupyter.widget-view+json": {
       "model_id": "815bf2de9e2f4d0e8e66c10f43122d14",
       "version_major": 2,
       "version_minor": 0
      },
      "text/plain": [
       "0it [00:00, ?it/s]"
      ]
     },
     "metadata": {},
     "output_type": "display_data"
    },
    {
     "name": "stdout",
     "output_type": "stream",
     "text": [
      "For type 3590, metrics:: auprc:0.8148, auroc:0.8864, ap@50:1.0\n",
      "current: 7686\n"
     ]
    },
    {
     "data": {
      "application/vnd.jupyter.widget-view+json": {
       "model_id": "c026c10d1d764e639e6d1db1e49ceec0",
       "version_major": 2,
       "version_minor": 0
      },
      "text/plain": [
       "0it [00:00, ?it/s]"
      ]
     },
     "metadata": {},
     "output_type": "display_data"
    },
    {
     "name": "stdout",
     "output_type": "stream",
     "text": [
      "For type 7686, metrics:: auprc:0.8199, auroc:0.8902, ap@50:1.0\n",
      "current: 3591\n"
     ]
    },
    {
     "data": {
      "application/vnd.jupyter.widget-view+json": {
       "model_id": "1903f05cfffe4d338cd32aba2a14e062",
       "version_major": 2,
       "version_minor": 0
      },
      "text/plain": [
       "0it [00:00, ?it/s]"
      ]
     },
     "metadata": {},
     "output_type": "display_data"
    },
    {
     "name": "stdout",
     "output_type": "stream",
     "text": [
      "For type 3591, metrics:: auprc:0.8487, auroc:0.9109, ap@50:1.0\n",
      "current: 5641\n"
     ]
    },
    {
     "data": {
      "application/vnd.jupyter.widget-view+json": {
       "model_id": "b48a850914464f409ab2aa8e75f1729e",
       "version_major": 2,
       "version_minor": 0
      },
      "text/plain": [
       "0it [00:00, ?it/s]"
      ]
     },
     "metadata": {},
     "output_type": "display_data"
    },
    {
     "name": "stdout",
     "output_type": "stream",
     "text": [
      "For type 5641, metrics:: auprc:0.8385, auroc:0.9037, ap@50:1.0\n",
      "current: 5642\n"
     ]
    },
    {
     "data": {
      "application/vnd.jupyter.widget-view+json": {
       "model_id": "205447b91e554a64b2bd9b1cd6f33659",
       "version_major": 2,
       "version_minor": 0
      },
      "text/plain": [
       "0it [00:00, ?it/s]"
      ]
     },
     "metadata": {},
     "output_type": "display_data"
    },
    {
     "name": "stdout",
     "output_type": "stream",
     "text": [
      "For type 5642, metrics:: auprc:0.8246, auroc:0.8936, ap@50:1.0\n",
      "current: 1547\n"
     ]
    },
    {
     "data": {
      "application/vnd.jupyter.widget-view+json": {
       "model_id": "db6b07d630f840acb4cbf86e8022827d",
       "version_major": 2,
       "version_minor": 0
      },
      "text/plain": [
       "0it [00:00, ?it/s]"
      ]
     },
     "metadata": {},
     "output_type": "display_data"
    },
    {
     "name": "stdout",
     "output_type": "stream",
     "text": [
      "For type 1547, metrics:: auprc:0.8323, auroc:0.8993, ap@50:1.0\n",
      "current: 7692\n"
     ]
    },
    {
     "data": {
      "application/vnd.jupyter.widget-view+json": {
       "model_id": "d63f91d0a4034a8ca25949455398018a",
       "version_major": 2,
       "version_minor": 0
      },
      "text/plain": [
       "0it [00:00, ?it/s]"
      ]
     },
     "metadata": {},
     "output_type": "display_data"
    },
    {
     "name": "stdout",
     "output_type": "stream",
     "text": [
      "For type 7692, metrics:: auprc:0.8393, auroc:0.9043, ap@50:1.0\n",
      "current: 3597\n"
     ]
    },
    {
     "data": {
      "application/vnd.jupyter.widget-view+json": {
       "model_id": "4e45a26514224c96b27df3f628a9fea3",
       "version_major": 2,
       "version_minor": 0
      },
      "text/plain": [
       "0it [00:00, ?it/s]"
      ]
     },
     "metadata": {},
     "output_type": "display_data"
    },
    {
     "name": "stdout",
     "output_type": "stream",
     "text": [
      "For type 3597, metrics:: auprc:0.8362, auroc:0.902, ap@50:1.0\n",
      "current: 5644\n"
     ]
    },
    {
     "data": {
      "application/vnd.jupyter.widget-view+json": {
       "model_id": "0eb363dcc5ef4f22ae03681dd5807a23",
       "version_major": 2,
       "version_minor": 0
      },
      "text/plain": [
       "0it [00:00, ?it/s]"
      ]
     },
     "metadata": {},
     "output_type": "display_data"
    },
    {
     "name": "stdout",
     "output_type": "stream",
     "text": [
      "For type 5644, metrics:: auprc:0.8361, auroc:0.902, ap@50:1.0\n",
      "current: 9744\n"
     ]
    },
    {
     "data": {
      "application/vnd.jupyter.widget-view+json": {
       "model_id": "bea76a38a1a542d9a7e3768f67f83d09",
       "version_major": 2,
       "version_minor": 0
      },
      "text/plain": [
       "0it [00:00, ?it/s]"
      ]
     },
     "metadata": {},
     "output_type": "display_data"
    },
    {
     "name": "stdout",
     "output_type": "stream",
     "text": [
      "For type 9744, metrics:: auprc:0.8209, auroc:0.8909, ap@50:1.0\n",
      "current: 3603\n"
     ]
    },
    {
     "data": {
      "application/vnd.jupyter.widget-view+json": {
       "model_id": "107acf473a334fcba552fe604461bf8c",
       "version_major": 2,
       "version_minor": 0
      },
      "text/plain": [
       "0it [00:00, ?it/s]"
      ]
     },
     "metadata": {},
     "output_type": "display_data"
    },
    {
     "name": "stdout",
     "output_type": "stream",
     "text": [
      "For type 3603, metrics:: auprc:0.826, auroc:0.8947, ap@50:1.0\n",
      "current: 7699\n"
     ]
    },
    {
     "data": {
      "application/vnd.jupyter.widget-view+json": {
       "model_id": "0f6a06320cc749afadb19c2d0fb8044d",
       "version_major": 2,
       "version_minor": 0
      },
      "text/plain": [
       "0it [00:00, ?it/s]"
      ]
     },
     "metadata": {},
     "output_type": "display_data"
    },
    {
     "name": "stdout",
     "output_type": "stream",
     "text": [
      "For type 7699, metrics:: auprc:0.851, auroc:0.9124, ap@50:1.0\n",
      "current: 1557\n"
     ]
    },
    {
     "data": {
      "application/vnd.jupyter.widget-view+json": {
       "model_id": "75e14b2393ca4075832f38a7e908e2b2",
       "version_major": 2,
       "version_minor": 0
      },
      "text/plain": [
       "0it [00:00, ?it/s]"
      ]
     },
     "metadata": {},
     "output_type": "display_data"
    },
    {
     "name": "stdout",
     "output_type": "stream",
     "text": [
      "For type 1557, metrics:: auprc:0.8109, auroc:0.8834, ap@50:1.0\n",
      "current: 9751\n"
     ]
    },
    {
     "data": {
      "application/vnd.jupyter.widget-view+json": {
       "model_id": "580e1a22ffcf44bcbb700da89b7764e6",
       "version_major": 2,
       "version_minor": 0
      },
      "text/plain": [
       "0it [00:00, ?it/s]"
      ]
     },
     "metadata": {},
     "output_type": "display_data"
    },
    {
     "name": "stdout",
     "output_type": "stream",
     "text": [
      "For type 9751, metrics:: auprc:0.8122, auroc:0.8844, ap@50:1.0\n",
      "current: 9752\n"
     ]
    },
    {
     "data": {
      "application/vnd.jupyter.widget-view+json": {
       "model_id": "7ec4b1355c5b4de19bfac9c55a0b68cd",
       "version_major": 2,
       "version_minor": 0
      },
      "text/plain": [
       "0it [00:00, ?it/s]"
      ]
     },
     "metadata": {},
     "output_type": "display_data"
    },
    {
     "name": "stdout",
     "output_type": "stream",
     "text": [
      "For type 9752, metrics:: auprc:0.758, auroc:0.8403, ap@50:1.0\n",
      "current: 7705\n"
     ]
    },
    {
     "data": {
      "application/vnd.jupyter.widget-view+json": {
       "model_id": "58928c4f8b024827b7fd194c6b74b498",
       "version_major": 2,
       "version_minor": 0
      },
      "text/plain": [
       "0it [00:00, ?it/s]"
      ]
     },
     "metadata": {},
     "output_type": "display_data"
    },
    {
     "name": "stdout",
     "output_type": "stream",
     "text": [
      "For type 7705, metrics:: auprc:0.8244, auroc:0.8935, ap@50:1.0\n",
      "current: 3610\n"
     ]
    },
    {
     "data": {
      "application/vnd.jupyter.widget-view+json": {
       "model_id": "15a4075ada9b4386a82705e9084eff86",
       "version_major": 2,
       "version_minor": 0
      },
      "text/plain": [
       "0it [00:00, ?it/s]"
      ]
     },
     "metadata": {},
     "output_type": "display_data"
    },
    {
     "name": "stdout",
     "output_type": "stream",
     "text": [
      "For type 3610, metrics:: auprc:0.8114, auroc:0.8838, ap@50:1.0\n",
      "current: 1561\n"
     ]
    },
    {
     "data": {
      "application/vnd.jupyter.widget-view+json": {
       "model_id": "0179e4b72e984583871e63ab34c3c261",
       "version_major": 2,
       "version_minor": 0
      },
      "text/plain": [
       "0it [00:00, ?it/s]"
      ]
     },
     "metadata": {},
     "output_type": "display_data"
    },
    {
     "name": "stdout",
     "output_type": "stream",
     "text": [
      "For type 1561, metrics:: auprc:0.833, auroc:0.8997, ap@50:1.0\n",
      "current: 1559\n"
     ]
    },
    {
     "data": {
      "application/vnd.jupyter.widget-view+json": {
       "model_id": "6381949991354c1297f79fb46efa43fc",
       "version_major": 2,
       "version_minor": 0
      },
      "text/plain": [
       "0it [00:00, ?it/s]"
      ]
     },
     "metadata": {},
     "output_type": "display_data"
    },
    {
     "name": "stdout",
     "output_type": "stream",
     "text": [
      "For type 1559, metrics:: auprc:0.8384, auroc:0.9036, ap@50:1.0\n",
      "current: 7709\n"
     ]
    },
    {
     "data": {
      "application/vnd.jupyter.widget-view+json": {
       "model_id": "d71d8629d2a74aa18ed3a1a1d78ad9ae",
       "version_major": 2,
       "version_minor": 0
      },
      "text/plain": [
       "0it [00:00, ?it/s]"
      ]
     },
     "metadata": {},
     "output_type": "display_data"
    },
    {
     "name": "stdout",
     "output_type": "stream",
     "text": [
      "For type 7709, metrics:: auprc:0.8235, auroc:0.8929, ap@50:1.0\n",
      "current: 1566\n"
     ]
    },
    {
     "data": {
      "application/vnd.jupyter.widget-view+json": {
       "model_id": "fd5109080bd84feeb658c52744ef3a8d",
       "version_major": 2,
       "version_minor": 0
      },
      "text/plain": [
       "0it [00:00, ?it/s]"
      ]
     },
     "metadata": {},
     "output_type": "display_data"
    },
    {
     "name": "stdout",
     "output_type": "stream",
     "text": [
      "For type 1566, metrics:: auprc:0.7978, auroc:0.8732, ap@50:1.0\n",
      "current: 3616\n"
     ]
    },
    {
     "data": {
      "application/vnd.jupyter.widget-view+json": {
       "model_id": "19a25bf5e2c84e939f6ad940075e91eb",
       "version_major": 2,
       "version_minor": 0
      },
      "text/plain": [
       "0it [00:00, ?it/s]"
      ]
     },
     "metadata": {},
     "output_type": "display_data"
    },
    {
     "name": "stdout",
     "output_type": "stream",
     "text": [
      "For type 3616, metrics:: auprc:0.7971, auroc:0.8727, ap@50:1.0\n",
      "current: 9762\n"
     ]
    },
    {
     "data": {
      "application/vnd.jupyter.widget-view+json": {
       "model_id": "2ebb8a40009b4da89dbdcfdcd4bb1518",
       "version_major": 2,
       "version_minor": 0
      },
      "text/plain": [
       "0it [00:00, ?it/s]"
      ]
     },
     "metadata": {},
     "output_type": "display_data"
    },
    {
     "name": "stdout",
     "output_type": "stream",
     "text": [
      "For type 9762, metrics:: auprc:0.8058, auroc:0.8795, ap@50:1.0\n",
      "current: 9763\n"
     ]
    },
    {
     "data": {
      "application/vnd.jupyter.widget-view+json": {
       "model_id": "cf2ea886fd1d4814a731c8e9417412d3",
       "version_major": 2,
       "version_minor": 0
      },
      "text/plain": [
       "0it [00:00, ?it/s]"
      ]
     },
     "metadata": {},
     "output_type": "display_data"
    },
    {
     "name": "stdout",
     "output_type": "stream",
     "text": [
      "For type 9763, metrics:: auprc:0.8197, auroc:0.89, ap@50:1.0\n",
      "current: 1575\n"
     ]
    },
    {
     "data": {
      "application/vnd.jupyter.widget-view+json": {
       "model_id": "4e37461ca920420c9f46028a08737a38",
       "version_major": 2,
       "version_minor": 0
      },
      "text/plain": [
       "0it [00:00, ?it/s]"
      ]
     },
     "metadata": {},
     "output_type": "display_data"
    },
    {
     "name": "stdout",
     "output_type": "stream",
     "text": [
      "For type 1575, metrics:: auprc:0.8098, auroc:0.8826, ap@50:1.0\n",
      "current: 7720\n"
     ]
    },
    {
     "data": {
      "application/vnd.jupyter.widget-view+json": {
       "model_id": "b7b4f7dbc4904ab99f6d780660b63f57",
       "version_major": 2,
       "version_minor": 0
      },
      "text/plain": [
       "0it [00:00, ?it/s]"
      ]
     },
     "metadata": {},
     "output_type": "display_data"
    },
    {
     "name": "stdout",
     "output_type": "stream",
     "text": [
      "For type 7720, metrics:: auprc:0.8313, auroc:0.8985, ap@50:1.0\n",
      "current: 3628\n"
     ]
    },
    {
     "data": {
      "application/vnd.jupyter.widget-view+json": {
       "model_id": "6d216d86734e4bc1bcf1d549a8834b26",
       "version_major": 2,
       "version_minor": 0
      },
      "text/plain": [
       "0it [00:00, ?it/s]"
      ]
     },
     "metadata": {},
     "output_type": "display_data"
    },
    {
     "name": "stdout",
     "output_type": "stream",
     "text": [
      "For type 3628, metrics:: auprc:0.793, auroc:0.8695, ap@50:1.0\n",
      "current: 9773\n"
     ]
    },
    {
     "data": {
      "application/vnd.jupyter.widget-view+json": {
       "model_id": "e8ee72aaa1e543e5bd391d0a34c61d2f",
       "version_major": 2,
       "version_minor": 0
      },
      "text/plain": [
       "0it [00:00, ?it/s]"
      ]
     },
     "metadata": {},
     "output_type": "display_data"
    },
    {
     "name": "stdout",
     "output_type": "stream",
     "text": [
      "For type 9773, metrics:: auprc:0.8141, auroc:0.8858, ap@50:1.0\n",
      "current: 5679\n"
     ]
    },
    {
     "data": {
      "application/vnd.jupyter.widget-view+json": {
       "model_id": "089bc011ffb94dc3a25a8ed26e188481",
       "version_major": 2,
       "version_minor": 0
      },
      "text/plain": [
       "0it [00:00, ?it/s]"
      ]
     },
     "metadata": {},
     "output_type": "display_data"
    },
    {
     "name": "stdout",
     "output_type": "stream",
     "text": [
      "For type 5679, metrics:: auprc:0.8097, auroc:0.8825, ap@50:1.0\n",
      "current: 9780\n"
     ]
    },
    {
     "data": {
      "application/vnd.jupyter.widget-view+json": {
       "model_id": "58712bc821ce4c16986ad2681197682c",
       "version_major": 2,
       "version_minor": 0
      },
      "text/plain": [
       "0it [00:00, ?it/s]"
      ]
     },
     "metadata": {},
     "output_type": "display_data"
    },
    {
     "name": "stdout",
     "output_type": "stream",
     "text": [
      "For type 9780, metrics:: auprc:0.8125, auroc:0.8846, ap@50:1.0\n",
      "current: 1589\n"
     ]
    },
    {
     "data": {
      "application/vnd.jupyter.widget-view+json": {
       "model_id": "5277844a70104374a74639f6a0b663c5",
       "version_major": 2,
       "version_minor": 0
      },
      "text/plain": [
       "0it [00:00, ?it/s]"
      ]
     },
     "metadata": {},
     "output_type": "display_data"
    },
    {
     "name": "stdout",
     "output_type": "stream",
     "text": [
      "For type 1589, metrics:: auprc:0.8658, auroc:0.9225, ap@50:1.0\n",
      "current: 5690\n"
     ]
    },
    {
     "data": {
      "application/vnd.jupyter.widget-view+json": {
       "model_id": "b4198a4407a84c0981225b1f7a931360",
       "version_major": 2,
       "version_minor": 0
      },
      "text/plain": [
       "0it [00:00, ?it/s]"
      ]
     },
     "metadata": {},
     "output_type": "display_data"
    },
    {
     "name": "stdout",
     "output_type": "stream",
     "text": [
      "For type 5690, metrics:: auprc:0.8108, auroc:0.8833, ap@50:1.0\n",
      "current: 5692\n"
     ]
    },
    {
     "data": {
      "application/vnd.jupyter.widget-view+json": {
       "model_id": "60bba392e7394a08bcf353646edea035",
       "version_major": 2,
       "version_minor": 0
      },
      "text/plain": [
       "0it [00:00, ?it/s]"
      ]
     },
     "metadata": {},
     "output_type": "display_data"
    },
    {
     "name": "stdout",
     "output_type": "stream",
     "text": [
      "For type 5692, metrics:: auprc:0.8344, auroc:0.9008, ap@50:1.0\n",
      "current: 5694\n"
     ]
    },
    {
     "data": {
      "application/vnd.jupyter.widget-view+json": {
       "model_id": "069ad84971cd411482fc43da6182a0f4",
       "version_major": 2,
       "version_minor": 0
      },
      "text/plain": [
       "0it [00:00, ?it/s]"
      ]
     },
     "metadata": {},
     "output_type": "display_data"
    },
    {
     "name": "stdout",
     "output_type": "stream",
     "text": [
      "For type 5694, metrics:: auprc:0.8216, auroc:0.8914, ap@50:1.0\n",
      "current: 9791\n"
     ]
    },
    {
     "data": {
      "application/vnd.jupyter.widget-view+json": {
       "model_id": "3329d1a01144414ea2b78c42cc37e1a9",
       "version_major": 2,
       "version_minor": 0
      },
      "text/plain": [
       "0it [00:00, ?it/s]"
      ]
     },
     "metadata": {},
     "output_type": "display_data"
    },
    {
     "name": "stdout",
     "output_type": "stream",
     "text": [
      "For type 9791, metrics:: auprc:0.8071, auroc:0.8805, ap@50:1.0\n",
      "current: 7744\n"
     ]
    },
    {
     "data": {
      "application/vnd.jupyter.widget-view+json": {
       "model_id": "b70fd8afc2be4a888ddbb777070f9991",
       "version_major": 2,
       "version_minor": 0
      },
      "text/plain": [
       "0it [00:00, ?it/s]"
      ]
     },
     "metadata": {},
     "output_type": "display_data"
    },
    {
     "name": "stdout",
     "output_type": "stream",
     "text": [
      "For type 7744, metrics:: auprc:0.8161, auroc:0.8873, ap@50:1.0\n",
      "current: 1599\n"
     ]
    },
    {
     "data": {
      "application/vnd.jupyter.widget-view+json": {
       "model_id": "9b265ce7441446a0bec0fddec3e514e5",
       "version_major": 2,
       "version_minor": 0
      },
      "text/plain": [
       "0it [00:00, ?it/s]"
      ]
     },
     "metadata": {},
     "output_type": "display_data"
    },
    {
     "name": "stdout",
     "output_type": "stream",
     "text": [
      "For type 1599, metrics:: auprc:0.8145, auroc:0.8862, ap@50:1.0\n",
      "current: 3651\n"
     ]
    },
    {
     "data": {
      "application/vnd.jupyter.widget-view+json": {
       "model_id": "a797075cdf854275b4dbba1ea1d8f055",
       "version_major": 2,
       "version_minor": 0
      },
      "text/plain": [
       "0it [00:00, ?it/s]"
      ]
     },
     "metadata": {},
     "output_type": "display_data"
    },
    {
     "name": "stdout",
     "output_type": "stream",
     "text": [
      "For type 3651, metrics:: auprc:0.8117, auroc:0.884, ap@50:1.0\n",
      "current: 3652\n"
     ]
    },
    {
     "data": {
      "application/vnd.jupyter.widget-view+json": {
       "model_id": "dcc2827c7d8344aebf03e3cfd603ff91",
       "version_major": 2,
       "version_minor": 0
      },
      "text/plain": [
       "0it [00:00, ?it/s]"
      ]
     },
     "metadata": {},
     "output_type": "display_data"
    },
    {
     "name": "stdout",
     "output_type": "stream",
     "text": [
      "For type 3652, metrics:: auprc:0.8142, auroc:0.8859, ap@50:1.0\n",
      "current: 9797\n"
     ]
    },
    {
     "data": {
      "application/vnd.jupyter.widget-view+json": {
       "model_id": "84be59114538435da2d966e50fb95cab",
       "version_major": 2,
       "version_minor": 0
      },
      "text/plain": [
       "0it [00:00, ?it/s]"
      ]
     },
     "metadata": {},
     "output_type": "display_data"
    },
    {
     "name": "stdout",
     "output_type": "stream",
     "text": [
      "For type 9797, metrics:: auprc:0.8186, auroc:0.8892, ap@50:1.0\n",
      "current: 7751\n"
     ]
    },
    {
     "data": {
      "application/vnd.jupyter.widget-view+json": {
       "model_id": "83cc7835bd6f43a2aed15228d7fd999e",
       "version_major": 2,
       "version_minor": 0
      },
      "text/plain": [
       "0it [00:00, ?it/s]"
      ]
     },
     "metadata": {},
     "output_type": "display_data"
    },
    {
     "name": "stdout",
     "output_type": "stream",
     "text": [
      "For type 7751, metrics:: auprc:0.8164, auroc:0.8876, ap@50:1.0\n",
      "current: 1607\n"
     ]
    },
    {
     "data": {
      "application/vnd.jupyter.widget-view+json": {
       "model_id": "1dc31226127f4c33bac4964f116b056d",
       "version_major": 2,
       "version_minor": 0
      },
      "text/plain": [
       "0it [00:00, ?it/s]"
      ]
     },
     "metadata": {},
     "output_type": "display_data"
    },
    {
     "name": "stdout",
     "output_type": "stream",
     "text": [
      "For type 1607, metrics:: auprc:0.8191, auroc:0.8896, ap@50:1.0\n",
      "current: 1608\n"
     ]
    },
    {
     "data": {
      "application/vnd.jupyter.widget-view+json": {
       "model_id": "a5e9eaff6e75466d909c73c37109cd80",
       "version_major": 2,
       "version_minor": 0
      },
      "text/plain": [
       "0it [00:00, ?it/s]"
      ]
     },
     "metadata": {},
     "output_type": "display_data"
    },
    {
     "name": "stdout",
     "output_type": "stream",
     "text": [
      "For type 1608, metrics:: auprc:0.8049, auroc:0.8788, ap@50:1.0\n",
      "current: 3657\n"
     ]
    },
    {
     "data": {
      "application/vnd.jupyter.widget-view+json": {
       "model_id": "dc7e9827ad964ceba088e88fef76fafa",
       "version_major": 2,
       "version_minor": 0
      },
      "text/plain": [
       "0it [00:00, ?it/s]"
      ]
     },
     "metadata": {},
     "output_type": "display_data"
    },
    {
     "name": "stdout",
     "output_type": "stream",
     "text": [
      "For type 3657, metrics:: auprc:0.8108, auroc:0.8833, ap@50:1.0\n",
      "current: 9804\n"
     ]
    },
    {
     "data": {
      "application/vnd.jupyter.widget-view+json": {
       "model_id": "da15b580deb84d2a9d12832cbd816049",
       "version_major": 2,
       "version_minor": 0
      },
      "text/plain": [
       "0it [00:00, ?it/s]"
      ]
     },
     "metadata": {},
     "output_type": "display_data"
    },
    {
     "name": "stdout",
     "output_type": "stream",
     "text": [
      "For type 9804, metrics:: auprc:0.814, auroc:0.8857, ap@50:1.0\n",
      "current: 7760\n"
     ]
    },
    {
     "data": {
      "application/vnd.jupyter.widget-view+json": {
       "model_id": "c648646b077e4b0587fd97d4b17aac02",
       "version_major": 2,
       "version_minor": 0
      },
      "text/plain": [
       "0it [00:00, ?it/s]"
      ]
     },
     "metadata": {},
     "output_type": "display_data"
    },
    {
     "name": "stdout",
     "output_type": "stream",
     "text": [
      "For type 7760, metrics:: auprc:0.7871, auroc:0.8647, ap@50:1.0\n",
      "current: 1617\n"
     ]
    },
    {
     "data": {
      "application/vnd.jupyter.widget-view+json": {
       "model_id": "937a968103b6479f813c02c0fb6559f0",
       "version_major": 2,
       "version_minor": 0
      },
      "text/plain": [
       "0it [00:00, ?it/s]"
      ]
     },
     "metadata": {},
     "output_type": "display_data"
    },
    {
     "name": "stdout",
     "output_type": "stream",
     "text": [
      "For type 1617, metrics:: auprc:0.8086, auroc:0.8816, ap@50:1.0\n",
      "current: 3666\n"
     ]
    },
    {
     "data": {
      "application/vnd.jupyter.widget-view+json": {
       "model_id": "e175ef33744a4261a5fddb12ff3a3507",
       "version_major": 2,
       "version_minor": 0
      },
      "text/plain": [
       "0it [00:00, ?it/s]"
      ]
     },
     "metadata": {},
     "output_type": "display_data"
    },
    {
     "name": "stdout",
     "output_type": "stream",
     "text": [
      "For type 3666, metrics:: auprc:0.8197, auroc:0.89, ap@50:1.0\n",
      "current: 5716\n"
     ]
    },
    {
     "data": {
      "application/vnd.jupyter.widget-view+json": {
       "model_id": "03667ffd0899466b86f381b42650f98a",
       "version_major": 2,
       "version_minor": 0
      },
      "text/plain": [
       "0it [00:00, ?it/s]"
      ]
     },
     "metadata": {},
     "output_type": "display_data"
    },
    {
     "name": "stdout",
     "output_type": "stream",
     "text": [
      "For type 5716, metrics:: auprc:0.8007, auroc:0.8756, ap@50:1.0\n",
      "current: 9814\n"
     ]
    },
    {
     "data": {
      "application/vnd.jupyter.widget-view+json": {
       "model_id": "7c15fa4d21ad488387abfa14451c2a21",
       "version_major": 2,
       "version_minor": 0
      },
      "text/plain": [
       "0it [00:00, ?it/s]"
      ]
     },
     "metadata": {},
     "output_type": "display_data"
    },
    {
     "name": "stdout",
     "output_type": "stream",
     "text": [
      "For type 9814, metrics:: auprc:0.8241, auroc:0.8933, ap@50:1.0\n",
      "current: 7767\n"
     ]
    },
    {
     "data": {
      "application/vnd.jupyter.widget-view+json": {
       "model_id": "950b2b70ffde4643a370dfbcd52709a2",
       "version_major": 2,
       "version_minor": 0
      },
      "text/plain": [
       "0it [00:00, ?it/s]"
      ]
     },
     "metadata": {},
     "output_type": "display_data"
    },
    {
     "name": "stdout",
     "output_type": "stream",
     "text": [
      "For type 7767, metrics:: auprc:0.809, auroc:0.882, ap@50:1.0\n",
      "current: 1623\n"
     ]
    },
    {
     "data": {
      "application/vnd.jupyter.widget-view+json": {
       "model_id": "64abbf94510a40df80dffbb11c75d26b",
       "version_major": 2,
       "version_minor": 0
      },
      "text/plain": [
       "0it [00:00, ?it/s]"
      ]
     },
     "metadata": {},
     "output_type": "display_data"
    },
    {
     "name": "stdout",
     "output_type": "stream",
     "text": [
      "For type 1623, metrics:: auprc:0.818, auroc:0.8887, ap@50:1.0\n",
      "current: 7775\n"
     ]
    },
    {
     "data": {
      "application/vnd.jupyter.widget-view+json": {
       "model_id": "686c63ff2c9b4910b0028836e6e080cb",
       "version_major": 2,
       "version_minor": 0
      },
      "text/plain": [
       "0it [00:00, ?it/s]"
      ]
     },
     "metadata": {},
     "output_type": "display_data"
    },
    {
     "name": "stdout",
     "output_type": "stream",
     "text": [
      "For type 7775, metrics:: auprc:0.821, auroc:0.8909, ap@50:1.0\n",
      "current: 7777\n"
     ]
    },
    {
     "data": {
      "application/vnd.jupyter.widget-view+json": {
       "model_id": "279d50e016b248d8bb4bf62418b1f2a9",
       "version_major": 2,
       "version_minor": 0
      },
      "text/plain": [
       "0it [00:00, ?it/s]"
      ]
     },
     "metadata": {},
     "output_type": "display_data"
    },
    {
     "name": "stdout",
     "output_type": "stream",
     "text": [
      "For type 7777, metrics:: auprc:0.8203, auroc:0.8905, ap@50:1.0\n",
      "current: 5733\n"
     ]
    },
    {
     "data": {
      "application/vnd.jupyter.widget-view+json": {
       "model_id": "1c3cf2b4fd5c4a3499e3b02f44dd090c",
       "version_major": 2,
       "version_minor": 0
      },
      "text/plain": [
       "0it [00:00, ?it/s]"
      ]
     },
     "metadata": {},
     "output_type": "display_data"
    },
    {
     "name": "stdout",
     "output_type": "stream",
     "text": [
      "For type 5733, metrics:: auprc:0.8096, auroc:0.8824, ap@50:1.0\n",
      "current: 7781\n"
     ]
    },
    {
     "data": {
      "application/vnd.jupyter.widget-view+json": {
       "model_id": "0ddee2dd8e024262a56f561c14b13bb5",
       "version_major": 2,
       "version_minor": 0
      },
      "text/plain": [
       "0it [00:00, ?it/s]"
      ]
     },
     "metadata": {},
     "output_type": "display_data"
    },
    {
     "name": "stdout",
     "output_type": "stream",
     "text": [
      "For type 7781, metrics:: auprc:0.8144, auroc:0.886, ap@50:1.0\n",
      "current: 3687\n"
     ]
    },
    {
     "data": {
      "application/vnd.jupyter.widget-view+json": {
       "model_id": "b079730f115b4d378c8f8e9625f27a09",
       "version_major": 2,
       "version_minor": 0
      },
      "text/plain": [
       "0it [00:00, ?it/s]"
      ]
     },
     "metadata": {},
     "output_type": "display_data"
    },
    {
     "name": "stdout",
     "output_type": "stream",
     "text": [
      "For type 3687, metrics:: auprc:0.8205, auroc:0.8906, ap@50:1.0\n",
      "current: 7784\n"
     ]
    },
    {
     "data": {
      "application/vnd.jupyter.widget-view+json": {
       "model_id": "33d8ada76b17479684cfa727a593d1cf",
       "version_major": 2,
       "version_minor": 0
      },
      "text/plain": [
       "0it [00:00, ?it/s]"
      ]
     },
     "metadata": {},
     "output_type": "display_data"
    },
    {
     "name": "stdout",
     "output_type": "stream",
     "text": [
      "For type 7784, metrics:: auprc:0.8279, auroc:0.8961, ap@50:1.0\n",
      "current: 9832\n"
     ]
    },
    {
     "data": {
      "application/vnd.jupyter.widget-view+json": {
       "model_id": "c9ba2dc466124ccfbe881ee621d984e5",
       "version_major": 2,
       "version_minor": 0
      },
      "text/plain": [
       "0it [00:00, ?it/s]"
      ]
     },
     "metadata": {},
     "output_type": "display_data"
    },
    {
     "name": "stdout",
     "output_type": "stream",
     "text": [
      "For type 9832, metrics:: auprc:0.8266, auroc:0.8951, ap@50:1.0\n",
      "current: 9834\n"
     ]
    },
    {
     "data": {
      "application/vnd.jupyter.widget-view+json": {
       "model_id": "bd7f9f5ea6cf4fd59e0c5674f82eb210",
       "version_major": 2,
       "version_minor": 0
      },
      "text/plain": [
       "0it [00:00, ?it/s]"
      ]
     },
     "metadata": {},
     "output_type": "display_data"
    },
    {
     "name": "stdout",
     "output_type": "stream",
     "text": [
      "For type 9834, metrics:: auprc:0.8091, auroc:0.882, ap@50:1.0\n",
      "current: 5738\n"
     ]
    },
    {
     "data": {
      "application/vnd.jupyter.widget-view+json": {
       "model_id": "177945389fa5494da6794c688d7d9f7f",
       "version_major": 2,
       "version_minor": 0
      },
      "text/plain": [
       "0it [00:00, ?it/s]"
      ]
     },
     "metadata": {},
     "output_type": "display_data"
    },
    {
     "name": "stdout",
     "output_type": "stream",
     "text": [
      "For type 5738, metrics:: auprc:0.8295, auroc:0.8972, ap@50:1.0\n",
      "current: 7788\n"
     ]
    },
    {
     "data": {
      "application/vnd.jupyter.widget-view+json": {
       "model_id": "385de9b0d924470b8a7dac94a7e4625a",
       "version_major": 2,
       "version_minor": 0
      },
      "text/plain": [
       "0it [00:00, ?it/s]"
      ]
     },
     "metadata": {},
     "output_type": "display_data"
    },
    {
     "name": "stdout",
     "output_type": "stream",
     "text": [
      "For type 7788, metrics:: auprc:0.7962, auroc:0.872, ap@50:1.0\n",
      "current: 9843\n"
     ]
    },
    {
     "data": {
      "application/vnd.jupyter.widget-view+json": {
       "model_id": "e9c6c421562d4f6e92bab3039277845a",
       "version_major": 2,
       "version_minor": 0
      },
      "text/plain": [
       "0it [00:00, ?it/s]"
      ]
     },
     "metadata": {},
     "output_type": "display_data"
    },
    {
     "name": "stdout",
     "output_type": "stream",
     "text": [
      "For type 9843, metrics:: auprc:0.8178, auroc:0.8886, ap@50:1.0\n",
      "current: 9844\n"
     ]
    },
    {
     "data": {
      "application/vnd.jupyter.widget-view+json": {
       "model_id": "9bc5dc65a76840aebc3cc92b503a6327",
       "version_major": 2,
       "version_minor": 0
      },
      "text/plain": [
       "0it [00:00, ?it/s]"
      ]
     },
     "metadata": {},
     "output_type": "display_data"
    },
    {
     "name": "stdout",
     "output_type": "stream",
     "text": [
      "For type 9844, metrics:: auprc:0.8191, auroc:0.8896, ap@50:1.0\n",
      "current: 7797\n"
     ]
    },
    {
     "data": {
      "application/vnd.jupyter.widget-view+json": {
       "model_id": "78a7d43c29ad4bb08281242758ba52df",
       "version_major": 2,
       "version_minor": 0
      },
      "text/plain": [
       "0it [00:00, ?it/s]"
      ]
     },
     "metadata": {},
     "output_type": "display_data"
    },
    {
     "name": "stdout",
     "output_type": "stream",
     "text": [
      "For type 7797, metrics:: auprc:0.8146, auroc:0.8862, ap@50:1.0\n",
      "current: 5750\n"
     ]
    },
    {
     "data": {
      "application/vnd.jupyter.widget-view+json": {
       "model_id": "ead14ed68160454db3aad8a165328e7d",
       "version_major": 2,
       "version_minor": 0
      },
      "text/plain": [
       "0it [00:00, ?it/s]"
      ]
     },
     "metadata": {},
     "output_type": "display_data"
    },
    {
     "name": "stdout",
     "output_type": "stream",
     "text": [
      "For type 5750, metrics:: auprc:0.8003, auroc:0.8753, ap@50:1.0\n",
      "current: 3702\n"
     ]
    },
    {
     "data": {
      "application/vnd.jupyter.widget-view+json": {
       "model_id": "363d61704731430d875d9aa3006206e6",
       "version_major": 2,
       "version_minor": 0
      },
      "text/plain": [
       "0it [00:00, ?it/s]"
      ]
     },
     "metadata": {},
     "output_type": "display_data"
    },
    {
     "name": "stdout",
     "output_type": "stream",
     "text": [
      "For type 3702, metrics:: auprc:0.831, auroc:0.8983, ap@50:1.0\n",
      "current: 5752\n"
     ]
    },
    {
     "data": {
      "application/vnd.jupyter.widget-view+json": {
       "model_id": "dea7568f464f4448ba8043a422c52cb3",
       "version_major": 2,
       "version_minor": 0
      },
      "text/plain": [
       "0it [00:00, ?it/s]"
      ]
     },
     "metadata": {},
     "output_type": "display_data"
    },
    {
     "name": "stdout",
     "output_type": "stream",
     "text": [
      "For type 5752, metrics:: auprc:0.8193, auroc:0.8897, ap@50:1.0\n",
      "current: 5753\n"
     ]
    },
    {
     "data": {
      "application/vnd.jupyter.widget-view+json": {
       "model_id": "7c59915fdf994254bcb0d4947ab38ba9",
       "version_major": 2,
       "version_minor": 0
      },
      "text/plain": [
       "0it [00:00, ?it/s]"
      ]
     },
     "metadata": {},
     "output_type": "display_data"
    },
    {
     "name": "stdout",
     "output_type": "stream",
     "text": [
      "For type 5753, metrics:: auprc:0.8235, auroc:0.8928, ap@50:1.0\n",
      "current: 9847\n"
     ]
    },
    {
     "data": {
      "application/vnd.jupyter.widget-view+json": {
       "model_id": "d070fd3cf0a742fcb69c20d4658f9b5d",
       "version_major": 2,
       "version_minor": 0
      },
      "text/plain": [
       "0it [00:00, ?it/s]"
      ]
     },
     "metadata": {},
     "output_type": "display_data"
    },
    {
     "name": "stdout",
     "output_type": "stream",
     "text": [
      "For type 9847, metrics:: auprc:0.7915, auroc:0.8683, ap@50:1.0\n",
      "current: 5755\n"
     ]
    },
    {
     "data": {
      "application/vnd.jupyter.widget-view+json": {
       "model_id": "be6e2d38cd9442d69e4904c8475c5019",
       "version_major": 2,
       "version_minor": 0
      },
      "text/plain": [
       "0it [00:00, ?it/s]"
      ]
     },
     "metadata": {},
     "output_type": "display_data"
    },
    {
     "name": "stdout",
     "output_type": "stream",
     "text": [
      "For type 5755, metrics:: auprc:0.8234, auroc:0.8928, ap@50:1.0\n",
      "current: 7804\n"
     ]
    },
    {
     "data": {
      "application/vnd.jupyter.widget-view+json": {
       "model_id": "78d42080aa1340c5adf45363456a1308",
       "version_major": 2,
       "version_minor": 0
      },
      "text/plain": [
       "0it [00:00, ?it/s]"
      ]
     },
     "metadata": {},
     "output_type": "display_data"
    },
    {
     "name": "stdout",
     "output_type": "stream",
     "text": [
      "For type 7804, metrics:: auprc:0.8136, auroc:0.8855, ap@50:1.0\n",
      "current: 7803\n"
     ]
    },
    {
     "data": {
      "application/vnd.jupyter.widget-view+json": {
       "model_id": "81584c76b34b4382b4d56008c60aa608",
       "version_major": 2,
       "version_minor": 0
      },
      "text/plain": [
       "0it [00:00, ?it/s]"
      ]
     },
     "metadata": {},
     "output_type": "display_data"
    },
    {
     "name": "stdout",
     "output_type": "stream",
     "text": [
      "For type 7803, metrics:: auprc:0.8136, auroc:0.8855, ap@50:1.0\n",
      "current: 7809\n"
     ]
    },
    {
     "data": {
      "application/vnd.jupyter.widget-view+json": {
       "model_id": "574b620956954c87a174efdd1bdb4c7f",
       "version_major": 2,
       "version_minor": 0
      },
      "text/plain": [
       "0it [00:00, ?it/s]"
      ]
     },
     "metadata": {},
     "output_type": "display_data"
    },
    {
     "name": "stdout",
     "output_type": "stream",
     "text": [
      "For type 7809, metrics:: auprc:0.8096, auroc:0.8824, ap@50:1.0\n",
      "current: 9861\n"
     ]
    },
    {
     "data": {
      "application/vnd.jupyter.widget-view+json": {
       "model_id": "d9a831e5538c49ea893aa8c1892e2f77",
       "version_major": 2,
       "version_minor": 0
      },
      "text/plain": [
       "0it [00:00, ?it/s]"
      ]
     },
     "metadata": {},
     "output_type": "display_data"
    },
    {
     "name": "stdout",
     "output_type": "stream",
     "text": [
      "For type 9861, metrics:: auprc:0.8166, auroc:0.8877, ap@50:1.0\n",
      "current: 9862\n"
     ]
    },
    {
     "data": {
      "application/vnd.jupyter.widget-view+json": {
       "model_id": "6422a8f5608240b2bc77ccd362e7d1a4",
       "version_major": 2,
       "version_minor": 0
      },
      "text/plain": [
       "0it [00:00, ?it/s]"
      ]
     },
     "metadata": {},
     "output_type": "display_data"
    },
    {
     "name": "stdout",
     "output_type": "stream",
     "text": [
      "For type 9862, metrics:: auprc:0.8239, auroc:0.8932, ap@50:1.0\n",
      "current: 9863\n"
     ]
    },
    {
     "data": {
      "application/vnd.jupyter.widget-view+json": {
       "model_id": "a626310a708b413ea362e6b4abc0cdf6",
       "version_major": 2,
       "version_minor": 0
      },
      "text/plain": [
       "0it [00:00, ?it/s]"
      ]
     },
     "metadata": {},
     "output_type": "display_data"
    },
    {
     "name": "stdout",
     "output_type": "stream",
     "text": [
      "For type 9863, metrics:: auprc:0.8571, auroc:0.9167, ap@50:1.0\n",
      "current: 7813\n"
     ]
    },
    {
     "data": {
      "application/vnd.jupyter.widget-view+json": {
       "model_id": "c09d6cf9926149e39d47eb5861695dfb",
       "version_major": 2,
       "version_minor": 0
      },
      "text/plain": [
       "0it [00:00, ?it/s]"
      ]
     },
     "metadata": {},
     "output_type": "display_data"
    },
    {
     "name": "stdout",
     "output_type": "stream",
     "text": [
      "For type 7813, metrics:: auprc:0.8333, auroc:0.9, ap@50:1.0\n",
      "current: 7817\n"
     ]
    },
    {
     "data": {
      "application/vnd.jupyter.widget-view+json": {
       "model_id": "3e1b829554284f51af35fdf2e7c6ba9e",
       "version_major": 2,
       "version_minor": 0
      },
      "text/plain": [
       "0it [00:00, ?it/s]"
      ]
     },
     "metadata": {},
     "output_type": "display_data"
    },
    {
     "name": "stdout",
     "output_type": "stream",
     "text": [
      "For type 7817, metrics:: auprc:0.8075, auroc:0.8808, ap@50:1.0\n",
      "current: 7820\n"
     ]
    },
    {
     "data": {
      "application/vnd.jupyter.widget-view+json": {
       "model_id": "75db9ff88d4146e396083b7eedb54ddb",
       "version_major": 2,
       "version_minor": 0
      },
      "text/plain": [
       "0it [00:00, ?it/s]"
      ]
     },
     "metadata": {},
     "output_type": "display_data"
    },
    {
     "name": "stdout",
     "output_type": "stream",
     "text": [
      "For type 7820, metrics:: auprc:0.8571, auroc:0.9167, ap@50:1.0\n",
      "current: 9871\n"
     ]
    },
    {
     "data": {
      "application/vnd.jupyter.widget-view+json": {
       "model_id": "384c6064fa6449c4aa29f78c721a9339",
       "version_major": 2,
       "version_minor": 0
      },
      "text/plain": [
       "0it [00:00, ?it/s]"
      ]
     },
     "metadata": {},
     "output_type": "display_data"
    },
    {
     "name": "stdout",
     "output_type": "stream",
     "text": [
      "For type 9871, metrics:: auprc:0.8283, auroc:0.8964, ap@50:1.0\n",
      "current: 5775\n"
     ]
    },
    {
     "data": {
      "application/vnd.jupyter.widget-view+json": {
       "model_id": "2cce9d4b8bff4ae8b7287bfef62aaf93",
       "version_major": 2,
       "version_minor": 0
      },
      "text/plain": [
       "0it [00:00, ?it/s]"
      ]
     },
     "metadata": {},
     "output_type": "display_data"
    },
    {
     "name": "stdout",
     "output_type": "stream",
     "text": [
      "For type 5775, metrics:: auprc:0.8283, auroc:0.8963, ap@50:1.0\n",
      "current: 9873\n"
     ]
    },
    {
     "data": {
      "application/vnd.jupyter.widget-view+json": {
       "model_id": "a3f15f8639344f52b6f59d7158a9c632",
       "version_major": 2,
       "version_minor": 0
      },
      "text/plain": [
       "0it [00:00, ?it/s]"
      ]
     },
     "metadata": {},
     "output_type": "display_data"
    },
    {
     "name": "stdout",
     "output_type": "stream",
     "text": [
      "For type 9873, metrics:: auprc:0.8148, auroc:0.8863, ap@50:1.0\n",
      "current: 9874\n"
     ]
    },
    {
     "data": {
      "application/vnd.jupyter.widget-view+json": {
       "model_id": "868e5bb40d44425dbf54f316b508429d",
       "version_major": 2,
       "version_minor": 0
      },
      "text/plain": [
       "0it [00:00, ?it/s]"
      ]
     },
     "metadata": {},
     "output_type": "display_data"
    },
    {
     "name": "stdout",
     "output_type": "stream",
     "text": [
      "For type 9874, metrics:: auprc:0.8311, auroc:0.8984, ap@50:1.0\n",
      "current: 9875\n"
     ]
    },
    {
     "data": {
      "application/vnd.jupyter.widget-view+json": {
       "model_id": "a3251eef24884f159ee08200c062f772",
       "version_major": 2,
       "version_minor": 0
      },
      "text/plain": [
       "0it [00:00, ?it/s]"
      ]
     },
     "metadata": {},
     "output_type": "display_data"
    },
    {
     "name": "stdout",
     "output_type": "stream",
     "text": [
      "For type 9875, metrics:: auprc:0.81, auroc:0.8827, ap@50:1.0\n",
      "current: 3732\n"
     ]
    },
    {
     "data": {
      "application/vnd.jupyter.widget-view+json": {
       "model_id": "13a43b78ccae41749c70ee89e899d8f8",
       "version_major": 2,
       "version_minor": 0
      },
      "text/plain": [
       "0it [00:00, ?it/s]"
      ]
     },
     "metadata": {},
     "output_type": "display_data"
    },
    {
     "name": "stdout",
     "output_type": "stream",
     "text": [
      "For type 3732, metrics:: auprc:0.8376, auroc:0.9031, ap@50:1.0\n",
      "current: 1685\n"
     ]
    },
    {
     "data": {
      "application/vnd.jupyter.widget-view+json": {
       "model_id": "7ca583e34fd14dfbb68ce2451a8d2adc",
       "version_major": 2,
       "version_minor": 0
      },
      "text/plain": [
       "0it [00:00, ?it/s]"
      ]
     },
     "metadata": {},
     "output_type": "display_data"
    },
    {
     "name": "stdout",
     "output_type": "stream",
     "text": [
      "For type 1685, metrics:: auprc:0.8223, auroc:0.892, ap@50:1.0\n",
      "current: 9879\n"
     ]
    },
    {
     "data": {
      "application/vnd.jupyter.widget-view+json": {
       "model_id": "71f2eb45601043399c5e97cdc496f941",
       "version_major": 2,
       "version_minor": 0
      },
      "text/plain": [
       "0it [00:00, ?it/s]"
      ]
     },
     "metadata": {},
     "output_type": "display_data"
    },
    {
     "name": "stdout",
     "output_type": "stream",
     "text": [
      "For type 9879, metrics:: auprc:0.8119, auroc:0.8841, ap@50:1.0\n",
      "current: 7833\n"
     ]
    },
    {
     "data": {
      "application/vnd.jupyter.widget-view+json": {
       "model_id": "0ced1acedfcc473ba55d59e60292df63",
       "version_major": 2,
       "version_minor": 0
      },
      "text/plain": [
       "0it [00:00, ?it/s]"
      ]
     },
     "metadata": {},
     "output_type": "display_data"
    },
    {
     "name": "stdout",
     "output_type": "stream",
     "text": [
      "For type 7833, metrics:: auprc:0.8215, auroc:0.8913, ap@50:1.0\n",
      "current: 7834\n"
     ]
    },
    {
     "data": {
      "application/vnd.jupyter.widget-view+json": {
       "model_id": "2028f928e99443b48c1b587502c05a68",
       "version_major": 2,
       "version_minor": 0
      },
      "text/plain": [
       "0it [00:00, ?it/s]"
      ]
     },
     "metadata": {},
     "output_type": "display_data"
    },
    {
     "name": "stdout",
     "output_type": "stream",
     "text": [
      "For type 7834, metrics:: auprc:0.8132, auroc:0.8852, ap@50:1.0\n",
      "current: 9883\n"
     ]
    },
    {
     "data": {
      "application/vnd.jupyter.widget-view+json": {
       "model_id": "cedde1a788d84b48a66ca53654e4db1b",
       "version_major": 2,
       "version_minor": 0
      },
      "text/plain": [
       "0it [00:00, ?it/s]"
      ]
     },
     "metadata": {},
     "output_type": "display_data"
    },
    {
     "name": "stdout",
     "output_type": "stream",
     "text": [
      "For type 9883, metrics:: auprc:0.7911, auroc:0.868, ap@50:1.0\n",
      "current: 9884\n"
     ]
    },
    {
     "data": {
      "application/vnd.jupyter.widget-view+json": {
       "model_id": "e4d5aca6fa5d488a85ad64a162d54fa6",
       "version_major": 2,
       "version_minor": 0
      },
      "text/plain": [
       "0it [00:00, ?it/s]"
      ]
     },
     "metadata": {},
     "output_type": "display_data"
    },
    {
     "name": "stdout",
     "output_type": "stream",
     "text": [
      "For type 9884, metrics:: auprc:0.8424, auroc:0.9065, ap@50:1.0\n",
      "current: 5789\n"
     ]
    },
    {
     "data": {
      "application/vnd.jupyter.widget-view+json": {
       "model_id": "c08c0e006f604d1088aa3f4d36f14eae",
       "version_major": 2,
       "version_minor": 0
      },
      "text/plain": [
       "0it [00:00, ?it/s]"
      ]
     },
     "metadata": {},
     "output_type": "display_data"
    },
    {
     "name": "stdout",
     "output_type": "stream",
     "text": [
      "For type 5789, metrics:: auprc:0.8137, auroc:0.8855, ap@50:1.0\n",
      "current: 1694\n"
     ]
    },
    {
     "data": {
      "application/vnd.jupyter.widget-view+json": {
       "model_id": "d42c2c6c150c453bbf103ef0d49cb116",
       "version_major": 2,
       "version_minor": 0
      },
      "text/plain": [
       "0it [00:00, ?it/s]"
      ]
     },
     "metadata": {},
     "output_type": "display_data"
    },
    {
     "name": "stdout",
     "output_type": "stream",
     "text": [
      "For type 1694, metrics:: auprc:0.8262, auroc:0.8948, ap@50:1.0\n",
      "current: 3744\n"
     ]
    },
    {
     "data": {
      "application/vnd.jupyter.widget-view+json": {
       "model_id": "c95da9e670744001ba9cd17d5ed35660",
       "version_major": 2,
       "version_minor": 0
      },
      "text/plain": [
       "0it [00:00, ?it/s]"
      ]
     },
     "metadata": {},
     "output_type": "display_data"
    },
    {
     "name": "stdout",
     "output_type": "stream",
     "text": [
      "For type 3744, metrics:: auprc:0.8215, auroc:0.8914, ap@50:1.0\n",
      "current: 9889\n"
     ]
    },
    {
     "data": {
      "application/vnd.jupyter.widget-view+json": {
       "model_id": "efa1a153fb3640fab91ed72ee53f64aa",
       "version_major": 2,
       "version_minor": 0
      },
      "text/plain": [
       "0it [00:00, ?it/s]"
      ]
     },
     "metadata": {},
     "output_type": "display_data"
    },
    {
     "name": "stdout",
     "output_type": "stream",
     "text": [
      "For type 9889, metrics:: auprc:0.8192, auroc:0.8896, ap@50:1.0\n",
      "current: 7844\n"
     ]
    },
    {
     "data": {
      "application/vnd.jupyter.widget-view+json": {
       "model_id": "dada7fc2620c4ecbbd159a53f7ccca8b",
       "version_major": 2,
       "version_minor": 0
      },
      "text/plain": [
       "0it [00:00, ?it/s]"
      ]
     },
     "metadata": {},
     "output_type": "display_data"
    },
    {
     "name": "stdout",
     "output_type": "stream",
     "text": [
      "For type 7844, metrics:: auprc:0.8317, auroc:0.8988, ap@50:1.0\n",
      "current: 3750\n"
     ]
    },
    {
     "data": {
      "application/vnd.jupyter.widget-view+json": {
       "model_id": "7ec945d3d4dd495a8fb71de75c8fc2da",
       "version_major": 2,
       "version_minor": 0
      },
      "text/plain": [
       "0it [00:00, ?it/s]"
      ]
     },
     "metadata": {},
     "output_type": "display_data"
    },
    {
     "name": "stdout",
     "output_type": "stream",
     "text": [
      "For type 3750, metrics:: auprc:0.8108, auroc:0.8833, ap@50:1.0\n",
      "current: 5801\n"
     ]
    },
    {
     "data": {
      "application/vnd.jupyter.widget-view+json": {
       "model_id": "10f139fa58524bc99dd4dc1e41b6d9ad",
       "version_major": 2,
       "version_minor": 0
      },
      "text/plain": [
       "0it [00:00, ?it/s]"
      ]
     },
     "metadata": {},
     "output_type": "display_data"
    },
    {
     "name": "stdout",
     "output_type": "stream",
     "text": [
      "For type 5801, metrics:: auprc:0.8629, auroc:0.9206, ap@50:1.0\n",
      "current: 1707\n"
     ]
    },
    {
     "data": {
      "application/vnd.jupyter.widget-view+json": {
       "model_id": "947b90aa49284babbc62c5b936d3bc2e",
       "version_major": 2,
       "version_minor": 0
      },
      "text/plain": [
       "0it [00:00, ?it/s]"
      ]
     },
     "metadata": {},
     "output_type": "display_data"
    },
    {
     "name": "stdout",
     "output_type": "stream",
     "text": [
      "For type 1707, metrics:: auprc:0.8111, auroc:0.8835, ap@50:1.0\n",
      "current: 7853\n"
     ]
    },
    {
     "data": {
      "application/vnd.jupyter.widget-view+json": {
       "model_id": "bfc7890e0a1f46b6ade63262c178d3fa",
       "version_major": 2,
       "version_minor": 0
      },
      "text/plain": [
       "0it [00:00, ?it/s]"
      ]
     },
     "metadata": {},
     "output_type": "display_data"
    },
    {
     "name": "stdout",
     "output_type": "stream",
     "text": [
      "For type 7853, metrics:: auprc:0.8058, auroc:0.8795, ap@50:1.0\n",
      "current: 9904\n"
     ]
    },
    {
     "data": {
      "application/vnd.jupyter.widget-view+json": {
       "model_id": "a1afd2d1554d4e4389d91bb076a303d5",
       "version_major": 2,
       "version_minor": 0
      },
      "text/plain": [
       "0it [00:00, ?it/s]"
      ]
     },
     "metadata": {},
     "output_type": "display_data"
    },
    {
     "name": "stdout",
     "output_type": "stream",
     "text": [
      "For type 9904, metrics:: auprc:0.8099, auroc:0.8826, ap@50:1.0\n",
      "current: 5809\n"
     ]
    },
    {
     "data": {
      "application/vnd.jupyter.widget-view+json": {
       "model_id": "c052f92e4e414478959a91318789386d",
       "version_major": 2,
       "version_minor": 0
      },
      "text/plain": [
       "0it [00:00, ?it/s]"
      ]
     },
     "metadata": {},
     "output_type": "display_data"
    },
    {
     "name": "stdout",
     "output_type": "stream",
     "text": [
      "For type 5809, metrics:: auprc:0.8305, auroc:0.898, ap@50:1.0\n",
      "current: 3760\n"
     ]
    },
    {
     "data": {
      "application/vnd.jupyter.widget-view+json": {
       "model_id": "2888928a3a904c72997414dd8c5a2f9b",
       "version_major": 2,
       "version_minor": 0
      },
      "text/plain": [
       "0it [00:00, ?it/s]"
      ]
     },
     "metadata": {},
     "output_type": "display_data"
    },
    {
     "name": "stdout",
     "output_type": "stream",
     "text": [
      "For type 3760, metrics:: auprc:0.7979, auroc:0.8734, ap@50:1.0\n",
      "current: 7858\n"
     ]
    },
    {
     "data": {
      "application/vnd.jupyter.widget-view+json": {
       "model_id": "e94fac610dbe46ae966f4d0fdb049ee7",
       "version_major": 2,
       "version_minor": 0
      },
      "text/plain": [
       "0it [00:00, ?it/s]"
      ]
     },
     "metadata": {},
     "output_type": "display_data"
    },
    {
     "name": "stdout",
     "output_type": "stream",
     "text": [
      "For type 7858, metrics:: auprc:0.8201, auroc:0.8904, ap@50:1.0\n",
      "current: 5812\n"
     ]
    },
    {
     "data": {
      "application/vnd.jupyter.widget-view+json": {
       "model_id": "fce5902635d64f9e9e63ef00d5c1c6ec",
       "version_major": 2,
       "version_minor": 0
      },
      "text/plain": [
       "0it [00:00, ?it/s]"
      ]
     },
     "metadata": {},
     "output_type": "display_data"
    },
    {
     "name": "stdout",
     "output_type": "stream",
     "text": [
      "For type 5812, metrics:: auprc:0.8138, auroc:0.8856, ap@50:1.0\n",
      "current: 9910\n"
     ]
    },
    {
     "data": {
      "application/vnd.jupyter.widget-view+json": {
       "model_id": "050e881e9ad0423588411af81125c896",
       "version_major": 2,
       "version_minor": 0
      },
      "text/plain": [
       "0it [00:00, ?it/s]"
      ]
     },
     "metadata": {},
     "output_type": "display_data"
    },
    {
     "name": "stdout",
     "output_type": "stream",
     "text": [
      "For type 9910, metrics:: auprc:0.8175, auroc:0.8884, ap@50:1.0\n",
      "current: 3767\n"
     ]
    },
    {
     "data": {
      "application/vnd.jupyter.widget-view+json": {
       "model_id": "50706960c32d46a299024098a423c0d2",
       "version_major": 2,
       "version_minor": 0
      },
      "text/plain": [
       "0it [00:00, ?it/s]"
      ]
     },
     "metadata": {},
     "output_type": "display_data"
    },
    {
     "name": "stdout",
     "output_type": "stream",
     "text": [
      "For type 3767, metrics:: auprc:0.8599, auroc:0.9185, ap@50:1.0\n",
      "current: 1721\n"
     ]
    },
    {
     "data": {
      "application/vnd.jupyter.widget-view+json": {
       "model_id": "2c2b39bdfcc34d949652734f4c7d839e",
       "version_major": 2,
       "version_minor": 0
      },
      "text/plain": [
       "0it [00:00, ?it/s]"
      ]
     },
     "metadata": {},
     "output_type": "display_data"
    },
    {
     "name": "stdout",
     "output_type": "stream",
     "text": [
      "For type 1721, metrics:: auprc:0.812, auroc:0.8843, ap@50:1.0\n",
      "current: 5818\n"
     ]
    },
    {
     "data": {
      "application/vnd.jupyter.widget-view+json": {
       "model_id": "f78cff5e92c644f380edaa30b55b6f02",
       "version_major": 2,
       "version_minor": 0
      },
      "text/plain": [
       "0it [00:00, ?it/s]"
      ]
     },
     "metadata": {},
     "output_type": "display_data"
    },
    {
     "name": "stdout",
     "output_type": "stream",
     "text": [
      "For type 5818, metrics:: auprc:0.7997, auroc:0.8748, ap@50:1.0\n",
      "current: 9918\n"
     ]
    },
    {
     "data": {
      "application/vnd.jupyter.widget-view+json": {
       "model_id": "4f1deb7e8b7d4b4786d091ca0b401ebc",
       "version_major": 2,
       "version_minor": 0
      },
      "text/plain": [
       "0it [00:00, ?it/s]"
      ]
     },
     "metadata": {},
     "output_type": "display_data"
    },
    {
     "name": "stdout",
     "output_type": "stream",
     "text": [
      "For type 9918, metrics:: auprc:0.7919, auroc:0.8686, ap@50:1.0\n",
      "current: 7874\n"
     ]
    },
    {
     "data": {
      "application/vnd.jupyter.widget-view+json": {
       "model_id": "4417c3383ac64059b41e765d6e5f68b6",
       "version_major": 2,
       "version_minor": 0
      },
      "text/plain": [
       "0it [00:00, ?it/s]"
      ]
     },
     "metadata": {},
     "output_type": "display_data"
    },
    {
     "name": "stdout",
     "output_type": "stream",
     "text": [
      "For type 7874, metrics:: auprc:0.8138, auroc:0.8856, ap@50:1.0\n",
      "current: 1733\n"
     ]
    },
    {
     "data": {
      "application/vnd.jupyter.widget-view+json": {
       "model_id": "dd80aa7d52634dd1bc33e92ce4f1b672",
       "version_major": 2,
       "version_minor": 0
      },
      "text/plain": [
       "0it [00:00, ?it/s]"
      ]
     },
     "metadata": {},
     "output_type": "display_data"
    },
    {
     "name": "stdout",
     "output_type": "stream",
     "text": [
      "For type 1733, metrics:: auprc:0.8144, auroc:0.8861, ap@50:1.0\n",
      "current: 7884\n"
     ]
    },
    {
     "data": {
      "application/vnd.jupyter.widget-view+json": {
       "model_id": "d269f957c27443358b0ebf32f34d44d1",
       "version_major": 2,
       "version_minor": 0
      },
      "text/plain": [
       "0it [00:00, ?it/s]"
      ]
     },
     "metadata": {},
     "output_type": "display_data"
    },
    {
     "name": "stdout",
     "output_type": "stream",
     "text": [
      "For type 7884, metrics:: auprc:0.8198, auroc:0.8901, ap@50:1.0\n",
      "current: 7885\n"
     ]
    },
    {
     "data": {
      "application/vnd.jupyter.widget-view+json": {
       "model_id": "407a04d0918947c987d39249d3418a6a",
       "version_major": 2,
       "version_minor": 0
      },
      "text/plain": [
       "0it [00:00, ?it/s]"
      ]
     },
     "metadata": {},
     "output_type": "display_data"
    },
    {
     "name": "stdout",
     "output_type": "stream",
     "text": [
      "For type 7885, metrics:: auprc:0.8107, auroc:0.8833, ap@50:1.0\n",
      "current: 1744\n"
     ]
    },
    {
     "data": {
      "application/vnd.jupyter.widget-view+json": {
       "model_id": "8b4505075e884a4f84532aa93f08eab9",
       "version_major": 2,
       "version_minor": 0
      },
      "text/plain": [
       "0it [00:00, ?it/s]"
      ]
     },
     "metadata": {},
     "output_type": "display_data"
    },
    {
     "name": "stdout",
     "output_type": "stream",
     "text": [
      "For type 1744, metrics:: auprc:0.8149, auroc:0.8864, ap@50:1.0\n",
      "current: 1746\n"
     ]
    },
    {
     "data": {
      "application/vnd.jupyter.widget-view+json": {
       "model_id": "4b16501a358c454691dc1846195598d3",
       "version_major": 2,
       "version_minor": 0
      },
      "text/plain": [
       "0it [00:00, ?it/s]"
      ]
     },
     "metadata": {},
     "output_type": "display_data"
    },
    {
     "name": "stdout",
     "output_type": "stream",
     "text": [
      "For type 1746, metrics:: auprc:0.8175, auroc:0.8884, ap@50:1.0\n",
      "current: 5843\n"
     ]
    },
    {
     "data": {
      "application/vnd.jupyter.widget-view+json": {
       "model_id": "5df8649caa934165a5f77f060c74b831",
       "version_major": 2,
       "version_minor": 0
      },
      "text/plain": [
       "0it [00:00, ?it/s]"
      ]
     },
     "metadata": {},
     "output_type": "display_data"
    },
    {
     "name": "stdout",
     "output_type": "stream",
     "text": [
      "For type 5843, metrics:: auprc:0.8213, auroc:0.8912, ap@50:1.0\n",
      "current: 3795\n"
     ]
    },
    {
     "data": {
      "application/vnd.jupyter.widget-view+json": {
       "model_id": "ce01b9963f194e4f9f91c30e5b88b1ff",
       "version_major": 2,
       "version_minor": 0
      },
      "text/plain": [
       "0it [00:00, ?it/s]"
      ]
     },
     "metadata": {},
     "output_type": "display_data"
    },
    {
     "name": "stdout",
     "output_type": "stream",
     "text": [
      "For type 3795, metrics:: auprc:0.8088, auroc:0.8818, ap@50:1.0\n",
      "current: 1749\n"
     ]
    },
    {
     "data": {
      "application/vnd.jupyter.widget-view+json": {
       "model_id": "084bd2755c2340caa26b984cd04cfc60",
       "version_major": 2,
       "version_minor": 0
      },
      "text/plain": [
       "0it [00:00, ?it/s]"
      ]
     },
     "metadata": {},
     "output_type": "display_data"
    },
    {
     "name": "stdout",
     "output_type": "stream",
     "text": [
      "For type 1749, metrics:: auprc:0.8126, auroc:0.8847, ap@50:1.0\n",
      "current: 5842\n"
     ]
    },
    {
     "data": {
      "application/vnd.jupyter.widget-view+json": {
       "model_id": "70defb40187d428981c880cf959a194d",
       "version_major": 2,
       "version_minor": 0
      },
      "text/plain": [
       "0it [00:00, ?it/s]"
      ]
     },
     "metadata": {},
     "output_type": "display_data"
    },
    {
     "name": "stdout",
     "output_type": "stream",
     "text": [
      "For type 5842, metrics:: auprc:0.8302, auroc:0.8977, ap@50:1.0\n",
      "current: 9938\n"
     ]
    },
    {
     "data": {
      "application/vnd.jupyter.widget-view+json": {
       "model_id": "8ab3b9f040f94b53890e8e66abb80621",
       "version_major": 2,
       "version_minor": 0
      },
      "text/plain": [
       "0it [00:00, ?it/s]"
      ]
     },
     "metadata": {},
     "output_type": "display_data"
    },
    {
     "name": "stdout",
     "output_type": "stream",
     "text": [
      "For type 9938, metrics:: auprc:0.8143, auroc:0.886, ap@50:1.0\n",
      "current: 9944\n"
     ]
    },
    {
     "data": {
      "application/vnd.jupyter.widget-view+json": {
       "model_id": "01538c535170426497bfc02e619be271",
       "version_major": 2,
       "version_minor": 0
      },
      "text/plain": [
       "0it [00:00, ?it/s]"
      ]
     },
     "metadata": {},
     "output_type": "display_data"
    },
    {
     "name": "stdout",
     "output_type": "stream",
     "text": [
      "For type 9944, metrics:: auprc:0.8214, auroc:0.8913, ap@50:1.0\n",
      "current: 7897\n"
     ]
    },
    {
     "data": {
      "application/vnd.jupyter.widget-view+json": {
       "model_id": "751c051b21594c81a5618757385ea025",
       "version_major": 2,
       "version_minor": 0
      },
      "text/plain": [
       "0it [00:00, ?it/s]"
      ]
     },
     "metadata": {},
     "output_type": "display_data"
    },
    {
     "name": "stdout",
     "output_type": "stream",
     "text": [
      "For type 7897, metrics:: auprc:0.8198, auroc:0.8901, ap@50:1.0\n",
      "current: 9946\n"
     ]
    },
    {
     "data": {
      "application/vnd.jupyter.widget-view+json": {
       "model_id": "6eef377e5d0045b59c98f843afd6c644",
       "version_major": 2,
       "version_minor": 0
      },
      "text/plain": [
       "0it [00:00, ?it/s]"
      ]
     },
     "metadata": {},
     "output_type": "display_data"
    },
    {
     "name": "stdout",
     "output_type": "stream",
     "text": [
      "For type 9946, metrics:: auprc:0.8505, auroc:0.9121, ap@50:1.0\n",
      "current: 1759\n"
     ]
    },
    {
     "data": {
      "application/vnd.jupyter.widget-view+json": {
       "model_id": "4ef95e66898b454ca0c561b5bee6fb7c",
       "version_major": 2,
       "version_minor": 0
      },
      "text/plain": [
       "0it [00:00, ?it/s]"
      ]
     },
     "metadata": {},
     "output_type": "display_data"
    },
    {
     "name": "stdout",
     "output_type": "stream",
     "text": [
      "For type 1759, metrics:: auprc:0.8, auroc:0.875, ap@50:1.0\n",
      "current: 7907\n"
     ]
    },
    {
     "data": {
      "application/vnd.jupyter.widget-view+json": {
       "model_id": "11a13f6b22ad4387b5117b6c047a0a1e",
       "version_major": 2,
       "version_minor": 0
      },
      "text/plain": [
       "0it [00:00, ?it/s]"
      ]
     },
     "metadata": {},
     "output_type": "display_data"
    },
    {
     "name": "stdout",
     "output_type": "stream",
     "text": [
      "For type 7907, metrics:: auprc:0.8196, auroc:0.89, ap@50:1.0\n",
      "current: 5862\n"
     ]
    },
    {
     "data": {
      "application/vnd.jupyter.widget-view+json": {
       "model_id": "a0086fc5ea904044be56722aef6c0dc8",
       "version_major": 2,
       "version_minor": 0
      },
      "text/plain": [
       "0it [00:00, ?it/s]"
      ]
     },
     "metadata": {},
     "output_type": "display_data"
    },
    {
     "name": "stdout",
     "output_type": "stream",
     "text": [
      "For type 5862, metrics:: auprc:0.8128, auroc:0.8849, ap@50:1.0\n",
      "current: 7910\n"
     ]
    },
    {
     "data": {
      "application/vnd.jupyter.widget-view+json": {
       "model_id": "4b4a4db4eedf47a1922e9256e6293814",
       "version_major": 2,
       "version_minor": 0
      },
      "text/plain": [
       "0it [00:00, ?it/s]"
      ]
     },
     "metadata": {},
     "output_type": "display_data"
    },
    {
     "name": "stdout",
     "output_type": "stream",
     "text": [
      "For type 7910, metrics:: auprc:0.7888, auroc:0.8661, ap@50:1.0\n",
      "current: 3816\n"
     ]
    },
    {
     "data": {
      "application/vnd.jupyter.widget-view+json": {
       "model_id": "80d2a7affad44afdb71f0ba02ad03265",
       "version_major": 2,
       "version_minor": 0
      },
      "text/plain": [
       "0it [00:00, ?it/s]"
      ]
     },
     "metadata": {},
     "output_type": "display_data"
    },
    {
     "name": "stdout",
     "output_type": "stream",
     "text": [
      "For type 3816, metrics:: auprc:0.7863, auroc:0.8641, ap@50:1.0\n",
      "current: 9960\n"
     ]
    },
    {
     "data": {
      "application/vnd.jupyter.widget-view+json": {
       "model_id": "188a82cb23d648409a9907312b2da349",
       "version_major": 2,
       "version_minor": 0
      },
      "text/plain": [
       "0it [00:00, ?it/s]"
      ]
     },
     "metadata": {},
     "output_type": "display_data"
    },
    {
     "name": "stdout",
     "output_type": "stream",
     "text": [
      "For type 9960, metrics:: auprc:0.8158, auroc:0.8871, ap@50:1.0\n",
      "current: 7913\n"
     ]
    },
    {
     "data": {
      "application/vnd.jupyter.widget-view+json": {
       "model_id": "ca60c69fa0064823b4475638a708da7a",
       "version_major": 2,
       "version_minor": 0
      },
      "text/plain": [
       "0it [00:00, ?it/s]"
      ]
     },
     "metadata": {},
     "output_type": "display_data"
    },
    {
     "name": "stdout",
     "output_type": "stream",
     "text": [
      "For type 7913, metrics:: auprc:0.8059, auroc:0.8796, ap@50:1.0\n",
      "current: 3819\n"
     ]
    },
    {
     "data": {
      "application/vnd.jupyter.widget-view+json": {
       "model_id": "aa1a513cdf4b4696982757fffe268a11",
       "version_major": 2,
       "version_minor": 0
      },
      "text/plain": [
       "0it [00:00, ?it/s]"
      ]
     },
     "metadata": {},
     "output_type": "display_data"
    },
    {
     "name": "stdout",
     "output_type": "stream",
     "text": [
      "For type 3819, metrics:: auprc:0.809, auroc:0.882, ap@50:1.0\n",
      "current: 5869\n"
     ]
    },
    {
     "data": {
      "application/vnd.jupyter.widget-view+json": {
       "model_id": "3b8e0ed08edf4a8caa5bc3722d3b5a1b",
       "version_major": 2,
       "version_minor": 0
      },
      "text/plain": [
       "0it [00:00, ?it/s]"
      ]
     },
     "metadata": {},
     "output_type": "display_data"
    },
    {
     "name": "stdout",
     "output_type": "stream",
     "text": [
      "For type 5869, metrics:: auprc:0.8196, auroc:0.8899, ap@50:1.0\n",
      "current: 9967\n"
     ]
    },
    {
     "data": {
      "application/vnd.jupyter.widget-view+json": {
       "model_id": "86bc901beb174209b2c8c1f8a1f53281",
       "version_major": 2,
       "version_minor": 0
      },
      "text/plain": [
       "0it [00:00, ?it/s]"
      ]
     },
     "metadata": {},
     "output_type": "display_data"
    },
    {
     "name": "stdout",
     "output_type": "stream",
     "text": [
      "For type 9967, metrics:: auprc:0.8145, auroc:0.8862, ap@50:1.0\n",
      "current: 3824\n"
     ]
    },
    {
     "data": {
      "application/vnd.jupyter.widget-view+json": {
       "model_id": "b33da4dc40ab4b92a7f5a6d22291b4fb",
       "version_major": 2,
       "version_minor": 0
      },
      "text/plain": [
       "0it [00:00, ?it/s]"
      ]
     },
     "metadata": {},
     "output_type": "display_data"
    },
    {
     "name": "stdout",
     "output_type": "stream",
     "text": [
      "For type 3824, metrics:: auprc:0.8326, auroc:0.8994, ap@50:1.0\n",
      "current: 3838\n"
     ]
    },
    {
     "data": {
      "application/vnd.jupyter.widget-view+json": {
       "model_id": "f7bbb88ed2d24ed797d9d38379a252da",
       "version_major": 2,
       "version_minor": 0
      },
      "text/plain": [
       "0it [00:00, ?it/s]"
      ]
     },
     "metadata": {},
     "output_type": "display_data"
    },
    {
     "name": "stdout",
     "output_type": "stream",
     "text": [
      "For type 3838, metrics:: auprc:0.8165, auroc:0.8876, ap@50:1.0\n",
      "current: 7936\n"
     ]
    },
    {
     "data": {
      "application/vnd.jupyter.widget-view+json": {
       "model_id": "f9eec6d10d604949ac5605893b8058bf",
       "version_major": 2,
       "version_minor": 0
      },
      "text/plain": [
       "0it [00:00, ?it/s]"
      ]
     },
     "metadata": {},
     "output_type": "display_data"
    },
    {
     "name": "stdout",
     "output_type": "stream",
     "text": [
      "For type 7936, metrics:: auprc:0.8187, auroc:0.8893, ap@50:1.0\n",
      "current: 1793\n"
     ]
    },
    {
     "data": {
      "application/vnd.jupyter.widget-view+json": {
       "model_id": "5e6e4dce14624c5d9c11ed233df6dca9",
       "version_major": 2,
       "version_minor": 0
      },
      "text/plain": [
       "0it [00:00, ?it/s]"
      ]
     },
     "metadata": {},
     "output_type": "display_data"
    },
    {
     "name": "stdout",
     "output_type": "stream",
     "text": [
      "For type 1793, metrics:: auprc:0.8163, auroc:0.8874, ap@50:1.0\n",
      "current: 7940\n"
     ]
    },
    {
     "data": {
      "application/vnd.jupyter.widget-view+json": {
       "model_id": "5f12c5ce2b02450ea1586cd686bf09f8",
       "version_major": 2,
       "version_minor": 0
      },
      "text/plain": [
       "0it [00:00, ?it/s]"
      ]
     },
     "metadata": {},
     "output_type": "display_data"
    },
    {
     "name": "stdout",
     "output_type": "stream",
     "text": [
      "For type 7940, metrics:: auprc:0.8181, auroc:0.8888, ap@50:1.0\n",
      "current: 7944\n"
     ]
    },
    {
     "data": {
      "application/vnd.jupyter.widget-view+json": {
       "model_id": "fc85280a74d648d188c790227b7a79ee",
       "version_major": 2,
       "version_minor": 0
      },
      "text/plain": [
       "0it [00:00, ?it/s]"
      ]
     },
     "metadata": {},
     "output_type": "display_data"
    },
    {
     "name": "stdout",
     "output_type": "stream",
     "text": [
      "For type 7944, metrics:: auprc:0.8173, auroc:0.8882, ap@50:1.0\n",
      "current: 3852\n"
     ]
    },
    {
     "data": {
      "application/vnd.jupyter.widget-view+json": {
       "model_id": "fd878af6713d4cb885711aff1e13329a",
       "version_major": 2,
       "version_minor": 0
      },
      "text/plain": [
       "0it [00:00, ?it/s]"
      ]
     },
     "metadata": {},
     "output_type": "display_data"
    },
    {
     "name": "stdout",
     "output_type": "stream",
     "text": [
      "For type 3852, metrics:: auprc:0.8118, auroc:0.8841, ap@50:1.0\n",
      "current: 7948\n"
     ]
    },
    {
     "data": {
      "application/vnd.jupyter.widget-view+json": {
       "model_id": "1020b0ec3635401ca1a874d8146d0971",
       "version_major": 2,
       "version_minor": 0
      },
      "text/plain": [
       "0it [00:00, ?it/s]"
      ]
     },
     "metadata": {},
     "output_type": "display_data"
    },
    {
     "name": "stdout",
     "output_type": "stream",
     "text": [
      "For type 7948, metrics:: auprc:0.7997, auroc:0.8748, ap@50:1.0\n",
      "current: 1806\n"
     ]
    },
    {
     "data": {
      "application/vnd.jupyter.widget-view+json": {
       "model_id": "158e0c2fa0aa4d239541407ddf0940d9",
       "version_major": 2,
       "version_minor": 0
      },
      "text/plain": [
       "0it [00:00, ?it/s]"
      ]
     },
     "metadata": {},
     "output_type": "display_data"
    },
    {
     "name": "stdout",
     "output_type": "stream",
     "text": [
      "For type 1806, metrics:: auprc:0.8027, auroc:0.8771, ap@50:1.0\n",
      "current: 1808\n"
     ]
    },
    {
     "data": {
      "application/vnd.jupyter.widget-view+json": {
       "model_id": "50fdedc618c945259c3e2653a8230c73",
       "version_major": 2,
       "version_minor": 0
      },
      "text/plain": [
       "0it [00:00, ?it/s]"
      ]
     },
     "metadata": {},
     "output_type": "display_data"
    },
    {
     "name": "stdout",
     "output_type": "stream",
     "text": [
      "For type 1808, metrics:: auprc:0.8303, auroc:0.8978, ap@50:1.0\n",
      "current: 3856\n"
     ]
    },
    {
     "data": {
      "application/vnd.jupyter.widget-view+json": {
       "model_id": "9c2c09cbe4224b6e8c2bd9cf84662a2f",
       "version_major": 2,
       "version_minor": 0
      },
      "text/plain": [
       "0it [00:00, ?it/s]"
      ]
     },
     "metadata": {},
     "output_type": "display_data"
    },
    {
     "name": "stdout",
     "output_type": "stream",
     "text": [
      "For type 3856, metrics:: auprc:0.8272, auroc:0.8955, ap@50:1.0\n",
      "current: 1810\n"
     ]
    },
    {
     "data": {
      "application/vnd.jupyter.widget-view+json": {
       "model_id": "62536bb511c54ab8b1cf9b5da79ee904",
       "version_major": 2,
       "version_minor": 0
      },
      "text/plain": [
       "0it [00:00, ?it/s]"
      ]
     },
     "metadata": {},
     "output_type": "display_data"
    },
    {
     "name": "stdout",
     "output_type": "stream",
     "text": [
      "For type 1810, metrics:: auprc:0.8201, auroc:0.8903, ap@50:1.0\n",
      "current: 3865\n"
     ]
    },
    {
     "data": {
      "application/vnd.jupyter.widget-view+json": {
       "model_id": "164af9106ea84a169d90edbad0d94324",
       "version_major": 2,
       "version_minor": 0
      },
      "text/plain": [
       "0it [00:00, ?it/s]"
      ]
     },
     "metadata": {},
     "output_type": "display_data"
    },
    {
     "name": "stdout",
     "output_type": "stream",
     "text": [
      "For type 3865, metrics:: auprc:0.8128, auroc:0.8848, ap@50:1.0\n",
      "current: 5915\n"
     ]
    },
    {
     "data": {
      "application/vnd.jupyter.widget-view+json": {
       "model_id": "30ff63bda8154b5db9fe00eedcbff906",
       "version_major": 2,
       "version_minor": 0
      },
      "text/plain": [
       "0it [00:00, ?it/s]"
      ]
     },
     "metadata": {},
     "output_type": "display_data"
    },
    {
     "name": "stdout",
     "output_type": "stream",
     "text": [
      "For type 5915, metrics:: auprc:0.8129, auroc:0.8849, ap@50:1.0\n",
      "current: 5917\n"
     ]
    },
    {
     "data": {
      "application/vnd.jupyter.widget-view+json": {
       "model_id": "8c829eafd41542c884645a018c3b1d02",
       "version_major": 2,
       "version_minor": 0
      },
      "text/plain": [
       "0it [00:00, ?it/s]"
      ]
     },
     "metadata": {},
     "output_type": "display_data"
    },
    {
     "name": "stdout",
     "output_type": "stream",
     "text": [
      "For type 5917, metrics:: auprc:0.8035, auroc:0.8777, ap@50:1.0\n",
      "current: 1821\n"
     ]
    },
    {
     "data": {
      "application/vnd.jupyter.widget-view+json": {
       "model_id": "b918e7441194463e8cb1593983b3eda8",
       "version_major": 2,
       "version_minor": 0
      },
      "text/plain": [
       "0it [00:00, ?it/s]"
      ]
     },
     "metadata": {},
     "output_type": "display_data"
    },
    {
     "name": "stdout",
     "output_type": "stream",
     "text": [
      "For type 1821, metrics:: auprc:0.8093, auroc:0.8822, ap@50:1.0\n",
      "current: 1823\n"
     ]
    },
    {
     "data": {
      "application/vnd.jupyter.widget-view+json": {
       "model_id": "8a1817c618364db29936ed8191cd49a6",
       "version_major": 2,
       "version_minor": 0
      },
      "text/plain": [
       "0it [00:00, ?it/s]"
      ]
     },
     "metadata": {},
     "output_type": "display_data"
    },
    {
     "name": "stdout",
     "output_type": "stream",
     "text": [
      "For type 1823, metrics:: auprc:0.8328, auroc:0.8996, ap@50:1.0\n",
      "current: 7967\n"
     ]
    },
    {
     "data": {
      "application/vnd.jupyter.widget-view+json": {
       "model_id": "5e6ca61fa5084d3eb8a78824dbbab881",
       "version_major": 2,
       "version_minor": 0
      },
      "text/plain": [
       "0it [00:00, ?it/s]"
      ]
     },
     "metadata": {},
     "output_type": "display_data"
    },
    {
     "name": "stdout",
     "output_type": "stream",
     "text": [
      "For type 7967, metrics:: auprc:0.8354, auroc:0.9015, ap@50:1.0\n",
      "current: 7969\n"
     ]
    },
    {
     "data": {
      "application/vnd.jupyter.widget-view+json": {
       "model_id": "a7e7475fcdc74ca6828a90594c31a044",
       "version_major": 2,
       "version_minor": 0
      },
      "text/plain": [
       "0it [00:00, ?it/s]"
      ]
     },
     "metadata": {},
     "output_type": "display_data"
    },
    {
     "name": "stdout",
     "output_type": "stream",
     "text": [
      "For type 7969, metrics:: auprc:0.8092, auroc:0.8821, ap@50:1.0\n",
      "current: 5923\n"
     ]
    },
    {
     "data": {
      "application/vnd.jupyter.widget-view+json": {
       "model_id": "702080edc9844c37b031974bc2f69658",
       "version_major": 2,
       "version_minor": 0
      },
      "text/plain": [
       "0it [00:00, ?it/s]"
      ]
     },
     "metadata": {},
     "output_type": "display_data"
    },
    {
     "name": "stdout",
     "output_type": "stream",
     "text": [
      "For type 5923, metrics:: auprc:0.8391, auroc:0.9041, ap@50:1.0\n",
      "current: 363\n"
     ]
    },
    {
     "data": {
      "application/vnd.jupyter.widget-view+json": {
       "model_id": "8d8af702e05a4ba8ad301bf9aa328de5",
       "version_major": 2,
       "version_minor": 0
      },
      "text/plain": [
       "0it [00:00, ?it/s]"
      ]
     },
     "metadata": {},
     "output_type": "display_data"
    },
    {
     "name": "stdout",
     "output_type": "stream",
     "text": [
      "For type 363, metrics:: auprc:0.8251, auroc:0.894, ap@50:1.0\n",
      "current: 1831\n"
     ]
    },
    {
     "data": {
      "application/vnd.jupyter.widget-view+json": {
       "model_id": "c0d231d5c7574a7c9a634c9bc1d31650",
       "version_major": 2,
       "version_minor": 0
      },
      "text/plain": [
       "0it [00:00, ?it/s]"
      ]
     },
     "metadata": {},
     "output_type": "display_data"
    },
    {
     "name": "stdout",
     "output_type": "stream",
     "text": [
      "For type 1831, metrics:: auprc:0.8124, auroc:0.8846, ap@50:1.0\n",
      "current: 7975\n"
     ]
    },
    {
     "data": {
      "application/vnd.jupyter.widget-view+json": {
       "model_id": "cb053971825945a2b8d5d170355e813e",
       "version_major": 2,
       "version_minor": 0
      },
      "text/plain": [
       "0it [00:00, ?it/s]"
      ]
     },
     "metadata": {},
     "output_type": "display_data"
    },
    {
     "name": "stdout",
     "output_type": "stream",
     "text": [
      "For type 7975, metrics:: auprc:0.8346, auroc:0.9009, ap@50:1.0\n",
      "current: 5930\n"
     ]
    },
    {
     "data": {
      "application/vnd.jupyter.widget-view+json": {
       "model_id": "61e016127eae436bbe4295ab912b5071",
       "version_major": 2,
       "version_minor": 0
      },
      "text/plain": [
       "0it [00:00, ?it/s]"
      ]
     },
     "metadata": {},
     "output_type": "display_data"
    },
    {
     "name": "stdout",
     "output_type": "stream",
     "text": [
      "For type 5930, metrics:: auprc:0.8165, auroc:0.8876, ap@50:1.0\n",
      "current: 3883\n"
     ]
    },
    {
     "data": {
      "application/vnd.jupyter.widget-view+json": {
       "model_id": "5fc746c10cc24b598e7327ce28bc5f24",
       "version_major": 2,
       "version_minor": 0
      },
      "text/plain": [
       "0it [00:00, ?it/s]"
      ]
     },
     "metadata": {},
     "output_type": "display_data"
    },
    {
     "name": "stdout",
     "output_type": "stream",
     "text": [
      "For type 3883, metrics:: auprc:0.8084, auroc:0.8815, ap@50:1.0\n",
      "current: 1835\n"
     ]
    },
    {
     "data": {
      "application/vnd.jupyter.widget-view+json": {
       "model_id": "9013cb2dc5b64e97a684e6be5f1fde0e",
       "version_major": 2,
       "version_minor": 0
      },
      "text/plain": [
       "0it [00:00, ?it/s]"
      ]
     },
     "metadata": {},
     "output_type": "display_data"
    },
    {
     "name": "stdout",
     "output_type": "stream",
     "text": [
      "For type 1835, metrics:: auprc:0.8293, auroc:0.8971, ap@50:1.0\n",
      "current: 3884\n"
     ]
    },
    {
     "data": {
      "application/vnd.jupyter.widget-view+json": {
       "model_id": "8a92e88d30ec49ee858e96c4bafd58bd",
       "version_major": 2,
       "version_minor": 0
      },
      "text/plain": [
       "0it [00:00, ?it/s]"
      ]
     },
     "metadata": {},
     "output_type": "display_data"
    },
    {
     "name": "stdout",
     "output_type": "stream",
     "text": [
      "For type 3884, metrics:: auprc:0.8088, auroc:0.8818, ap@50:1.0\n",
      "current: 7985\n"
     ]
    },
    {
     "data": {
      "application/vnd.jupyter.widget-view+json": {
       "model_id": "24509e4ba8484c478ffe0527f48f11ab",
       "version_major": 2,
       "version_minor": 0
      },
      "text/plain": [
       "0it [00:00, ?it/s]"
      ]
     },
     "metadata": {},
     "output_type": "display_data"
    },
    {
     "name": "stdout",
     "output_type": "stream",
     "text": [
      "For type 7985, metrics:: auprc:0.8136, auroc:0.8855, ap@50:1.0\n",
      "current: 5938\n"
     ]
    },
    {
     "data": {
      "application/vnd.jupyter.widget-view+json": {
       "model_id": "16522e2833394f4db41c1f8e773e2a2c",
       "version_major": 2,
       "version_minor": 0
      },
      "text/plain": [
       "0it [00:00, ?it/s]"
      ]
     },
     "metadata": {},
     "output_type": "display_data"
    },
    {
     "name": "stdout",
     "output_type": "stream",
     "text": [
      "For type 5938, metrics:: auprc:0.8188, auroc:0.8893, ap@50:1.0\n",
      "current: 5937\n"
     ]
    },
    {
     "data": {
      "application/vnd.jupyter.widget-view+json": {
       "model_id": "28efd054eb39479e8db9acdc4b054770",
       "version_major": 2,
       "version_minor": 0
      },
      "text/plain": [
       "0it [00:00, ?it/s]"
      ]
     },
     "metadata": {},
     "output_type": "display_data"
    },
    {
     "name": "stdout",
     "output_type": "stream",
     "text": [
      "For type 5937, metrics:: auprc:0.8438, auroc:0.9074, ap@50:1.0\n",
      "current: 1845\n"
     ]
    },
    {
     "data": {
      "application/vnd.jupyter.widget-view+json": {
       "model_id": "6b035a0a568741c899aafc6a94833e31",
       "version_major": 2,
       "version_minor": 0
      },
      "text/plain": [
       "0it [00:00, ?it/s]"
      ]
     },
     "metadata": {},
     "output_type": "display_data"
    },
    {
     "name": "stdout",
     "output_type": "stream",
     "text": [
      "For type 1845, metrics:: auprc:0.8033, auroc:0.8776, ap@50:1.0\n",
      "current: 1846\n"
     ]
    },
    {
     "data": {
      "application/vnd.jupyter.widget-view+json": {
       "model_id": "dab16d2e3d7040cdab03b2dd33be6096",
       "version_major": 2,
       "version_minor": 0
      },
      "text/plain": [
       "0it [00:00, ?it/s]"
      ]
     },
     "metadata": {},
     "output_type": "display_data"
    },
    {
     "name": "stdout",
     "output_type": "stream",
     "text": [
      "For type 1846, metrics:: auprc:0.7975, auroc:0.873, ap@50:1.0\n",
      "current: 5946\n"
     ]
    },
    {
     "data": {
      "application/vnd.jupyter.widget-view+json": {
       "model_id": "c9bb148cede442929fb7381db66afd0e",
       "version_major": 2,
       "version_minor": 0
      },
      "text/plain": [
       "0it [00:00, ?it/s]"
      ]
     },
     "metadata": {},
     "output_type": "display_data"
    },
    {
     "name": "stdout",
     "output_type": "stream",
     "text": [
      "For type 5946, metrics:: auprc:0.84, auroc:0.9048, ap@50:1.0\n",
      "current: 1851\n"
     ]
    },
    {
     "data": {
      "application/vnd.jupyter.widget-view+json": {
       "model_id": "1bd4de1d54cd4779981f7741ef6aacb5",
       "version_major": 2,
       "version_minor": 0
      },
      "text/plain": [
       "0it [00:00, ?it/s]"
      ]
     },
     "metadata": {},
     "output_type": "display_data"
    },
    {
     "name": "stdout",
     "output_type": "stream",
     "text": [
      "For type 1851, metrics:: auprc:0.8127, auroc:0.8848, ap@50:1.0\n",
      "current: 7996\n"
     ]
    },
    {
     "data": {
      "application/vnd.jupyter.widget-view+json": {
       "model_id": "4f6845b3408e46279e064c220f67e3e3",
       "version_major": 2,
       "version_minor": 0
      },
      "text/plain": [
       "0it [00:00, ?it/s]"
      ]
     },
     "metadata": {},
     "output_type": "display_data"
    },
    {
     "name": "stdout",
     "output_type": "stream",
     "text": [
      "For type 7996, metrics:: auprc:0.847, auroc:0.9097, ap@50:1.0\n",
      "current: 3899\n"
     ]
    },
    {
     "data": {
      "application/vnd.jupyter.widget-view+json": {
       "model_id": "a695c90dfd9f4c04b5ec0a8b8cae038a",
       "version_major": 2,
       "version_minor": 0
      },
      "text/plain": [
       "0it [00:00, ?it/s]"
      ]
     },
     "metadata": {},
     "output_type": "display_data"
    },
    {
     "name": "stdout",
     "output_type": "stream",
     "text": [
      "For type 3899, metrics:: auprc:0.8466, auroc:0.9094, ap@50:1.0\n",
      "current: 3905\n"
     ]
    },
    {
     "data": {
      "application/vnd.jupyter.widget-view+json": {
       "model_id": "0f0878a571d64d49ab887ccefd2e53b0",
       "version_major": 2,
       "version_minor": 0
      },
      "text/plain": [
       "0it [00:00, ?it/s]"
      ]
     },
     "metadata": {},
     "output_type": "display_data"
    },
    {
     "name": "stdout",
     "output_type": "stream",
     "text": [
      "For type 3905, metrics:: auprc:0.8035, auroc:0.8777, ap@50:1.0\n",
      "current: 3907\n"
     ]
    },
    {
     "data": {
      "application/vnd.jupyter.widget-view+json": {
       "model_id": "087e12fb553044629b17c256fcc9d3ad",
       "version_major": 2,
       "version_minor": 0
      },
      "text/plain": [
       "0it [00:00, ?it/s]"
      ]
     },
     "metadata": {},
     "output_type": "display_data"
    },
    {
     "name": "stdout",
     "output_type": "stream",
     "text": [
      "For type 3907, metrics:: auprc:0.7811, auroc:0.8599, ap@50:1.0\n",
      "current: 3911\n"
     ]
    },
    {
     "data": {
      "application/vnd.jupyter.widget-view+json": {
       "model_id": "25c1c0352e17468c840d56df4d6bccbe",
       "version_major": 2,
       "version_minor": 0
      },
      "text/plain": [
       "0it [00:00, ?it/s]"
      ]
     },
     "metadata": {},
     "output_type": "display_data"
    },
    {
     "name": "stdout",
     "output_type": "stream",
     "text": [
      "For type 3911, metrics:: auprc:0.8251, auroc:0.894, ap@50:1.0\n",
      "current: 3915\n"
     ]
    },
    {
     "data": {
      "application/vnd.jupyter.widget-view+json": {
       "model_id": "20bf6e75c76940f4b77cec4ecca7c66e",
       "version_major": 2,
       "version_minor": 0
      },
      "text/plain": [
       "0it [00:00, ?it/s]"
      ]
     },
     "metadata": {},
     "output_type": "display_data"
    },
    {
     "name": "stdout",
     "output_type": "stream",
     "text": [
      "For type 3915, metrics:: auprc:0.8196, auroc:0.8899, ap@50:1.0\n",
      "current: 1868\n"
     ]
    },
    {
     "data": {
      "application/vnd.jupyter.widget-view+json": {
       "model_id": "56e049a035434a9784133e85e652e9ce",
       "version_major": 2,
       "version_minor": 0
      },
      "text/plain": [
       "0it [00:00, ?it/s]"
      ]
     },
     "metadata": {},
     "output_type": "display_data"
    },
    {
     "name": "stdout",
     "output_type": "stream",
     "text": [
      "For type 1868, metrics:: auprc:0.8128, auroc:0.8848, ap@50:1.0\n",
      "current: 5972\n"
     ]
    },
    {
     "data": {
      "application/vnd.jupyter.widget-view+json": {
       "model_id": "c02772febee347a9ba103bcea74d69a4",
       "version_major": 2,
       "version_minor": 0
      },
      "text/plain": [
       "0it [00:00, ?it/s]"
      ]
     },
     "metadata": {},
     "output_type": "display_data"
    },
    {
     "name": "stdout",
     "output_type": "stream",
     "text": [
      "For type 5972, metrics:: auprc:0.7929, auroc:0.8694, ap@50:1.0\n",
      "current: 8027\n"
     ]
    },
    {
     "data": {
      "application/vnd.jupyter.widget-view+json": {
       "model_id": "2ec4fea52d7e465f8621d3f5321a4141",
       "version_major": 2,
       "version_minor": 0
      },
      "text/plain": [
       "0it [00:00, ?it/s]"
      ]
     },
     "metadata": {},
     "output_type": "display_data"
    },
    {
     "name": "stdout",
     "output_type": "stream",
     "text": [
      "For type 8027, metrics:: auprc:0.815, auroc:0.8865, ap@50:1.0\n",
      "current: 1884\n"
     ]
    },
    {
     "data": {
      "application/vnd.jupyter.widget-view+json": {
       "model_id": "b87cb24c4fcf40f9bdaf5e9b0a4ebef8",
       "version_major": 2,
       "version_minor": 0
      },
      "text/plain": [
       "0it [00:00, ?it/s]"
      ]
     },
     "metadata": {},
     "output_type": "display_data"
    },
    {
     "name": "stdout",
     "output_type": "stream",
     "text": [
      "For type 1884, metrics:: auprc:0.8258, auroc:0.8945, ap@50:1.0\n",
      "current: 3931\n"
     ]
    },
    {
     "data": {
      "application/vnd.jupyter.widget-view+json": {
       "model_id": "1fd590defa9c4fefbb16c793de44e207",
       "version_major": 2,
       "version_minor": 0
      },
      "text/plain": [
       "0it [00:00, ?it/s]"
      ]
     },
     "metadata": {},
     "output_type": "display_data"
    },
    {
     "name": "stdout",
     "output_type": "stream",
     "text": [
      "For type 3931, metrics:: auprc:0.8286, auroc:0.8966, ap@50:1.0\n",
      "current: 5983\n"
     ]
    },
    {
     "data": {
      "application/vnd.jupyter.widget-view+json": {
       "model_id": "ff143da5f90349fe9b14daa9f4e59690",
       "version_major": 2,
       "version_minor": 0
      },
      "text/plain": [
       "0it [00:00, ?it/s]"
      ]
     },
     "metadata": {},
     "output_type": "display_data"
    },
    {
     "name": "stdout",
     "output_type": "stream",
     "text": [
      "For type 5983, metrics:: auprc:0.8092, auroc:0.8821, ap@50:1.0\n",
      "current: 3936\n"
     ]
    },
    {
     "data": {
      "application/vnd.jupyter.widget-view+json": {
       "model_id": "ed46bc9145ab4f01bf6b86398929de32",
       "version_major": 2,
       "version_minor": 0
      },
      "text/plain": [
       "0it [00:00, ?it/s]"
      ]
     },
     "metadata": {},
     "output_type": "display_data"
    },
    {
     "name": "stdout",
     "output_type": "stream",
     "text": [
      "For type 3936, metrics:: auprc:0.8227, auroc:0.8923, ap@50:1.0\n",
      "current: 8032\n"
     ]
    },
    {
     "data": {
      "application/vnd.jupyter.widget-view+json": {
       "model_id": "090b2617f8d94f7ca8df49556b2c3db2",
       "version_major": 2,
       "version_minor": 0
      },
      "text/plain": [
       "0it [00:00, ?it/s]"
      ]
     },
     "metadata": {},
     "output_type": "display_data"
    },
    {
     "name": "stdout",
     "output_type": "stream",
     "text": [
      "For type 8032, metrics:: auprc:0.7949, auroc:0.871, ap@50:1.0\n",
      "current: 8035\n"
     ]
    },
    {
     "data": {
      "application/vnd.jupyter.widget-view+json": {
       "model_id": "2b00e13d717545e39ee3e0f0377a89e0",
       "version_major": 2,
       "version_minor": 0
      },
      "text/plain": [
       "0it [00:00, ?it/s]"
      ]
     },
     "metadata": {},
     "output_type": "display_data"
    },
    {
     "name": "stdout",
     "output_type": "stream",
     "text": [
      "For type 8035, metrics:: auprc:0.8013, auroc:0.876, ap@50:1.0\n",
      "current: 5992\n"
     ]
    },
    {
     "data": {
      "application/vnd.jupyter.widget-view+json": {
       "model_id": "4c7d5993f5d549109c5f45ee78d11d6b",
       "version_major": 2,
       "version_minor": 0
      },
      "text/plain": [
       "0it [00:00, ?it/s]"
      ]
     },
     "metadata": {},
     "output_type": "display_data"
    },
    {
     "name": "stdout",
     "output_type": "stream",
     "text": [
      "For type 5992, metrics:: auprc:0.8116, auroc:0.884, ap@50:1.0\n",
      "current: 8040\n"
     ]
    },
    {
     "data": {
      "application/vnd.jupyter.widget-view+json": {
       "model_id": "d005bb81445342708cf768fcdbd6c188",
       "version_major": 2,
       "version_minor": 0
      },
      "text/plain": [
       "0it [00:00, ?it/s]"
      ]
     },
     "metadata": {},
     "output_type": "display_data"
    },
    {
     "name": "stdout",
     "output_type": "stream",
     "text": [
      "For type 8040, metrics:: auprc:0.779, auroc:0.8582, ap@50:1.0\n",
      "current: 8045\n"
     ]
    },
    {
     "data": {
      "application/vnd.jupyter.widget-view+json": {
       "model_id": "179406b8f60a444aab6e783a7cbcb513",
       "version_major": 2,
       "version_minor": 0
      },
      "text/plain": [
       "0it [00:00, ?it/s]"
      ]
     },
     "metadata": {},
     "output_type": "display_data"
    },
    {
     "name": "stdout",
     "output_type": "stream",
     "text": [
      "For type 8045, metrics:: auprc:0.7973, auroc:0.8729, ap@50:1.0\n",
      "current: 8046\n"
     ]
    },
    {
     "data": {
      "application/vnd.jupyter.widget-view+json": {
       "model_id": "4b0369ddcce542e28df690fad850a9c6",
       "version_major": 2,
       "version_minor": 0
      },
      "text/plain": [
       "0it [00:00, ?it/s]"
      ]
     },
     "metadata": {},
     "output_type": "display_data"
    },
    {
     "name": "stdout",
     "output_type": "stream",
     "text": [
      "For type 8046, metrics:: auprc:0.8001, auroc:0.8751, ap@50:1.0\n",
      "current: 1906\n"
     ]
    },
    {
     "data": {
      "application/vnd.jupyter.widget-view+json": {
       "model_id": "5b4d85627b3142b09af203a82371087e",
       "version_major": 2,
       "version_minor": 0
      },
      "text/plain": [
       "0it [00:00, ?it/s]"
      ]
     },
     "metadata": {},
     "output_type": "display_data"
    },
    {
     "name": "stdout",
     "output_type": "stream",
     "text": [
      "For type 1906, metrics:: auprc:0.8284, auroc:0.8964, ap@50:1.0\n",
      "current: 8051\n"
     ]
    },
    {
     "data": {
      "application/vnd.jupyter.widget-view+json": {
       "model_id": "dc34e14fd87443bfa8d3ea0340572f57",
       "version_major": 2,
       "version_minor": 0
      },
      "text/plain": [
       "0it [00:00, ?it/s]"
      ]
     },
     "metadata": {},
     "output_type": "display_data"
    },
    {
     "name": "stdout",
     "output_type": "stream",
     "text": [
      "For type 8051, metrics:: auprc:0.8137, auroc:0.8855, ap@50:1.0\n",
      "current: 6006\n"
     ]
    },
    {
     "data": {
      "application/vnd.jupyter.widget-view+json": {
       "model_id": "2cffef6ad3164f2ea61e5c0ff81f4da5",
       "version_major": 2,
       "version_minor": 0
      },
      "text/plain": [
       "0it [00:00, ?it/s]"
      ]
     },
     "metadata": {},
     "output_type": "display_data"
    },
    {
     "name": "stdout",
     "output_type": "stream",
     "text": [
      "For type 6006, metrics:: auprc:0.7989, auroc:0.8742, ap@50:1.0\n",
      "current: 3959\n"
     ]
    },
    {
     "data": {
      "application/vnd.jupyter.widget-view+json": {
       "model_id": "7fc1339b18044720ad17a07047938d36",
       "version_major": 2,
       "version_minor": 0
      },
      "text/plain": [
       "0it [00:00, ?it/s]"
      ]
     },
     "metadata": {},
     "output_type": "display_data"
    },
    {
     "name": "stdout",
     "output_type": "stream",
     "text": [
      "For type 3959, metrics:: auprc:0.8426, auroc:0.9066, ap@50:1.0\n",
      "current: 8060\n"
     ]
    },
    {
     "data": {
      "application/vnd.jupyter.widget-view+json": {
       "model_id": "3567016f946140f8bb1085e2b03ae344",
       "version_major": 2,
       "version_minor": 0
      },
      "text/plain": [
       "0it [00:00, ?it/s]"
      ]
     },
     "metadata": {},
     "output_type": "display_data"
    },
    {
     "name": "stdout",
     "output_type": "stream",
     "text": [
      "For type 8060, metrics:: auprc:0.7971, auroc:0.8728, ap@50:1.0\n",
      "current: 1919\n"
     ]
    },
    {
     "data": {
      "application/vnd.jupyter.widget-view+json": {
       "model_id": "1a9675afad3948ab81da252c6bbd9b04",
       "version_major": 2,
       "version_minor": 0
      },
      "text/plain": [
       "0it [00:00, ?it/s]"
      ]
     },
     "metadata": {},
     "output_type": "display_data"
    },
    {
     "name": "stdout",
     "output_type": "stream",
     "text": [
      "For type 1919, metrics:: auprc:0.8347, auroc:0.901, ap@50:1.0\n",
      "current: 1921\n"
     ]
    },
    {
     "data": {
      "application/vnd.jupyter.widget-view+json": {
       "model_id": "62b4520c6a294432a869bb94de25f859",
       "version_major": 2,
       "version_minor": 0
      },
      "text/plain": [
       "0it [00:00, ?it/s]"
      ]
     },
     "metadata": {},
     "output_type": "display_data"
    },
    {
     "name": "stdout",
     "output_type": "stream",
     "text": [
      "For type 1921, metrics:: auprc:0.8266, auroc:0.8951, ap@50:1.0\n",
      "current: 3970\n"
     ]
    },
    {
     "data": {
      "application/vnd.jupyter.widget-view+json": {
       "model_id": "497c12ba9035415f95abfab07b965b23",
       "version_major": 2,
       "version_minor": 0
      },
      "text/plain": [
       "0it [00:00, ?it/s]"
      ]
     },
     "metadata": {},
     "output_type": "display_data"
    },
    {
     "name": "stdout",
     "output_type": "stream",
     "text": [
      "For type 3970, metrics:: auprc:0.814, auroc:0.8857, ap@50:1.0\n",
      "current: 1927\n"
     ]
    },
    {
     "data": {
      "application/vnd.jupyter.widget-view+json": {
       "model_id": "3dc8a35ad67b454c81cfffd3bada24c2",
       "version_major": 2,
       "version_minor": 0
      },
      "text/plain": [
       "0it [00:00, ?it/s]"
      ]
     },
     "metadata": {},
     "output_type": "display_data"
    },
    {
     "name": "stdout",
     "output_type": "stream",
     "text": [
      "For type 1927, metrics:: auprc:0.8104, auroc:0.883, ap@50:1.0\n",
      "current: 8073\n"
     ]
    },
    {
     "data": {
      "application/vnd.jupyter.widget-view+json": {
       "model_id": "e0d26608e7f9461099432ed9a00774e9",
       "version_major": 2,
       "version_minor": 0
      },
      "text/plain": [
       "0it [00:00, ?it/s]"
      ]
     },
     "metadata": {},
     "output_type": "display_data"
    },
    {
     "name": "stdout",
     "output_type": "stream",
     "text": [
      "For type 8073, metrics:: auprc:0.8065, auroc:0.88, ap@50:1.0\n",
      "current: 8074\n"
     ]
    },
    {
     "data": {
      "application/vnd.jupyter.widget-view+json": {
       "model_id": "d8adeba457404d2187220e96b54c0fbb",
       "version_major": 2,
       "version_minor": 0
      },
      "text/plain": [
       "0it [00:00, ?it/s]"
      ]
     },
     "metadata": {},
     "output_type": "display_data"
    },
    {
     "name": "stdout",
     "output_type": "stream",
     "text": [
      "For type 8074, metrics:: auprc:0.8177, auroc:0.8885, ap@50:1.0\n",
      "current: 1935\n"
     ]
    },
    {
     "data": {
      "application/vnd.jupyter.widget-view+json": {
       "model_id": "2bbddc8de51f4bd1ba943efc2a274587",
       "version_major": 2,
       "version_minor": 0
      },
      "text/plain": [
       "0it [00:00, ?it/s]"
      ]
     },
     "metadata": {},
     "output_type": "display_data"
    },
    {
     "name": "stdout",
     "output_type": "stream",
     "text": [
      "For type 1935, metrics:: auprc:0.8126, auroc:0.8847, ap@50:1.0\n",
      "current: 3984\n"
     ]
    },
    {
     "data": {
      "application/vnd.jupyter.widget-view+json": {
       "model_id": "012a8350ed0d429686139e9b1cf957f1",
       "version_major": 2,
       "version_minor": 0
      },
      "text/plain": [
       "0it [00:00, ?it/s]"
      ]
     },
     "metadata": {},
     "output_type": "display_data"
    },
    {
     "name": "stdout",
     "output_type": "stream",
     "text": [
      "For type 3984, metrics:: auprc:0.8124, auroc:0.8846, ap@50:1.0\n",
      "current: 8084\n"
     ]
    },
    {
     "data": {
      "application/vnd.jupyter.widget-view+json": {
       "model_id": "9d1dd1248a7b4c56bd354a92084fa886",
       "version_major": 2,
       "version_minor": 0
      },
      "text/plain": [
       "0it [00:00, ?it/s]"
      ]
     },
     "metadata": {},
     "output_type": "display_data"
    },
    {
     "name": "stdout",
     "output_type": "stream",
     "text": [
      "For type 8084, metrics:: auprc:0.8278, auroc:0.896, ap@50:1.0\n",
      "current: 6037\n"
     ]
    },
    {
     "data": {
      "application/vnd.jupyter.widget-view+json": {
       "model_id": "efdc443c1b0c44089b1fc3a9b50b1b0f",
       "version_major": 2,
       "version_minor": 0
      },
      "text/plain": [
       "0it [00:00, ?it/s]"
      ]
     },
     "metadata": {},
     "output_type": "display_data"
    },
    {
     "name": "stdout",
     "output_type": "stream",
     "text": [
      "For type 6037, metrics:: auprc:0.8313, auroc:0.8985, ap@50:1.0\n",
      "current: 3989\n"
     ]
    },
    {
     "data": {
      "application/vnd.jupyter.widget-view+json": {
       "model_id": "49fe258398c8426999000f4396732b2c",
       "version_major": 2,
       "version_minor": 0
      },
      "text/plain": [
       "0it [00:00, ?it/s]"
      ]
     },
     "metadata": {},
     "output_type": "display_data"
    },
    {
     "name": "stdout",
     "output_type": "stream",
     "text": [
      "For type 3989, metrics:: auprc:0.8242, auroc:0.8933, ap@50:1.0\n",
      "current: 1945\n"
     ]
    },
    {
     "data": {
      "application/vnd.jupyter.widget-view+json": {
       "model_id": "ca8ace470ddc4cd9ae16fbe8220291ff",
       "version_major": 2,
       "version_minor": 0
      },
      "text/plain": [
       "0it [00:00, ?it/s]"
      ]
     },
     "metadata": {},
     "output_type": "display_data"
    },
    {
     "name": "stdout",
     "output_type": "stream",
     "text": [
      "For type 1945, metrics:: auprc:0.8202, auroc:0.8904, ap@50:1.0\n",
      "current: 8089\n"
     ]
    },
    {
     "data": {
      "application/vnd.jupyter.widget-view+json": {
       "model_id": "94c3af055f3243ff8aa47c0e4f7a561b",
       "version_major": 2,
       "version_minor": 0
      },
      "text/plain": [
       "0it [00:00, ?it/s]"
      ]
     },
     "metadata": {},
     "output_type": "display_data"
    },
    {
     "name": "stdout",
     "output_type": "stream",
     "text": [
      "For type 8089, metrics:: auprc:0.8083, auroc:0.8814, ap@50:1.0\n",
      "current: 1947\n"
     ]
    },
    {
     "data": {
      "application/vnd.jupyter.widget-view+json": {
       "model_id": "285e16690dc34ebea49bd9c33dd15fa3",
       "version_major": 2,
       "version_minor": 0
      },
      "text/plain": [
       "0it [00:00, ?it/s]"
      ]
     },
     "metadata": {},
     "output_type": "display_data"
    },
    {
     "name": "stdout",
     "output_type": "stream",
     "text": [
      "For type 1947, metrics:: auprc:0.818, auroc:0.8888, ap@50:1.0\n",
      "current: 1955\n"
     ]
    },
    {
     "data": {
      "application/vnd.jupyter.widget-view+json": {
       "model_id": "4f36a86c176c4923ba1b6662e138ae14",
       "version_major": 2,
       "version_minor": 0
      },
      "text/plain": [
       "0it [00:00, ?it/s]"
      ]
     },
     "metadata": {},
     "output_type": "display_data"
    },
    {
     "name": "stdout",
     "output_type": "stream",
     "text": [
      "For type 1955, metrics:: auprc:0.8203, auroc:0.8905, ap@50:1.0\n",
      "current: 4003\n"
     ]
    },
    {
     "data": {
      "application/vnd.jupyter.widget-view+json": {
       "model_id": "73bac437c3914739838ae51aee360ebd",
       "version_major": 2,
       "version_minor": 0
      },
      "text/plain": [
       "0it [00:00, ?it/s]"
      ]
     },
     "metadata": {},
     "output_type": "display_data"
    },
    {
     "name": "stdout",
     "output_type": "stream",
     "text": [
      "For type 4003, metrics:: auprc:0.8333, auroc:0.9, ap@50:1.0\n",
      "current: 1959\n"
     ]
    },
    {
     "data": {
      "application/vnd.jupyter.widget-view+json": {
       "model_id": "8641c28fd865498e971f823fba01f7c0",
       "version_major": 2,
       "version_minor": 0
      },
      "text/plain": [
       "0it [00:00, ?it/s]"
      ]
     },
     "metadata": {},
     "output_type": "display_data"
    },
    {
     "name": "stdout",
     "output_type": "stream",
     "text": [
      "For type 1959, metrics:: auprc:0.8056, auroc:0.8794, ap@50:1.0\n",
      "current: 1962\n"
     ]
    },
    {
     "data": {
      "application/vnd.jupyter.widget-view+json": {
       "model_id": "c68d1e0cfda748efa96bb095e227433f",
       "version_major": 2,
       "version_minor": 0
      },
      "text/plain": [
       "0it [00:00, ?it/s]"
      ]
     },
     "metadata": {},
     "output_type": "display_data"
    },
    {
     "name": "stdout",
     "output_type": "stream",
     "text": [
      "For type 1962, metrics:: auprc:0.8214, auroc:0.8913, ap@50:1.0\n",
      "current: 1964\n"
     ]
    },
    {
     "data": {
      "application/vnd.jupyter.widget-view+json": {
       "model_id": "5ef9b5e947ca4e2582aaec14bceb1b36",
       "version_major": 2,
       "version_minor": 0
      },
      "text/plain": [
       "0it [00:00, ?it/s]"
      ]
     },
     "metadata": {},
     "output_type": "display_data"
    },
    {
     "name": "stdout",
     "output_type": "stream",
     "text": [
      "For type 1964, metrics:: auprc:0.8453, auroc:0.9085, ap@50:1.0\n",
      "current: 8110\n"
     ]
    },
    {
     "data": {
      "application/vnd.jupyter.widget-view+json": {
       "model_id": "f18847d546c344359209ec9c00f17a1f",
       "version_major": 2,
       "version_minor": 0
      },
      "text/plain": [
       "0it [00:00, ?it/s]"
      ]
     },
     "metadata": {},
     "output_type": "display_data"
    },
    {
     "name": "stdout",
     "output_type": "stream",
     "text": [
      "For type 8110, metrics:: auprc:0.7995, auroc:0.8746, ap@50:1.0\n",
      "current: 1970\n"
     ]
    },
    {
     "data": {
      "application/vnd.jupyter.widget-view+json": {
       "model_id": "796954826ace4727b40b5823a8543714",
       "version_major": 2,
       "version_minor": 0
      },
      "text/plain": [
       "0it [00:00, ?it/s]"
      ]
     },
     "metadata": {},
     "output_type": "display_data"
    },
    {
     "name": "stdout",
     "output_type": "stream",
     "text": [
      "For type 1970, metrics:: auprc:0.8221, auroc:0.8918, ap@50:1.0\n",
      "current: 6067\n"
     ]
    },
    {
     "data": {
      "application/vnd.jupyter.widget-view+json": {
       "model_id": "4bccbf3e94dc4f359d8a096cbb893067",
       "version_major": 2,
       "version_minor": 0
      },
      "text/plain": [
       "0it [00:00, ?it/s]"
      ]
     },
     "metadata": {},
     "output_type": "display_data"
    },
    {
     "name": "stdout",
     "output_type": "stream",
     "text": [
      "For type 6067, metrics:: auprc:0.8005, auroc:0.8754, ap@50:1.0\n",
      "current: 8116\n"
     ]
    },
    {
     "data": {
      "application/vnd.jupyter.widget-view+json": {
       "model_id": "540d7332ad5c49eabc188a0c0f36020f",
       "version_major": 2,
       "version_minor": 0
      },
      "text/plain": [
       "0it [00:00, ?it/s]"
      ]
     },
     "metadata": {},
     "output_type": "display_data"
    },
    {
     "name": "stdout",
     "output_type": "stream",
     "text": [
      "For type 8116, metrics:: auprc:0.8077, auroc:0.881, ap@50:1.0\n",
      "current: 1972\n"
     ]
    },
    {
     "data": {
      "application/vnd.jupyter.widget-view+json": {
       "model_id": "501bcc719fee4ddabb107c46d303a270",
       "version_major": 2,
       "version_minor": 0
      },
      "text/plain": [
       "0it [00:00, ?it/s]"
      ]
     },
     "metadata": {},
     "output_type": "display_data"
    },
    {
     "name": "stdout",
     "output_type": "stream",
     "text": [
      "For type 1972, metrics:: auprc:0.8339, auroc:0.9004, ap@50:1.0\n",
      "current: 4020\n"
     ]
    },
    {
     "data": {
      "application/vnd.jupyter.widget-view+json": {
       "model_id": "831debb1c762483993202f2190bc6e5d",
       "version_major": 2,
       "version_minor": 0
      },
      "text/plain": [
       "0it [00:00, ?it/s]"
      ]
     },
     "metadata": {},
     "output_type": "display_data"
    },
    {
     "name": "stdout",
     "output_type": "stream",
     "text": [
      "For type 4020, metrics:: auprc:0.8256, auroc:0.8944, ap@50:1.0\n",
      "current: 8123\n"
     ]
    },
    {
     "data": {
      "application/vnd.jupyter.widget-view+json": {
       "model_id": "5441b9ed7f3a41c9927d7f44dcac626f",
       "version_major": 2,
       "version_minor": 0
      },
      "text/plain": [
       "0it [00:00, ?it/s]"
      ]
     },
     "metadata": {},
     "output_type": "display_data"
    },
    {
     "name": "stdout",
     "output_type": "stream",
     "text": [
      "For type 8123, metrics:: auprc:0.8234, auroc:0.8927, ap@50:1.0\n",
      "current: 6076\n"
     ]
    },
    {
     "data": {
      "application/vnd.jupyter.widget-view+json": {
       "model_id": "4838c6a4cf1241d3ad615d5ebac5b6f8",
       "version_major": 2,
       "version_minor": 0
      },
      "text/plain": [
       "0it [00:00, ?it/s]"
      ]
     },
     "metadata": {},
     "output_type": "display_data"
    },
    {
     "name": "stdout",
     "output_type": "stream",
     "text": [
      "For type 6076, metrics:: auprc:0.8142, auroc:0.8859, ap@50:1.0\n",
      "current: 1981\n"
     ]
    },
    {
     "data": {
      "application/vnd.jupyter.widget-view+json": {
       "model_id": "cdfccf50529b49f0bf68230aaceffea1",
       "version_major": 2,
       "version_minor": 0
      },
      "text/plain": [
       "0it [00:00, ?it/s]"
      ]
     },
     "metadata": {},
     "output_type": "display_data"
    },
    {
     "name": "stdout",
     "output_type": "stream",
     "text": [
      "For type 1981, metrics:: auprc:0.7667, auroc:0.8478, ap@50:1.0\n",
      "current: 4034\n"
     ]
    },
    {
     "data": {
      "application/vnd.jupyter.widget-view+json": {
       "model_id": "0d05392b8746470b9f2cf32a1415fc41",
       "version_major": 2,
       "version_minor": 0
      },
      "text/plain": [
       "0it [00:00, ?it/s]"
      ]
     },
     "metadata": {},
     "output_type": "display_data"
    },
    {
     "name": "stdout",
     "output_type": "stream",
     "text": [
      "For type 4034, metrics:: auprc:0.7709, auroc:0.8514, ap@50:1.0\n",
      "current: 6084\n"
     ]
    },
    {
     "data": {
      "application/vnd.jupyter.widget-view+json": {
       "model_id": "63c55ae33a034a3ebcdd7dcce691408c",
       "version_major": 2,
       "version_minor": 0
      },
      "text/plain": [
       "0it [00:00, ?it/s]"
      ]
     },
     "metadata": {},
     "output_type": "display_data"
    },
    {
     "name": "stdout",
     "output_type": "stream",
     "text": [
      "For type 6084, metrics:: auprc:0.8415, auroc:0.9058, ap@50:1.0\n",
      "current: 4036\n"
     ]
    },
    {
     "data": {
      "application/vnd.jupyter.widget-view+json": {
       "model_id": "338189d92c0940e6b3a870500878890c",
       "version_major": 2,
       "version_minor": 0
      },
      "text/plain": [
       "0it [00:00, ?it/s]"
      ]
     },
     "metadata": {},
     "output_type": "display_data"
    },
    {
     "name": "stdout",
     "output_type": "stream",
     "text": [
      "For type 4036, metrics:: auprc:0.8175, auroc:0.8883, ap@50:1.0\n",
      "current: 4040\n"
     ]
    },
    {
     "data": {
      "application/vnd.jupyter.widget-view+json": {
       "model_id": "3794ff30d3e64ce3986ca99b29f6144a",
       "version_major": 2,
       "version_minor": 0
      },
      "text/plain": [
       "0it [00:00, ?it/s]"
      ]
     },
     "metadata": {},
     "output_type": "display_data"
    },
    {
     "name": "stdout",
     "output_type": "stream",
     "text": [
      "For type 4040, metrics:: auprc:0.8338, auroc:0.9004, ap@50:1.0\n",
      "current: 4041\n"
     ]
    },
    {
     "data": {
      "application/vnd.jupyter.widget-view+json": {
       "model_id": "40a8446520834d628ef71f22e8124f32",
       "version_major": 2,
       "version_minor": 0
      },
      "text/plain": [
       "0it [00:00, ?it/s]"
      ]
     },
     "metadata": {},
     "output_type": "display_data"
    },
    {
     "name": "stdout",
     "output_type": "stream",
     "text": [
      "For type 4041, metrics:: auprc:0.8039, auroc:0.878, ap@50:1.0\n",
      "current: 6091\n"
     ]
    },
    {
     "data": {
      "application/vnd.jupyter.widget-view+json": {
       "model_id": "7bbc11d096384e978bb2af6d5efe5c7a",
       "version_major": 2,
       "version_minor": 0
      },
      "text/plain": [
       "0it [00:00, ?it/s]"
      ]
     },
     "metadata": {},
     "output_type": "display_data"
    },
    {
     "name": "stdout",
     "output_type": "stream",
     "text": [
      "For type 6091, metrics:: auprc:0.802, auroc:0.8765, ap@50:1.0\n",
      "current: 1996\n"
     ]
    },
    {
     "data": {
      "application/vnd.jupyter.widget-view+json": {
       "model_id": "ccdf1d40a04f45b2b8fca35019c3e85b",
       "version_major": 2,
       "version_minor": 0
      },
      "text/plain": [
       "0it [00:00, ?it/s]"
      ]
     },
     "metadata": {},
     "output_type": "display_data"
    },
    {
     "name": "stdout",
     "output_type": "stream",
     "text": [
      "For type 1996, metrics:: auprc:0.8107, auroc:0.8832, ap@50:1.0\n",
      "current: 4044\n"
     ]
    },
    {
     "data": {
      "application/vnd.jupyter.widget-view+json": {
       "model_id": "2fcee40b5b0a45ebb9a88e9a8d9d786f",
       "version_major": 2,
       "version_minor": 0
      },
      "text/plain": [
       "0it [00:00, ?it/s]"
      ]
     },
     "metadata": {},
     "output_type": "display_data"
    },
    {
     "name": "stdout",
     "output_type": "stream",
     "text": [
      "For type 4044, metrics:: auprc:0.824, auroc:0.8932, ap@50:1.0\n",
      "current: 4043\n"
     ]
    },
    {
     "data": {
      "application/vnd.jupyter.widget-view+json": {
       "model_id": "1f2fcb78750e4852b4b5237b73b442c1",
       "version_major": 2,
       "version_minor": 0
      },
      "text/plain": [
       "0it [00:00, ?it/s]"
      ]
     },
     "metadata": {},
     "output_type": "display_data"
    },
    {
     "name": "stdout",
     "output_type": "stream",
     "text": [
      "For type 4043, metrics:: auprc:0.8013, auroc:0.876, ap@50:1.0\n",
      "current: 6094\n"
     ]
    },
    {
     "data": {
      "application/vnd.jupyter.widget-view+json": {
       "model_id": "84d7172767aa4b098ecb39c3c4425106",
       "version_major": 2,
       "version_minor": 0
      },
      "text/plain": [
       "0it [00:00, ?it/s]"
      ]
     },
     "metadata": {},
     "output_type": "display_data"
    },
    {
     "name": "stdout",
     "output_type": "stream",
     "text": [
      "For type 6094, metrics:: auprc:0.8211, auroc:0.891, ap@50:1.0\n",
      "current: 2003\n"
     ]
    },
    {
     "data": {
      "application/vnd.jupyter.widget-view+json": {
       "model_id": "1206526b61b54719ab92a99471e683b8",
       "version_major": 2,
       "version_minor": 0
      },
      "text/plain": [
       "0it [00:00, ?it/s]"
      ]
     },
     "metadata": {},
     "output_type": "display_data"
    },
    {
     "name": "stdout",
     "output_type": "stream",
     "text": [
      "For type 2003, metrics:: auprc:0.8164, auroc:0.8876, ap@50:1.0\n",
      "current: 4054\n"
     ]
    },
    {
     "data": {
      "application/vnd.jupyter.widget-view+json": {
       "model_id": "f10d46c1b87148948deadc29307be559",
       "version_major": 2,
       "version_minor": 0
      },
      "text/plain": [
       "0it [00:00, ?it/s]"
      ]
     },
     "metadata": {},
     "output_type": "display_data"
    },
    {
     "name": "stdout",
     "output_type": "stream",
     "text": [
      "For type 4054, metrics:: auprc:0.8076, auroc:0.8809, ap@50:1.0\n",
      "current: 6106\n"
     ]
    },
    {
     "data": {
      "application/vnd.jupyter.widget-view+json": {
       "model_id": "ae86d04b11094654aed2cbecb0627464",
       "version_major": 2,
       "version_minor": 0
      },
      "text/plain": [
       "0it [00:00, ?it/s]"
      ]
     },
     "metadata": {},
     "output_type": "display_data"
    },
    {
     "name": "stdout",
     "output_type": "stream",
     "text": [
      "For type 6106, metrics:: auprc:0.81, auroc:0.8827, ap@50:1.0\n",
      "current: 6107\n"
     ]
    },
    {
     "data": {
      "application/vnd.jupyter.widget-view+json": {
       "model_id": "5c286281e2f342e4a4912f7d90d4af37",
       "version_major": 2,
       "version_minor": 0
      },
      "text/plain": [
       "0it [00:00, ?it/s]"
      ]
     },
     "metadata": {},
     "output_type": "display_data"
    },
    {
     "name": "stdout",
     "output_type": "stream",
     "text": [
      "For type 6107, metrics:: auprc:0.8385, auroc:0.9037, ap@50:1.0\n",
      "current: 4062\n"
     ]
    },
    {
     "data": {
      "application/vnd.jupyter.widget-view+json": {
       "model_id": "5ae4021b40aa4aebb8d8bb807efb5ca6",
       "version_major": 2,
       "version_minor": 0
      },
      "text/plain": [
       "0it [00:00, ?it/s]"
      ]
     },
     "metadata": {},
     "output_type": "display_data"
    },
    {
     "name": "stdout",
     "output_type": "stream",
     "text": [
      "For type 4062, metrics:: auprc:0.8224, auroc:0.892, ap@50:1.0\n",
      "current: 2016\n"
     ]
    },
    {
     "data": {
      "application/vnd.jupyter.widget-view+json": {
       "model_id": "ed06e6d90c344eeabe9f9a9665c85797",
       "version_major": 2,
       "version_minor": 0
      },
      "text/plain": [
       "0it [00:00, ?it/s]"
      ]
     },
     "metadata": {},
     "output_type": "display_data"
    },
    {
     "name": "stdout",
     "output_type": "stream",
     "text": [
      "For type 2016, metrics:: auprc:0.8127, auroc:0.8847, ap@50:1.0\n",
      "current: 8160\n"
     ]
    },
    {
     "data": {
      "application/vnd.jupyter.widget-view+json": {
       "model_id": "ede50163f9034611b2d50a68295d24b2",
       "version_major": 2,
       "version_minor": 0
      },
      "text/plain": [
       "0it [00:00, ?it/s]"
      ]
     },
     "metadata": {},
     "output_type": "display_data"
    },
    {
     "name": "stdout",
     "output_type": "stream",
     "text": [
      "For type 8160, metrics:: auprc:0.8065, auroc:0.88, ap@50:1.0\n",
      "current: 4064\n"
     ]
    },
    {
     "data": {
      "application/vnd.jupyter.widget-view+json": {
       "model_id": "69b1ab82c21543539b45d3489d6a8d57",
       "version_major": 2,
       "version_minor": 0
      },
      "text/plain": [
       "0it [00:00, ?it/s]"
      ]
     },
     "metadata": {},
     "output_type": "display_data"
    },
    {
     "name": "stdout",
     "output_type": "stream",
     "text": [
      "For type 4064, metrics:: auprc:0.85, auroc:0.9118, ap@50:1.0\n",
      "current: 2022\n"
     ]
    },
    {
     "data": {
      "application/vnd.jupyter.widget-view+json": {
       "model_id": "565fb2ee436641d6b33958323a708f48",
       "version_major": 2,
       "version_minor": 0
      },
      "text/plain": [
       "0it [00:00, ?it/s]"
      ]
     },
     "metadata": {},
     "output_type": "display_data"
    },
    {
     "name": "stdout",
     "output_type": "stream",
     "text": [
      "For type 2022, metrics:: auprc:0.8059, auroc:0.8796, ap@50:1.0\n",
      "current: 8167\n"
     ]
    },
    {
     "data": {
      "application/vnd.jupyter.widget-view+json": {
       "model_id": "73a7fb4b4a7c4f5fa3ff14daf8a5e042",
       "version_major": 2,
       "version_minor": 0
      },
      "text/plain": [
       "0it [00:00, ?it/s]"
      ]
     },
     "metadata": {},
     "output_type": "display_data"
    },
    {
     "name": "stdout",
     "output_type": "stream",
     "text": [
      "For type 8167, metrics:: auprc:0.8127, auroc:0.8848, ap@50:1.0\n",
      "current: 2025\n"
     ]
    },
    {
     "data": {
      "application/vnd.jupyter.widget-view+json": {
       "model_id": "33c252d8d7f2491d83937bb6ca47241f",
       "version_major": 2,
       "version_minor": 0
      },
      "text/plain": [
       "0it [00:00, ?it/s]"
      ]
     },
     "metadata": {},
     "output_type": "display_data"
    },
    {
     "name": "stdout",
     "output_type": "stream",
     "text": [
      "For type 2025, metrics:: auprc:0.8206, auroc:0.8907, ap@50:1.0\n",
      "current: 6127\n"
     ]
    },
    {
     "data": {
      "application/vnd.jupyter.widget-view+json": {
       "model_id": "dcbe3f03d7d046ebb94b1b82ca19530f",
       "version_major": 2,
       "version_minor": 0
      },
      "text/plain": [
       "0it [00:00, ?it/s]"
      ]
     },
     "metadata": {},
     "output_type": "display_data"
    },
    {
     "name": "stdout",
     "output_type": "stream",
     "text": [
      "For type 6127, metrics:: auprc:0.8152, auroc:0.8867, ap@50:1.0\n",
      "current: 4081\n"
     ]
    },
    {
     "data": {
      "application/vnd.jupyter.widget-view+json": {
       "model_id": "ea5bb2f309564a6ea6cbd9267170e5f9",
       "version_major": 2,
       "version_minor": 0
      },
      "text/plain": [
       "0it [00:00, ?it/s]"
      ]
     },
     "metadata": {},
     "output_type": "display_data"
    },
    {
     "name": "stdout",
     "output_type": "stream",
     "text": [
      "For type 4081, metrics:: auprc:0.8157, auroc:0.887, ap@50:1.0\n",
      "current: 6130\n"
     ]
    },
    {
     "data": {
      "application/vnd.jupyter.widget-view+json": {
       "model_id": "bb3485dcc3ee4262980290aa82864238",
       "version_major": 2,
       "version_minor": 0
      },
      "text/plain": [
       "0it [00:00, ?it/s]"
      ]
     },
     "metadata": {},
     "output_type": "display_data"
    },
    {
     "name": "stdout",
     "output_type": "stream",
     "text": [
      "For type 6130, metrics:: auprc:0.7917, auroc:0.8684, ap@50:1.0\n",
      "current: 6131\n"
     ]
    },
    {
     "data": {
      "application/vnd.jupyter.widget-view+json": {
       "model_id": "dc77dc8b15064576a77ae4c745f3c7af",
       "version_major": 2,
       "version_minor": 0
      },
      "text/plain": [
       "0it [00:00, ?it/s]"
      ]
     },
     "metadata": {},
     "output_type": "display_data"
    },
    {
     "name": "stdout",
     "output_type": "stream",
     "text": [
      "For type 6131, metrics:: auprc:0.8112, auroc:0.8836, ap@50:1.0\n",
      "current: 8180\n"
     ]
    },
    {
     "data": {
      "application/vnd.jupyter.widget-view+json": {
       "model_id": "bb9523bfdec840d2b2b66f6a0cd8172c",
       "version_major": 2,
       "version_minor": 0
      },
      "text/plain": [
       "0it [00:00, ?it/s]"
      ]
     },
     "metadata": {},
     "output_type": "display_data"
    },
    {
     "name": "stdout",
     "output_type": "stream",
     "text": [
      "For type 8180, metrics:: auprc:0.8129, auroc:0.8849, ap@50:1.0\n",
      "current: 6133\n"
     ]
    },
    {
     "data": {
      "application/vnd.jupyter.widget-view+json": {
       "model_id": "6745019b7e874d239f5b02c1c836851c",
       "version_major": 2,
       "version_minor": 0
      },
      "text/plain": [
       "0it [00:00, ?it/s]"
      ]
     },
     "metadata": {},
     "output_type": "display_data"
    },
    {
     "name": "stdout",
     "output_type": "stream",
     "text": [
      "For type 6133, metrics:: auprc:0.8091, auroc:0.882, ap@50:1.0\n",
      "current: 4086\n"
     ]
    },
    {
     "data": {
      "application/vnd.jupyter.widget-view+json": {
       "model_id": "daa4a3ff234943d9bc50ca6542270613",
       "version_major": 2,
       "version_minor": 0
      },
      "text/plain": [
       "0it [00:00, ?it/s]"
      ]
     },
     "metadata": {},
     "output_type": "display_data"
    },
    {
     "name": "stdout",
     "output_type": "stream",
     "text": [
      "For type 4086, metrics:: auprc:0.8339, auroc:0.9004, ap@50:1.0\n",
      "current: 4093\n"
     ]
    },
    {
     "data": {
      "application/vnd.jupyter.widget-view+json": {
       "model_id": "eb273f8f59b246679690ad98372e8d3f",
       "version_major": 2,
       "version_minor": 0
      },
      "text/plain": [
       "0it [00:00, ?it/s]"
      ]
     },
     "metadata": {},
     "output_type": "display_data"
    },
    {
     "name": "stdout",
     "output_type": "stream",
     "text": [
      "For type 4093, metrics:: auprc:0.8268, auroc:0.8952, ap@50:1.0\n",
      "current: 4094\n"
     ]
    },
    {
     "data": {
      "application/vnd.jupyter.widget-view+json": {
       "model_id": "d49c3680ed11432e856154bb497a740c",
       "version_major": 2,
       "version_minor": 0
      },
      "text/plain": [
       "0it [00:00, ?it/s]"
      ]
     },
     "metadata": {},
     "output_type": "display_data"
    },
    {
     "name": "stdout",
     "output_type": "stream",
     "text": [
      "For type 4094, metrics:: auprc:0.8068, auroc:0.8803, ap@50:1.0\n"
     ]
    }
   ],
   "source": [
    "#### Start test ###\n",
    "tp_auprc = []\n",
    "tp_auroc = []\n",
    "tp_apk = []\n",
    "for tp, loader in test_dataloader_by_side.items():\n",
    "    print(f'current: {tp}')\n",
    "    \n",
    "    bar = tqdm_notebook(loader)\n",
    "    auprcs = []\n",
    "    aurocs = []\n",
    "    aps = []\n",
    "    pos_scores = []\n",
    "    neg_scores = []\n",
    "    actuals = []\n",
    "    predictions = []\n",
    "    eid = 0\n",
    "    for input_nodes, positive_graph, negative_graph, blocks in bar:\n",
    "        step += 1\n",
    "        input_features = blocks[0].srcdata['h']\n",
    "#         pos_score = model(positive_graph, blocks, input_features)\n",
    "#         neg_score = model(negative_graph, blocks, input_features)\n",
    "#         pos_score_ = pos_score[('comb','effect','side')].detach().numpy().reshape(-1)\n",
    "#         neg_score_ = neg_score[('comb','effect','side')].detach().numpy().reshape(-1)\n",
    "        pos_score, neg_score = cv_predict(models, positive_graph, negative_graph, blocks, input_features)\n",
    "            \n",
    "        predict = []\n",
    "        actual = []\n",
    "        for x in pos_score:\n",
    "            predict.append((x, eid))\n",
    "            actual.append(eid)\n",
    "            eid += 1\n",
    "\n",
    "        for x in neg_score:\n",
    "            predict.append((x, eid))\n",
    "            eid += 1\n",
    "        \n",
    "        pos_scores.extend(pos_score.tolist())\n",
    "        neg_scores.extend(neg_score.tolist())\n",
    "        predictions.extend(predict)\n",
    "        actuals.extend(actual)\n",
    "\n",
    "        predict = list(zip(*sorted(predict, reverse=True, key=itemgetter(0))))[1]\n",
    "\n",
    "        auprc, auroc = compute_auprc_auroc(torch.tensor(pos_score), torch.tensor(neg_score))\n",
    "        ap50 = apk(actual, predict, k=50)\n",
    "\n",
    "#         auprcs.append(auprc)\n",
    "#         aurocs.append(auroc)\n",
    "#         aps.append(ap50)\n",
    "        bar.set_description(f'auprc:{round(np.mean(auprc), 4)}, auroc:{round(np.mean(auroc), 4)}, ap@50:{round(np.mean(ap50), 4)}')\n",
    "\n",
    "\n",
    "    predictions = list(zip(*sorted(predictions, reverse=True, key=itemgetter(0))))[1]\n",
    "    auprc, auroc = compute_auprc_auroc(torch.tensor(pos_scores), torch.tensor(neg_scores))\n",
    "    ap50 = apk(actuals, predictions, k=50)\n",
    "    tp_auprc.append(auprc)\n",
    "    tp_auroc.append(auroc)\n",
    "    tp_apk.append(ap50)\n",
    "    print(f'For type {tp}, metrics:: auprc:{round(np.mean(auprc), 4)}, auroc:{round(np.mean(auroc), 4)}, ap@50:{round(np.mean(ap50), 4)}')"
   ]
  },
  {
   "cell_type": "code",
   "execution_count": null,
   "id": "ceed2321",
   "metadata": {
    "ExecuteTime": {
     "end_time": "2023-04-29T02:26:53.173159Z",
     "start_time": "2023-04-29T02:26:53.162887Z"
    }
   },
   "outputs": [],
   "source": []
  },
  {
   "cell_type": "code",
   "execution_count": null,
   "id": "0f4a182d",
   "metadata": {},
   "outputs": [],
   "source": []
  },
  {
   "cell_type": "markdown",
   "id": "d5db15fa",
   "metadata": {},
   "source": [
    "#### For batch"
   ]
  },
  {
   "cell_type": "code",
   "execution_count": null,
   "id": "47f0762e",
   "metadata": {
    "ExecuteTime": {
     "end_time": "2023-04-25T07:32:39.788880Z",
     "start_time": "2023-04-25T07:31:51.841046Z"
    }
   },
   "outputs": [],
   "source": [
    "#### Start test ###\n",
    "auprcs = []\n",
    "aurocs = []\n",
    "aps = []\n",
    "\n",
    "bar = tqdm_notebook(test_dataloader, total=len(test_eid_dict['effect']) // batch_size)\n",
    "\n",
    "actuals = []\n",
    "predictions = []\n",
    "eid = 0\n",
    "for input_nodes, positive_graph, negative_graph, blocks in bar:\n",
    "    step += 1\n",
    "    input_features = blocks[0].srcdata['h']\n",
    "    pos_score = model(positive_graph, blocks, input_features)\n",
    "    neg_score = model(negative_graph, blocks, input_features)\n",
    "\n",
    "    pos_score_ = pos_score[('comb','effect','side')].detach().numpy().reshape(-1)\n",
    "    neg_score_ = neg_score[('comb','effect','side')].detach().numpy().reshape(-1)\n",
    "\n",
    "    \n",
    "    predict = []\n",
    "    actual = []\n",
    "    for x in pos_score_:\n",
    "        predict.append((x, eid))\n",
    "        actual.append(eid)\n",
    "        eid += 1\n",
    "\n",
    "    for x in neg_score_:\n",
    "        predict.append((x, eid))\n",
    "        eid += 1\n",
    "    \n",
    "    predictions.extend(predict)\n",
    "    actuals.extend(actual)\n",
    "    \n",
    "    predict = list(zip(*sorted(predict, reverse=True, key=itemgetter(0))))[1]\n",
    "\n",
    "    auprc, auroc = compute_auprc_auroc(pos_score[('comb','effect','side')], neg_score[('comb','effect','side')])\n",
    "    ap50 = apk(actual, predict, k=50)\n",
    "\n",
    "    auprcs.append(auprc)\n",
    "    aurocs.append(auroc)\n",
    "    aps.append(ap50)\n",
    "    bar.set_description(f'auprc:{round(np.mean(auprcs), 4)}, auroc:{round(np.mean(aurocs), 4)}, ap@50:{round(np.mean(aps), 4)}')\n",
    "    \n",
    "\n",
    "predictions = list(zip(*sorted(predictions, reverse=True, key=itemgetter(0))))[1]\n",
    "auprc, auroc = compute_auprc_auroc(pos_score[('comb','effect','side')], neg_score[('comb','effect','side')])\n",
    "ap50 = apk(actual, predict, k=50)"
   ]
  },
  {
   "cell_type": "code",
   "execution_count": null,
   "id": "8b28bd2f",
   "metadata": {},
   "outputs": [],
   "source": []
  },
  {
   "cell_type": "code",
   "execution_count": null,
   "id": "990fa491",
   "metadata": {},
   "outputs": [],
   "source": []
  },
  {
   "cell_type": "code",
   "execution_count": null,
   "id": "71252ee1",
   "metadata": {},
   "outputs": [],
   "source": []
  },
  {
   "cell_type": "code",
   "execution_count": null,
   "id": "a055a3cc",
   "metadata": {},
   "outputs": [],
   "source": []
  },
  {
   "cell_type": "markdown",
   "id": "901bb372",
   "metadata": {},
   "source": [
    "-----"
   ]
  },
  {
   "cell_type": "code",
   "execution_count": null,
   "id": "0f181f42",
   "metadata": {},
   "outputs": [],
   "source": [
    "ddgg_1 loss:0.0979, auprc:0.8757, auroc:0.9728, ap:0.7924"
   ]
  },
  {
   "cell_type": "code",
   "execution_count": 26,
   "id": "08c45cb2",
   "metadata": {
    "ExecuteTime": {
     "end_time": "2023-04-30T02:13:57.017336Z",
     "start_time": "2023-04-30T02:13:57.010272Z"
    }
   },
   "outputs": [],
   "source": [
    "# edges = []\n",
    "# src_nodes = []\n",
    "# dst_nodes = []\n",
    "# ps = []\n",
    "# for i, p in tqdm_notebook(zip(positive_graph.edges['effect'].data['_ID'], positive_graph.edges['effect'].data['p'])):\n",
    "#     edges.append(i.item())\n",
    "#     src_node, dst_node = g_.find_edges(i.item(), etype='effect')\n",
    "# #     node_pairs.append([src_node.item(), dst_node.item()])\n",
    "#     src_nodes.append(src_node.item())\n",
    "#     dst_nodes.append(dst_node.item())\n",
    "#     ps.append(p.item())\n",
    "# #     g_.edges[src_node.item(), dst_node.item()].data['p'] = p\n",
    "\n",
    "# g_.edges[src_nodes, dst_nodes].data['p'] = torch.tensor(ps)"
   ]
  },
  {
   "cell_type": "code",
   "execution_count": 27,
   "id": "e3b8f130",
   "metadata": {
    "ExecuteTime": {
     "end_time": "2023-04-30T02:13:57.517380Z",
     "start_time": "2023-04-30T02:13:57.513879Z"
    }
   },
   "outputs": [],
   "source": [
    "# all_sides = set(net_comb_side['No_side'])\n",
    "\n",
    "# edges = []\n",
    "# src_nodes = []\n",
    "# dst_nodes = []\n",
    "# side_scores = {}\n",
    "# for i, p in tqdm_notebook(zip(positive_graph.edges['effect'].data['_ID'], positive_graph.edges['effect'].data['p'])):\n",
    "#     edges.append(i.item())\n",
    "#     src_node, dst_node = g_.find_edges(i.item(), etype='effect')\n",
    "#     src_node = src_node.item()\n",
    "#     dst_node = dst_node.item()\n",
    "#     if dst_node  in all_sides:\n",
    "#         side_scores.setdefault(dst_node, [])\n",
    "#         side_scores[dst_node].append(p)\n",
    "\n"
   ]
  },
  {
   "cell_type": "code",
   "execution_count": null,
   "id": "4f2ed1da",
   "metadata": {},
   "outputs": [],
   "source": []
  },
  {
   "cell_type": "code",
   "execution_count": null,
   "id": "02ebeb62",
   "metadata": {},
   "outputs": [],
   "source": []
  }
 ],
 "metadata": {
  "kernelspec": {
   "display_name": "Python 3 (ipykernel)",
   "language": "python",
   "name": "python3"
  },
  "language_info": {
   "codemirror_mode": {
    "name": "ipython",
    "version": 3
   },
   "file_extension": ".py",
   "mimetype": "text/x-python",
   "name": "python",
   "nbconvert_exporter": "python",
   "pygments_lexer": "ipython3",
   "version": "3.8.12"
  },
  "toc": {
   "base_numbering": 1,
   "nav_menu": {},
   "number_sections": true,
   "sideBar": true,
   "skip_h1_title": false,
   "title_cell": "Table of Contents",
   "title_sidebar": "Contents",
   "toc_cell": false,
   "toc_position": {
    "height": "calc(100% - 180px)",
    "left": "10px",
    "top": "150px",
    "width": "214px"
   },
   "toc_section_display": true,
   "toc_window_display": true
  },
  "vp": {
   "vp_config_version": "1.0.0",
   "vp_menu_width": 273,
   "vp_note_display": false,
   "vp_note_width": 0,
   "vp_position": {
    "width": 278
   },
   "vp_section_display": false,
   "vp_signature": "VisualPython"
  }
 },
 "nbformat": 4,
 "nbformat_minor": 5
}
